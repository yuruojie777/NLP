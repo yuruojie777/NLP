{
  "nbformat": 4,
  "nbformat_minor": 0,
  "metadata": {
    "colab": {
      "name": "UNIKEY_COMP5046_Ass1_2022.ipynb",
      "provenance": [],
      "collapsed_sections": [],
      "toc_visible": true,
      "include_colab_link": true
    },
    "kernelspec": {
      "name": "python3",
      "display_name": "Python 3"
    }
  },
  "cells": [
    {
      "cell_type": "markdown",
      "metadata": {
        "id": "view-in-github",
        "colab_type": "text"
      },
      "source": [
        "<a href=\"https://colab.research.google.com/github/yuruojie777/NLP/blob/main/UNIKEY_COMP5046_Ass1_2022.ipynb\" target=\"_parent\"><img src=\"https://colab.research.google.com/assets/colab-badge.svg\" alt=\"Open In Colab\"/></a>"
      ]
    },
    {
      "cell_type": "markdown",
      "metadata": {
        "id": "MGHoy6KpQDfZ"
      },
      "source": [
        "# 2022 COMP5046 Assignment 1\n",
        "*Make sure you change the file name with your unikey.*"
      ]
    },
    {
      "cell_type": "markdown",
      "metadata": {
        "id": "qTf21j_oQIiD"
      },
      "source": [
        "# Readme\n",
        "*If there is something to be noted for the marker, please mention here.* \n",
        "\n",
        "*If you are planning to implement a program with Object Oriented Programming style, please check the bottom of the this ipynb file*"
      ]
    },
    {
      "cell_type": "markdown",
      "metadata": {
        "id": "iXbQohXLKSgO"
      },
      "source": [
        "***Visualising the comparison of different results is a good way to justify your decision.***"
      ]
    },
    {
      "cell_type": "markdown",
      "source": [
        "# 1 - Data Preprocessing"
      ],
      "metadata": {
        "id": "A7v4GVxo4Dom"
      }
    },
    {
      "cell_type": "markdown",
      "source": [
        "## 1.0. Data Collection [DO NOT MODIFY THIS]"
      ],
      "metadata": {
        "id": "HftyG77k47Y3"
      }
    },
    {
      "cell_type": "code",
      "metadata": {
        "id": "U7C4snIcNl22",
        "colab": {
          "base_uri": "https://localhost:8080/"
        },
        "outputId": "2b93a95e-56cd-4e4e-b5d1-6afa05501148"
      },
      "source": [
        "# Code to download file into Colaboratory:\n",
        "!pip install -U -q PyDrive\n",
        "from pydrive.auth import GoogleAuth\n",
        "from pydrive.drive import GoogleDrive\n",
        "from google.colab import auth\n",
        "from oauth2client.client import GoogleCredentials\n",
        "# Authenticate and create the PyDrive client.\n",
        "auth.authenticate_user()\n",
        "gauth = GoogleAuth()\n",
        "gauth.credentials = GoogleCredentials.get_application_default()\n",
        "drive = GoogleDrive(gauth)\n",
        "\n",
        "id = '16g474hdNsaNx0_SnoKuqj2BuwSEGdnbt'\n",
        "downloaded = drive.CreateFile({'id':id}) \n",
        "downloaded.GetContentFile('training_data.csv')  \n",
        "\n",
        "id = '1-7hj0sF3Rc5G6POKdkpbDXm_Q6BWFDPU'\n",
        "downloaded = drive.CreateFile({'id':id}) \n",
        "downloaded.GetContentFile('testing_data.csv')  \n",
        "\n",
        "import pandas as pd\n",
        "training_data = pd.read_csv(\"/content/training_data.csv\")\n",
        "testing_data = pd.read_csv(\"/content/testing_data.csv\")\n",
        "\n",
        "print(\"------------------------------------\")\n",
        "print(\"Size of training dataset: {0}\".format(len(training_data)))\n",
        "print(\"Size of testing dataset: {0}\".format(len(testing_data)))\n",
        "print(\"------------------------------------\")\n",
        "\n",
        "print(\"------------------------------------\")\n",
        "print(\"Sample Data\")\n",
        "print(\"LABEL: {0} / SENTENCE: {1}\".format(training_data.iloc[-1,0], training_data.iloc[-1,1]))\n",
        "print(\"------------------------------------\")\n"
      ],
      "execution_count": 35,
      "outputs": [
        {
          "output_type": "stream",
          "name": "stdout",
          "text": [
            "------------------------------------\n",
            "Size of training dataset: 7808\n",
            "Size of testing dataset: 867\n",
            "------------------------------------\n",
            "------------------------------------\n",
            "Sample Data\n",
            "LABEL: F / SENTENCE: 'Half of it is going straight to charity, another quarter going straight to scientific research, an eighth to the parkour community, a sixteenth to towards spreading information about health and...|||Find a path or suffer more.|||http://personalitycafe.com/enneagram-personality-theory-forum/85323-enneagram-type-mbti-type-compared-statistics.html yep.|||I kind of anchor on Fi and Ne makes having Ni really fun. INFP for me as they tire me out less and our views tend to align more.|||The two ESTPs I have gotten the chance to know seem to experience much more than other people who have been on the planet for the same amount of time and are quite the renaissance (wo)men.  Is this...|||I don't really have a best friend ISTP(passion-amateur group co-founder), INTJ(intellectual and various small hobbies talk), ESTP(Bro-in-law, talk about everything kind of like my INTJ friend),...|||Everyone looses their gift if they don't even consider a different perspective.|||Kansas - ISTJ|||That or if they are normally comfortable with me, such as a friend or close acquaintance, they feel the need to start talking. It's almost a trap, I've noticed for most people feel the need to expose...|||To me, your answers screamed introverted feeling. Answers 2-5, 10, 11, 14, 16, and 17 your last statement were particularly Fi-like. I'm guessing you are an intuitive and possibly and introvert...|||Could you explain your reasoning for these? I saw Mako as an F, Lin as an ES, and have Kya as an F. Never had an idea for Amon's type.|||This applies to many of these threads.|||With an INFP for over 2 years now.|||After watching tonight's episode I'm sure that Unalaq is an ENXJ. I'm not sure if it's Fe or Te at this point but the way he goes about doing and planning things seem like a Je-dom. I'm putting him...|||Parkour is my passion(but I consider it closer to a martial art than a sport). I also enjoy some running and climbing.|||I have many characters but I gravitate towards sneaky archer, Breton, and conjuration. I love doing role plays and think it's one of, if not the best way to play the game.|||ESFP seems right for Ikki. We may need Jinora to have more interactions for us to tell. Any guesses about Pema, Tenzin's wife? She said herself that she used to be very shy so I'd put I just from...|||If you don't mind, please tell me more by what you meant by this bolded part or what happened.|||I think it's fit to revive this thread seeing as the second season of Korra has started and the second episode of the season is coming up tomorrow. I'd just say beware of spoilers in new posts if you...|||I was thinking more along these lines: 83385|||Yes, a few times in friendships and other things but it was usually spurred on by the idea of not having a second chance. I've been trying to make the first move more in life as I've realized it just...|||Sorry if my wording was/is confusing or vague. Let me try to explain it better.  As for the first statement: I see the world for all it's interconnections. If you wish, visualized everything having...|||~I don't experience it as simply perceiving or creating, for me as I perceive interconnected relationships are formed and realized.   ~I don't think that I rationalize with my dominate function but...|||I think it's amusing that, in the leading position I share with an ISTP friend of mine, we both start to embrace our shadows. I Think that's been my growing point lately, embracing my shadow. We're...|||I would suggest introspection and relying on your sense of self over tests and I highly suggest looking into the cognitive functions. ISTJ is the complete opposite of INFJ.|||I definitely agree with others on the US- It's pretty good for an INFJ if you find your niche.  I say the Midwest is generally SJ with women expected to be F and men to be T. It's nice but annoying....|||Please explain|||I think my own eye movements have almost been changed because of where I was usually placed when talking to someone in normal conversations. See, when I was young I ended up getting permanent spot in...|||Judgmental, critical, somewhat narcissistic, stubborn, possessive, Fe-ishly manipulative, and I have ego issues. Take that with a grain of salt.|||Yes, very much so. I love Spanish so far.|||I have a huge folder of these types of images.|||Aquarian It was just my guess, it doesn't need that much merit. Personally, I think Se is the hardest function to describe because it is so in the moment.|||Sorry, double post because of connectivity weirdness.|||I don't know if this has been posted before or if a thread about curses would be the best place but it'll do just fine. The important part is post #79, the giant wall of text. I think most of it was...|||If anything, imo, Ni would be how objects are interconnected. If I were to follow closely to your model: Introverted Intuition: Understanding how objects are connected Extraverted Intuition:...|||Sometimes you just don't see them :ninja: Seriously, I thought I was alone in a small town but I was surprised after training for a couple months.  You can easily learn and train by yourself, you...|||82063 Stuff by Andy Day, not only do I like it because it is the stuff of my passion but that new perspective of our surroundings that it brings. This is a great example of that. All those people...|||Sorry for the quality, my relative only gave me a physical copy, it's a picture of a picture. This is my INFP girlfriend of two years and me.|||If I am with my SO I almost need physical contact in some way.|||I pretty much have a guru dream that involves my SP wannabe passion. Around people I am close to I totally put on the gypsy king face, people are just so interesting. Hahaha can't stop laughing at ...|||I agree this this post very much, I just can't shake that vibe. To me it feels like you are an INTP who strongly identifies with INFJs. I think if you want a sound answer form yourself and others we...|||I do pretty well in emergencies, I do very well compared to normal conditions in my opinion. I feel like I become the ideal version of myself, for the most part. It's hard to describe but it's like...|||I have a very close INTJ friend. The Te Fe difference is acknowledged very well and I'd say that both of our tertiary functions are well developed which helps a ton. He does not show it often but he...|||Being alone and/or doing something physical that I can naturally and reactively do without thinking or little thought.|||Pretty much this|||If I wear shoes or socks to bed and my feet are not on my bed I will wake up as if I was falling. 2/3 of the time this happens. Any other dreams that I remember(I don't remember most of my dreams...|||This one still gets me.  What I meant to say was Pass the salt but what I really said was You b****, you ruined my life|||I'm sorry, but I find them so funny because I use them for good reason. They make people uncomfortable at first but then, slowly, make people more comfortable with the idea that people are different...|||XSFJ Mother, ISTJ father, and an XNFJ sister. Yep.|||I love dark jokes, especially racists/stereotypical jokes.'\n",
            "------------------------------------\n"
          ]
        }
      ]
    },
    {
      "cell_type": "code",
      "source": [
        "# Preview of the data in the csv file, which has two columns: \n",
        "# (1)type - label of the post (2)posts - the corresponding post content\n",
        "training_data.head()"
      ],
      "metadata": {
        "id": "WIHEbmSQp3fh",
        "outputId": "32248758-9275-4a0b-efc0-186517a6f480",
        "colab": {
          "base_uri": "https://localhost:8080/",
          "height": 206
        }
      },
      "execution_count": 36,
      "outputs": [
        {
          "output_type": "execute_result",
          "data": {
            "text/plain": [
              "  type                                              posts\n",
              "0    F  'http://www.youtube.com/watch?v=qsXHcwe3krw|||...\n",
              "1    T  'I'm finding the lack of me in these posts ver...\n",
              "2    T  'Good one  _____   https://www.youtube.com/wat...\n",
              "3    T  'Dear INTP,   I enjoyed our conversation the o...\n",
              "4    T  'You're fired.|||That's another silly misconce..."
            ],
            "text/html": [
              "\n",
              "  <div id=\"df-6e2cfe90-6f63-4b7f-8e35-35b9460edfdf\">\n",
              "    <div class=\"colab-df-container\">\n",
              "      <div>\n",
              "<style scoped>\n",
              "    .dataframe tbody tr th:only-of-type {\n",
              "        vertical-align: middle;\n",
              "    }\n",
              "\n",
              "    .dataframe tbody tr th {\n",
              "        vertical-align: top;\n",
              "    }\n",
              "\n",
              "    .dataframe thead th {\n",
              "        text-align: right;\n",
              "    }\n",
              "</style>\n",
              "<table border=\"1\" class=\"dataframe\">\n",
              "  <thead>\n",
              "    <tr style=\"text-align: right;\">\n",
              "      <th></th>\n",
              "      <th>type</th>\n",
              "      <th>posts</th>\n",
              "    </tr>\n",
              "  </thead>\n",
              "  <tbody>\n",
              "    <tr>\n",
              "      <th>0</th>\n",
              "      <td>F</td>\n",
              "      <td>'http://www.youtube.com/watch?v=qsXHcwe3krw|||...</td>\n",
              "    </tr>\n",
              "    <tr>\n",
              "      <th>1</th>\n",
              "      <td>T</td>\n",
              "      <td>'I'm finding the lack of me in these posts ver...</td>\n",
              "    </tr>\n",
              "    <tr>\n",
              "      <th>2</th>\n",
              "      <td>T</td>\n",
              "      <td>'Good one  _____   https://www.youtube.com/wat...</td>\n",
              "    </tr>\n",
              "    <tr>\n",
              "      <th>3</th>\n",
              "      <td>T</td>\n",
              "      <td>'Dear INTP,   I enjoyed our conversation the o...</td>\n",
              "    </tr>\n",
              "    <tr>\n",
              "      <th>4</th>\n",
              "      <td>T</td>\n",
              "      <td>'You're fired.|||That's another silly misconce...</td>\n",
              "    </tr>\n",
              "  </tbody>\n",
              "</table>\n",
              "</div>\n",
              "      <button class=\"colab-df-convert\" onclick=\"convertToInteractive('df-6e2cfe90-6f63-4b7f-8e35-35b9460edfdf')\"\n",
              "              title=\"Convert this dataframe to an interactive table.\"\n",
              "              style=\"display:none;\">\n",
              "        \n",
              "  <svg xmlns=\"http://www.w3.org/2000/svg\" height=\"24px\"viewBox=\"0 0 24 24\"\n",
              "       width=\"24px\">\n",
              "    <path d=\"M0 0h24v24H0V0z\" fill=\"none\"/>\n",
              "    <path d=\"M18.56 5.44l.94 2.06.94-2.06 2.06-.94-2.06-.94-.94-2.06-.94 2.06-2.06.94zm-11 1L8.5 8.5l.94-2.06 2.06-.94-2.06-.94L8.5 2.5l-.94 2.06-2.06.94zm10 10l.94 2.06.94-2.06 2.06-.94-2.06-.94-.94-2.06-.94 2.06-2.06.94z\"/><path d=\"M17.41 7.96l-1.37-1.37c-.4-.4-.92-.59-1.43-.59-.52 0-1.04.2-1.43.59L10.3 9.45l-7.72 7.72c-.78.78-.78 2.05 0 2.83L4 21.41c.39.39.9.59 1.41.59.51 0 1.02-.2 1.41-.59l7.78-7.78 2.81-2.81c.8-.78.8-2.07 0-2.86zM5.41 20L4 18.59l7.72-7.72 1.47 1.35L5.41 20z\"/>\n",
              "  </svg>\n",
              "      </button>\n",
              "      \n",
              "  <style>\n",
              "    .colab-df-container {\n",
              "      display:flex;\n",
              "      flex-wrap:wrap;\n",
              "      gap: 12px;\n",
              "    }\n",
              "\n",
              "    .colab-df-convert {\n",
              "      background-color: #E8F0FE;\n",
              "      border: none;\n",
              "      border-radius: 50%;\n",
              "      cursor: pointer;\n",
              "      display: none;\n",
              "      fill: #1967D2;\n",
              "      height: 32px;\n",
              "      padding: 0 0 0 0;\n",
              "      width: 32px;\n",
              "    }\n",
              "\n",
              "    .colab-df-convert:hover {\n",
              "      background-color: #E2EBFA;\n",
              "      box-shadow: 0px 1px 2px rgba(60, 64, 67, 0.3), 0px 1px 3px 1px rgba(60, 64, 67, 0.15);\n",
              "      fill: #174EA6;\n",
              "    }\n",
              "\n",
              "    [theme=dark] .colab-df-convert {\n",
              "      background-color: #3B4455;\n",
              "      fill: #D2E3FC;\n",
              "    }\n",
              "\n",
              "    [theme=dark] .colab-df-convert:hover {\n",
              "      background-color: #434B5C;\n",
              "      box-shadow: 0px 1px 3px 1px rgba(0, 0, 0, 0.15);\n",
              "      filter: drop-shadow(0px 1px 2px rgba(0, 0, 0, 0.3));\n",
              "      fill: #FFFFFF;\n",
              "    }\n",
              "  </style>\n",
              "\n",
              "      <script>\n",
              "        const buttonEl =\n",
              "          document.querySelector('#df-6e2cfe90-6f63-4b7f-8e35-35b9460edfdf button.colab-df-convert');\n",
              "        buttonEl.style.display =\n",
              "          google.colab.kernel.accessAllowed ? 'block' : 'none';\n",
              "\n",
              "        async function convertToInteractive(key) {\n",
              "          const element = document.querySelector('#df-6e2cfe90-6f63-4b7f-8e35-35b9460edfdf');\n",
              "          const dataTable =\n",
              "            await google.colab.kernel.invokeFunction('convertToInteractive',\n",
              "                                                     [key], {});\n",
              "          if (!dataTable) return;\n",
              "\n",
              "          const docLinkHtml = 'Like what you see? Visit the ' +\n",
              "            '<a target=\"_blank\" href=https://colab.research.google.com/notebooks/data_table.ipynb>data table notebook</a>'\n",
              "            + ' to learn more about interactive tables.';\n",
              "          element.innerHTML = '';\n",
              "          dataTable['output_type'] = 'display_data';\n",
              "          await google.colab.output.renderOutput(dataTable, element);\n",
              "          const docLink = document.createElement('div');\n",
              "          docLink.innerHTML = docLinkHtml;\n",
              "          element.appendChild(docLink);\n",
              "        }\n",
              "      </script>\n",
              "    </div>\n",
              "  </div>\n",
              "  "
            ]
          },
          "metadata": {},
          "execution_count": 36
        }
      ]
    },
    {
      "cell_type": "code",
      "source": [
        "# Extract the labels and posts and store into List\n",
        "\n",
        "# Get the list of training data (posts)\n",
        "training_posts=training_data['posts'].tolist()\n",
        "# Get the list of corresponding labels for the training data (posts)\n",
        "training_labels=training_data['type'].tolist()\n",
        "\n",
        "# Get the list of testing data (posts)\n",
        "testing_posts=testing_data['posts'].tolist()\n",
        "# Get the list of corresponding labels for the testing data (posts)\n",
        "testing_labels=testing_data['type'].tolist()"
      ],
      "metadata": {
        "id": "0SvGBOm9DvR_"
      },
      "execution_count": 37,
      "outputs": []
    },
    {
      "cell_type": "code",
      "source": [
        "for post in training_posts[0:3]:\n",
        "  print(post)"
      ],
      "metadata": {
        "id": "qmhgV_3CDY2P",
        "outputId": "e5a1a7f8-92bc-47c6-823b-d055d8148bd5",
        "colab": {
          "base_uri": "https://localhost:8080/"
        }
      },
      "execution_count": 38,
      "outputs": [
        {
          "output_type": "stream",
          "name": "stdout",
          "text": [
            "'http://www.youtube.com/watch?v=qsXHcwe3krw|||http://41.media.tumblr.com/tumblr_lfouy03PMA1qa1rooo1_500.jpg|||enfp and intj moments  https://www.youtube.com/watch?v=iz7lE1g4XM4  sportscenter not top ten plays  https://www.youtube.com/watch?v=uCdfze1etec  pranks|||What has been the most life-changing experience in your life?|||http://www.youtube.com/watch?v=vXZeYwwRDw8   http://www.youtube.com/watch?v=u8ejam5DP3E  On repeat for most of today.|||May the PerC Experience immerse you.|||The last thing my INFJ friend posted on his facebook before committing suicide the next day. Rest in peace~   http://vimeo.com/22842206|||Hello ENFJ7. Sorry to hear of your distress. It's only natural for a relationship to not be perfection all the time in every moment of existence. Try to figure the hard times as times of growth, as...|||84389  84390  http://wallpaperpassion.com/upload/23700/friendship-boy-and-girl-wallpaper.jpg  http://assets.dornob.com/wp-content/uploads/2010/04/round-home-design.jpg ...|||Welcome and stuff.|||http://playeressence.com/wp-content/uploads/2013/08/RED-red-the-pokemon-master-32560474-450-338.jpg  Game. Set. Match.|||Prozac, wellbrutin, at least thirty minutes of moving your legs (and I don't mean moving them while sitting in your same desk chair), weed in moderation (maybe try edibles as a healthier alternative...|||Basically come up with three items you've determined that each type (or whichever types you want to do) would more than likely use, given each types' cognitive functions and whatnot, when left by...|||All things in moderation.  Sims is indeed a video game, and a good one at that. Note: a good one at that is somewhat subjective in that I am not completely promoting the death of any given Sim...|||Dear ENFP:  What were your favorite video games growing up and what are your now, current favorite video games? :cool:|||https://www.youtube.com/watch?v=QyPqT8umzmY|||It appears to be too late. :sad:|||There's someone out there for everyone.|||Wait... I thought confidence was a good thing.|||I just cherish the time of solitude b/c i revel within my inner world more whereas most other time i'd be workin... just enjoy the me time while you can. Don't worry, people will always be around to...|||Yo entp ladies... if you're into a complimentary personality,well, hey.|||... when your main social outlet is xbox live conversations and even then you verbally fatigue quickly.|||http://www.youtube.com/watch?v=gDhy7rdfm14  I really dig the part from 1:46 to 2:50|||http://www.youtube.com/watch?v=msqXffgh7b8|||Banned because this thread requires it of me.|||Get high in backyard, roast and eat marshmellows in backyard while conversing over something intellectual, followed by massages and kisses.|||http://www.youtube.com/watch?v=Mw7eoU3BMbE|||http://www.youtube.com/watch?v=4V2uYORhQOk|||http://www.youtube.com/watch?v=SlVmgFQQ0TI|||Banned for too many b's in that sentence. How could you! Think of the B!|||Banned for watching movies in the corner with the dunces.|||Banned because Health class clearly taught you nothing about peer pressure.|||Banned for a whole host of reasons!|||http://www.youtube.com/watch?v=IRcrv41hgz4|||1) Two baby deer on left and right munching on a beetle in the middle.  2) Using their own blood, two cavemen diary today's latest happenings on their designated cave diary wall.  3) I see it as...|||a pokemon world  an infj society  everyone becomes an optimist|||49142|||http://www.youtube.com/watch?v=ZRCEq_JFeFM|||http://discovermagazine.com/2012/jul-aug/20-things-you-didnt-know-about-deserts/desert.jpg|||http://oyster.ignimgs.com/mediawiki/apis.ign.com/pokemon-silver-version/d/dd/Ditto.gif|||http://www.serebii.net/potw-dp/Scizor.jpg|||Not all artists are artists because they draw. It's the idea that counts in forming something of your own... like a signature.|||Welcome to the robot ranks, person who downed my self-esteem cuz I'm not an avid signature artist like herself. :proud:|||Banned for taking all the room under my bed. Ya gotta learn to share with the roaches.|||http://www.youtube.com/watch?v=w8IgImn57aQ|||Banned for being too much of a thundering, grumbling kind of storm... yep.|||Ahh... old high school music I haven't heard in ages.   http://www.youtube.com/watch?v=dcCRUPCdB1w|||I failed a public speaking class a few years ago and I've sort of learned what I could do better were I to be in that position again. A big part of my failure was just overloading myself with too...|||I like this person's mentality. He's a confirmed INTJ by the way. http://www.youtube.com/watch?v=hGKLI-GEc6M|||Move to the Denver area and start a new life for myself.'\n",
            "'I'm finding the lack of me in these posts very alarming.|||Sex can be boring if it's in the same position often. For example me and my girlfriend are currently in an environment where we have to creatively use cowgirl and missionary. There isn't enough...|||Giving new meaning to 'Game' theory.|||Hello *ENTP Grin*  That's all it takes. Than we converse and they do most of the flirting while I acknowledge their presence and return their words with smooth wordplay and more cheeky grins.|||This + Lack of Balance and Hand Eye Coordination.|||Real IQ test I score 127. Internet IQ tests are funny. I score 140s or higher.  Now, like the former responses of this thread I will mention that I don't believe in the IQ test. Before you banish...|||You know you're an ENTP when you vanish from a site for a year and a half, return, and find people are still commenting on your posts and liking your ideas/thoughts. You know you're an ENTP when you...|||http://img188.imageshack.us/img188/6422/6020d1f9da6944a6b71bbe6.jpg|||http://img.adultdvdtalk.com/813a0c6243814cab84c51|||I over think things sometimes. I go by the old Sherlock Holmes quote.  Perhaps, when a man has special knowledge and special powers like my  own, it rather encourages him to seek a complex...|||cheshirewolf.tumblr.com  So is I :D|||400,000+  post|||Not really; I've never thought of E/I or J/P as real functions.  I judge myself on what I use. I use Ne and Ti as my dominates. Fe for emotions and rarely Si. I also use Ni due to me strength...|||You know though. That was ingenious. After saying it I really want to try it and see what happens with me playing a first person shooter in the back while we drive around. I want to see the look on...|||out of all of them the rock paper one is the best. It makes me lol.  You guys are lucky :D I'm really high up on the tumblr system.|||So did you hear about that new first person shooter game? I've been rocking the hell out of the soundtrack on my auto sound equipment that will shake the heavens. We managed to put a couple PS3's in...|||No; The way he connected things was very Ne. Ne dominates are just as aware of their environments as Se dominates.  Example: Shawn Spencer or Patrick Jane; Both ENTPs.|||Well charlie I will be the first to admit I do get jealous like you do. I chalk it up to my 4w3 heart mixed with my dominate 7w8. 7s and 8s both like to be noticed. 4's like to be known (not the same...|||;D I'll upload the same clip with the mic away from my mouth. Than you won't hear anything.  Ninja Assassin style but with splatter.|||Tik Tok is a really great song. As long as you can mental block out the singer. I love the beat it makes me bounce.|||drop.io v1swck0  :D Mic really close to my mouth and smokin aces: assassins ball playing in the background.|||Sociable =/= extrovert; I'm an extrovert and I'm not sociable. :)|||Sherlock in the movie was an ENTP. Normally he's played as a EXTJ. In the books he's an ESTJ.  As I said. The movie looked good except for it being called sherlock holmes.|||http://i817.photobucket.com/albums/zz96/kamioo/Dirtywinch.png|||Oh, I never had fear of kissing a guy. I will kiss an animal too. So there was nothing to vanish. Just personal taste and me not liking it.  The guy I kissed didn't know me. It was one of those...|||Sounds pretty much like my area and what I'm going through right now trying to figure out which way I want to take my life. I want to do so many things. The biggest problem is that I know if I don't...|||;D I was operating under the impression that you were female. I never looked at your boxy. Okay, I help out my gay friends all the time and one of them has developed a little crush on me. I get red...|||T_T You just described me  and I'm living the worst nightmare. I'm trapped in one place with one one around. Only dull woods. If I was a serial killer this would be the perfect place but sadly I'm...|||TBH, and biased, sounds like a shadowed INFP. I think maybe he was hurt and turned ESTJ. I can tell because he has some of the typical INFP traits left over.|||*Checks list* I'm sorry. It seems that you have came at a bad time. We've already reached our quota of INFJs. However, being you're female and I like females I will make you a deal. I will kick one...|||I'm ANTP (Leaning toward E). I'm easy for both ENTPs and INTPs to identify with. :)|||I also imagine ENTP's interrogations would go a little bit like Jack's from 24 except more mechanical. Rigging up shock treatment equipment in an abandoned building out of an old car batty, jumper...|||It was a compliment :) Trust me. I'm just as psychopathic :D except I have emoticons. They're just weird ones. Like laughing when I get hurt or at people running themselves over with their lawn mower...|||http://i817.photobucket.com/albums/zz96/kamioo/Thunderstorm.pnghttp://i817.photobucket.com/albums/zz96/kamioo/Thunderstormbw.png http://i817.photobucket.com/albums/zz96/kamioo/Cosmicstorm.png|||No. It's like a theme for where I live and that is why I know it by heart.   http://www.youtube.com/watch?v=j5W73HaVQBg|||and I usual don't leave until the thing ends. But in the mean time. In between times. You work your thing. I'll work mine :D  ;D I'm the MBP; Pleasure to meet you.|||Damn, need to trust my instincts more I would have been closer I was going to say INFP.|||EXFP? Leaning toward S with the way she responded.  :D My friends, even my gay and lesbian ones, always come to me for advice.|||I bow to my entp masters ENTPs are so great. If it wasn't for ENTPs I wouldn't have been able to build what I'm building  Duck Duck  Duck  Shotgun|||What? Me? I never do that >.> <.<|||Because its hard to be sad about losing someone you like when you knew you were right and give yourself a big pat on the back because you're awesome and always correct.|||Oh, you don't have to tell me that most of them are stupid. I know this. That is why I play with them and it makes me laugh. :D As I'm going to take Neuropsychology and I have a few psychologist...|||:D I'm a Nightowl. I wake up between 6-7pm and stay awake till 10-11:30am.|||Personal opinion backed by theory would suggest that INTPs are the most socially difficult. While INTJs can be socially indifferent but they will also use social situations if the the need arises....|||Personal stocks that I have on my desktop that I've downloaded from random stock sites and stock photobuckets.|||I'll tell you when I open photoshop.  :) Glad you like it static.|||:D Thanks.|||http://i817.photobucket.com/albums/zz96/kamioo/Deathgrip.png http://i817.photobucket.com/albums/zz96/kamioo/Deathgripbw.png  Made for a friend. Several hours of work. I constructed every line by...|||:) Static: http://i817.photobucket.com/albums/zz96/kamioo/Statickitten.png  I'll have to get to your avatar later if one of my fellow teammates doesn't.|||Psychologist don't keep me around long enough to diagnosis me. I like to toy with them. What I have diagnosis myself with and had a few psychologist friends (+ a few other friends) tell me I have is...'\n",
            "'Good one  _____   https://www.youtube.com/watch?v=fHiGbolFFGw|||Of course, to which I say I know; that's my blessing and my curse.|||Does being absolutely positive that you and your best friend could be an amazing couple count? If so, than yes.   Or it's more I could be madly in love in case I reconciled my feelings (which at...|||No, I didn't; thank you for a link!|||So-called Ti-Si loop (and it can stem from any current topic/obsession) can be deadly. It's like when you're stuck in your own thoughts, and your mind just wanders in circles. Feels truly terrible. ...|||Have you noticed how peculiar vegetation can be? All you have to do is look down at the grass: dozens of different plant species there.    And now imagine that hundreds of years later (when/if soil...|||The Smiths – Never Had No One Ever|||I often find myself spotting faces on marble tiles/wood.|||This 5 year-old sentence is an incredibly accurate and beautiful description.|||I haven't visited this website in the last 3 years. So whoever reads this (and maybe even remembers me, which I highly doubt): hi.  700049  700057|||When you sit in your garden until 10:30 PM writing songs, and sing them (together with dozens of crickets) while playing your acoustic guitar.|||This is the most INTP-ish thread I've ever seen.|||I wouldn't be able to look at the painting for the entire life if I knew that I picked it over the human being.|||I was drawing a background for my animation on which I'm working right now - it should have been Mars.. But I felt obligated to make Mark Watneyx92s postcard from it :D  If you read the book...|||I started to make comics about turtle Gordon and unicorn Chimes - here you can see two first stories: https://www.tumblr.com/blog/-alexxxandra-|||INTJ Recently I started to post my comics about two friends - turtle Gordon and unicorn Chimes. Before that, I just posted stuff that interested me, but from now on I'll try to include only my works...|||Probably we could work together on a new model - I'm an expert in abrupt explosions of laughter upon various weird stuff. That happens because of peculiar sense of humor - so peculiar that not much...|||Hellooo Nah, you can touch it. Everyone thinks that it's scared or sad, but that's not true - in fact it has an absolutely neutral face. And this kitten actually really likes patting and hugs (only...|||Well.. kind of; As it was already mentioned, sometimes because of Ni it's hard to convey complex stuff which pops up in your head in whimsical compilations of shapes and pictures only with words....|||I think this kitten would be very appropriate here.  376562|||367034|||GOOD NIGHT everyone out there! Even if for someone there is morning right now - nights always supersede mornings.. And people say good night in order to meet next day :)|||Oh, that movie :) It's awesome Thank you! Hope you had good sleep in the air; anyway, I'm wishing you good night for the next night ahead! (hopefully it will be on land)  Good people deserve good...|||358882  358890|||Well, other people who may be wondering about an issue from the name of the topic will find your response helpful anyway :)|||This. Finally someone mentioned that :)|||I still see creatures/faces in a maze of various random patterns. It can be amusing sometimes.  It's a very handy skill when you're bored.|||Oh, I didn't know that.. What a pity.  Why not sacrifice whole supermarket, then? We can decide which Walmart will be the best (I think the biggest one would be great).|||yippy  Here you go  357002  He thinks that the fire is delicious. Should I sacrifice tofu? I don't like to waste food.|||I don't think that the creator of this thread cares what's going on here after 3 years :)|||Heh, I understand you :) With these same given languages)))|||Yessss, Adventure Time :D|||I get angry quite rarely, but when I do, it's safer for surrounding people to go somewhere else. It's impossible for me to hide or suppress anger; the only way to get rid of this feeling is to burst...|||I've never liked it  Anything fake is bad, actually.|||Hugs should be given only to chosen ones. Chosen. There are quite few of them, though.|||349890|||Yup, you're doing it right :)|||http://-alexxxandra-.tumblr.com/|||256818|||Of course it's not very comfortable.  But. Human race survived thankfully women's ability to give birth to other human beings. It worked for thousands of years. Why change it? Besides, there are...|||That happens. And it occurs because most often people use results of extremely precise and elaborate online tests as a basis of determining one's type.      Both visual and language arts (more...|||246386|||I study graphic design now, which I really enjoy. What is interesting about this field, is that the ability to generate ideas and solve problems is much more important than possession of a specific...|||Alexxxandra97 - DeviantArt|||236994|||http://www.youtube.com/watch?v=2Nkcn8m9M0M|||I am always ready to discipline (to intimidate, to be precise) my sibling's offender.|||World domination? Shooting people in the head? Why?  Oh, right, INTJs always must be characterised only with these words.     I want to show so badly my reaction to this: 221226|||218106|||ISTP?   http://www.youtube.com/watch?v=7ghqoYxmaUE'\n"
          ]
        }
      ]
    },
    {
      "cell_type": "markdown",
      "metadata": {
        "id": "l9gBSgBCQh24"
      },
      "source": [
        "## 1.1. URL Removal\n",
        "*related to the section 4.2*"
      ]
    },
    {
      "cell_type": "code",
      "metadata": {
        "id": "emyl1lWxGr12"
      },
      "source": [
        "# Please comment your code\n",
        "# Remove URL in text\n",
        "\n",
        "import re\n",
        "# Url pattern\n",
        "URL_Pattern = 'http\\S+'\n",
        "\n",
        "training_posts = [re.sub(URL_Pattern, '', post) for post in training_posts]\n",
        "testing_posts = [re.sub(URL_Pattern, '', post) for post in testing_posts]"
      ],
      "execution_count": 39,
      "outputs": []
    },
    {
      "cell_type": "markdown",
      "source": [
        "## 1.2. Preprocess data (e.g. Stop words, Stemming)\n",
        "*related to the section 4.2*"
      ],
      "metadata": {
        "id": "QzLAO5a25qzS"
      }
    },
    {
      "cell_type": "code",
      "source": [
        "# Please comment your code\n",
        "# Map contraction to full words\n",
        "contraction_dict = {\"ain't\": \"is not\", \"aren't\": \"are not\",\"can't\": \"cannot\", \"'cause\": \"because\", \"could've\": \"could have\", \n",
        "            \"couldn't\": \"could not\", \"didn't\": \"did not\",  \"doesn't\": \"does not\", \"don't\": \"do not\", \"hadn't\": \"had not\", \n",
        "            \"hasn't\": \"has not\", \"haven't\": \"have not\", \"he'd\": \"he would\",\"he'll\": \"he will\", \"he's\": \"he is\", \"how'd\": \"how did\", \n",
        "            \"how'd'y\": \"how do you\", \"how'll\": \"how will\", \"how's\": \"how is\",  \"I'd\": \"I would\", \"I'd've\": \"I would have\", \n",
        "            \"I'll\": \"I will\", \"I'll've\": \"I will have\",\"I'm\": \"I am\", \"I've\": \"I have\", \"i'd\": \"i would\", \"i'd've\": \"i would have\", \n",
        "            \"i'll\": \"i will\",  \"i'll've\": \"i will have\",\"i'm\": \"i am\", \"i've\": \"i have\", \"isn't\": \"is not\", \"it'd\": \"it would\", \n",
        "            \"it'd've\": \"it would have\", \"it'll\": \"it will\", \"it'll've\": \"it will have\",\"it's\": \"it is\", \"let's\": \"let us\", \n",
        "            \"ma'am\": \"madam\", \"mayn't\": \"may not\", \"might've\": \"might have\",\"mightn't\": \"might not\",\"mightn't've\": \"might not have\", \n",
        "            \"must've\": \"must have\", \"mustn't\": \"must not\", \"mustn't've\": \"must not have\", \"needn't\": \"need not\", \"needn't've\": \"need not have\",\n",
        "            \"o'clock\": \"of the clock\", \"oughtn't\": \"ought not\", \"oughtn't've\": \"ought not have\", \"shan't\": \"shall not\", \"sha'n't\": \"shall not\", \n",
        "            \"shan't've\": \"shall not have\", \"she'd\": \"she would\", \"she'd've\": \"she would have\", \"she'll\": \"she will\", \"she'll've\": \"she will have\", \n",
        "            \"she's\": \"she is\", \"should've\": \"should have\", \"shouldn't\": \"should not\", \"shouldn't've\": \"should not have\", \"so've\": \"so have\",\n",
        "            \"so's\": \"so as\", \"this's\": \"this is\",\"that'd\": \"that would\", \"that'd've\": \"that would have\", \"that's\": \"that is\", \"there'd\": \"there would\", \n",
        "            \"there'd've\": \"there would have\", \"there's\": \"there is\", \"here's\": \"here is\",\"they'd\": \"they would\", \"they'd've\": \"they would have\", \n",
        "            \"they'll\": \"they will\", \"they'll've\": \"they will have\", \"they're\": \"they are\", \"they've\": \"they have\", \"to've\": \"to have\", \"wasn't\": \"was not\", \n",
        "            \"we'd\": \"we would\", \"we'd've\": \"we would have\", \"we'll\": \"we will\", \"we'll've\": \"we will have\", \"we're\": \"we are\", \"we've\": \"we have\", \n",
        "            \"weren't\": \"were not\", \"what'll\": \"what will\", \"what'll've\": \"what will have\", \"what're\": \"what are\",  \"what's\": \"what is\", \"what've\": \"what have\", \n",
        "            \"when's\": \"when is\", \"when've\": \"when have\", \"where'd\": \"where did\", \"where's\": \"where is\", \"where've\": \"where have\", \"who'll\": \"who will\", \n",
        "            \"who'll've\": \"who will have\", \"who's\": \"who is\", \"who've\": \"who have\", \"why's\": \"why is\", \"why've\": \"why have\", \"will've\": \"will have\", \n",
        "            \"won't\": \"will not\", \"won't've\": \"will not have\", \"would've\": \"would have\", \"wouldn't\": \"would not\", \"wouldn't've\": \"would not have\", \n",
        "            \"y'all\": \"you all\", \"y'all'd\": \"you all would\",\"y'all'd've\": \"you all would have\",\"y'all're\": \"you all are\",\"y'all've\": \"you all have\",\n",
        "            \"you'd\": \"you would\", \"you'd've\": \"you would have\", \"you'll\": \"you will\", \"you'll've\": \"you will have\", \"you're\": \"you are\", \"you've\": \"you have\"}\n",
        "def mapToContraction_dict(x):\n",
        "  words = x[1:-1].split(' ')\n",
        "  link = ' '\n",
        "  result_words = []\n",
        "  for word in words:\n",
        "    if word in contraction_dict.keys():\n",
        "      result_words.append(contraction_dict[word])\n",
        "    else: result_words.append(word)\n",
        "  result = link.join(result_words)\n",
        "  return result\n",
        "  \n",
        "\n",
        "training_posts = [mapToContraction_dict(post) for post in training_posts]\n",
        "testing_posts = [mapToContraction_dict(post) for post in testing_posts]\n",
        "\n",
        "for post in training_posts[0:3]:\n",
        "  print(post)\n"
      ],
      "metadata": {
        "id": "sl5PWsu-USOD",
        "outputId": "163bc42f-d352-4673-a379-b26585b0970e",
        "colab": {
          "base_uri": "https://localhost:8080/"
        }
      },
      "execution_count": 40,
      "outputs": [
        {
          "output_type": "stream",
          "name": "stdout",
          "text": [
            " and intj moments    sportscenter not top ten plays    pranks|||What has been the most life-changing experience in your life?|||     On repeat for most of today.|||May the PerC Experience immerse you.|||The last thing my INFJ friend posted on his facebook before committing suicide the next day. Rest in peace~    ENFJ7. Sorry to hear of your distress. It's only natural for a relationship to not be perfection all the time in every moment of existence. Try to figure the hard times as times of growth, as...|||84389  84390     ...|||Welcome and stuff.|||  Game. Set. Match.|||Prozac, wellbrutin, at least thirty minutes of moving your legs (and I do not mean moving them while sitting in your same desk chair), weed in moderation (maybe try edibles as a healthier alternative...|||Basically come up with three items you have determined that each type (or whichever types you want to do) would more than likely use, given each types' cognitive functions and whatnot, when left by...|||All things in moderation.  Sims is indeed a video game, and a good one at that. Note: a good one at that is somewhat subjective in that I am not completely promoting the death of any given Sim...|||Dear ENFP:  What were your favorite video games growing up and what are your now, current favorite video games? :cool:||| appears to be too late. :sad:|||There's someone out there for everyone.|||Wait... I thought confidence was a good thing.|||I just cherish the time of solitude b/c i revel within my inner world more whereas most other time i would be workin... just enjoy the me time while you can. Don't worry, people will always be around to...|||Yo entp ladies... if you are into a complimentary personality,well, hey.|||... when your main social outlet is xbox live conversations and even then you verbally fatigue quickly.|||  I really dig the part from 1:46 to 2:50||| because this thread requires it of me.|||Get high in backyard, roast and eat marshmellows in backyard while conversing over something intellectual, followed by massages and kisses.||| for too many b's in that sentence. How could you! Think of the B!|||Banned for watching movies in the corner with the dunces.|||Banned because Health class clearly taught you nothing about peer pressure.|||Banned for a whole host of reasons!||| Two baby deer on left and right munching on a beetle in the middle.  2) Using their own blood, two cavemen diary today's latest happenings on their designated cave diary wall.  3) I see it as...|||a pokemon world  an infj society  everyone becomes an optimist|||49142||| all artists are artists because they draw. It's the idea that counts in forming something of your own... like a signature.|||Welcome to the robot ranks, person who downed my self-esteem cuz I am not an avid signature artist like herself. :proud:|||Banned for taking all the room under my bed. Ya gotta learn to share with the roaches.||| for being too much of a thundering, grumbling kind of storm... yep.|||Ahh... old high school music I have not heard in ages.    failed a public speaking class a few years ago and I have sort of learned what I could do better were I to be in that position again. A big part of my failure was just overloading myself with too...|||I like this person's mentality. He's a confirmed INTJ by the way.  to the Denver area and start a new life for myself.\n",
            "I am finding the lack of me in these posts very alarming.|||Sex can be boring if it is in the same position often. For example me and my girlfriend are currently in an environment where we have to creatively use cowgirl and missionary. There is not enough...|||Giving new meaning to 'Game' theory.|||Hello *ENTP Grin*  That's all it takes. Than we converse and they do most of the flirting while I acknowledge their presence and return their words with smooth wordplay and more cheeky grins.|||This + Lack of Balance and Hand Eye Coordination.|||Real IQ test I score 127. Internet IQ tests are funny. I score 140s or higher.  Now, like the former responses of this thread I will mention that I do not believe in the IQ test. Before you banish...|||You know you are an ENTP when you vanish from a site for a year and a half, return, and find people are still commenting on your posts and liking your ideas/thoughts. You know you are an ENTP when you...||| over think things sometimes. I go by the old Sherlock Holmes quote.  Perhaps, when a man has special knowledge and special powers like my  own, it rather encourages him to seek a complex...|||cheshirewolf.tumblr.com  So is I :D|||400,000+  post|||Not really; I have never thought of E/I or J/P as real functions.  I judge myself on what I use. I use Ne and Ti as my dominates. Fe for emotions and rarely Si. I also use Ni due to me strength...|||You know though. That was ingenious. After saying it I really want to try it and see what happens with me playing a first person shooter in the back while we drive around. I want to see the look on...|||out of all of them the rock paper one is the best. It makes me lol.  You guys are lucky :D I am really high up on the tumblr system.|||So did you hear about that new first person shooter game? I have been rocking the hell out of the soundtrack on my auto sound equipment that will shake the heavens. We managed to put a couple PS3's in...|||No; The way he connected things was very Ne. Ne dominates are just as aware of their environments as Se dominates.  Example: Shawn Spencer or Patrick Jane; Both ENTPs.|||Well charlie I will be the first to admit I do get jealous like you do. I chalk it up to my 4w3 heart mixed with my dominate 7w8. 7s and 8s both like to be noticed. 4's like to be known (not the same...|||;D I will upload the same clip with the mic away from my mouth. Than you will not hear anything.  Ninja Assassin style but with splatter.|||Tik Tok is a really great song. As long as you can mental block out the singer. I love the beat it makes me bounce.|||drop.io v1swck0  :D Mic really close to my mouth and smokin aces: assassins ball playing in the background.|||Sociable =/= extrovert; I am an extrovert and I am not sociable. :)|||Sherlock in the movie was an ENTP. Normally he is played as a EXTJ. In the books he is an ESTJ.  As I said. The movie looked good except for it being called sherlock holmes.||| I never had fear of kissing a guy. I will kiss an animal too. So there was nothing to vanish. Just personal taste and me not liking it.  The guy I kissed did not know me. It was one of those...|||Sounds pretty much like my area and what I am going through right now trying to figure out which way I want to take my life. I want to do so many things. The biggest problem is that I know if I don't...|||;D I was operating under the impression that you were female. I never looked at your boxy. Okay, I help out my gay friends all the time and one of them has developed a little crush on me. I get red...|||T_T You just described me  and I am living the worst nightmare. I am trapped in one place with one one around. Only dull woods. If I was a serial killer this would be the perfect place but sadly I'm...|||TBH, and biased, sounds like a shadowed INFP. I think maybe he was hurt and turned ESTJ. I can tell because he has some of the typical INFP traits left over.|||*Checks list* I am sorry. It seems that you have came at a bad time. We've already reached our quota of INFJs. However, being you are female and I like females I will make you a deal. I will kick one...|||I'm ANTP (Leaning toward E). I am easy for both ENTPs and INTPs to identify with. :)|||I also imagine ENTP's interrogations would go a little bit like Jack's from 24 except more mechanical. Rigging up shock treatment equipment in an abandoned building out of an old car batty, jumper...|||It was a compliment :) Trust me. I am just as psychopathic :D except I have emoticons. They're just weird ones. Like laughing when I get hurt or at people running themselves over with their lawn mower...|||  It's like a theme for where I live and that is why I know it by heart.    I usual do not leave until the thing ends. But in the mean time. In between times. You work your thing. I will work mine :D  ;D I am the MBP; Pleasure to meet you.|||Damn, need to trust my instincts more I would have been closer I was going to say INFP.|||EXFP? Leaning toward S with the way she responded.  :D My friends, even my gay and lesbian ones, always come to me for advice.|||I bow to my entp masters ENTPs are so great. If it was not for ENTPs I would not have been able to build what I am building  Duck Duck  Duck  Shotgun|||What? Me? I never do that >.> <.<|||Because its hard to be sad about losing someone you like when you knew you were right and give yourself a big pat on the back because you are awesome and always correct.|||Oh, you do not have to tell me that most of them are stupid. I know this. That is why I play with them and it makes me laugh. :D As I am going to take Neuropsychology and I have a few psychologist...|||:D I am a Nightowl. I wake up between 6-7pm and stay awake till 10-11:30am.|||Personal opinion backed by theory would suggest that INTPs are the most socially difficult. While INTJs can be socially indifferent but they will also use social situations if the the need arises....|||Personal stocks that I have on my desktop that I have downloaded from random stock sites and stock photobuckets.|||I'll tell you when I open photoshop.  :) Glad you like it static.|||:D Thanks.|||   Made for a friend. Several hours of work. I constructed every line by...|||:) Static:   I will have to get to your avatar later if one of my fellow teammates doesn't.|||Psychologist do not keep me around long enough to diagnosis me. I like to toy with them. What I have diagnosis myself with and had a few psychologist friends (+ a few other friends) tell me I have is...\n",
            "Good one  _____    course, to which I say I know; that is my blessing and my curse.|||Does being absolutely positive that you and your best friend could be an amazing couple count? If so, than yes.   Or it is more I could be madly in love in case I reconciled my feelings (which at...|||No, I didn't; thank you for a link!|||So-called Ti-Si loop (and it can stem from any current topic/obsession) can be deadly. It's like when you are stuck in your own thoughts, and your mind just wanders in circles. Feels truly terrible. ...|||Have you noticed how peculiar vegetation can be? All you have to do is look down at the grass: dozens of different plant species there.    And now imagine that hundreds of years later (when/if soil...|||The Smiths – Never Had No One Ever|||I often find myself spotting faces on marble tiles/wood.|||This 5 year-old sentence is an incredibly accurate and beautiful description.|||I have not visited this website in the last 3 years. So whoever reads this (and maybe even remembers me, which I highly doubt): hi.  700049  700057|||When you sit in your garden until 10:30 PM writing songs, and sing them (together with dozens of crickets) while playing your acoustic guitar.|||This is the most INTP-ish thread I have ever seen.|||I would not be able to look at the painting for the entire life if I knew that I picked it over the human being.|||I was drawing a background for my animation on which I am working right now - it should have been Mars.. But I felt obligated to make Mark Watneyx92s postcard from it :D  If you read the book...|||I started to make comics about turtle Gordon and unicorn Chimes - here you can see two first stories:  Recently I started to post my comics about two friends - turtle Gordon and unicorn Chimes. Before that, I just posted stuff that interested me, but from now on I will try to include only my works...|||Probably we could work together on a new model - I am an expert in abrupt explosions of laughter upon various weird stuff. That happens because of peculiar sense of humor - so peculiar that not much...|||Hellooo Nah, you can touch it. Everyone thinks that it is scared or sad, but that is not true - in fact it has an absolutely neutral face. And this kitten actually really likes patting and hugs (only...|||Well.. kind of; As it was already mentioned, sometimes because of Ni it is hard to convey complex stuff which pops up in your head in whimsical compilations of shapes and pictures only with words....|||I think this kitten would be very appropriate here.  376562|||367034|||GOOD NIGHT everyone out there! Even if for someone there is morning right now - nights always supersede mornings.. And people say good night in order to meet next day :)|||Oh, that movie :) It's awesome Thank you! Hope you had good sleep in the air; anyway, I am wishing you good night for the next night ahead! (hopefully it will be on land)  Good people deserve good...|||358882  358890|||Well, other people who may be wondering about an issue from the name of the topic will find your response helpful anyway :)|||This. Finally someone mentioned that :)|||I still see creatures/faces in a maze of various random patterns. It can be amusing sometimes.  It's a very handy skill when you are bored.|||Oh, I did not know that.. What a pity.  Why not sacrifice whole supermarket, then? We can decide which Walmart will be the best (I think the biggest one would be great).|||yippy  Here you go  357002  He thinks that the fire is delicious. Should I sacrifice tofu? I do not like to waste food.|||I do not think that the creator of this thread cares what is going on here after 3 years :)|||Heh, I understand you :) With these same given languages)))|||Yessss, Adventure Time :D|||I get angry quite rarely, but when I do, it is safer for surrounding people to go somewhere else. It's impossible for me to hide or suppress anger; the only way to get rid of this feeling is to burst...|||I've never liked it  Anything fake is bad, actually.|||Hugs should be given only to chosen ones. Chosen. There are quite few of them, though.|||349890|||Yup, you are doing it right :)||| course it is not very comfortable.  But. Human race survived thankfully women's ability to give birth to other human beings. It worked for thousands of years. Why change it? Besides, there are...|||That happens. And it occurs because most often people use results of extremely precise and elaborate online tests as a basis of determining one's type.      Both visual and language arts (more...|||246386|||I study graphic design now, which I really enjoy. What is interesting about this field, is that the ability to generate ideas and solve problems is much more important than possession of a specific...|||Alexxxandra97 - DeviantArt|||236994||| am always ready to discipline (to intimidate, to be precise) my sibling's offender.|||World domination? Shooting people in the head? Why?  Oh, right, INTJs always must be characterised only with these words.     I want to show so badly my reaction to this: 221226|||218106|||ISTP?  \n"
          ]
        }
      ]
    },
    {
      "cell_type": "code",
      "metadata": {
        "id": "jl7t5Vqo5_gq",
        "outputId": "ce9c96a4-9aa8-4b4d-c5a5-fee2cd0ac8f9",
        "colab": {
          "base_uri": "https://localhost:8080/"
        }
      },
      "source": [
        "# Remove puncts\n",
        "puncts = [',', '.', '\"', ':', ')', '(', '-', '!', '?', '|', ';', \"'\", '$', '&', '/', '[', ']', '>', '%', '=', '#', '*', '+', '\\\\', '•',  '~', '@', '£', \n",
        " '·', '_', '{', '}', '©', '^', '®', '`',  '<', '→', '°', '€', '™', '›',  '♥', '←', '×', '§', '″', '′', 'Â', '█', '½', 'à', '…', \n",
        " '“', '★', '”', '–', '●', 'â', '►', '−', '¢', '²', '¬', '░', '¶', '↑', '±', '¿', '▾', '═', '¦', '║', '―', '¥', '▓', '—', '‹', '─', \n",
        " '▒', '：', '¼', '⊕', '▼', '▪', '†', '■', '’', '▀', '¨', '▄', '♫', '☆', 'é', '¯', '♦', '¤', '▲', 'è', '¸', '¾', 'Ã', '⋅', '‘', '∞', \n",
        " '∙', '）', '↓', '、', '│', '（', '»', '，', '♪', '╩', '╚', '³', '・', '╦', '╣', '╔', '╗', '▬', '❤', 'ï', 'Ø', '¹', '≤', '‡', '√', ]\n",
        "\n",
        "def remove_punctuation(x):\n",
        "    x = str(x)\n",
        "    for punct in puncts:\n",
        "        if punct in x:\n",
        "            x = x.replace(punct, '')\n",
        "    return x\n",
        "training_posts = [remove_punctuation(post) for post in training_posts]\n",
        "testing_posts = [remove_punctuation(post) for post in testing_posts]\n",
        "\n",
        "for post in training_posts[0:3]:\n",
        "  print(post)"
      ],
      "execution_count": 41,
      "outputs": [
        {
          "output_type": "stream",
          "name": "stdout",
          "text": [
            " and intj moments    sportscenter not top ten plays    pranksWhat has been the most lifechanging experience in your life     On repeat for most of todayMay the PerC Experience immerse youThe last thing my INFJ friend posted on his facebook before committing suicide the next day Rest in peace    ENFJ7 Sorry to hear of your distress Its only natural for a relationship to not be perfection all the time in every moment of existence Try to figure the hard times as times of growth as84389  84390     Welcome and stuff  Game Set MatchProzac wellbrutin at least thirty minutes of moving your legs and I do not mean moving them while sitting in your same desk chair weed in moderation maybe try edibles as a healthier alternativeBasically come up with three items you have determined that each type or whichever types you want to do would more than likely use given each types cognitive functions and whatnot when left byAll things in moderation  Sims is indeed a video game and a good one at that Note a good one at that is somewhat subjective in that I am not completely promoting the death of any given SimDear ENFP  What were your favorite video games growing up and what are your now current favorite video games cool appears to be too late sadTheres someone out there for everyoneWait I thought confidence was a good thingI just cherish the time of solitude bc i revel within my inner world more whereas most other time i would be workin just enjoy the me time while you can Dont worry people will always be around toYo entp ladies if you are into a complimentary personalitywell hey when your main social outlet is xbox live conversations and even then you verbally fatigue quickly  I really dig the part from 146 to 250 because this thread requires it of meGet high in backyard roast and eat marshmellows in backyard while conversing over something intellectual followed by massages and kisses for too many bs in that sentence How could you Think of the BBanned for watching movies in the corner with the duncesBanned because Health class clearly taught you nothing about peer pressureBanned for a whole host of reasons Two baby deer on left and right munching on a beetle in the middle  2 Using their own blood two cavemen diary todays latest happenings on their designated cave diary wall  3 I see it asa pokemon world  an infj society  everyone becomes an optimist49142 all artists are artists because they draw Its the idea that counts in forming something of your own like a signatureWelcome to the robot ranks person who downed my selfesteem cuz I am not an avid signature artist like herself proudBanned for taking all the room under my bed Ya gotta learn to share with the roaches for being too much of a thundering grumbling kind of storm yepAhh old high school music I have not heard in ages    failed a public speaking class a few years ago and I have sort of learned what I could do better were I to be in that position again A big part of my failure was just overloading myself with tooI like this persons mentality Hes a confirmed INTJ by the way  to the Denver area and start a new life for myself\n",
            "I am finding the lack of me in these posts very alarmingSex can be boring if it is in the same position often For example me and my girlfriend are currently in an environment where we have to creatively use cowgirl and missionary There is not enoughGiving new meaning to Game theoryHello ENTP Grin  Thats all it takes Than we converse and they do most of the flirting while I acknowledge their presence and return their words with smooth wordplay and more cheeky grinsThis  Lack of Balance and Hand Eye CoordinationReal IQ test I score 127 Internet IQ tests are funny I score 140s or higher  Now like the former responses of this thread I will mention that I do not believe in the IQ test Before you banishYou know you are an ENTP when you vanish from a site for a year and a half return and find people are still commenting on your posts and liking your ideasthoughts You know you are an ENTP when you over think things sometimes I go by the old Sherlock Holmes quote  Perhaps when a man has special knowledge and special powers like my  own it rather encourages him to seek a complexcheshirewolftumblrcom  So is I D400000  postNot really I have never thought of EI or JP as real functions  I judge myself on what I use I use Ne and Ti as my dominates Fe for emotions and rarely Si I also use Ni due to me strengthYou know though That was ingenious After saying it I really want to try it and see what happens with me playing a first person shooter in the back while we drive around I want to see the look onout of all of them the rock paper one is the best It makes me lol  You guys are lucky D I am really high up on the tumblr systemSo did you hear about that new first person shooter game I have been rocking the hell out of the soundtrack on my auto sound equipment that will shake the heavens We managed to put a couple PS3s inNo The way he connected things was very Ne Ne dominates are just as aware of their environments as Se dominates  Example Shawn Spencer or Patrick Jane Both ENTPsWell charlie I will be the first to admit I do get jealous like you do I chalk it up to my 4w3 heart mixed with my dominate 7w8 7s and 8s both like to be noticed 4s like to be known not the sameD I will upload the same clip with the mic away from my mouth Than you will not hear anything  Ninja Assassin style but with splatterTik Tok is a really great song As long as you can mental block out the singer I love the beat it makes me bouncedropio v1swck0  D Mic really close to my mouth and smokin aces assassins ball playing in the backgroundSociable  extrovert I am an extrovert and I am not sociable Sherlock in the movie was an ENTP Normally he is played as a EXTJ In the books he is an ESTJ  As I said The movie looked good except for it being called sherlock holmes I never had fear of kissing a guy I will kiss an animal too So there was nothing to vanish Just personal taste and me not liking it  The guy I kissed did not know me It was one of thoseSounds pretty much like my area and what I am going through right now trying to figure out which way I want to take my life I want to do so many things The biggest problem is that I know if I dontD I was operating under the impression that you were female I never looked at your boxy Okay I help out my gay friends all the time and one of them has developed a little crush on me I get redTT You just described me  and I am living the worst nightmare I am trapped in one place with one one around Only dull woods If I was a serial killer this would be the perfect place but sadly ImTBH and biased sounds like a shadowed INFP I think maybe he was hurt and turned ESTJ I can tell because he has some of the typical INFP traits left overChecks list I am sorry It seems that you have came at a bad time Weve already reached our quota of INFJs However being you are female and I like females I will make you a deal I will kick oneIm ANTP Leaning toward E I am easy for both ENTPs and INTPs to identify with I also imagine ENTPs interrogations would go a little bit like Jacks from 24 except more mechanical Rigging up shock treatment equipment in an abandoned building out of an old car batty jumperIt was a compliment  Trust me I am just as psychopathic D except I have emoticons Theyre just weird ones Like laughing when I get hurt or at people running themselves over with their lawn mower  Its like a theme for where I live and that is why I know it by heart    I usual do not leave until the thing ends But in the mean time In between times You work your thing I will work mine D  D I am the MBP Pleasure to meet youDamn need to trust my instincts more I would have been closer I was going to say INFPEXFP Leaning toward S with the way she responded  D My friends even my gay and lesbian ones always come to me for adviceI bow to my entp masters ENTPs are so great If it was not for ENTPs I would not have been able to build what I am building  Duck Duck  Duck  ShotgunWhat Me I never do that  Because its hard to be sad about losing someone you like when you knew you were right and give yourself a big pat on the back because you are awesome and always correctOh you do not have to tell me that most of them are stupid I know this That is why I play with them and it makes me laugh D As I am going to take Neuropsychology and I have a few psychologistD I am a Nightowl I wake up between 67pm and stay awake till 101130amPersonal opinion backed by theory would suggest that INTPs are the most socially difficult While INTJs can be socially indifferent but they will also use social situations if the the need arisesPersonal stocks that I have on my desktop that I have downloaded from random stock sites and stock photobucketsIll tell you when I open photoshop   Glad you like it staticD Thanks   Made for a friend Several hours of work I constructed every line by Static   I will have to get to your avatar later if one of my fellow teammates doesntPsychologist do not keep me around long enough to diagnosis me I like to toy with them What I have diagnosis myself with and had a few psychologist friends  a few other friends tell me I have is\n",
            "Good one      course to which I say I know that is my blessing and my curseDoes being absolutely positive that you and your best friend could be an amazing couple count If so than yes   Or it is more I could be madly in love in case I reconciled my feelings which atNo I didnt thank you for a linkSocalled TiSi loop and it can stem from any current topicobsession can be deadly Its like when you are stuck in your own thoughts and your mind just wanders in circles Feels truly terrible Have you noticed how peculiar vegetation can be All you have to do is look down at the grass dozens of different plant species there    And now imagine that hundreds of years later whenif soilThe Smiths  Never Had No One EverI often find myself spotting faces on marble tileswoodThis 5 yearold sentence is an incredibly accurate and beautiful descriptionI have not visited this website in the last 3 years So whoever reads this and maybe even remembers me which I highly doubt hi  700049  700057When you sit in your garden until 1030 PM writing songs and sing them together with dozens of crickets while playing your acoustic guitarThis is the most INTPish thread I have ever seenI would not be able to look at the painting for the entire life if I knew that I picked it over the human beingI was drawing a background for my animation on which I am working right now  it should have been Mars But I felt obligated to make Mark Watneyx92s postcard from it D  If you read the bookI started to make comics about turtle Gordon and unicorn Chimes  here you can see two first stories  Recently I started to post my comics about two friends  turtle Gordon and unicorn Chimes Before that I just posted stuff that interested me but from now on I will try to include only my worksProbably we could work together on a new model  I am an expert in abrupt explosions of laughter upon various weird stuff That happens because of peculiar sense of humor  so peculiar that not muchHellooo Nah you can touch it Everyone thinks that it is scared or sad but that is not true  in fact it has an absolutely neutral face And this kitten actually really likes patting and hugs onlyWell kind of As it was already mentioned sometimes because of Ni it is hard to convey complex stuff which pops up in your head in whimsical compilations of shapes and pictures only with wordsI think this kitten would be very appropriate here  376562367034GOOD NIGHT everyone out there Even if for someone there is morning right now  nights always supersede mornings And people say good night in order to meet next day Oh that movie  Its awesome Thank you Hope you had good sleep in the air anyway I am wishing you good night for the next night ahead hopefully it will be on land  Good people deserve good358882  358890Well other people who may be wondering about an issue from the name of the topic will find your response helpful anyway This Finally someone mentioned that I still see creaturesfaces in a maze of various random patterns It can be amusing sometimes  Its a very handy skill when you are boredOh I did not know that What a pity  Why not sacrifice whole supermarket then We can decide which Walmart will be the best I think the biggest one would be greatyippy  Here you go  357002  He thinks that the fire is delicious Should I sacrifice tofu I do not like to waste foodI do not think that the creator of this thread cares what is going on here after 3 years Heh I understand you  With these same given languagesYessss Adventure Time DI get angry quite rarely but when I do it is safer for surrounding people to go somewhere else Its impossible for me to hide or suppress anger the only way to get rid of this feeling is to burstIve never liked it  Anything fake is bad actuallyHugs should be given only to chosen ones Chosen There are quite few of them though349890Yup you are doing it right  course it is not very comfortable  But Human race survived thankfully womens ability to give birth to other human beings It worked for thousands of years Why change it Besides there areThat happens And it occurs because most often people use results of extremely precise and elaborate online tests as a basis of determining ones type      Both visual and language arts more246386I study graphic design now which I really enjoy What is interesting about this field is that the ability to generate ideas and solve problems is much more important than possession of a specificAlexxxandra97  DeviantArt236994 am always ready to discipline to intimidate to be precise my siblings offenderWorld domination Shooting people in the head Why  Oh right INTJs always must be characterised only with these words     I want to show so badly my reaction to this 221226218106ISTP  \n"
          ]
        }
      ]
    },
    {
      "cell_type": "code",
      "source": [
        "# Stop words removal\n",
        "import nltk\n",
        "nltk.download('punkt')\n",
        "nltk.download('stopwords')\n",
        "\n",
        "from nltk.corpus import stopwords as sw\n",
        "from nltk.tokenize import word_tokenize\n",
        "\n",
        "\n",
        "def remove_stopwords(x, stop_words):\n",
        "  tokens = word_tokenize(x)\n",
        "  filtered_sentence = [w for w in tokens if not w in stop_words]\n",
        "  return filtered_sentence\n",
        "\n",
        "stop_words = sw.words()\n",
        "training_posts = [remove_stopwords(post, stop_words) for post in training_posts]\n",
        "testing_posts = [remove_stopwords(post, stop_words) for post in testing_posts]\n",
        "\n",
        "for post in training_posts[0:3]:\n",
        "  print(post)"
      ],
      "metadata": {
        "id": "2h6zrhYdSOaY",
        "outputId": "0c13f664-2546-4994-9e22-1e802c3db274",
        "colab": {
          "base_uri": "https://localhost:8080/"
        }
      },
      "execution_count": 42,
      "outputs": [
        {
          "output_type": "stream",
          "name": "stdout",
          "text": [
            "[nltk_data] Downloading package punkt to /root/nltk_data...\n",
            "[nltk_data]   Package punkt is already up-to-date!\n",
            "[nltk_data] Downloading package stopwords to /root/nltk_data...\n",
            "[nltk_data]   Package stopwords is already up-to-date!\n",
            "['intj', 'moments', 'sportscenter', 'top', 'ten', 'plays', 'pranksWhat', 'lifechanging', 'experience', 'life', 'On', 'repeat', 'todayMay', 'PerC', 'Experience', 'immerse', 'youThe', 'last', 'thing', 'INFJ', 'friend', 'posted', 'facebook', 'committing', 'suicide', 'next', 'day', 'Rest', 'peace', 'ENFJ7', 'Sorry', 'hear', 'distress', 'Its', 'natural', 'relationship', 'perfection', 'time', 'every', 'moment', 'existence', 'Try', 'figure', 'hard', 'times', 'times', 'growth', 'as84389', '84390', 'Welcome', 'stuff', 'Game', 'Set', 'MatchProzac', 'wellbrutin', 'least', 'thirty', 'minutes', 'moving', 'legs', 'I', 'mean', 'moving', 'sitting', 'desk', 'chair', 'weed', 'moderation', 'maybe', 'try', 'edibles', 'healthier', 'alternativeBasically', 'three', 'items', 'determined', 'type', 'whichever', 'types', 'would', 'likely', 'use', 'given', 'types', 'cognitive', 'functions', 'whatnot', 'left', 'byAll', 'things', 'moderation', 'Sims', 'indeed', 'video', 'game', 'good', 'Note', 'good', 'somewhat', 'subjective', 'I', 'completely', 'promoting', 'death', 'given', 'SimDear', 'ENFP', 'What', 'favorite', 'video', 'games', 'growing', 'current', 'favorite', 'video', 'games', 'cool', 'appears', 'late', 'sadTheres', 'someone', 'everyoneWait', 'I', 'thought', 'confidence', 'good', 'thingI', 'cherish', 'time', 'solitude', 'bc', 'revel', 'within', 'inner', 'world', 'whereas', 'time', 'would', 'workin', 'enjoy', 'time', 'Dont', 'worry', 'people', 'always', 'around', 'toYo', 'entp', 'ladies', 'complimentary', 'personalitywell', 'hey', 'main', 'social', 'outlet', 'xbox', 'live', 'conversations', 'even', 'verbally', 'fatigue', 'quickly', 'I', 'really', 'part', '146', '250', 'thread', 'requires', 'meGet', 'high', 'backyard', 'roast', 'eat', 'marshmellows', 'backyard', 'conversing', 'something', 'intellectual', 'followed', 'massages', 'kisses', 'many', 'bs', 'sentence', 'How', 'could', 'Think', 'BBanned', 'watching', 'movies', 'corner', 'duncesBanned', 'Health', 'class', 'clearly', 'taught', 'nothing', 'peer', 'pressureBanned', 'whole', 'host', 'reasons', 'Two', 'baby', 'deer', 'left', 'right', 'munching', 'beetle', 'middle', '2', 'Using', 'blood', 'two', 'cavemen', 'diary', 'todays', 'latest', 'happenings', 'designated', 'cave', 'diary', 'wall', '3', 'I', 'see', 'pokemon', 'world', 'infj', 'society', 'everyone', 'becomes', 'optimist49142', 'artists', 'artists', 'draw', 'Its', 'idea', 'counts', 'forming', 'something', 'like', 'signatureWelcome', 'robot', 'ranks', 'person', 'downed', 'selfesteem', 'cuz', 'I', 'avid', 'signature', 'artist', 'like', 'proudBanned', 'taking', 'room', 'bed', 'Ya', 'got', 'learn', 'share', 'roaches', 'much', 'thundering', 'grumbling', 'kind', 'storm', 'yepAhh', 'old', 'high', 'school', 'music', 'I', 'heard', 'ages', 'failed', 'public', 'speaking', 'class', 'years', 'ago', 'I', 'sort', 'learned', 'I', 'could', 'better', 'I', 'position', 'A', 'big', 'part', 'failure', 'overloading', 'tooI', 'like', 'persons', 'mentality', 'Hes', 'confirmed', 'INTJ', 'way', 'Denver', 'area', 'start', 'new', 'life']\n",
            "['I', 'finding', 'lack', 'posts', 'alarmingSex', 'boring', 'position', 'often', 'For', 'example', 'girlfriend', 'currently', 'environment', 'creatively', 'use', 'cowgirl', 'missionary', 'There', 'enoughGiving', 'new', 'meaning', 'Game', 'theoryHello', 'ENTP', 'Grin', 'Thats', 'takes', 'Than', 'converse', 'flirting', 'I', 'acknowledge', 'presence', 'return', 'words', 'smooth', 'wordplay', 'cheeky', 'grinsThis', 'Lack', 'Balance', 'Hand', 'Eye', 'CoordinationReal', 'IQ', 'test', 'I', 'score', '127', 'Internet', 'IQ', 'tests', 'funny', 'I', 'score', '140s', 'higher', 'Now', 'like', 'former', 'responses', 'thread', 'I', 'mention', 'I', 'believe', 'IQ', 'test', 'Before', 'banishYou', 'know', 'ENTP', 'vanish', 'site', 'year', 'half', 'return', 'find', 'people', 'still', 'commenting', 'posts', 'liking', 'ideasthoughts', 'You', 'know', 'ENTP', 'think', 'things', 'sometimes', 'I', 'go', 'old', 'Sherlock', 'Holmes', 'quote', 'Perhaps', 'special', 'knowledge', 'special', 'powers', 'like', 'rather', 'encourages', 'seek', 'complexcheshirewolftumblrcom', 'So', 'I', 'D400000', 'postNot', 'really', 'I', 'never', 'thought', 'EI', 'JP', 'real', 'functions', 'I', 'judge', 'I', 'use', 'I', 'use', 'Ne', 'Ti', 'dominates', 'Fe', 'emotions', 'rarely', 'Si', 'I', 'use', 'Ni', 'due', 'strengthYou', 'know', 'though', 'That', 'ingenious', 'After', 'saying', 'I', 'really', 'try', 'see', 'happens', 'playing', 'first', 'person', 'shooter', 'back', 'drive', 'around', 'I', 'see', 'look', 'onout', 'rock', 'paper', 'best', 'It', 'makes', 'lol', 'You', 'guys', 'lucky', 'D', 'I', 'really', 'high', 'tumblr', 'systemSo', 'hear', 'new', 'first', 'person', 'shooter', 'game', 'I', 'rocking', 'hell', 'soundtrack', 'auto', 'sound', 'equipment', 'shake', 'heavens', 'We', 'managed', 'put', 'couple', 'PS3s', 'inNo', 'The', 'way', 'connected', 'things', 'Ne', 'Ne', 'dominates', 'aware', 'environments', 'Se', 'dominates', 'Example', 'Shawn', 'Spencer', 'Patrick', 'Jane', 'Both', 'ENTPsWell', 'charlie', 'I', 'first', 'admit', 'I', 'get', 'jealous', 'like', 'I', 'chalk', '4w3', 'heart', 'mixed', 'dominate', '7w8', '7s', '8s', 'like', 'noticed', '4s', 'like', 'known', 'sameD', 'I', 'upload', 'clip', 'mic', 'away', 'mouth', 'Than', 'hear', 'anything', 'Ninja', 'Assassin', 'style', 'splatterTik', 'Tok', 'really', 'great', 'song', 'As', 'long', 'mental', 'block', 'singer', 'I', 'love', 'beat', 'makes', 'bouncedropio', 'v1swck0', 'D', 'Mic', 'really', 'close', 'mouth', 'smokin', 'aces', 'assassins', 'ball', 'playing', 'backgroundSociable', 'extrovert', 'I', 'extrovert', 'I', 'sociable', 'Sherlock', 'movie', 'ENTP', 'Normally', 'played', 'EXTJ', 'In', 'books', 'ESTJ', 'As', 'I', 'said', 'The', 'movie', 'looked', 'good', 'except', 'called', 'sherlock', 'holmes', 'I', 'never', 'fear', 'kissing', 'guy', 'I', 'kiss', 'animal', 'So', 'nothing', 'vanish', 'Just', 'personal', 'taste', 'liking', 'The', 'guy', 'I', 'kissed', 'know', 'It', 'thoseSounds', 'pretty', 'much', 'like', 'area', 'I', 'going', 'right', 'trying', 'figure', 'way', 'I', 'life', 'I', 'many', 'things', 'The', 'biggest', 'problem', 'I', 'know', 'I', 'dontD', 'I', 'operating', 'impression', 'female', 'I', 'never', 'looked', 'boxy', 'Okay', 'I', 'help', 'gay', 'friends', 'time', 'developed', 'little', 'crush', 'I', 'get', 'redTT', 'You', 'described', 'I', 'living', 'worst', 'nightmare', 'I', 'trapped', 'place', 'around', 'Only', 'dull', 'woods', 'If', 'I', 'serial', 'killer', 'would', 'perfect', 'place', 'sadly', 'ImTBH', 'biased', 'sounds', 'like', 'shadowed', 'INFP', 'I', 'think', 'maybe', 'hurt', 'turned', 'ESTJ', 'I', 'tell', 'typical', 'INFP', 'traits', 'left', 'overChecks', 'list', 'I', 'sorry', 'It', 'seems', 'came', 'bad', 'time', 'Weve', 'already', 'reached', 'quota', 'INFJs', 'However', 'female', 'I', 'like', 'females', 'I', 'make', 'deal', 'I', 'kick', 'oneIm', 'ANTP', 'Leaning', 'toward', 'E', 'I', 'easy', 'ENTPs', 'INTPs', 'identify', 'I', 'imagine', 'ENTPs', 'interrogations', 'would', 'go', 'little', 'bit', 'like', 'Jacks', '24', 'except', 'mechanical', 'Rigging', 'shock', 'treatment', 'equipment', 'abandoned', 'building', 'old', 'car', 'batty', 'jumperIt', 'compliment', 'Trust', 'I', 'psychopathic', 'D', 'except', 'I', 'emoticons', 'Theyre', 'weird', 'ones', 'Like', 'laughing', 'I', 'get', 'hurt', 'people', 'running', 'lawn', 'mower', 'Its', 'like', 'theme', 'I', 'live', 'I', 'know', 'heart', 'I', 'usual', 'leave', 'thing', 'ends', 'But', 'mean', 'time', 'In', 'times', 'You', 'work', 'thing', 'I', 'work', 'D', 'D', 'I', 'MBP', 'Pleasure', 'meet', 'youDamn', 'need', 'trust', 'instincts', 'I', 'would', 'closer', 'I', 'going', 'say', 'INFPEXFP', 'Leaning', 'toward', 'S', 'way', 'responded', 'D', 'My', 'friends', 'even', 'gay', 'lesbian', 'ones', 'always', 'adviceI', 'bow', 'entp', 'masters', 'ENTPs', 'great', 'If', 'ENTPs', 'I', 'would', 'able', 'build', 'I', 'building', 'Duck', 'Duck', 'Duck', 'ShotgunWhat', 'Me', 'I', 'never', 'Because', 'hard', 'sad', 'losing', 'someone', 'like', 'knew', 'right', 'give', 'big', 'pat', 'back', 'awesome', 'always', 'correctOh', 'tell', 'stupid', 'I', 'know', 'That', 'I', 'play', 'makes', 'laugh', 'D', 'As', 'I', 'going', 'Neuropsychology', 'I', 'psychologistD', 'I', 'Nightowl', 'I', 'wake', '67pm', 'stay', 'awake', '101130amPersonal', 'opinion', 'backed', 'theory', 'would', 'suggest', 'INTPs', 'socially', 'difficult', 'While', 'INTJs', 'socially', 'indifferent', 'use', 'social', 'situations', 'need', 'arisesPersonal', 'stocks', 'I', 'desktop', 'I', 'downloaded', 'random', 'stock', 'sites', 'stock', 'photobucketsIll', 'tell', 'I', 'open', 'photoshop', 'Glad', 'like', 'staticD', 'Thanks', 'Made', 'friend', 'Several', 'hours', 'work', 'I', 'constructed', 'every', 'line', 'Static', 'I', 'get', 'avatar', 'later', 'fellow', 'teammates', 'doesntPsychologist', 'keep', 'around', 'long', 'enough', 'diagnosis', 'I', 'like', 'toy', 'What', 'I', 'diagnosis', 'psychologist', 'friends', 'friends', 'tell', 'I']\n",
            "['Good', 'course', 'I', 'say', 'I', 'know', 'blessing', 'curseDoes', 'absolutely', 'positive', 'best', 'friend', 'could', 'amazing', 'couple', 'count', 'If', 'yes', 'Or', 'I', 'could', 'madly', 'love', 'case', 'I', 'reconciled', 'feelings', 'atNo', 'I', 'didnt', 'thank', 'linkSocalled', 'TiSi', 'loop', 'stem', 'current', 'topicobsession', 'deadly', 'Its', 'like', 'stuck', 'thoughts', 'mind', 'wanders', 'circles', 'Feels', 'truly', 'terrible', 'Have', 'noticed', 'peculiar', 'vegetation', 'All', 'look', 'grass', 'dozens', 'different', 'plant', 'species', 'And', 'imagine', 'hundreds', 'years', 'later', 'whenif', 'soilThe', 'Smiths', 'Never', 'Had', 'No', 'One', 'EverI', 'often', 'find', 'spotting', 'faces', 'marble', 'tileswoodThis', '5', 'yearold', 'sentence', 'incredibly', 'accurate', 'beautiful', 'descriptionI', 'visited', 'website', 'last', '3', 'years', 'So', 'whoever', 'reads', 'maybe', 'even', 'remembers', 'I', 'highly', 'doubt', 'hi', '700049', '700057When', 'garden', '1030', 'PM', 'writing', 'songs', 'sing', 'together', 'dozens', 'crickets', 'playing', 'acoustic', 'guitarThis', 'INTPish', 'thread', 'I', 'ever', 'seenI', 'would', 'able', 'look', 'painting', 'entire', 'life', 'I', 'knew', 'I', 'picked', 'human', 'beingI', 'drawing', 'background', 'animation', 'I', 'working', 'right', 'Mars', 'But', 'I', 'felt', 'obligated', 'make', 'Mark', 'Watneyx92s', 'postcard', 'D', 'If', 'read', 'bookI', 'started', 'make', 'comics', 'turtle', 'Gordon', 'unicorn', 'Chimes', 'see', 'two', 'first', 'stories', 'Recently', 'I', 'started', 'post', 'comics', 'two', 'friends', 'turtle', 'Gordon', 'unicorn', 'Chimes', 'Before', 'I', 'posted', 'stuff', 'interested', 'I', 'try', 'include', 'worksProbably', 'could', 'work', 'together', 'new', 'model', 'I', 'expert', 'abrupt', 'explosions', 'laughter', 'upon', 'various', 'weird', 'stuff', 'That', 'happens', 'peculiar', 'sense', 'humor', 'peculiar', 'muchHellooo', 'Nah', 'touch', 'Everyone', 'thinks', 'scared', 'sad', 'true', 'fact', 'absolutely', 'neutral', 'And', 'kitten', 'actually', 'really', 'likes', 'patting', 'hugs', 'onlyWell', 'kind', 'As', 'already', 'mentioned', 'sometimes', 'Ni', 'hard', 'convey', 'complex', 'stuff', 'pops', 'head', 'whimsical', 'compilations', 'shapes', 'pictures', 'wordsI', 'think', 'kitten', 'would', 'appropriate', '376562367034GOOD', 'NIGHT', 'everyone', 'Even', 'someone', 'morning', 'right', 'nights', 'always', 'supersede', 'mornings', 'And', 'people', 'say', 'good', 'night', 'order', 'meet', 'next', 'day', 'Oh', 'movie', 'Its', 'awesome', 'Thank', 'Hope', 'good', 'sleep', 'air', 'anyway', 'I', 'wishing', 'good', 'night', 'next', 'night', 'ahead', 'hopefully', 'land', 'Good', 'people', 'deserve', 'good358882', '358890Well', 'people', 'may', 'wondering', 'issue', 'topic', 'find', 'response', 'helpful', 'anyway', 'This', 'Finally', 'someone', 'mentioned', 'I', 'still', 'see', 'creaturesfaces', 'maze', 'various', 'random', 'patterns', 'It', 'amusing', 'sometimes', 'Its', 'handy', 'skill', 'boredOh', 'I', 'know', 'What', 'pity', 'Why', 'sacrifice', 'whole', 'supermarket', 'We', 'decide', 'Walmart', 'best', 'I', 'think', 'biggest', 'would', 'greatyippy', 'Here', 'go', '357002', 'He', 'thinks', 'fire', 'delicious', 'Should', 'I', 'sacrifice', 'tofu', 'I', 'like', 'waste', 'foodI', 'think', 'creator', 'thread', 'cares', 'going', '3', 'years', 'Heh', 'I', 'understand', 'With', 'given', 'languagesYessss', 'Adventure', 'Time', 'DI', 'get', 'angry', 'quite', 'rarely', 'I', 'safer', 'surrounding', 'people', 'go', 'somewhere', 'else', 'Its', 'impossible', 'hide', 'suppress', 'anger', 'way', 'get', 'rid', 'feeling', 'burstIve', 'never', 'liked', 'Anything', 'fake', 'bad', 'actuallyHugs', 'given', 'chosen', 'ones', 'Chosen', 'There', 'quite', 'though349890Yup', 'right', 'course', 'comfortable', 'But', 'Human', 'race', 'survived', 'thankfully', 'womens', 'ability', 'give', 'birth', 'human', 'beings', 'It', 'worked', 'thousands', 'years', 'Why', 'change', 'Besides', 'areThat', 'happens', 'And', 'occurs', 'often', 'people', 'use', 'results', 'extremely', 'precise', 'elaborate', 'online', 'tests', 'basis', 'determining', 'ones', 'type', 'Both', 'visual', 'language', 'arts', 'more246386I', 'study', 'graphic', 'design', 'I', 'really', 'enjoy', 'What', 'interesting', 'field', 'ability', 'generate', 'ideas', 'solve', 'problems', 'much', 'important', 'possession', 'specificAlexxxandra97', 'DeviantArt236994', 'always', 'ready', 'discipline', 'intimidate', 'precise', 'siblings', 'offenderWorld', 'domination', 'Shooting', 'people', 'head', 'Why', 'Oh', 'right', 'INTJs', 'always', 'must', 'characterised', 'words', 'I', 'show', 'badly', 'reaction', '221226218106ISTP']\n"
          ]
        }
      ]
    },
    {
      "cell_type": "code",
      "source": [
        "# Case folding and stemming\n",
        "from nltk.stem.snowball import *\n",
        "stemmer = SnowballStemmer('english')\n",
        "\n",
        "def case_folding_and_stemming(x, stemmer):\n",
        "  lowercase = [word.lower() for word in x]\n",
        "  return [stemmer.stem(word) for word in lowercase]\n",
        "\n",
        "training_posts_after_stemming = [case_folding_and_stemming(post, stemmer) for post in training_posts]\n",
        "testing_posts_after_stemming = [case_folding_and_stemming(post, stemmer) for post in testing_posts]"
      ],
      "metadata": {
        "id": "2KeFhvpfclX4"
      },
      "execution_count": 43,
      "outputs": []
    },
    {
      "cell_type": "code",
      "source": [
        "for post in training_posts[0:3]:\n",
        "  print(post)"
      ],
      "metadata": {
        "id": "NWiFLzM0go-2",
        "outputId": "440e7c52-21fc-4617-f341-da085098fe66",
        "colab": {
          "base_uri": "https://localhost:8080/"
        }
      },
      "execution_count": 32,
      "outputs": [
        {
          "output_type": "stream",
          "name": "stdout",
          "text": [
            "['intj', 'moment', 'sportscent', 'top', 'ten', 'play', 'prankswhat', 'lifechang', 'experi', 'life', 'on', 'repeat', 'todaymay', 'perc', 'experi', 'immers', 'youth', 'last', 'thing', 'infj', 'friend', 'post', 'facebook', 'commit', 'suicid', 'next', 'day', 'rest', 'peac', 'enfj7', 'sorri', 'hear', 'distress', 'it', 'natur', 'relationship', 'perfect', 'time', 'everi', 'moment', 'exist', 'tri', 'figur', 'hard', 'time', 'time', 'growth', 'as84389', '84390', 'welcom', 'stuff', 'game', 'set', 'matchprozac', 'wellbrutin', 'least', 'thirti', 'minut', 'move', 'leg', 'i', 'mean', 'move', 'sit', 'desk', 'chair', 'weed', 'moder', 'mayb', 'tri', 'edibl', 'healthier', 'alternativebas', 'three', 'item', 'determin', 'type', 'whichev', 'type', 'would', 'like', 'use', 'given', 'type', 'cognit', 'function', 'whatnot', 'left', 'byall', 'thing', 'moder', 'sim', 'inde', 'video', 'game', 'good', 'note', 'good', 'somewhat', 'subject', 'i', 'complet', 'promot', 'death', 'given', 'simdear', 'enfp', 'what', 'favorit', 'video', 'game', 'grow', 'current', 'favorit', 'video', 'game', 'cool', 'appear', 'late', 'sadther', 'someon', 'everyonewait', 'i', 'thought', 'confid', 'good', 'thingi', 'cherish', 'time', 'solitud', 'bc', 'revel', 'within', 'inner', 'world', 'wherea', 'time', 'would', 'workin', 'enjoy', 'time', 'dont', 'worri', 'peopl', 'alway', 'around', 'toyo', 'entp', 'ladi', 'complimentari', 'personalitywel', 'hey', 'main', 'social', 'outlet', 'xbox', 'live', 'convers', 'even', 'verbal', 'fatigu', 'quickli', 'i', 'realli', 'part', '146', '250', 'thread', 'requir', 'meget', 'high', 'backyard', 'roast', 'eat', 'marshmellow', 'backyard', 'convers', 'someth', 'intellectu', 'follow', 'massag', 'kiss', 'mani', 'bs', 'sentenc', 'how', 'could', 'think', 'bban', 'watch', 'movi', 'corner', 'duncesban', 'health', 'class', 'clearli', 'taught', 'noth', 'peer', 'pressureban', 'whole', 'host', 'reason', 'two', 'babi', 'deer', 'left', 'right', 'munch', 'beetl', 'middl', '2', 'use', 'blood', 'two', 'cavemen', 'diari', 'today', 'latest', 'happen', 'design', 'cave', 'diari', 'wall', '3', 'i', 'see', 'pokemon', 'world', 'infj', 'societi', 'everyon', 'becom', 'optimist49142', 'artist', 'artist', 'draw', 'it', 'idea', 'count', 'form', 'someth', 'like', 'signaturewelcom', 'robot', 'rank', 'person', 'down', 'selfesteem', 'cuz', 'i', 'avid', 'signatur', 'artist', 'like', 'proudban', 'take', 'room', 'bed', 'ya', 'got', 'learn', 'share', 'roach', 'much', 'thunder', 'grumbl', 'kind', 'storm', 'yepahh', 'old', 'high', 'school', 'music', 'i', 'heard', 'age', 'fail', 'public', 'speak', 'class', 'year', 'ago', 'i', 'sort', 'learn', 'i', 'could', 'better', 'i', 'posit', 'a', 'big', 'part', 'failur', 'overload', 'tooi', 'like', 'person', 'mental', 'he', 'confirm', 'intj', 'way', 'denver', 'area', 'start', 'new', 'life']\n",
            "['i', 'find', 'lack', 'post', 'alarmingsex', 'bore', 'posit', 'often', 'for', 'exampl', 'girlfriend', 'current', 'environ', 'creativ', 'use', 'cowgirl', 'missionari', 'there', 'enoughgiv', 'new', 'mean', 'game', 'theoryhello', 'entp', 'grin', 'that', 'take', 'than', 'convers', 'flirt', 'i', 'acknowledg', 'presenc', 'return', 'word', 'smooth', 'wordplay', 'cheeki', 'grinsthi', 'lack', 'balanc', 'hand', 'eye', 'coordinationr', 'iq', 'test', 'i', 'score', '127', 'internet', 'iq', 'test', 'funni', 'i', 'score', '140', 'higher', 'now', 'like', 'former', 'respons', 'thread', 'i', 'mention', 'i', 'believ', 'iq', 'test', 'befor', 'banishy', 'know', 'entp', 'vanish', 'site', 'year', 'half', 'return', 'find', 'peopl', 'still', 'comment', 'post', 'like', 'ideasthought', 'you', 'know', 'entp', 'think', 'thing', 'sometim', 'i', 'go', 'old', 'sherlock', 'holm', 'quot', 'perhap', 'special', 'knowledg', 'special', 'power', 'like', 'rather', 'encourag', 'seek', 'complexcheshirewolftumblrcom', 'so', 'i', 'd400000', 'postnot', 'realli', 'i', 'never', 'thought', 'ei', 'jp', 'real', 'function', 'i', 'judg', 'i', 'use', 'i', 'use', 'ne', 'ti', 'domin', 'fe', 'emot', 'rare', 'si', 'i', 'use', 'ni', 'due', 'strengthyou', 'know', 'though', 'that', 'ingeni', 'after', 'say', 'i', 'realli', 'tri', 'see', 'happen', 'play', 'first', 'person', 'shooter', 'back', 'drive', 'around', 'i', 'see', 'look', 'onout', 'rock', 'paper', 'best', 'it', 'make', 'lol', 'you', 'guy', 'lucki', 'd', 'i', 'realli', 'high', 'tumblr', 'systemso', 'hear', 'new', 'first', 'person', 'shooter', 'game', 'i', 'rock', 'hell', 'soundtrack', 'auto', 'sound', 'equip', 'shake', 'heaven', 'we', 'manag', 'put', 'coupl', 'ps3', 'inno', 'the', 'way', 'connect', 'thing', 'ne', 'ne', 'domin', 'awar', 'environ', 'se', 'domin', 'exampl', 'shawn', 'spencer', 'patrick', 'jane', 'both', 'entpswel', 'charli', 'i', 'first', 'admit', 'i', 'get', 'jealou', 'like', 'i', 'chalk', '4w3', 'heart', 'mix', 'domin', '7w8', '7s', '8s', 'like', 'notic', '4s', 'like', 'known', 'same', 'i', 'upload', 'clip', 'mic', 'away', 'mouth', 'than', 'hear', 'anyth', 'ninja', 'assassin', 'style', 'splattertik', 'tok', 'realli', 'great', 'song', 'as', 'long', 'mental', 'block', 'singer', 'i', 'love', 'beat', 'make', 'bouncedropio', 'v1swck0', 'd', 'mic', 'realli', 'close', 'mouth', 'smokin', 'ace', 'assassin', 'ball', 'play', 'backgroundsoci', 'extrovert', 'i', 'extrovert', 'i', 'sociabl', 'sherlock', 'movi', 'entp', 'normal', 'play', 'extj', 'in', 'book', 'estj', 'as', 'i', 'said', 'the', 'movi', 'look', 'good', 'except', 'call', 'sherlock', 'holm', 'i', 'never', 'fear', 'kiss', 'guy', 'i', 'kiss', 'anim', 'so', 'noth', 'vanish', 'just', 'person', 'tast', 'like', 'the', 'guy', 'i', 'kiss', 'know', 'it', 'thosesound', 'pretti', 'much', 'like', 'area', 'i', 'go', 'right', 'tri', 'figur', 'way', 'i', 'life', 'i', 'mani', 'thing', 'the', 'biggest', 'problem', 'i', 'know', 'i', 'dontd', 'i', 'oper', 'impress', 'femal', 'i', 'never', 'look', 'boxi', 'okay', 'i', 'help', 'gay', 'friend', 'time', 'develop', 'littl', 'crush', 'i', 'get', 'redtt', 'you', 'describ', 'i', 'live', 'worst', 'nightmar', 'i', 'trap', 'place', 'around', 'onli', 'dull', 'wood', 'if', 'i', 'serial', 'killer', 'would', 'perfect', 'place', 'sadli', 'imtbh', 'bias', 'sound', 'like', 'shadow', 'infp', 'i', 'think', 'mayb', 'hurt', 'turn', 'estj', 'i', 'tell', 'typic', 'infp', 'trait', 'left', 'overcheck', 'list', 'i', 'sorri', 'it', 'seem', 'came', 'bad', 'time', 'weve', 'alreadi', 'reach', 'quota', 'infj', 'howev', 'femal', 'i', 'like', 'femal', 'i', 'make', 'deal', 'i', 'kick', 'oneim', 'antp', 'lean', 'toward', 'e', 'i', 'easi', 'entp', 'intp', 'identifi', 'i', 'imagin', 'entp', 'interrog', 'would', 'go', 'littl', 'bit', 'like', 'jack', '24', 'except', 'mechan', 'rig', 'shock', 'treatment', 'equip', 'abandon', 'build', 'old', 'car', 'batti', 'jumperit', 'compliment', 'trust', 'i', 'psychopath', 'd', 'except', 'i', 'emoticon', 'theyr', 'weird', 'one', 'like', 'laugh', 'i', 'get', 'hurt', 'peopl', 'run', 'lawn', 'mower', 'it', 'like', 'theme', 'i', 'live', 'i', 'know', 'heart', 'i', 'usual', 'leav', 'thing', 'end', 'but', 'mean', 'time', 'in', 'time', 'you', 'work', 'thing', 'i', 'work', 'd', 'd', 'i', 'mbp', 'pleasur', 'meet', 'youdamn', 'need', 'trust', 'instinct', 'i', 'would', 'closer', 'i', 'go', 'say', 'infpexfp', 'lean', 'toward', 's', 'way', 'respond', 'd', 'my', 'friend', 'even', 'gay', 'lesbian', 'one', 'alway', 'advicei', 'bow', 'entp', 'master', 'entp', 'great', 'if', 'entp', 'i', 'would', 'abl', 'build', 'i', 'build', 'duck', 'duck', 'duck', 'shotgunwhat', 'me', 'i', 'never', 'becaus', 'hard', 'sad', 'lose', 'someon', 'like', 'knew', 'right', 'give', 'big', 'pat', 'back', 'awesom', 'alway', 'correctoh', 'tell', 'stupid', 'i', 'know', 'that', 'i', 'play', 'make', 'laugh', 'd', 'as', 'i', 'go', 'neuropsycholog', 'i', 'psychologistd', 'i', 'nightowl', 'i', 'wake', '67pm', 'stay', 'awak', '101130amperson', 'opinion', 'back', 'theori', 'would', 'suggest', 'intp', 'social', 'difficult', 'while', 'intj', 'social', 'indiffer', 'use', 'social', 'situat', 'need', 'arisesperson', 'stock', 'i', 'desktop', 'i', 'download', 'random', 'stock', 'site', 'stock', 'photobucketsil', 'tell', 'i', 'open', 'photoshop', 'glad', 'like', 'staticd', 'thank', 'made', 'friend', 'sever', 'hour', 'work', 'i', 'construct', 'everi', 'line', 'static', 'i', 'get', 'avatar', 'later', 'fellow', 'teammat', 'doesntpsychologist', 'keep', 'around', 'long', 'enough', 'diagnosi', 'i', 'like', 'toy', 'what', 'i', 'diagnosi', 'psychologist', 'friend', 'friend', 'tell', 'i']\n",
            "['good', 'cours', 'i', 'say', 'i', 'know', 'bless', 'cursedo', 'absolut', 'posit', 'best', 'friend', 'could', 'amaz', 'coupl', 'count', 'if', 'ye', 'or', 'i', 'could', 'madli', 'love', 'case', 'i', 'reconcil', 'feel', 'atno', 'i', 'didnt', 'thank', 'linksocal', 'tisi', 'loop', 'stem', 'current', 'topicobsess', 'deadli', 'it', 'like', 'stuck', 'thought', 'mind', 'wander', 'circl', 'feel', 'truli', 'terribl', 'have', 'notic', 'peculiar', 'veget', 'all', 'look', 'grass', 'dozen', 'differ', 'plant', 'speci', 'and', 'imagin', 'hundr', 'year', 'later', 'whenif', 'soilth', 'smith', 'never', 'had', 'no', 'one', 'everi', 'often', 'find', 'spot', 'face', 'marbl', 'tileswoodthi', '5', 'yearold', 'sentenc', 'incred', 'accur', 'beauti', 'descriptioni', 'visit', 'websit', 'last', '3', 'year', 'so', 'whoever', 'read', 'mayb', 'even', 'rememb', 'i', 'highli', 'doubt', 'hi', '700049', '700057when', 'garden', '1030', 'pm', 'write', 'song', 'sing', 'togeth', 'dozen', 'cricket', 'play', 'acoust', 'guitarthi', 'intpish', 'thread', 'i', 'ever', 'seeni', 'would', 'abl', 'look', 'paint', 'entir', 'life', 'i', 'knew', 'i', 'pick', 'human', 'beingi', 'draw', 'background', 'anim', 'i', 'work', 'right', 'mar', 'but', 'i', 'felt', 'oblig', 'make', 'mark', 'watneyx92', 'postcard', 'd', 'if', 'read', 'booki', 'start', 'make', 'comic', 'turtl', 'gordon', 'unicorn', 'chime', 'see', 'two', 'first', 'stori', 'recent', 'i', 'start', 'post', 'comic', 'two', 'friend', 'turtl', 'gordon', 'unicorn', 'chime', 'befor', 'i', 'post', 'stuff', 'interest', 'i', 'tri', 'includ', 'worksprob', 'could', 'work', 'togeth', 'new', 'model', 'i', 'expert', 'abrupt', 'explos', 'laughter', 'upon', 'variou', 'weird', 'stuff', 'that', 'happen', 'peculiar', 'sens', 'humor', 'peculiar', 'muchhellooo', 'nah', 'touch', 'everyon', 'think', 'scare', 'sad', 'true', 'fact', 'absolut', 'neutral', 'and', 'kitten', 'actual', 'realli', 'like', 'pat', 'hug', 'onlywel', 'kind', 'as', 'alreadi', 'mention', 'sometim', 'ni', 'hard', 'convey', 'complex', 'stuff', 'pop', 'head', 'whimsic', 'compil', 'shape', 'pictur', 'wordsi', 'think', 'kitten', 'would', 'appropri', '376562367034good', 'night', 'everyon', 'even', 'someon', 'morn', 'right', 'night', 'alway', 'supersed', 'morn', 'and', 'peopl', 'say', 'good', 'night', 'order', 'meet', 'next', 'day', 'oh', 'movi', 'it', 'awesom', 'thank', 'hope', 'good', 'sleep', 'air', 'anyway', 'i', 'wish', 'good', 'night', 'next', 'night', 'ahead', 'hope', 'land', 'good', 'peopl', 'deserv', 'good358882', '358890well', 'peopl', 'may', 'wonder', 'issu', 'topic', 'find', 'respons', 'help', 'anyway', 'thi', 'final', 'someon', 'mention', 'i', 'still', 'see', 'creaturesfac', 'maze', 'variou', 'random', 'pattern', 'it', 'amus', 'sometim', 'it', 'handi', 'skill', 'boredoh', 'i', 'know', 'what', 'piti', 'whi', 'sacrific', 'whole', 'supermarket', 'we', 'decid', 'walmart', 'best', 'i', 'think', 'biggest', 'would', 'greatyippi', 'here', 'go', '357002', 'he', 'think', 'fire', 'delici', 'should', 'i', 'sacrific', 'tofu', 'i', 'like', 'wast', 'foodi', 'think', 'creator', 'thread', 'care', 'go', '3', 'year', 'heh', 'i', 'understand', 'with', 'given', 'languagesyessss', 'adventur', 'time', 'di', 'get', 'angri', 'quit', 'rare', 'i', 'safer', 'surround', 'peopl', 'go', 'somewher', 'els', 'it', 'imposs', 'hide', 'suppress', 'anger', 'way', 'get', 'rid', 'feel', 'burstiv', 'never', 'like', 'anyth', 'fake', 'bad', 'actuallyhug', 'given', 'chosen', 'one', 'chosen', 'there', 'quit', 'though349890yup', 'right', 'cours', 'comfort', 'but', 'human', 'race', 'surviv', 'thank', 'women', 'abil', 'give', 'birth', 'human', 'be', 'it', 'work', 'thousand', 'year', 'whi', 'chang', 'besid', 'arethat', 'happen', 'and', 'occur', 'often', 'peopl', 'use', 'result', 'extrem', 'precis', 'elabor', 'onlin', 'test', 'basi', 'determin', 'one', 'type', 'both', 'visual', 'languag', 'art', 'more246386i', 'studi', 'graphic', 'design', 'i', 'realli', 'enjoy', 'what', 'interest', 'field', 'abil', 'gener', 'idea', 'solv', 'problem', 'much', 'import', 'possess', 'specificalexxxandra97', 'deviantart236994', 'alway', 'readi', 'disciplin', 'intimid', 'precis', 'sibl', 'offenderworld', 'domin', 'shoot', 'peopl', 'head', 'whi', 'oh', 'right', 'intj', 'alway', 'must', 'characteris', 'word', 'i', 'show', 'badli', 'reaction', '221226218106istp']\n"
          ]
        }
      ]
    },
    {
      "cell_type": "code",
      "source": [
        "# Lemmatisation\n",
        "#by NLTK Wordnet\n",
        "nltk.download('wordnet')\n",
        "\n",
        "from nltk.stem import WordNetLemmatizer\n",
        "\n",
        "lemmatizer = WordNetLemmatizer()\n",
        "\n",
        "def lemmatisation(x, lemmatizer):\n",
        "  return [lemmatizer.lemmatize(word) for word in x]\n",
        "\n",
        "training_posts_after_lemmatisation = [lemmatisation(post, lemmatizer) for post in training_posts_after_stemming]\n",
        "testing_posts_after_lemmatisation = [lemmatisation(post, lemmatizer) for post in testing_posts_after_stemming]\n"
      ],
      "metadata": {
        "id": "9SuwSmz5kyaG",
        "outputId": "b649fb53-4ade-42f0-e424-1c2bb556a280",
        "colab": {
          "base_uri": "https://localhost:8080/"
        }
      },
      "execution_count": 45,
      "outputs": [
        {
          "output_type": "stream",
          "name": "stdout",
          "text": [
            "[nltk_data] Downloading package wordnet to /root/nltk_data...\n",
            "[nltk_data]   Package wordnet is already up-to-date!\n",
            "['intj', 'moments', 'sportscenter', 'top', 'ten', 'plays', 'pranksWhat', 'lifechanging', 'experience', 'life', 'On', 'repeat', 'todayMay', 'PerC', 'Experience', 'immerse', 'youThe', 'last', 'thing', 'INFJ', 'friend', 'posted', 'facebook', 'committing', 'suicide', 'next', 'day', 'Rest', 'peace', 'ENFJ7', 'Sorry', 'hear', 'distress', 'Its', 'natural', 'relationship', 'perfection', 'time', 'every', 'moment', 'existence', 'Try', 'figure', 'hard', 'times', 'times', 'growth', 'as84389', '84390', 'Welcome', 'stuff', 'Game', 'Set', 'MatchProzac', 'wellbrutin', 'least', 'thirty', 'minutes', 'moving', 'legs', 'I', 'mean', 'moving', 'sitting', 'desk', 'chair', 'weed', 'moderation', 'maybe', 'try', 'edibles', 'healthier', 'alternativeBasically', 'three', 'items', 'determined', 'type', 'whichever', 'types', 'would', 'likely', 'use', 'given', 'types', 'cognitive', 'functions', 'whatnot', 'left', 'byAll', 'things', 'moderation', 'Sims', 'indeed', 'video', 'game', 'good', 'Note', 'good', 'somewhat', 'subjective', 'I', 'completely', 'promoting', 'death', 'given', 'SimDear', 'ENFP', 'What', 'favorite', 'video', 'games', 'growing', 'current', 'favorite', 'video', 'games', 'cool', 'appears', 'late', 'sadTheres', 'someone', 'everyoneWait', 'I', 'thought', 'confidence', 'good', 'thingI', 'cherish', 'time', 'solitude', 'bc', 'revel', 'within', 'inner', 'world', 'whereas', 'time', 'would', 'workin', 'enjoy', 'time', 'Dont', 'worry', 'people', 'always', 'around', 'toYo', 'entp', 'ladies', 'complimentary', 'personalitywell', 'hey', 'main', 'social', 'outlet', 'xbox', 'live', 'conversations', 'even', 'verbally', 'fatigue', 'quickly', 'I', 'really', 'part', '146', '250', 'thread', 'requires', 'meGet', 'high', 'backyard', 'roast', 'eat', 'marshmellows', 'backyard', 'conversing', 'something', 'intellectual', 'followed', 'massages', 'kisses', 'many', 'bs', 'sentence', 'How', 'could', 'Think', 'BBanned', 'watching', 'movies', 'corner', 'duncesBanned', 'Health', 'class', 'clearly', 'taught', 'nothing', 'peer', 'pressureBanned', 'whole', 'host', 'reasons', 'Two', 'baby', 'deer', 'left', 'right', 'munching', 'beetle', 'middle', '2', 'Using', 'blood', 'two', 'cavemen', 'diary', 'todays', 'latest', 'happenings', 'designated', 'cave', 'diary', 'wall', '3', 'I', 'see', 'pokemon', 'world', 'infj', 'society', 'everyone', 'becomes', 'optimist49142', 'artists', 'artists', 'draw', 'Its', 'idea', 'counts', 'forming', 'something', 'like', 'signatureWelcome', 'robot', 'ranks', 'person', 'downed', 'selfesteem', 'cuz', 'I', 'avid', 'signature', 'artist', 'like', 'proudBanned', 'taking', 'room', 'bed', 'Ya', 'got', 'learn', 'share', 'roaches', 'much', 'thundering', 'grumbling', 'kind', 'storm', 'yepAhh', 'old', 'high', 'school', 'music', 'I', 'heard', 'ages', 'failed', 'public', 'speaking', 'class', 'years', 'ago', 'I', 'sort', 'learned', 'I', 'could', 'better', 'I', 'position', 'A', 'big', 'part', 'failure', 'overloading', 'tooI', 'like', 'persons', 'mentality', 'Hes', 'confirmed', 'INTJ', 'way', 'Denver', 'area', 'start', 'new', 'life']\n",
            "['I', 'finding', 'lack', 'posts', 'alarmingSex', 'boring', 'position', 'often', 'For', 'example', 'girlfriend', 'currently', 'environment', 'creatively', 'use', 'cowgirl', 'missionary', 'There', 'enoughGiving', 'new', 'meaning', 'Game', 'theoryHello', 'ENTP', 'Grin', 'Thats', 'takes', 'Than', 'converse', 'flirting', 'I', 'acknowledge', 'presence', 'return', 'words', 'smooth', 'wordplay', 'cheeky', 'grinsThis', 'Lack', 'Balance', 'Hand', 'Eye', 'CoordinationReal', 'IQ', 'test', 'I', 'score', '127', 'Internet', 'IQ', 'tests', 'funny', 'I', 'score', '140s', 'higher', 'Now', 'like', 'former', 'responses', 'thread', 'I', 'mention', 'I', 'believe', 'IQ', 'test', 'Before', 'banishYou', 'know', 'ENTP', 'vanish', 'site', 'year', 'half', 'return', 'find', 'people', 'still', 'commenting', 'posts', 'liking', 'ideasthoughts', 'You', 'know', 'ENTP', 'think', 'things', 'sometimes', 'I', 'go', 'old', 'Sherlock', 'Holmes', 'quote', 'Perhaps', 'special', 'knowledge', 'special', 'powers', 'like', 'rather', 'encourages', 'seek', 'complexcheshirewolftumblrcom', 'So', 'I', 'D400000', 'postNot', 'really', 'I', 'never', 'thought', 'EI', 'JP', 'real', 'functions', 'I', 'judge', 'I', 'use', 'I', 'use', 'Ne', 'Ti', 'dominates', 'Fe', 'emotions', 'rarely', 'Si', 'I', 'use', 'Ni', 'due', 'strengthYou', 'know', 'though', 'That', 'ingenious', 'After', 'saying', 'I', 'really', 'try', 'see', 'happens', 'playing', 'first', 'person', 'shooter', 'back', 'drive', 'around', 'I', 'see', 'look', 'onout', 'rock', 'paper', 'best', 'It', 'makes', 'lol', 'You', 'guys', 'lucky', 'D', 'I', 'really', 'high', 'tumblr', 'systemSo', 'hear', 'new', 'first', 'person', 'shooter', 'game', 'I', 'rocking', 'hell', 'soundtrack', 'auto', 'sound', 'equipment', 'shake', 'heavens', 'We', 'managed', 'put', 'couple', 'PS3s', 'inNo', 'The', 'way', 'connected', 'things', 'Ne', 'Ne', 'dominates', 'aware', 'environments', 'Se', 'dominates', 'Example', 'Shawn', 'Spencer', 'Patrick', 'Jane', 'Both', 'ENTPsWell', 'charlie', 'I', 'first', 'admit', 'I', 'get', 'jealous', 'like', 'I', 'chalk', '4w3', 'heart', 'mixed', 'dominate', '7w8', '7s', '8s', 'like', 'noticed', '4s', 'like', 'known', 'sameD', 'I', 'upload', 'clip', 'mic', 'away', 'mouth', 'Than', 'hear', 'anything', 'Ninja', 'Assassin', 'style', 'splatterTik', 'Tok', 'really', 'great', 'song', 'As', 'long', 'mental', 'block', 'singer', 'I', 'love', 'beat', 'makes', 'bouncedropio', 'v1swck0', 'D', 'Mic', 'really', 'close', 'mouth', 'smokin', 'aces', 'assassins', 'ball', 'playing', 'backgroundSociable', 'extrovert', 'I', 'extrovert', 'I', 'sociable', 'Sherlock', 'movie', 'ENTP', 'Normally', 'played', 'EXTJ', 'In', 'books', 'ESTJ', 'As', 'I', 'said', 'The', 'movie', 'looked', 'good', 'except', 'called', 'sherlock', 'holmes', 'I', 'never', 'fear', 'kissing', 'guy', 'I', 'kiss', 'animal', 'So', 'nothing', 'vanish', 'Just', 'personal', 'taste', 'liking', 'The', 'guy', 'I', 'kissed', 'know', 'It', 'thoseSounds', 'pretty', 'much', 'like', 'area', 'I', 'going', 'right', 'trying', 'figure', 'way', 'I', 'life', 'I', 'many', 'things', 'The', 'biggest', 'problem', 'I', 'know', 'I', 'dontD', 'I', 'operating', 'impression', 'female', 'I', 'never', 'looked', 'boxy', 'Okay', 'I', 'help', 'gay', 'friends', 'time', 'developed', 'little', 'crush', 'I', 'get', 'redTT', 'You', 'described', 'I', 'living', 'worst', 'nightmare', 'I', 'trapped', 'place', 'around', 'Only', 'dull', 'woods', 'If', 'I', 'serial', 'killer', 'would', 'perfect', 'place', 'sadly', 'ImTBH', 'biased', 'sounds', 'like', 'shadowed', 'INFP', 'I', 'think', 'maybe', 'hurt', 'turned', 'ESTJ', 'I', 'tell', 'typical', 'INFP', 'traits', 'left', 'overChecks', 'list', 'I', 'sorry', 'It', 'seems', 'came', 'bad', 'time', 'Weve', 'already', 'reached', 'quota', 'INFJs', 'However', 'female', 'I', 'like', 'females', 'I', 'make', 'deal', 'I', 'kick', 'oneIm', 'ANTP', 'Leaning', 'toward', 'E', 'I', 'easy', 'ENTPs', 'INTPs', 'identify', 'I', 'imagine', 'ENTPs', 'interrogations', 'would', 'go', 'little', 'bit', 'like', 'Jacks', '24', 'except', 'mechanical', 'Rigging', 'shock', 'treatment', 'equipment', 'abandoned', 'building', 'old', 'car', 'batty', 'jumperIt', 'compliment', 'Trust', 'I', 'psychopathic', 'D', 'except', 'I', 'emoticons', 'Theyre', 'weird', 'ones', 'Like', 'laughing', 'I', 'get', 'hurt', 'people', 'running', 'lawn', 'mower', 'Its', 'like', 'theme', 'I', 'live', 'I', 'know', 'heart', 'I', 'usual', 'leave', 'thing', 'ends', 'But', 'mean', 'time', 'In', 'times', 'You', 'work', 'thing', 'I', 'work', 'D', 'D', 'I', 'MBP', 'Pleasure', 'meet', 'youDamn', 'need', 'trust', 'instincts', 'I', 'would', 'closer', 'I', 'going', 'say', 'INFPEXFP', 'Leaning', 'toward', 'S', 'way', 'responded', 'D', 'My', 'friends', 'even', 'gay', 'lesbian', 'ones', 'always', 'adviceI', 'bow', 'entp', 'masters', 'ENTPs', 'great', 'If', 'ENTPs', 'I', 'would', 'able', 'build', 'I', 'building', 'Duck', 'Duck', 'Duck', 'ShotgunWhat', 'Me', 'I', 'never', 'Because', 'hard', 'sad', 'losing', 'someone', 'like', 'knew', 'right', 'give', 'big', 'pat', 'back', 'awesome', 'always', 'correctOh', 'tell', 'stupid', 'I', 'know', 'That', 'I', 'play', 'makes', 'laugh', 'D', 'As', 'I', 'going', 'Neuropsychology', 'I', 'psychologistD', 'I', 'Nightowl', 'I', 'wake', '67pm', 'stay', 'awake', '101130amPersonal', 'opinion', 'backed', 'theory', 'would', 'suggest', 'INTPs', 'socially', 'difficult', 'While', 'INTJs', 'socially', 'indifferent', 'use', 'social', 'situations', 'need', 'arisesPersonal', 'stocks', 'I', 'desktop', 'I', 'downloaded', 'random', 'stock', 'sites', 'stock', 'photobucketsIll', 'tell', 'I', 'open', 'photoshop', 'Glad', 'like', 'staticD', 'Thanks', 'Made', 'friend', 'Several', 'hours', 'work', 'I', 'constructed', 'every', 'line', 'Static', 'I', 'get', 'avatar', 'later', 'fellow', 'teammates', 'doesntPsychologist', 'keep', 'around', 'long', 'enough', 'diagnosis', 'I', 'like', 'toy', 'What', 'I', 'diagnosis', 'psychologist', 'friends', 'friends', 'tell', 'I']\n",
            "['Good', 'course', 'I', 'say', 'I', 'know', 'blessing', 'curseDoes', 'absolutely', 'positive', 'best', 'friend', 'could', 'amazing', 'couple', 'count', 'If', 'yes', 'Or', 'I', 'could', 'madly', 'love', 'case', 'I', 'reconciled', 'feelings', 'atNo', 'I', 'didnt', 'thank', 'linkSocalled', 'TiSi', 'loop', 'stem', 'current', 'topicobsession', 'deadly', 'Its', 'like', 'stuck', 'thoughts', 'mind', 'wanders', 'circles', 'Feels', 'truly', 'terrible', 'Have', 'noticed', 'peculiar', 'vegetation', 'All', 'look', 'grass', 'dozens', 'different', 'plant', 'species', 'And', 'imagine', 'hundreds', 'years', 'later', 'whenif', 'soilThe', 'Smiths', 'Never', 'Had', 'No', 'One', 'EverI', 'often', 'find', 'spotting', 'faces', 'marble', 'tileswoodThis', '5', 'yearold', 'sentence', 'incredibly', 'accurate', 'beautiful', 'descriptionI', 'visited', 'website', 'last', '3', 'years', 'So', 'whoever', 'reads', 'maybe', 'even', 'remembers', 'I', 'highly', 'doubt', 'hi', '700049', '700057When', 'garden', '1030', 'PM', 'writing', 'songs', 'sing', 'together', 'dozens', 'crickets', 'playing', 'acoustic', 'guitarThis', 'INTPish', 'thread', 'I', 'ever', 'seenI', 'would', 'able', 'look', 'painting', 'entire', 'life', 'I', 'knew', 'I', 'picked', 'human', 'beingI', 'drawing', 'background', 'animation', 'I', 'working', 'right', 'Mars', 'But', 'I', 'felt', 'obligated', 'make', 'Mark', 'Watneyx92s', 'postcard', 'D', 'If', 'read', 'bookI', 'started', 'make', 'comics', 'turtle', 'Gordon', 'unicorn', 'Chimes', 'see', 'two', 'first', 'stories', 'Recently', 'I', 'started', 'post', 'comics', 'two', 'friends', 'turtle', 'Gordon', 'unicorn', 'Chimes', 'Before', 'I', 'posted', 'stuff', 'interested', 'I', 'try', 'include', 'worksProbably', 'could', 'work', 'together', 'new', 'model', 'I', 'expert', 'abrupt', 'explosions', 'laughter', 'upon', 'various', 'weird', 'stuff', 'That', 'happens', 'peculiar', 'sense', 'humor', 'peculiar', 'muchHellooo', 'Nah', 'touch', 'Everyone', 'thinks', 'scared', 'sad', 'true', 'fact', 'absolutely', 'neutral', 'And', 'kitten', 'actually', 'really', 'likes', 'patting', 'hugs', 'onlyWell', 'kind', 'As', 'already', 'mentioned', 'sometimes', 'Ni', 'hard', 'convey', 'complex', 'stuff', 'pops', 'head', 'whimsical', 'compilations', 'shapes', 'pictures', 'wordsI', 'think', 'kitten', 'would', 'appropriate', '376562367034GOOD', 'NIGHT', 'everyone', 'Even', 'someone', 'morning', 'right', 'nights', 'always', 'supersede', 'mornings', 'And', 'people', 'say', 'good', 'night', 'order', 'meet', 'next', 'day', 'Oh', 'movie', 'Its', 'awesome', 'Thank', 'Hope', 'good', 'sleep', 'air', 'anyway', 'I', 'wishing', 'good', 'night', 'next', 'night', 'ahead', 'hopefully', 'land', 'Good', 'people', 'deserve', 'good358882', '358890Well', 'people', 'may', 'wondering', 'issue', 'topic', 'find', 'response', 'helpful', 'anyway', 'This', 'Finally', 'someone', 'mentioned', 'I', 'still', 'see', 'creaturesfaces', 'maze', 'various', 'random', 'patterns', 'It', 'amusing', 'sometimes', 'Its', 'handy', 'skill', 'boredOh', 'I', 'know', 'What', 'pity', 'Why', 'sacrifice', 'whole', 'supermarket', 'We', 'decide', 'Walmart', 'best', 'I', 'think', 'biggest', 'would', 'greatyippy', 'Here', 'go', '357002', 'He', 'thinks', 'fire', 'delicious', 'Should', 'I', 'sacrifice', 'tofu', 'I', 'like', 'waste', 'foodI', 'think', 'creator', 'thread', 'cares', 'going', '3', 'years', 'Heh', 'I', 'understand', 'With', 'given', 'languagesYessss', 'Adventure', 'Time', 'DI', 'get', 'angry', 'quite', 'rarely', 'I', 'safer', 'surrounding', 'people', 'go', 'somewhere', 'else', 'Its', 'impossible', 'hide', 'suppress', 'anger', 'way', 'get', 'rid', 'feeling', 'burstIve', 'never', 'liked', 'Anything', 'fake', 'bad', 'actuallyHugs', 'given', 'chosen', 'ones', 'Chosen', 'There', 'quite', 'though349890Yup', 'right', 'course', 'comfortable', 'But', 'Human', 'race', 'survived', 'thankfully', 'womens', 'ability', 'give', 'birth', 'human', 'beings', 'It', 'worked', 'thousands', 'years', 'Why', 'change', 'Besides', 'areThat', 'happens', 'And', 'occurs', 'often', 'people', 'use', 'results', 'extremely', 'precise', 'elaborate', 'online', 'tests', 'basis', 'determining', 'ones', 'type', 'Both', 'visual', 'language', 'arts', 'more246386I', 'study', 'graphic', 'design', 'I', 'really', 'enjoy', 'What', 'interesting', 'field', 'ability', 'generate', 'ideas', 'solve', 'problems', 'much', 'important', 'possession', 'specificAlexxxandra97', 'DeviantArt236994', 'always', 'ready', 'discipline', 'intimidate', 'precise', 'siblings', 'offenderWorld', 'domination', 'Shooting', 'people', 'head', 'Why', 'Oh', 'right', 'INTJs', 'always', 'must', 'characterised', 'words', 'I', 'show', 'badly', 'reaction', '221226218106ISTP']\n"
          ]
        }
      ]
    },
    {
      "cell_type": "code",
      "source": [
        "for post in training_posts_after_lemmatisation[0:3]:\n",
        "  print(post)"
      ],
      "metadata": {
        "id": "uwJ4g3gYp_dG",
        "outputId": "5f6ae845-721d-43be-ccdc-43d230fd786f",
        "colab": {
          "base_uri": "https://localhost:8080/"
        }
      },
      "execution_count": 46,
      "outputs": [
        {
          "output_type": "stream",
          "name": "stdout",
          "text": [
            "['intj', 'moment', 'sportscent', 'top', 'ten', 'play', 'prankswhat', 'lifechang', 'experi', 'life', 'on', 'repeat', 'todaymay', 'perc', 'experi', 'immers', 'youth', 'last', 'thing', 'infj', 'friend', 'post', 'facebook', 'commit', 'suicid', 'next', 'day', 'rest', 'peac', 'enfj7', 'sorri', 'hear', 'distress', 'it', 'natur', 'relationship', 'perfect', 'time', 'everi', 'moment', 'exist', 'tri', 'figur', 'hard', 'time', 'time', 'growth', 'as84389', '84390', 'welcom', 'stuff', 'game', 'set', 'matchprozac', 'wellbrutin', 'least', 'thirti', 'minut', 'move', 'leg', 'i', 'mean', 'move', 'sit', 'desk', 'chair', 'weed', 'moder', 'mayb', 'tri', 'edibl', 'healthier', 'alternativebas', 'three', 'item', 'determin', 'type', 'whichev', 'type', 'would', 'like', 'use', 'given', 'type', 'cognit', 'function', 'whatnot', 'left', 'byall', 'thing', 'moder', 'sim', 'inde', 'video', 'game', 'good', 'note', 'good', 'somewhat', 'subject', 'i', 'complet', 'promot', 'death', 'given', 'simdear', 'enfp', 'what', 'favorit', 'video', 'game', 'grow', 'current', 'favorit', 'video', 'game', 'cool', 'appear', 'late', 'sadther', 'someon', 'everyonewait', 'i', 'thought', 'confid', 'good', 'thingi', 'cherish', 'time', 'solitud', 'bc', 'revel', 'within', 'inner', 'world', 'wherea', 'time', 'would', 'workin', 'enjoy', 'time', 'dont', 'worri', 'peopl', 'alway', 'around', 'toyo', 'entp', 'ladi', 'complimentari', 'personalitywel', 'hey', 'main', 'social', 'outlet', 'xbox', 'live', 'convers', 'even', 'verbal', 'fatigu', 'quick', 'i', 'realli', 'part', '146', '250', 'thread', 'requir', 'meget', 'high', 'backyard', 'roast', 'eat', 'marshmellow', 'backyard', 'convers', 'someth', 'intellectu', 'follow', 'massag', 'kiss', 'mani', 'b', 'sentenc', 'how', 'could', 'think', 'bban', 'watch', 'movi', 'corner', 'duncesban', 'health', 'class', 'clear', 'taught', 'noth', 'peer', 'pressureban', 'whole', 'host', 'reason', 'two', 'babi', 'deer', 'left', 'right', 'munch', 'beetl', 'middl', '2', 'use', 'blood', 'two', 'caveman', 'diari', 'today', 'latest', 'happen', 'design', 'cave', 'diari', 'wall', '3', 'i', 'see', 'pokemon', 'world', 'infj', 'societi', 'everyon', 'becom', 'optimist49142', 'artist', 'artist', 'draw', 'it', 'idea', 'count', 'form', 'someth', 'like', 'signaturewelcom', 'robot', 'rank', 'person', 'down', 'selfesteem', 'cuz', 'i', 'avid', 'signatur', 'artist', 'like', 'proudban', 'take', 'room', 'bed', 'ya', 'got', 'learn', 'share', 'roach', 'much', 'thunder', 'grumbl', 'kind', 'storm', 'yepahh', 'old', 'high', 'school', 'music', 'i', 'heard', 'age', 'fail', 'public', 'speak', 'class', 'year', 'ago', 'i', 'sort', 'learn', 'i', 'could', 'better', 'i', 'posit', 'a', 'big', 'part', 'failur', 'overload', 'tooi', 'like', 'person', 'mental', 'he', 'confirm', 'intj', 'way', 'denver', 'area', 'start', 'new', 'life']\n",
            "['i', 'find', 'lack', 'post', 'alarmingsex', 'bore', 'posit', 'often', 'for', 'exampl', 'girlfriend', 'current', 'environ', 'creativ', 'use', 'cowgirl', 'missionari', 'there', 'enoughgiv', 'new', 'mean', 'game', 'theoryhello', 'entp', 'grin', 'that', 'take', 'than', 'convers', 'flirt', 'i', 'acknowledg', 'presenc', 'return', 'word', 'smooth', 'wordplay', 'cheeki', 'grinsthi', 'lack', 'balanc', 'hand', 'eye', 'coordinationr', 'iq', 'test', 'i', 'score', '127', 'internet', 'iq', 'test', 'funni', 'i', 'score', '140s', 'higher', 'now', 'like', 'former', 'respons', 'thread', 'i', 'mention', 'i', 'believ', 'iq', 'test', 'befor', 'banishyou', 'know', 'entp', 'vanish', 'site', 'year', 'half', 'return', 'find', 'peopl', 'still', 'comment', 'post', 'like', 'ideasthought', 'you', 'know', 'entp', 'think', 'thing', 'sometim', 'i', 'go', 'old', 'sherlock', 'holm', 'quot', 'perhap', 'special', 'knowledg', 'special', 'power', 'like', 'rather', 'encourag', 'seek', 'complexcheshirewolftumblrcom', 'so', 'i', 'd400000', 'postnot', 'realli', 'i', 'never', 'thought', 'ei', 'jp', 'real', 'function', 'i', 'judg', 'i', 'use', 'i', 'use', 'ne', 'ti', 'domin', 'fe', 'emot', 'rare', 'si', 'i', 'use', 'ni', 'due', 'strengthyou', 'know', 'though', 'that', 'ingeni', 'after', 'say', 'i', 'realli', 'tri', 'see', 'happen', 'play', 'first', 'person', 'shooter', 'back', 'drive', 'around', 'i', 'see', 'look', 'onout', 'rock', 'paper', 'best', 'it', 'make', 'lol', 'you', 'guy', 'lucki', 'd', 'i', 'realli', 'high', 'tumblr', 'systemso', 'hear', 'new', 'first', 'person', 'shooter', 'game', 'i', 'rock', 'hell', 'soundtrack', 'auto', 'sound', 'equip', 'shake', 'heaven', 'we', 'manag', 'put', 'coupl', 'ps3s', 'inno', 'the', 'way', 'connect', 'thing', 'ne', 'ne', 'domin', 'awar', 'environ', 'se', 'domin', 'exampl', 'shawn', 'spencer', 'patrick', 'jane', 'both', 'entpswel', 'charli', 'i', 'first', 'admit', 'i', 'get', 'jealous', 'like', 'i', 'chalk', '4w3', 'heart', 'mix', 'domin', '7w8', '7', '8', 'like', 'notic', '4', 'like', 'known', 'same', 'i', 'upload', 'clip', 'mic', 'away', 'mouth', 'than', 'hear', 'anyth', 'ninja', 'assassin', 'style', 'splattertik', 'tok', 'realli', 'great', 'song', 'a', 'long', 'mental', 'block', 'singer', 'i', 'love', 'beat', 'make', 'bouncedropio', 'v1swck0', 'd', 'mic', 'realli', 'close', 'mouth', 'smokin', 'ace', 'assassin', 'ball', 'play', 'backgroundsoci', 'extrovert', 'i', 'extrovert', 'i', 'sociabl', 'sherlock', 'movi', 'entp', 'normal', 'play', 'extj', 'in', 'book', 'estj', 'a', 'i', 'said', 'the', 'movi', 'look', 'good', 'except', 'call', 'sherlock', 'holm', 'i', 'never', 'fear', 'kiss', 'guy', 'i', 'kiss', 'anim', 'so', 'noth', 'vanish', 'just', 'person', 'tast', 'like', 'the', 'guy', 'i', 'kiss', 'know', 'it', 'thosesound', 'pretti', 'much', 'like', 'area', 'i', 'go', 'right', 'tri', 'figur', 'way', 'i', 'life', 'i', 'mani', 'thing', 'the', 'biggest', 'problem', 'i', 'know', 'i', 'dontd', 'i', 'oper', 'impress', 'femal', 'i', 'never', 'look', 'boxi', 'okay', 'i', 'help', 'gay', 'friend', 'time', 'develop', 'littl', 'crush', 'i', 'get', 'redtt', 'you', 'describ', 'i', 'live', 'worst', 'nightmar', 'i', 'trap', 'place', 'around', 'onli', 'dull', 'wood', 'if', 'i', 'serial', 'killer', 'would', 'perfect', 'place', 'sad', 'imtbh', 'bias', 'sound', 'like', 'shadow', 'infp', 'i', 'think', 'mayb', 'hurt', 'turn', 'estj', 'i', 'tell', 'typic', 'infp', 'trait', 'left', 'overcheck', 'list', 'i', 'sorri', 'it', 'seem', 'came', 'bad', 'time', 'weve', 'alreadi', 'reach', 'quota', 'infj', 'howev', 'femal', 'i', 'like', 'femal', 'i', 'make', 'deal', 'i', 'kick', 'oneim', 'antp', 'lean', 'toward', 'e', 'i', 'easi', 'entp', 'intp', 'identifi', 'i', 'imagin', 'entp', 'interrog', 'would', 'go', 'littl', 'bit', 'like', 'jack', '24', 'except', 'mechan', 'rig', 'shock', 'treatment', 'equip', 'abandon', 'build', 'old', 'car', 'batti', 'jumperit', 'compliment', 'trust', 'i', 'psychopath', 'd', 'except', 'i', 'emoticon', 'theyr', 'weird', 'one', 'like', 'laugh', 'i', 'get', 'hurt', 'peopl', 'run', 'lawn', 'mower', 'it', 'like', 'theme', 'i', 'live', 'i', 'know', 'heart', 'i', 'usual', 'leav', 'thing', 'end', 'but', 'mean', 'time', 'in', 'time', 'you', 'work', 'thing', 'i', 'work', 'd', 'd', 'i', 'mbp', 'pleasur', 'meet', 'youdamn', 'need', 'trust', 'instinct', 'i', 'would', 'closer', 'i', 'go', 'say', 'infpexfp', 'lean', 'toward', 's', 'way', 'respond', 'd', 'my', 'friend', 'even', 'gay', 'lesbian', 'one', 'alway', 'advicei', 'bow', 'entp', 'master', 'entp', 'great', 'if', 'entp', 'i', 'would', 'abl', 'build', 'i', 'build', 'duck', 'duck', 'duck', 'shotgunwhat', 'me', 'i', 'never', 'becaus', 'hard', 'sad', 'lose', 'someon', 'like', 'knew', 'right', 'give', 'big', 'pat', 'back', 'awesom', 'alway', 'correctoh', 'tell', 'stupid', 'i', 'know', 'that', 'i', 'play', 'make', 'laugh', 'd', 'a', 'i', 'go', 'neuropsycholog', 'i', 'psychologistd', 'i', 'nightowl', 'i', 'wake', '67pm', 'stay', 'awak', '101130amperson', 'opinion', 'back', 'theori', 'would', 'suggest', 'intp', 'social', 'difficult', 'while', 'intj', 'social', 'indiffer', 'use', 'social', 'situat', 'need', 'arisesperson', 'stock', 'i', 'desktop', 'i', 'download', 'random', 'stock', 'site', 'stock', 'photobucketsil', 'tell', 'i', 'open', 'photoshop', 'glad', 'like', 'staticd', 'thank', 'made', 'friend', 'sever', 'hour', 'work', 'i', 'construct', 'everi', 'line', 'static', 'i', 'get', 'avatar', 'later', 'fellow', 'teammat', 'doesntpsychologist', 'keep', 'around', 'long', 'enough', 'diagnosi', 'i', 'like', 'toy', 'what', 'i', 'diagnosi', 'psychologist', 'friend', 'friend', 'tell', 'i']\n",
            "['good', 'cours', 'i', 'say', 'i', 'know', 'bless', 'cursedo', 'absolut', 'posit', 'best', 'friend', 'could', 'amaz', 'coupl', 'count', 'if', 'yes', 'or', 'i', 'could', 'mad', 'love', 'case', 'i', 'reconcil', 'feel', 'atno', 'i', 'didnt', 'thank', 'linksocal', 'tisi', 'loop', 'stem', 'current', 'topicobsess', 'dead', 'it', 'like', 'stuck', 'thought', 'mind', 'wander', 'circl', 'feel', 'truli', 'terribl', 'have', 'notic', 'peculiar', 'veget', 'all', 'look', 'grass', 'dozen', 'differ', 'plant', 'speci', 'and', 'imagin', 'hundr', 'year', 'later', 'whenif', 'soilth', 'smith', 'never', 'had', 'no', 'one', 'everi', 'often', 'find', 'spot', 'face', 'marbl', 'tileswoodthi', '5', 'yearold', 'sentenc', 'incred', 'accur', 'beauti', 'descriptioni', 'visit', 'websit', 'last', '3', 'year', 'so', 'whoever', 'read', 'mayb', 'even', 'rememb', 'i', 'high', 'doubt', 'hi', '700049', '700057when', 'garden', '1030', 'pm', 'write', 'song', 'sing', 'togeth', 'dozen', 'cricket', 'play', 'acoust', 'guitarthi', 'intpish', 'thread', 'i', 'ever', 'seeni', 'would', 'abl', 'look', 'paint', 'entir', 'life', 'i', 'knew', 'i', 'pick', 'human', 'beingi', 'draw', 'background', 'anim', 'i', 'work', 'right', 'mar', 'but', 'i', 'felt', 'oblig', 'make', 'mark', 'watneyx92', 'postcard', 'd', 'if', 'read', 'booki', 'start', 'make', 'comic', 'turtl', 'gordon', 'unicorn', 'chime', 'see', 'two', 'first', 'stori', 'recent', 'i', 'start', 'post', 'comic', 'two', 'friend', 'turtl', 'gordon', 'unicorn', 'chime', 'befor', 'i', 'post', 'stuff', 'interest', 'i', 'tri', 'includ', 'worksprob', 'could', 'work', 'togeth', 'new', 'model', 'i', 'expert', 'abrupt', 'explos', 'laughter', 'upon', 'various', 'weird', 'stuff', 'that', 'happen', 'peculiar', 'sen', 'humor', 'peculiar', 'muchhellooo', 'nah', 'touch', 'everyon', 'think', 'scare', 'sad', 'true', 'fact', 'absolut', 'neutral', 'and', 'kitten', 'actual', 'realli', 'like', 'pat', 'hug', 'onlywel', 'kind', 'a', 'alreadi', 'mention', 'sometim', 'ni', 'hard', 'convey', 'complex', 'stuff', 'pop', 'head', 'whimsic', 'compil', 'shape', 'pictur', 'wordsi', 'think', 'kitten', 'would', 'appropri', '376562367034good', 'night', 'everyon', 'even', 'someon', 'morn', 'right', 'night', 'alway', 'supersed', 'morn', 'and', 'peopl', 'say', 'good', 'night', 'order', 'meet', 'next', 'day', 'oh', 'movi', 'it', 'awesom', 'thank', 'hope', 'good', 'sleep', 'air', 'anyway', 'i', 'wish', 'good', 'night', 'next', 'night', 'ahead', 'hope', 'land', 'good', 'peopl', 'deserv', 'good358882', '358890well', 'peopl', 'may', 'wonder', 'issu', 'topic', 'find', 'respons', 'help', 'anyway', 'this', 'final', 'someon', 'mention', 'i', 'still', 'see', 'creaturesfac', 'maze', 'various', 'random', 'pattern', 'it', 'amus', 'sometim', 'it', 'handi', 'skill', 'boredoh', 'i', 'know', 'what', 'piti', 'whi', 'sacrific', 'whole', 'supermarket', 'we', 'decid', 'walmart', 'best', 'i', 'think', 'biggest', 'would', 'greatyippi', 'here', 'go', '357002', 'he', 'think', 'fire', 'delici', 'should', 'i', 'sacrific', 'tofu', 'i', 'like', 'wast', 'foodi', 'think', 'creator', 'thread', 'care', 'go', '3', 'year', 'heh', 'i', 'understand', 'with', 'given', 'languagesyessss', 'adventur', 'time', 'di', 'get', 'angri', 'quit', 'rare', 'i', 'safer', 'surround', 'peopl', 'go', 'somewher', 'el', 'it', 'imposs', 'hide', 'suppress', 'anger', 'way', 'get', 'rid', 'feel', 'burstiv', 'never', 'like', 'anyth', 'fake', 'bad', 'actuallyhug', 'given', 'chosen', 'one', 'chosen', 'there', 'quit', 'though349890yup', 'right', 'cours', 'comfort', 'but', 'human', 'race', 'surviv', 'thank', 'woman', 'abil', 'give', 'birth', 'human', 'be', 'it', 'work', 'thousand', 'year', 'whi', 'chang', 'besid', 'arethat', 'happen', 'and', 'occur', 'often', 'peopl', 'use', 'result', 'extrem', 'precis', 'elabor', 'onlin', 'test', 'basi', 'determin', 'one', 'type', 'both', 'visual', 'languag', 'art', 'more246386i', 'studi', 'graphic', 'design', 'i', 'realli', 'enjoy', 'what', 'interest', 'field', 'abil', 'generat', 'idea', 'solv', 'problem', 'much', 'import', 'posse', 'specificalexxxandra97', 'deviantart236994', 'alway', 'readi', 'disciplin', 'intimid', 'precis', 'sibl', 'offenderworld', 'domin', 'shoot', 'peopl', 'head', 'whi', 'oh', 'right', 'intj', 'alway', 'must', 'characteris', 'word', 'i', 'show', 'bad', 'reaction', '221226218106istp']\n"
          ]
        }
      ]
    },
    {
      "cell_type": "markdown",
      "source": [
        "\n",
        "\n",
        "---\n",
        "\n"
      ],
      "metadata": {
        "id": "gIzFi5NK68vc"
      }
    },
    {
      "cell_type": "markdown",
      "source": [
        "# 2 - Input Representation\n"
      ],
      "metadata": {
        "id": "6sAZNIg5927R"
      }
    },
    {
      "cell_type": "markdown",
      "metadata": {
        "id": "daDvAftceIvr"
      },
      "source": [
        "## 2.1. Word Embedding Construction\n",
        "*related to the section 4.1 and 4.3*\n"
      ]
    },
    {
      "cell_type": "code",
      "metadata": {
        "id": "Jw8I1QBk-EhG"
      },
      "source": [
        "# Please comment your code\n",
        "\n"
      ],
      "execution_count": null,
      "outputs": []
    },
    {
      "cell_type": "markdown",
      "metadata": {
        "id": "LNys5HOdISK-"
      },
      "source": [
        "## 2.2. Pretrained Word Embedding\n",
        "*related to the section 4.3*"
      ]
    },
    {
      "cell_type": "code",
      "metadata": {
        "id": "Ae8i7Z2kIef-"
      },
      "source": [
        "# Please comment your code"
      ],
      "execution_count": null,
      "outputs": []
    },
    {
      "cell_type": "markdown",
      "metadata": {
        "id": "T0ap96aeGlIk"
      },
      "source": [
        "## 2.3. Input Concatenation\n",
        "*related to the section 4.3*"
      ]
    },
    {
      "cell_type": "code",
      "metadata": {
        "id": "i2CUCL1cGlI2"
      },
      "source": [
        "# Please comment your code"
      ],
      "execution_count": null,
      "outputs": []
    },
    {
      "cell_type": "markdown",
      "metadata": {
        "id": "LIu_lkJwQ55g"
      },
      "source": [
        "# 3 - Model Implementation"
      ]
    },
    {
      "cell_type": "markdown",
      "metadata": {
        "id": "DpYCL17JKZxl"
      },
      "source": [
        "### 3.1. Build Sequence Model (Bi-directional model)\n",
        "*related to the section 4.4*"
      ]
    },
    {
      "cell_type": "code",
      "metadata": {
        "id": "13eCtR_SLUG6"
      },
      "source": [
        "# Please comment your code"
      ],
      "execution_count": null,
      "outputs": []
    },
    {
      "cell_type": "markdown",
      "metadata": {
        "id": "6BaOiaGRLW7R"
      },
      "source": [
        "### 3.2. Train Sequence Model (Bi-directional model)\n",
        "\n",
        "*related to the section 4.4*\n",
        "\n",
        "Note that it will not be marked if you do not display the Training Loss and the Number of Epochs in the Assignment 1 ipynb.\n"
      ]
    },
    {
      "cell_type": "code",
      "metadata": {
        "id": "lVQnUSX1LZ6C"
      },
      "source": [
        "# Please comment your code"
      ],
      "execution_count": null,
      "outputs": []
    },
    {
      "cell_type": "markdown",
      "metadata": {
        "id": "a4mpRpocePLN"
      },
      "source": [
        "# 4 - Evaluation\n"
      ]
    },
    {
      "cell_type": "markdown",
      "metadata": {
        "id": "lbLBzHObsvvM"
      },
      "source": [
        "## 4.1. Word Embedding Evaluation\n",
        "You are to apply Semantic-Syntactic word relationship tests for the trained word embeddings and visualise the result of Semantic-Syntactic word relationship tests.\n",
        "Note that it will not be marked if you do not display it in the ipynb file.\n"
      ]
    },
    {
      "cell_type": "markdown",
      "metadata": {
        "id": "MSIUsb7qtQEf"
      },
      "source": [
        "(*Please show your empirical evidence and justification*)\n",
        "\n",
        "\n"
      ]
    },
    {
      "cell_type": "code",
      "metadata": {
        "id": "tCrcXwcGsuuo"
      },
      "source": [
        "# Please comment your code"
      ],
      "execution_count": null,
      "outputs": []
    },
    {
      "cell_type": "markdown",
      "metadata": {
        "id": "KEW1zMgVMREr"
      },
      "source": [
        "## 4.2. Performance Evaluation with Data Processing Techiques\n",
        "\n",
        "\n",
        "You are required to evaluate with the testing dataset and provide the table with f1 of test set.\n",
        "Note that it will not be marked if you do not display it in the ipynb file.\n"
      ]
    },
    {
      "cell_type": "markdown",
      "metadata": {
        "id": "oVCF0bwTtRS0"
      },
      "source": [
        "(*Please show your empirical evidence and justification*)\n",
        "\n"
      ]
    },
    {
      "cell_type": "code",
      "metadata": {
        "id": "LPHCb-bneTI9"
      },
      "source": [
        "# Please comment your code"
      ],
      "execution_count": null,
      "outputs": []
    },
    {
      "cell_type": "markdown",
      "metadata": {
        "id": "-gwVpllNoOiY"
      },
      "source": [
        "## 4.3. Performance Evaluation with Different Input\n",
        "\n",
        "\n",
        "You are required to evaluate with the testing dataset and provide the table with f1 of test set.\n",
        "Note that it will not be marked if you do not display it in the ipynb file.\n"
      ]
    },
    {
      "cell_type": "markdown",
      "metadata": {
        "id": "mWS3oonaoOiY"
      },
      "source": [
        "(*Please show your empirical evidence and justification*)"
      ]
    },
    {
      "cell_type": "code",
      "metadata": {
        "id": "FTqc1XdioOiZ"
      },
      "source": [
        "# Please comment your code"
      ],
      "execution_count": null,
      "outputs": []
    },
    {
      "cell_type": "markdown",
      "metadata": {
        "id": "vg08uf3hpyoF"
      },
      "source": [
        "## 4.4. Performance Evaluation with Different Sequence Models\n",
        "\n",
        "\n",
        "You are required to evaluate with the testing dataset and provide the table with f1 of test set.\n",
        "Note that it will not be marked if you do not display it in the ipynb file.\n"
      ]
    },
    {
      "cell_type": "markdown",
      "metadata": {
        "id": "1e_nVbdrpyoK"
      },
      "source": [
        "(*Please show your empirical evidence and justification*)"
      ]
    },
    {
      "cell_type": "code",
      "metadata": {
        "id": "WmbjL4yGpyoK"
      },
      "source": [
        "# Please comment your code"
      ],
      "execution_count": null,
      "outputs": []
    },
    {
      "cell_type": "code",
      "source": [
        ""
      ],
      "metadata": {
        "id": "7YEvlJTPnEqP"
      },
      "execution_count": null,
      "outputs": []
    },
    {
      "cell_type": "code",
      "source": [
        ""
      ],
      "metadata": {
        "id": "wD75F1B_nFLA"
      },
      "execution_count": null,
      "outputs": []
    },
    {
      "cell_type": "markdown",
      "metadata": {
        "id": "P28Z1k36MZuo"
      },
      "source": [
        "## 4.5. HyperParameter Testing\n",
        "*You are required to draw a graph(y-axis: f1, x-axis: epoch) for test set and explain the optimal number of epochs based on the learning rate you have already chosen.* Note that it will not be marked if you do not display it in the ipynb file.\n"
      ]
    },
    {
      "cell_type": "markdown",
      "metadata": {
        "id": "BYzrA_s2tTaz"
      },
      "source": [
        "(*Please show your empirical evidence and justification*)\n",
        "\n"
      ]
    },
    {
      "cell_type": "code",
      "metadata": {
        "id": "wTLyQEeZMZ2f"
      },
      "source": [
        "# Please comment your code"
      ],
      "execution_count": null,
      "outputs": []
    },
    {
      "cell_type": "markdown",
      "source": [
        "#5 - Test your model via Colab Form Fields User Interface"
      ],
      "metadata": {
        "id": "dIfa2nm85H9I"
      }
    },
    {
      "cell_type": "markdown",
      "source": [
        "You are required to design a user interface so that user can input a textual sentence via the colab form fields user interface to get the personality type classification result from your trained model. *You can just modify based on the following Colab Form Fields template*"
      ],
      "metadata": {
        "id": "qrCqpwHD5RG1"
      }
    },
    {
      "cell_type": "code",
      "source": [
        "#@title Personality Type Prediction\n",
        "\n",
        "text = \"\" #@param {type:\"string\"}\n"
      ],
      "metadata": {
        "id": "HO_aV5bz5-ry",
        "colab": {
          "base_uri": "https://localhost:8080/"
        },
        "outputId": "fb90ee04-d344-40c5-c51d-79c2bde53556"
      },
      "execution_count": null,
      "outputs": [
        {
          "output_type": "stream",
          "name": "stdout",
          "text": [
            "Predicted Personality Type: T\n"
          ]
        }
      ]
    },
    {
      "cell_type": "markdown",
      "metadata": {
        "id": "sfv8rWTKPzeb"
      },
      "source": [
        "# Object Oriented Programming codes here"
      ]
    },
    {
      "cell_type": "markdown",
      "metadata": {
        "id": "TS23AjBRSZaX"
      },
      "source": [
        "*You can use multiple code snippets. Just add more if needed* "
      ]
    },
    {
      "cell_type": "code",
      "metadata": {
        "id": "1hVmx4E52dXS"
      },
      "source": [
        "# If you used OOP style, use this section"
      ],
      "execution_count": null,
      "outputs": []
    }
  ]
}