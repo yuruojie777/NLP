{
  "nbformat": 4,
  "nbformat_minor": 0,
  "metadata": {
    "colab": {
      "name": "UNIKEY_COMP5046_Ass1_2022.ipynb",
      "provenance": [],
      "collapsed_sections": [],
      "toc_visible": true,
      "include_colab_link": true
    },
    "kernelspec": {
      "name": "python3",
      "display_name": "Python 3"
    },
    "accelerator": "TPU"
  },
  "cells": [
    {
      "cell_type": "markdown",
      "metadata": {
        "id": "view-in-github",
        "colab_type": "text"
      },
      "source": [
        "<a href=\"https://colab.research.google.com/github/yuruojie777/NLP/blob/main/UNIKEY_COMP5046_Ass1_2022.ipynb\" target=\"_parent\"><img src=\"https://colab.research.google.com/assets/colab-badge.svg\" alt=\"Open In Colab\"/></a>"
      ]
    },
    {
      "cell_type": "markdown",
      "metadata": {
        "id": "MGHoy6KpQDfZ"
      },
      "source": [
        "# 2022 COMP5046 Assignment 1\n",
        "*Make sure you change the file name with your unikey.*"
      ]
    },
    {
      "cell_type": "markdown",
      "metadata": {
        "id": "qTf21j_oQIiD"
      },
      "source": [
        "# Readme\n",
        "*If there is something to be noted for the marker, please mention here.* \n",
        "\n",
        "*If you are planning to implement a program with Object Oriented Programming style, please check the bottom of the this ipynb file*"
      ]
    },
    {
      "cell_type": "markdown",
      "metadata": {
        "id": "iXbQohXLKSgO"
      },
      "source": [
        "***Visualising the comparison of different results is a good way to justify your decision.***"
      ]
    },
    {
      "cell_type": "markdown",
      "source": [
        "# 1 - Data Preprocessing"
      ],
      "metadata": {
        "id": "A7v4GVxo4Dom"
      }
    },
    {
      "cell_type": "markdown",
      "source": [
        "## 1.0. Data Collection [DO NOT MODIFY THIS]"
      ],
      "metadata": {
        "id": "HftyG77k47Y3"
      }
    },
    {
      "cell_type": "code",
      "metadata": {
        "id": "U7C4snIcNl22",
        "colab": {
          "base_uri": "https://localhost:8080/"
        },
        "outputId": "c0e24f65-6d43-426a-9877-b26ce1bac84c"
      },
      "source": [
        "# Code to download file into Colaboratory:\n",
        "!pip install -U -q PyDrive\n",
        "from pydrive.auth import GoogleAuth\n",
        "from pydrive.drive import GoogleDrive\n",
        "from google.colab import auth\n",
        "from oauth2client.client import GoogleCredentials\n",
        "# Authenticate and create the PyDrive client.\n",
        "auth.authenticate_user()\n",
        "gauth = GoogleAuth()\n",
        "gauth.credentials = GoogleCredentials.get_application_default()\n",
        "drive = GoogleDrive(gauth)\n",
        "\n",
        "id = '16g474hdNsaNx0_SnoKuqj2BuwSEGdnbt'\n",
        "downloaded = drive.CreateFile({'id':id}) \n",
        "downloaded.GetContentFile('training_data.csv')  \n",
        "\n",
        "id = '1-7hj0sF3Rc5G6POKdkpbDXm_Q6BWFDPU'\n",
        "downloaded = drive.CreateFile({'id':id}) \n",
        "downloaded.GetContentFile('testing_data.csv')  \n",
        "\n",
        "import pandas as pd\n",
        "training_data = pd.read_csv(\"/content/training_data.csv\")\n",
        "testing_data = pd.read_csv(\"/content/testing_data.csv\")\n",
        "\n",
        "print(\"------------------------------------\")\n",
        "print(\"Size of training dataset: {0}\".format(len(training_data)))\n",
        "print(\"Size of testing dataset: {0}\".format(len(testing_data)))\n",
        "print(\"------------------------------------\")\n",
        "\n",
        "print(\"------------------------------------\")\n",
        "print(\"Sample Data\")\n",
        "print(\"LABEL: {0} / SENTENCE: {1}\".format(training_data.iloc[-1,0], training_data.iloc[-1,1]))\n",
        "print(\"------------------------------------\")\n"
      ],
      "execution_count": 1,
      "outputs": [
        {
          "output_type": "stream",
          "name": "stdout",
          "text": [
            "------------------------------------\n",
            "Size of training dataset: 7808\n",
            "Size of testing dataset: 867\n",
            "------------------------------------\n",
            "------------------------------------\n",
            "Sample Data\n",
            "LABEL: F / SENTENCE: 'Half of it is going straight to charity, another quarter going straight to scientific research, an eighth to the parkour community, a sixteenth to towards spreading information about health and...|||Find a path or suffer more.|||http://personalitycafe.com/enneagram-personality-theory-forum/85323-enneagram-type-mbti-type-compared-statistics.html yep.|||I kind of anchor on Fi and Ne makes having Ni really fun. INFP for me as they tire me out less and our views tend to align more.|||The two ESTPs I have gotten the chance to know seem to experience much more than other people who have been on the planet for the same amount of time and are quite the renaissance (wo)men.  Is this...|||I don't really have a best friend ISTP(passion-amateur group co-founder), INTJ(intellectual and various small hobbies talk), ESTP(Bro-in-law, talk about everything kind of like my INTJ friend),...|||Everyone looses their gift if they don't even consider a different perspective.|||Kansas - ISTJ|||That or if they are normally comfortable with me, such as a friend or close acquaintance, they feel the need to start talking. It's almost a trap, I've noticed for most people feel the need to expose...|||To me, your answers screamed introverted feeling. Answers 2-5, 10, 11, 14, 16, and 17 your last statement were particularly Fi-like. I'm guessing you are an intuitive and possibly and introvert...|||Could you explain your reasoning for these? I saw Mako as an F, Lin as an ES, and have Kya as an F. Never had an idea for Amon's type.|||This applies to many of these threads.|||With an INFP for over 2 years now.|||After watching tonight's episode I'm sure that Unalaq is an ENXJ. I'm not sure if it's Fe or Te at this point but the way he goes about doing and planning things seem like a Je-dom. I'm putting him...|||Parkour is my passion(but I consider it closer to a martial art than a sport). I also enjoy some running and climbing.|||I have many characters but I gravitate towards sneaky archer, Breton, and conjuration. I love doing role plays and think it's one of, if not the best way to play the game.|||ESFP seems right for Ikki. We may need Jinora to have more interactions for us to tell. Any guesses about Pema, Tenzin's wife? She said herself that she used to be very shy so I'd put I just from...|||If you don't mind, please tell me more by what you meant by this bolded part or what happened.|||I think it's fit to revive this thread seeing as the second season of Korra has started and the second episode of the season is coming up tomorrow. I'd just say beware of spoilers in new posts if you...|||I was thinking more along these lines: 83385|||Yes, a few times in friendships and other things but it was usually spurred on by the idea of not having a second chance. I've been trying to make the first move more in life as I've realized it just...|||Sorry if my wording was/is confusing or vague. Let me try to explain it better.  As for the first statement: I see the world for all it's interconnections. If you wish, visualized everything having...|||~I don't experience it as simply perceiving or creating, for me as I perceive interconnected relationships are formed and realized.   ~I don't think that I rationalize with my dominate function but...|||I think it's amusing that, in the leading position I share with an ISTP friend of mine, we both start to embrace our shadows. I Think that's been my growing point lately, embracing my shadow. We're...|||I would suggest introspection and relying on your sense of self over tests and I highly suggest looking into the cognitive functions. ISTJ is the complete opposite of INFJ.|||I definitely agree with others on the US- It's pretty good for an INFJ if you find your niche.  I say the Midwest is generally SJ with women expected to be F and men to be T. It's nice but annoying....|||Please explain|||I think my own eye movements have almost been changed because of where I was usually placed when talking to someone in normal conversations. See, when I was young I ended up getting permanent spot in...|||Judgmental, critical, somewhat narcissistic, stubborn, possessive, Fe-ishly manipulative, and I have ego issues. Take that with a grain of salt.|||Yes, very much so. I love Spanish so far.|||I have a huge folder of these types of images.|||Aquarian It was just my guess, it doesn't need that much merit. Personally, I think Se is the hardest function to describe because it is so in the moment.|||Sorry, double post because of connectivity weirdness.|||I don't know if this has been posted before or if a thread about curses would be the best place but it'll do just fine. The important part is post #79, the giant wall of text. I think most of it was...|||If anything, imo, Ni would be how objects are interconnected. If I were to follow closely to your model: Introverted Intuition: Understanding how objects are connected Extraverted Intuition:...|||Sometimes you just don't see them :ninja: Seriously, I thought I was alone in a small town but I was surprised after training for a couple months.  You can easily learn and train by yourself, you...|||82063 Stuff by Andy Day, not only do I like it because it is the stuff of my passion but that new perspective of our surroundings that it brings. This is a great example of that. All those people...|||Sorry for the quality, my relative only gave me a physical copy, it's a picture of a picture. This is my INFP girlfriend of two years and me.|||If I am with my SO I almost need physical contact in some way.|||I pretty much have a guru dream that involves my SP wannabe passion. Around people I am close to I totally put on the gypsy king face, people are just so interesting. Hahaha can't stop laughing at ...|||I agree this this post very much, I just can't shake that vibe. To me it feels like you are an INTP who strongly identifies with INFJs. I think if you want a sound answer form yourself and others we...|||I do pretty well in emergencies, I do very well compared to normal conditions in my opinion. I feel like I become the ideal version of myself, for the most part. It's hard to describe but it's like...|||I have a very close INTJ friend. The Te Fe difference is acknowledged very well and I'd say that both of our tertiary functions are well developed which helps a ton. He does not show it often but he...|||Being alone and/or doing something physical that I can naturally and reactively do without thinking or little thought.|||Pretty much this|||If I wear shoes or socks to bed and my feet are not on my bed I will wake up as if I was falling. 2/3 of the time this happens. Any other dreams that I remember(I don't remember most of my dreams...|||This one still gets me.  What I meant to say was Pass the salt but what I really said was You b****, you ruined my life|||I'm sorry, but I find them so funny because I use them for good reason. They make people uncomfortable at first but then, slowly, make people more comfortable with the idea that people are different...|||XSFJ Mother, ISTJ father, and an XNFJ sister. Yep.|||I love dark jokes, especially racists/stereotypical jokes.'\n",
            "------------------------------------\n"
          ]
        }
      ]
    },
    {
      "cell_type": "code",
      "source": [
        "# Preview of the data in the csv file, which has two columns: \n",
        "# (1)type - label of the post (2)posts - the corresponding post content\n",
        "training_data.head()"
      ],
      "metadata": {
        "id": "WIHEbmSQp3fh",
        "outputId": "ebeb451d-1472-461e-8871-95eac9084f45",
        "colab": {
          "base_uri": "https://localhost:8080/",
          "height": 206
        }
      },
      "execution_count": 2,
      "outputs": [
        {
          "output_type": "execute_result",
          "data": {
            "text/plain": [
              "  type                                              posts\n",
              "0    F  'http://www.youtube.com/watch?v=qsXHcwe3krw|||...\n",
              "1    T  'I'm finding the lack of me in these posts ver...\n",
              "2    T  'Good one  _____   https://www.youtube.com/wat...\n",
              "3    T  'Dear INTP,   I enjoyed our conversation the o...\n",
              "4    T  'You're fired.|||That's another silly misconce..."
            ],
            "text/html": [
              "\n",
              "  <div id=\"df-840661d6-0d96-4022-af04-8743e841184a\">\n",
              "    <div class=\"colab-df-container\">\n",
              "      <div>\n",
              "<style scoped>\n",
              "    .dataframe tbody tr th:only-of-type {\n",
              "        vertical-align: middle;\n",
              "    }\n",
              "\n",
              "    .dataframe tbody tr th {\n",
              "        vertical-align: top;\n",
              "    }\n",
              "\n",
              "    .dataframe thead th {\n",
              "        text-align: right;\n",
              "    }\n",
              "</style>\n",
              "<table border=\"1\" class=\"dataframe\">\n",
              "  <thead>\n",
              "    <tr style=\"text-align: right;\">\n",
              "      <th></th>\n",
              "      <th>type</th>\n",
              "      <th>posts</th>\n",
              "    </tr>\n",
              "  </thead>\n",
              "  <tbody>\n",
              "    <tr>\n",
              "      <th>0</th>\n",
              "      <td>F</td>\n",
              "      <td>'http://www.youtube.com/watch?v=qsXHcwe3krw|||...</td>\n",
              "    </tr>\n",
              "    <tr>\n",
              "      <th>1</th>\n",
              "      <td>T</td>\n",
              "      <td>'I'm finding the lack of me in these posts ver...</td>\n",
              "    </tr>\n",
              "    <tr>\n",
              "      <th>2</th>\n",
              "      <td>T</td>\n",
              "      <td>'Good one  _____   https://www.youtube.com/wat...</td>\n",
              "    </tr>\n",
              "    <tr>\n",
              "      <th>3</th>\n",
              "      <td>T</td>\n",
              "      <td>'Dear INTP,   I enjoyed our conversation the o...</td>\n",
              "    </tr>\n",
              "    <tr>\n",
              "      <th>4</th>\n",
              "      <td>T</td>\n",
              "      <td>'You're fired.|||That's another silly misconce...</td>\n",
              "    </tr>\n",
              "  </tbody>\n",
              "</table>\n",
              "</div>\n",
              "      <button class=\"colab-df-convert\" onclick=\"convertToInteractive('df-840661d6-0d96-4022-af04-8743e841184a')\"\n",
              "              title=\"Convert this dataframe to an interactive table.\"\n",
              "              style=\"display:none;\">\n",
              "        \n",
              "  <svg xmlns=\"http://www.w3.org/2000/svg\" height=\"24px\"viewBox=\"0 0 24 24\"\n",
              "       width=\"24px\">\n",
              "    <path d=\"M0 0h24v24H0V0z\" fill=\"none\"/>\n",
              "    <path d=\"M18.56 5.44l.94 2.06.94-2.06 2.06-.94-2.06-.94-.94-2.06-.94 2.06-2.06.94zm-11 1L8.5 8.5l.94-2.06 2.06-.94-2.06-.94L8.5 2.5l-.94 2.06-2.06.94zm10 10l.94 2.06.94-2.06 2.06-.94-2.06-.94-.94-2.06-.94 2.06-2.06.94z\"/><path d=\"M17.41 7.96l-1.37-1.37c-.4-.4-.92-.59-1.43-.59-.52 0-1.04.2-1.43.59L10.3 9.45l-7.72 7.72c-.78.78-.78 2.05 0 2.83L4 21.41c.39.39.9.59 1.41.59.51 0 1.02-.2 1.41-.59l7.78-7.78 2.81-2.81c.8-.78.8-2.07 0-2.86zM5.41 20L4 18.59l7.72-7.72 1.47 1.35L5.41 20z\"/>\n",
              "  </svg>\n",
              "      </button>\n",
              "      \n",
              "  <style>\n",
              "    .colab-df-container {\n",
              "      display:flex;\n",
              "      flex-wrap:wrap;\n",
              "      gap: 12px;\n",
              "    }\n",
              "\n",
              "    .colab-df-convert {\n",
              "      background-color: #E8F0FE;\n",
              "      border: none;\n",
              "      border-radius: 50%;\n",
              "      cursor: pointer;\n",
              "      display: none;\n",
              "      fill: #1967D2;\n",
              "      height: 32px;\n",
              "      padding: 0 0 0 0;\n",
              "      width: 32px;\n",
              "    }\n",
              "\n",
              "    .colab-df-convert:hover {\n",
              "      background-color: #E2EBFA;\n",
              "      box-shadow: 0px 1px 2px rgba(60, 64, 67, 0.3), 0px 1px 3px 1px rgba(60, 64, 67, 0.15);\n",
              "      fill: #174EA6;\n",
              "    }\n",
              "\n",
              "    [theme=dark] .colab-df-convert {\n",
              "      background-color: #3B4455;\n",
              "      fill: #D2E3FC;\n",
              "    }\n",
              "\n",
              "    [theme=dark] .colab-df-convert:hover {\n",
              "      background-color: #434B5C;\n",
              "      box-shadow: 0px 1px 3px 1px rgba(0, 0, 0, 0.15);\n",
              "      filter: drop-shadow(0px 1px 2px rgba(0, 0, 0, 0.3));\n",
              "      fill: #FFFFFF;\n",
              "    }\n",
              "  </style>\n",
              "\n",
              "      <script>\n",
              "        const buttonEl =\n",
              "          document.querySelector('#df-840661d6-0d96-4022-af04-8743e841184a button.colab-df-convert');\n",
              "        buttonEl.style.display =\n",
              "          google.colab.kernel.accessAllowed ? 'block' : 'none';\n",
              "\n",
              "        async function convertToInteractive(key) {\n",
              "          const element = document.querySelector('#df-840661d6-0d96-4022-af04-8743e841184a');\n",
              "          const dataTable =\n",
              "            await google.colab.kernel.invokeFunction('convertToInteractive',\n",
              "                                                     [key], {});\n",
              "          if (!dataTable) return;\n",
              "\n",
              "          const docLinkHtml = 'Like what you see? Visit the ' +\n",
              "            '<a target=\"_blank\" href=https://colab.research.google.com/notebooks/data_table.ipynb>data table notebook</a>'\n",
              "            + ' to learn more about interactive tables.';\n",
              "          element.innerHTML = '';\n",
              "          dataTable['output_type'] = 'display_data';\n",
              "          await google.colab.output.renderOutput(dataTable, element);\n",
              "          const docLink = document.createElement('div');\n",
              "          docLink.innerHTML = docLinkHtml;\n",
              "          element.appendChild(docLink);\n",
              "        }\n",
              "      </script>\n",
              "    </div>\n",
              "  </div>\n",
              "  "
            ]
          },
          "metadata": {},
          "execution_count": 2
        }
      ]
    },
    {
      "cell_type": "code",
      "source": [
        "# Extract the labels and posts and store into List\n",
        "\n",
        "# Get the list of training data (posts)\n",
        "training_posts=training_data['posts'].tolist()\n",
        "# Get the list of corresponding labels for the training data (posts)\n",
        "training_labels=training_data['type'].tolist()\n",
        "\n",
        "# Get the list of testing data (posts)\n",
        "testing_posts=testing_data['posts'].tolist()\n",
        "# Get the list of corresponding labels for the testing data (posts)\n",
        "testing_labels=testing_data['type'].tolist()"
      ],
      "metadata": {
        "id": "0SvGBOm9DvR_"
      },
      "execution_count": 3,
      "outputs": []
    },
    {
      "cell_type": "markdown",
      "metadata": {
        "id": "l9gBSgBCQh24"
      },
      "source": [
        "## 1.1. URL Removal\n",
        "*related to the section 4.2*"
      ]
    },
    {
      "cell_type": "code",
      "metadata": {
        "id": "emyl1lWxGr12"
      },
      "source": [
        "# Please comment your code\n",
        "\n",
        "# Remove URL\n",
        "def remove_url(data):\n",
        "  import re\n",
        "  # Url pattern\n",
        "  URL_Pattern = 'http\\S+'\n",
        "  return [re.sub(URL_Pattern, '', sentence) for sentence in data]"
      ],
      "execution_count": 4,
      "outputs": []
    },
    {
      "cell_type": "markdown",
      "source": [
        "## 1.2. Preprocess data (e.g. Stop words, Stemming)\n",
        "*related to the section 4.2*"
      ],
      "metadata": {
        "id": "QzLAO5a25qzS"
      }
    },
    {
      "cell_type": "code",
      "source": [
        "# Map contraction to full words\n",
        "contraction_dict = {\"ain't\": \"is not\", \"aren't\": \"are not\",\"can't\": \"cannot\", \"'cause\": \"because\", \"could've\": \"could have\", \n",
        "            \"couldn't\": \"could not\", \"didn't\": \"did not\",  \"doesn't\": \"does not\", \"don't\": \"do not\", \"hadn't\": \"had not\", \n",
        "            \"hasn't\": \"has not\", \"haven't\": \"have not\", \"he'd\": \"he would\",\"he'll\": \"he will\", \"he's\": \"he is\", \"how'd\": \"how did\", \n",
        "            \"how'd'y\": \"how do you\", \"how'll\": \"how will\", \"how's\": \"how is\",  \"I'd\": \"I would\", \"I'd've\": \"I would have\", \n",
        "            \"I'll\": \"I will\", \"I'll've\": \"I will have\",\"I'm\": \"I am\", \"I've\": \"I have\", \"i'd\": \"i would\", \"i'd've\": \"i would have\", \n",
        "            \"i'll\": \"i will\",  \"i'll've\": \"i will have\",\"i'm\": \"i am\", \"i've\": \"i have\", \"isn't\": \"is not\", \"it'd\": \"it would\", \n",
        "            \"it'd've\": \"it would have\", \"it'll\": \"it will\", \"it'll've\": \"it will have\",\"it's\": \"it is\", \"let's\": \"let us\", \n",
        "            \"ma'am\": \"madam\", \"mayn't\": \"may not\", \"might've\": \"might have\",\"mightn't\": \"might not\",\"mightn't've\": \"might not have\", \n",
        "            \"must've\": \"must have\", \"mustn't\": \"must not\", \"mustn't've\": \"must not have\", \"needn't\": \"need not\", \"needn't've\": \"need not have\",\n",
        "            \"o'clock\": \"of the clock\", \"oughtn't\": \"ought not\", \"oughtn't've\": \"ought not have\", \"shan't\": \"shall not\", \"sha'n't\": \"shall not\", \n",
        "            \"shan't've\": \"shall not have\", \"she'd\": \"she would\", \"she'd've\": \"she would have\", \"she'll\": \"she will\", \"she'll've\": \"she will have\", \n",
        "            \"she's\": \"she is\", \"should've\": \"should have\", \"shouldn't\": \"should not\", \"shouldn't've\": \"should not have\", \"so've\": \"so have\",\n",
        "            \"so's\": \"so as\", \"this's\": \"this is\",\"that'd\": \"that would\", \"that'd've\": \"that would have\", \"that's\": \"that is\", \"there'd\": \"there would\", \n",
        "            \"there'd've\": \"there would have\", \"there's\": \"there is\", \"here's\": \"here is\",\"they'd\": \"they would\", \"they'd've\": \"they would have\", \n",
        "            \"they'll\": \"they will\", \"they'll've\": \"they will have\", \"they're\": \"they are\", \"they've\": \"they have\", \"to've\": \"to have\", \"wasn't\": \"was not\", \n",
        "            \"we'd\": \"we would\", \"we'd've\": \"we would have\", \"we'll\": \"we will\", \"we'll've\": \"we will have\", \"we're\": \"we are\", \"we've\": \"we have\", \n",
        "            \"weren't\": \"were not\", \"what'll\": \"what will\", \"what'll've\": \"what will have\", \"what're\": \"what are\",  \"what's\": \"what is\", \"what've\": \"what have\", \n",
        "            \"when's\": \"when is\", \"when've\": \"when have\", \"where'd\": \"where did\", \"where's\": \"where is\", \"where've\": \"where have\", \"who'll\": \"who will\", \n",
        "            \"who'll've\": \"who will have\", \"who's\": \"who is\", \"who've\": \"who have\", \"why's\": \"why is\", \"why've\": \"why have\", \"will've\": \"will have\", \n",
        "            \"won't\": \"will not\", \"won't've\": \"will not have\", \"would've\": \"would have\", \"wouldn't\": \"would not\", \"wouldn't've\": \"would not have\", \n",
        "            \"y'all\": \"you all\", \"y'all'd\": \"you all would\",\"y'all'd've\": \"you all would have\",\"y'all're\": \"you all are\",\"y'all've\": \"you all have\",\n",
        "            \"you'd\": \"you would\", \"you'd've\": \"you would have\", \"you'll\": \"you will\", \"you'll've\": \"you will have\", \"you're\": \"you are\", \"you've\": \"you have\"}\n",
        "def remove_contraction(data):\n",
        "  result = []\n",
        "  for x in data:  \n",
        "    words = x[1:-1].split(' ')\n",
        "    link = ' '\n",
        "    result_words = []\n",
        "    for word in words:\n",
        "      if word in contraction_dict.keys():\n",
        "        result_words.append(contraction_dict[word])\n",
        "      else: result_words.append(word)\n",
        "    result.append(link.join(result_words))\n",
        "  return result\n"
      ],
      "metadata": {
        "id": "45As3ndmY2MT"
      },
      "execution_count": 5,
      "outputs": []
    },
    {
      "cell_type": "code",
      "metadata": {
        "id": "jl7t5Vqo5_gq"
      },
      "source": [
        "# Remove puncts\n",
        "puncts = [',', '.', '\"', ':', ')', '(', '-', '!', '?', '|', ';', \"'\", '$', '&', '/', '[', ']', '>', '%', '=', '#', '*', '+', '\\\\', '•',  '~', '@', '£', \n",
        " '·', '_', '{', '}', '©', '^', '®', '`',  '<', '→', '°', '€', '™', '›',  '♥', '←', '×', '§', '″', '′', 'Â', '█', '½', 'à', '…', \n",
        " '“', '★', '”', '–', '●', 'â', '►', '−', '¢', '²', '¬', '░', '¶', '↑', '±', '¿', '▾', '═', '¦', '║', '―', '¥', '▓', '—', '‹', '─', \n",
        " '▒', '：', '¼', '⊕', '▼', '▪', '†', '■', '’', '▀', '¨', '▄', '♫', '☆', 'é', '¯', '♦', '¤', '▲', 'è', '¸', '¾', 'Ã', '⋅', '‘', '∞', \n",
        " '∙', '）', '↓', '、', '│', '（', '»', '，', '♪', '╩', '╚', '³', '・', '╦', '╣', '╔', '╗', '▬', '❤', 'ï', 'Ø', '¹', '≤', '‡', '√', ]\n",
        "\n",
        "def remove_punctuation(data):\n",
        "  result = []\n",
        "  for sentence in data:\n",
        "    sentence = str(sentence)\n",
        "    for punct in puncts:\n",
        "      if punct in sentence:\n",
        "        sentence = sentence.replace(punct, '')\n",
        "    result.append(sentence)\n",
        "  return result\n"
      ],
      "execution_count": 6,
      "outputs": []
    },
    {
      "cell_type": "code",
      "source": [
        "# Tokenization\n",
        "import nltk\n",
        "nltk.download('punkt')\n",
        "nltk.download('stopwords')\n",
        "\n",
        "from nltk.corpus import stopwords as sw\n",
        "from nltk.tokenize import word_tokenize\n",
        "\n",
        "\n",
        "def tokenize_data(data):\n",
        "  return [word_tokenize(sentence) for sentence in data]\n"
      ],
      "metadata": {
        "colab": {
          "base_uri": "https://localhost:8080/"
        },
        "id": "ijCXJO_kX2rj",
        "outputId": "f8ef9e2e-6fb2-4994-f0c2-40867e79a808"
      },
      "execution_count": 7,
      "outputs": [
        {
          "output_type": "stream",
          "name": "stdout",
          "text": [
            "[nltk_data] Downloading package punkt to /root/nltk_data...\n",
            "[nltk_data]   Package punkt is already up-to-date!\n",
            "[nltk_data] Downloading package stopwords to /root/nltk_data...\n",
            "[nltk_data]   Package stopwords is already up-to-date!\n"
          ]
        }
      ]
    },
    {
      "cell_type": "code",
      "source": [
        "# 1. Remove stop words\n",
        "\n",
        "stop_words = sw.words()\n",
        "def remove_stop_words(data):\n",
        "  return [[w for w in sentence if not w in stop_words] for sentence in data]\n"
      ],
      "metadata": {
        "id": "lcGbbFO8u9hs"
      },
      "execution_count": 8,
      "outputs": []
    },
    {
      "cell_type": "code",
      "source": [
        "# 2. Stemming\n",
        "from nltk.stem.snowball import *\n",
        "stemmer = SnowballStemmer('english')\n",
        "\n",
        "def stemming(data):\n",
        "  return [[stemmer.stem(word) for word in sentence] for sentence in data]"
      ],
      "metadata": {
        "id": "XKoxQ0exyw4X"
      },
      "execution_count": 14,
      "outputs": []
    },
    {
      "cell_type": "code",
      "source": [
        "# 3. Lemmatisation\n",
        "\n",
        "nltk.download('wordnet')\n",
        "\n",
        "from nltk.stem import WordNetLemmatizer\n",
        "\n",
        "lemmatizer = WordNetLemmatizer()\n",
        "\n",
        "def lemmatisation(data):\n",
        "  return [[lemmatizer.lemmatize(word) for word in sentence] for sentence in data]"
      ],
      "metadata": {
        "colab": {
          "base_uri": "https://localhost:8080/"
        },
        "id": "XXr96xOAz6pq",
        "outputId": "d8b45a52-591f-465b-e620-703ff216b9b6"
      },
      "execution_count": 9,
      "outputs": [
        {
          "output_type": "stream",
          "name": "stdout",
          "text": [
            "[nltk_data] Downloading package wordnet to /root/nltk_data...\n",
            "[nltk_data]   Package wordnet is already up-to-date!\n"
          ]
        }
      ]
    },
    {
      "cell_type": "code",
      "source": [
        "# 4. Remove numbers\n",
        "def remove_numbers(data):\n",
        "  result = []\n",
        "  for sentence in data:\n",
        "    temp = []\n",
        "    for word in sentence:\n",
        "      word = re.sub(r'\\d+', '', word)\n",
        "      if len(word) != 0:\n",
        "        temp.append(word)\n",
        "    result.append(temp)\n",
        "  return result"
      ],
      "metadata": {
        "id": "B4belnOHVyUB"
      },
      "execution_count": 10,
      "outputs": []
    },
    {
      "cell_type": "code",
      "source": [
        "# posts without URL\n",
        "\n",
        "training_data_after_removing_url_punct_contraction = remove_punctuation(remove_contraction(remove_url(training_posts)))\n",
        "testing_data_after_removing_url_punct_contraction = remove_punctuation(remove_contraction(remove_url(testing_posts)))\n",
        "for i in range(0,3):\n",
        "  print(training_data_after_removing_url_punct_contraction[i])\n",
        "  print(testing_data_after_removing_url_punct_contraction[i])\n"
      ],
      "metadata": {
        "colab": {
          "base_uri": "https://localhost:8080/"
        },
        "id": "lfiDn26iVvoa",
        "outputId": "10c4b8a5-3268-40d9-be27-b1842d1f15fa"
      },
      "execution_count": 11,
      "outputs": [
        {
          "output_type": "stream",
          "name": "stdout",
          "text": [
            " and intj moments    sportscenter not top ten plays    pranksWhat has been the most lifechanging experience in your life     On repeat for most of todayMay the PerC Experience immerse youThe last thing my INFJ friend posted on his facebook before committing suicide the next day Rest in peace    ENFJ7 Sorry to hear of your distress Its only natural for a relationship to not be perfection all the time in every moment of existence Try to figure the hard times as times of growth as84389  84390     Welcome and stuff  Game Set MatchProzac wellbrutin at least thirty minutes of moving your legs and I do not mean moving them while sitting in your same desk chair weed in moderation maybe try edibles as a healthier alternativeBasically come up with three items you have determined that each type or whichever types you want to do would more than likely use given each types cognitive functions and whatnot when left byAll things in moderation  Sims is indeed a video game and a good one at that Note a good one at that is somewhat subjective in that I am not completely promoting the death of any given SimDear ENFP  What were your favorite video games growing up and what are your now current favorite video games cool appears to be too late sadTheres someone out there for everyoneWait I thought confidence was a good thingI just cherish the time of solitude bc i revel within my inner world more whereas most other time i would be workin just enjoy the me time while you can Dont worry people will always be around toYo entp ladies if you are into a complimentary personalitywell hey when your main social outlet is xbox live conversations and even then you verbally fatigue quickly  I really dig the part from 146 to 250 because this thread requires it of meGet high in backyard roast and eat marshmellows in backyard while conversing over something intellectual followed by massages and kisses for too many bs in that sentence How could you Think of the BBanned for watching movies in the corner with the duncesBanned because Health class clearly taught you nothing about peer pressureBanned for a whole host of reasons Two baby deer on left and right munching on a beetle in the middle  2 Using their own blood two cavemen diary todays latest happenings on their designated cave diary wall  3 I see it asa pokemon world  an infj society  everyone becomes an optimist49142 all artists are artists because they draw Its the idea that counts in forming something of your own like a signatureWelcome to the robot ranks person who downed my selfesteem cuz I am not an avid signature artist like herself proudBanned for taking all the room under my bed Ya gotta learn to share with the roaches for being too much of a thundering grumbling kind of storm yepAhh old high school music I have not heard in ages    failed a public speaking class a few years ago and I have sort of learned what I could do better were I to be in that position again A big part of my failure was just overloading myself with tooI like this persons mentality Hes a confirmed INTJ by the way  to the Denver area and start a new life for myself\n",
            "Actually from these results it looks like you are triplewithdrawn 5w4 9w8 4w5  It would appear that you just happen to have strong 2 6 and 7 traitsIts odd that you are associating the whole heart triad with narcissism  Also I would associate Fives with having some antisocial disorder not Eights BTW let us set aside the aspergers and call itSo is my mom  It sometimes annoys me to pieces  My mom Go do insert known todo task here Me I know My mom Well if you know then why do not you go do it  yeah I am not oneIm gonna guess the EJ types are most likely to groupthink but I am not entirely sure  Thoughts  Also which types are least likely to groupthinkVery true  My guess is that 9s are the most idealized type thanks to our high levels of neutrality and inner tranquility but from the perspective of a 9 it is not worth it to idealize any type I hardly ever wear hats if at all  Nice new avatar BTW dealwithitThe ENTJ I am currently living with apparently has used his Se via cooking amid other things I am not 100 sure of  Hes quite nice with Se compared to TeNi alone  Sometimes I kinda wonder howYou have been criticized of having less thanks than posts guiltyA Type 9 looks at the poll  Were so popular proud  Goes and votes for 9  EDIT and 9th vote  What a number crazyIt seems both of the ISPs seem to hold out relationships and get married longer than the ESPs  Also some stats from Personality Page  Highest Percentage Married   From highest toLooks back at thread  Riiiiiiiiiight so why did I create this thread dry  maybe too much like comparing an ISTP to an INTPMaybe an INTP in a TiSi loop  I tend to be nitpicky about my environment as well due to my high SiSo am I and although my 5w6 is close I am a 9w1 I have absolutely no 8 anywhere in my Enneagram type at allNot to mention it feels somewhat disturbing and unreal to do it all the timePSTypes Enneagram Test Results  The Distribution of Your Scores    Type One  15  Type TwoIm probably the one all the way to the right   Am I now weird for looking well crazyMaybe because Enneagram is not as official and popular as MBTI and so it is hard to find broad realworld statsTP and FP are not necessarily associated with a Pe function  Theyre associated with domaux Ti and Fi respectively  Anyway you could divide up the 16 types in a number of ways of four EJ EPNot an SJ but my mom who is an SJ her parents are most likely ESFJ and ISTPWhy  The discussions fine  nothings heated up in hereI used to wear a watch when I was younger but watches tend to irritate my wrist so I stopped  Besides there are other ways for me to tell time when it is necessary  Also beware under1 Words of Affirmation  Meh  2 Gifts  Giving them yep  Receiving them is another story  3 Acts of Service1 Not entirely sure  Theyre mostly about places than anything else  Seldom if at all are there people in my dreams 2 Often like most other things I remember a dream quite vividly but theTheyll probably get along quite well  This is probably true for any XwY with a YwX  BTW if you were wondering the little w between the numbers stands for wing not with it can be unclearIve wondered how common each of the 9 fundamental Enneagram types are  Does anyone know or have a linkFrom typelogiccom  Intuition is tertiaryas the ESFJ matures and as situations arise which call for suspension of criticism Ne is allowed to play  Under the leadership of the Fe functionFrom typelogiccom  As the ESTJ matures and as situations arise which call for suspension of criticism Extraverted iNtuition is allowed to play  Under the leadership of the Te functionAgain sorry if I am harsh  Try not to take everything here personally  If you look inside the parentheses there is my alternate possibility Im not inconsiderate  It turns out I was justI tend to apologize like that too very reasoned out  Maybe it is a TF thingThis obligation of SJs not just ESTJs amid others is what drives me up a wall sometimes  My ESFJ mother has this tendency to do this to me although not to the degree you are encountering  I find this interesting  I never would have guessed that an ESTJ would tell a white lie this in part due to my stereotypical views of ESTJs  As a thinking type I might get thrown off by this andNot to be harsh but speaking of lies you could be lying about your strong STJ  It looks like you are just strong J either that or I could be misreading the scale  So another question whatHeres a third ISTP to add to that  I will say though that because of my autism I have an unusually strong Si  It could happen to an ISFP and the result could be an autistic ISFP with ISFJHere I replied to your thread happy crazy  Anyway I once read that IFPs such as you do not seem to have much patience with types whose preferences are strongly T or J let alone TJMostly Se and Ni  I rule with Ti so I do not need work there  Te and Fi are doing OK and they will develop better in my later life  Ne I just suck at and Fe I am not too good with either  BothP S  Why do you terms and conditions have to be so long  Do you have any idea how discouraging and redundant that is  Ever heard of plain English and not legaleseI need to get out more recurringthoughtofmineSounds like you need to relax  It also sounds like you need to forgive your INTPs detached perceiving nature  Maybe he got quickly boredThanks to everyone here who shared their twosided Se understanding  I remember my high school ENFJ teacher taking us outside during homeroom  Se relief proudFirst impression ESTJ maybe with a strong Se  Certainly underdeveloped in terms of cognitive functions such as Ne and FiIt looks like you have just won out the rest of us either that or you were not being true to yourselfISTJ Cup of coffee ESTJ Judges mallet for lack of a proper name if there is one ISTP Someone fixing up their cool vehicle be it a car motorcycle bicycle or otherwise ISFP An artistThe question is will it be because we humans could control ourselves or because mother nature forced usI would guess this is an Si thing    Given my strong Si I have become like this as well  However being an SP I do not need routine just need to know how it worksI find it fascinating that some ISFJs have higher Te than Ti  It had me wondering if most other SJs have higher Te and Fe than their Ti and Fi  When my ESFJ mother tested out she had higher TeHow nostalgic are you  It would appear that Si nostalgia is fairly strong among you ESFJs being SiauxI wondered where this thread went  has a thought of music and therefore cannot be describedFrom an ISTP with aux Se this is an insightful thread  I have sometimes wondered if ENFJs or ENxJs for that matter experience Se in a hereandnow manner like SPs doI can imagine like any identity relationship that it will be a nice one but eventually will get boring  I sometimes wonder what an ISFPISTP relationship would look likeLets see  Playing games especially ones that integrate the Ti element which few adventurous games seem to do skiing biking hiking climbing procrastinating here not uncommon among us\n",
            "I am finding the lack of me in these posts very alarmingSex can be boring if it is in the same position often For example me and my girlfriend are currently in an environment where we have to creatively use cowgirl and missionary There is not enoughGiving new meaning to Game theoryHello ENTP Grin  Thats all it takes Than we converse and they do most of the flirting while I acknowledge their presence and return their words with smooth wordplay and more cheeky grinsThis  Lack of Balance and Hand Eye CoordinationReal IQ test I score 127 Internet IQ tests are funny I score 140s or higher  Now like the former responses of this thread I will mention that I do not believe in the IQ test Before you banishYou know you are an ENTP when you vanish from a site for a year and a half return and find people are still commenting on your posts and liking your ideasthoughts You know you are an ENTP when you over think things sometimes I go by the old Sherlock Holmes quote  Perhaps when a man has special knowledge and special powers like my  own it rather encourages him to seek a complexcheshirewolftumblrcom  So is I D400000  postNot really I have never thought of EI or JP as real functions  I judge myself on what I use I use Ne and Ti as my dominates Fe for emotions and rarely Si I also use Ni due to me strengthYou know though That was ingenious After saying it I really want to try it and see what happens with me playing a first person shooter in the back while we drive around I want to see the look onout of all of them the rock paper one is the best It makes me lol  You guys are lucky D I am really high up on the tumblr systemSo did you hear about that new first person shooter game I have been rocking the hell out of the soundtrack on my auto sound equipment that will shake the heavens We managed to put a couple PS3s inNo The way he connected things was very Ne Ne dominates are just as aware of their environments as Se dominates  Example Shawn Spencer or Patrick Jane Both ENTPsWell charlie I will be the first to admit I do get jealous like you do I chalk it up to my 4w3 heart mixed with my dominate 7w8 7s and 8s both like to be noticed 4s like to be known not the sameD I will upload the same clip with the mic away from my mouth Than you will not hear anything  Ninja Assassin style but with splatterTik Tok is a really great song As long as you can mental block out the singer I love the beat it makes me bouncedropio v1swck0  D Mic really close to my mouth and smokin aces assassins ball playing in the backgroundSociable  extrovert I am an extrovert and I am not sociable Sherlock in the movie was an ENTP Normally he is played as a EXTJ In the books he is an ESTJ  As I said The movie looked good except for it being called sherlock holmes I never had fear of kissing a guy I will kiss an animal too So there was nothing to vanish Just personal taste and me not liking it  The guy I kissed did not know me It was one of thoseSounds pretty much like my area and what I am going through right now trying to figure out which way I want to take my life I want to do so many things The biggest problem is that I know if I dontD I was operating under the impression that you were female I never looked at your boxy Okay I help out my gay friends all the time and one of them has developed a little crush on me I get redTT You just described me  and I am living the worst nightmare I am trapped in one place with one one around Only dull woods If I was a serial killer this would be the perfect place but sadly ImTBH and biased sounds like a shadowed INFP I think maybe he was hurt and turned ESTJ I can tell because he has some of the typical INFP traits left overChecks list I am sorry It seems that you have came at a bad time Weve already reached our quota of INFJs However being you are female and I like females I will make you a deal I will kick oneIm ANTP Leaning toward E I am easy for both ENTPs and INTPs to identify with I also imagine ENTPs interrogations would go a little bit like Jacks from 24 except more mechanical Rigging up shock treatment equipment in an abandoned building out of an old car batty jumperIt was a compliment  Trust me I am just as psychopathic D except I have emoticons Theyre just weird ones Like laughing when I get hurt or at people running themselves over with their lawn mower  Its like a theme for where I live and that is why I know it by heart    I usual do not leave until the thing ends But in the mean time In between times You work your thing I will work mine D  D I am the MBP Pleasure to meet youDamn need to trust my instincts more I would have been closer I was going to say INFPEXFP Leaning toward S with the way she responded  D My friends even my gay and lesbian ones always come to me for adviceI bow to my entp masters ENTPs are so great If it was not for ENTPs I would not have been able to build what I am building  Duck Duck  Duck  ShotgunWhat Me I never do that  Because its hard to be sad about losing someone you like when you knew you were right and give yourself a big pat on the back because you are awesome and always correctOh you do not have to tell me that most of them are stupid I know this That is why I play with them and it makes me laugh D As I am going to take Neuropsychology and I have a few psychologistD I am a Nightowl I wake up between 67pm and stay awake till 101130amPersonal opinion backed by theory would suggest that INTPs are the most socially difficult While INTJs can be socially indifferent but they will also use social situations if the the need arisesPersonal stocks that I have on my desktop that I have downloaded from random stock sites and stock photobucketsIll tell you when I open photoshop   Glad you like it staticD Thanks   Made for a friend Several hours of work I constructed every line by Static   I will have to get to your avatar later if one of my fellow teammates doesntPsychologist do not keep me around long enough to diagnosis me I like to toy with them What I have diagnosis myself with and had a few psychologist friends  a few other friends tell me I have is\n",
            " does indeed help To answer the question my IQ is 129 and it was professionally administered But it does not mean anything to meI do not need a number to tell me I am intelligent IShall I play you a song on the worlds smallest violinI really do not get how you guys think she is an introvert Shes said many times about how extroverted she is and she was voted Most Talkative by her high school I can see an introvert beingAssuming morality is absolute can you explain to me the absolute best moral choice out of every situation I am assuming you cannot and on who is authority should we accept these truths It cannot beHello all  I originally joined this site in late 2009 and I lurked for many months before I had just turned 19 and started college  in search of myself and I used this forum to help discover1 Log in after a week or so of not being on here 2 Look at INFJ forum sees that all the new threads are already ones that I have seen and discussed in the past 3 Check the new posts in case II hope everyone realizes the difference between a nice guy and a well nice guywwwyoutubecomwatchvDOX9l4Ys7NYI would retire my account since I do not ever come on here anymore and I do not really care about MBTI anymore but why put an unnecessary restriction on myselfIm not a virgin In some ways I still wish I wasI lost my virginity to someone who I was not in love with The girl I am with right now is and if it were not for that one girl I would be too andIm 21 I am young amiriteHaving the feeling of being alone  Being able to tell a lot about a person just by their energy Its almost like I have known them for years And then if they find this out it freaks them out think it might be more of a biological thing and how you were raised more than how it is based on your type but I can see how type could play a part  As for meyeah I am nowhere near anI suppose I still am but I have lowered my standards so much to where I date people I do not even like probably just to not feel alone I am a little disgusted with myself at the moment know what you mean I have had this same problem for the longest time and I too can seem to spark relationships better over text Weird But anyways I have just forced myself to be a little moreI can imagine most INFJs can relate to this    trust test results That being said I could very well be an INFJ type 3My views have always been that I will never have sex with someone that I know is just gonna lead to sex and that is it Up to this point I have followed through to that because I cannot imagine givingFor me like most of you it comes out very early on but I try to control my tongue for as long as I can so I hardly ever say it at all at least intentionally At the beginning I think it is lessRight now I am debating whether I am an ENTP or INFJ  Sounds very strange but both of them fit meWho does not get a little genocidal every now and thenWalter may actually be an INFJ not an INTJ The reason I say this is that it is VERY clear to me that Gus is an INTJ but there seems to be some variance between them I will be able to explain moreBout damn timeIm a dude so it is kind of embarrassing that I like this show but it is not too bad The only two I know are Lorelai and Rory and they are ESFP and INFJISFJ respectively   would say you are an ESFP or ENFP probably leaning stronger with ESFP over ENFP  Youre not introverted At allAre you seriously basing your dating life based on some Personality Theory that may or may not be bullshitI seriously hope this is a joke thread Its getting that bad that I cannot tell if someone is trolling or just flat out fucking stupid  As for who is going to winunless Romeny wins theCongratulationsI never made one in the first place sohey  I am not sure why I am even making this as I am probably just gonna retire this account soon anyway but ya know just thought I would make oneYoure typism  Honestly I do not really have a specific type that annoys me Stupid annoys me not type  That being said for the love of FSM and all that is holy I am NEVER EVER EVER this is not the first time you have posted something like this in the two years I have been here it is in all likelihood depression dude I had the same symptoms for oh 7 years or so and when IIm my own partnerEDIT I guess that is what I get for not reading the whole postCan I come tuck you inYoure probably a 3 then  I am a type three myself and I fall into the more reserved category with most people I would still consider myself extroverted but people who talk nonstop actually get common I am a 3 but a 3w4 not a 3w2Not at all ENTP I would say ISTP or ESTP if that does not work the words right out of my mouthJust so everyones clear getting a percentage on a MBTI does not mean you are 75 introvert It means you can be pretty confident you are an introvert  Back on topic I am pretty much certain thatYeah same thing happened to me Fuckers  Dear stupid peoplejust because I do not show it does not mean I am not judging you At least you keep me entertained  Excuse my misogyny but fuckTell me about it But ironically I am dating a girl from California who moved over here a while ago and I met her through Ok Cupid Didnt actually expect that thing to produce results but it hasId say Obama is most definitely an ENFJ Speaking to common values but sticking to his own internal vision etc  Sarah PalinESFJ  Ronald ReaganHard to tell Probably ESTP in my opnion \n",
            "Good one      course to which I say I know that is my blessing and my curseDoes being absolutely positive that you and your best friend could be an amazing couple count If so than yes   Or it is more I could be madly in love in case I reconciled my feelings which atNo I didnt thank you for a linkSocalled TiSi loop and it can stem from any current topicobsession can be deadly Its like when you are stuck in your own thoughts and your mind just wanders in circles Feels truly terrible Have you noticed how peculiar vegetation can be All you have to do is look down at the grass dozens of different plant species there    And now imagine that hundreds of years later whenif soilThe Smiths  Never Had No One EverI often find myself spotting faces on marble tileswoodThis 5 yearold sentence is an incredibly accurate and beautiful descriptionI have not visited this website in the last 3 years So whoever reads this and maybe even remembers me which I highly doubt hi  700049  700057When you sit in your garden until 1030 PM writing songs and sing them together with dozens of crickets while playing your acoustic guitarThis is the most INTPish thread I have ever seenI would not be able to look at the painting for the entire life if I knew that I picked it over the human beingI was drawing a background for my animation on which I am working right now  it should have been Mars But I felt obligated to make Mark Watneyx92s postcard from it D  If you read the bookI started to make comics about turtle Gordon and unicorn Chimes  here you can see two first stories  Recently I started to post my comics about two friends  turtle Gordon and unicorn Chimes Before that I just posted stuff that interested me but from now on I will try to include only my worksProbably we could work together on a new model  I am an expert in abrupt explosions of laughter upon various weird stuff That happens because of peculiar sense of humor  so peculiar that not muchHellooo Nah you can touch it Everyone thinks that it is scared or sad but that is not true  in fact it has an absolutely neutral face And this kitten actually really likes patting and hugs onlyWell kind of As it was already mentioned sometimes because of Ni it is hard to convey complex stuff which pops up in your head in whimsical compilations of shapes and pictures only with wordsI think this kitten would be very appropriate here  376562367034GOOD NIGHT everyone out there Even if for someone there is morning right now  nights always supersede mornings And people say good night in order to meet next day Oh that movie  Its awesome Thank you Hope you had good sleep in the air anyway I am wishing you good night for the next night ahead hopefully it will be on land  Good people deserve good358882  358890Well other people who may be wondering about an issue from the name of the topic will find your response helpful anyway This Finally someone mentioned that I still see creaturesfaces in a maze of various random patterns It can be amusing sometimes  Its a very handy skill when you are boredOh I did not know that What a pity  Why not sacrifice whole supermarket then We can decide which Walmart will be the best I think the biggest one would be greatyippy  Here you go  357002  He thinks that the fire is delicious Should I sacrifice tofu I do not like to waste foodI do not think that the creator of this thread cares what is going on here after 3 years Heh I understand you  With these same given languagesYessss Adventure Time DI get angry quite rarely but when I do it is safer for surrounding people to go somewhere else Its impossible for me to hide or suppress anger the only way to get rid of this feeling is to burstIve never liked it  Anything fake is bad actuallyHugs should be given only to chosen ones Chosen There are quite few of them though349890Yup you are doing it right  course it is not very comfortable  But Human race survived thankfully womens ability to give birth to other human beings It worked for thousands of years Why change it Besides there areThat happens And it occurs because most often people use results of extremely precise and elaborate online tests as a basis of determining ones type      Both visual and language arts more246386I study graphic design now which I really enjoy What is interesting about this field is that the ability to generate ideas and solve problems is much more important than possession of a specificAlexxxandra97  DeviantArt236994 am always ready to discipline to intimidate to be precise my siblings offenderWorld domination Shooting people in the head Why  Oh right INTJs always must be characterised only with these words     I want to show so badly my reaction to this 221226218106ISTP  \n",
            "As an ENFJ how ambitious are you I am fairly ambitious I have two undergrad degrees SociologyReligious Studies  in Education in ESLSecondary Education I left about a 3 year gap between bothWelcome  I find that writing my thoughts in freeflow about the situation helps me cope with separating my feelings with the other person I also remind myself that I will not allow anotherhealthy ways  workout regularly yoga talk to my boyfriendfriends Maintain a regular sleep schedule  unhealthy  chocolate more chocolate Sometimes other unhealthy foods It is going excellent Are relationship is building an amazing foundation We love to express our feelings for each other through poetry my preference through drawings  art his preference WeHey INFPs  barely post anymore I just wanted to share that I met my INFP boyfriend on Feb 4th of this year We met through a dating app We have never been more in love  we have both described ourIts been six dates and I found myself an INFP he took the test  and yes he is an INFP The connection is just so amazing and intense right now it even scares me  He told me he has neverI am curious what you would like Yeah we ENFJs are unique Wonder if this has to do with enneagramlove stylesI do not have a ton of info as I have not met this guy in person  only chatted with him yesterday for the first time online Heres what I do know  according to his profile he is looking forHere are some signs  they tend to talk faster  they will have a tougher time filling in gaps in the conversation sometimes they will not initiate the interaction get a bit more shy or wait tillDislike my INFP bestfriends sister We only just met this month I do not know I felt strangely upset about why I do not like her sister and guilty The girl is so selfabsorbed  does things thatYeah I hear you there You just never know that you will fall in love with someone It does come out of nowhereWell put I am borrowing this one in the futureHere are some ideas anything handwritten or created by hand so original this can range from poetry a cleverly created time line of your relationship with photos in form of a YouTube clip tooI totally relate to what you said thereYes I am with you I find it very hard to fall in love Some people have been known to mistake my friendly extrovert behaviour as some kind of romantic interest Must be going out of style to takeThanks for the reply I agree with what you have said I would actually like to dump and bailout on her at this pointThat is what she said However her friend reporting me to HR would not have any affect on me I do not work there I am simply an individual who applied for a grant which is govt money This moneythank you sane adviceHey I am working with INFP on a community project Without going into too many details a number of people have dropped the ball on her including the Illustrator who was working with her an INTP    So good James is also a Youth WorkerMusician the nonlyrical version of the song is amazing any how  F3  Throwback to 1995Reminds me of the barista at my local Starbucks Still checking if he is going to do some more rad art work and what is next in his life lol  Bono is rumoured to be an ENFJ as well yeah that is the correct way to put I felt my post was rather unbalanced The one male ENFP I know is an excellent photographer  very reliable when it comes to delievering his work I think it wasYes that is what I was conveying Glad it made sense Really tongue  I think about the 2 ENFP friends I have well one is not a friend anymore by virtue of the total lack of effort she puts in our friendship They amass so many friends very quicklyIs it me or do other ENFJs have trouble opening up I find it takes forever for me to actual talk about myself as a person unless someone asks direct questions  but who the heck does that PMostly jealous of their social acumen They walk into a room  trump all the efforts of other people namely ENFJs through their charisma and largerthanlife personalities  I find they say alotI agree with what Gilly said  point on   I find that people simply do not directly ask questions about me I think it is refreshing for ENFJs to be able to talk about themselves We value1 A big party that will have mostly acquaintances and strangers There is alcohol food and music but the point is to mainly talk to others  I would likely be tired thinking about this eventpart in bold  Something tells me that you feel disappointed about this or at least confused that he wanted to stayintouch but chooses not to initiate contact If he is not choosing to contact youThanks for sharing Gilly   Well I believe in my 30s I started to care less about fitting in and pleasing other peoples whims particularly people who wanted me to change I also became muchI did not read the link yet I had a best friend that is a ESTJ Very controlling and unable to accept new ways of doing things It was her way or the highway I also felt she cared too much aboutThanks for the reply I like how you helped me work that out ENFJ brotherHave you tried an I feel statement Basically you would explain how you feel without implicating him So you could say something like I feel  frustrated rejected shut down yes good observation There were other reasons he did not want to share with me I often wonder why he would not want to I typically do not see ESFJs as very private people   Thanks forCouldnt agree more with all that is posted here Dont over complicate things Start with FB  then a coffee before moving on to something more Honestly if she does not want to talk to you sheYes during times of frustration I feel the same Before I reach out to someone I ask myself if they are not there for me when I need them will I be ok with helping them now This help me putQuestion for my ENFJ brothers and sisters  how do you get over a breakup especially with someone you still have great memories with and truly loved I still my ex ESFJ boyfriend and it is beenI would not worry at all He also told you not to worry  trust him The thing is he knows to know she needs to own her feelings and that he is not responsible for them It is important that youWhen I look back on when I met the ESFJ I once dated he was immediately affectionate with me Reached for my hand kissed me  very obvious When we spoke he listened to me intently  asked me some new picture of me By new it is a year old but I have not changed in yearsJust watched the trailer I cannot decide from the itybityclip if he is an ENFJ Looks like an awesome movieMr Selfridge my newest love Fresh Prince of Bel  Air Star Trek the Next Generation thanks to my INFP sister Breaking Bad whole season is fantastic Top Chef  I do not have a lot of time toIts been a while ENFJs    I am curious to know how your views on relationships romantic familial friendships colleagues has changed over the course of your life A broad question that canNot as popular as ENFPs though I find that if their is an ENFP in the room they will outshine us People just gravitate towards them   I think if we need to take care of the needs of the groupIt used to bother me in the past but knowing that I dislike not hate I cannot say I hate anyone some people I am comfortable knowing that others would also dislike me I used to have a sense ofGreat question   I had a little school on the block I would make worksheets buy all kinds of supplies for my stickers  fix the booboos of the little kids Is it surprising that I am aNormally I do not like beards on men However when it comes to Mr Selfridge I would make an exception It looks really sexy Well groomed and suits him well My ex also looked very hot with a beard \n"
          ]
        }
      ]
    },
    {
      "cell_type": "code",
      "source": [
        "# Combination of  1&2\n",
        "training_token = tokenize_data(training_data_after_removing_url_punct_contraction)\n",
        "testing_token = tokenize_data(testing_data_after_removing_url_punct_contraction)\n",
        "for i in range(0,3):\n",
        "  print(training_token[i])\n",
        "  print(testing_token[i])"
      ],
      "metadata": {
        "colab": {
          "base_uri": "https://localhost:8080/"
        },
        "id": "IdrGmznIciDK",
        "outputId": "fd2677b0-b0f8-44ab-8a05-d8d1a7b0e84d"
      },
      "execution_count": 12,
      "outputs": [
        {
          "output_type": "stream",
          "name": "stdout",
          "text": [
            "['and', 'intj', 'moments', 'sportscenter', 'not', 'top', 'ten', 'plays', 'pranksWhat', 'has', 'been', 'the', 'most', 'lifechanging', 'experience', 'in', 'your', 'life', 'On', 'repeat', 'for', 'most', 'of', 'todayMay', 'the', 'PerC', 'Experience', 'immerse', 'youThe', 'last', 'thing', 'my', 'INFJ', 'friend', 'posted', 'on', 'his', 'facebook', 'before', 'committing', 'suicide', 'the', 'next', 'day', 'Rest', 'in', 'peace', 'ENFJ7', 'Sorry', 'to', 'hear', 'of', 'your', 'distress', 'Its', 'only', 'natural', 'for', 'a', 'relationship', 'to', 'not', 'be', 'perfection', 'all', 'the', 'time', 'in', 'every', 'moment', 'of', 'existence', 'Try', 'to', 'figure', 'the', 'hard', 'times', 'as', 'times', 'of', 'growth', 'as84389', '84390', 'Welcome', 'and', 'stuff', 'Game', 'Set', 'MatchProzac', 'wellbrutin', 'at', 'least', 'thirty', 'minutes', 'of', 'moving', 'your', 'legs', 'and', 'I', 'do', 'not', 'mean', 'moving', 'them', 'while', 'sitting', 'in', 'your', 'same', 'desk', 'chair', 'weed', 'in', 'moderation', 'maybe', 'try', 'edibles', 'as', 'a', 'healthier', 'alternativeBasically', 'come', 'up', 'with', 'three', 'items', 'you', 'have', 'determined', 'that', 'each', 'type', 'or', 'whichever', 'types', 'you', 'want', 'to', 'do', 'would', 'more', 'than', 'likely', 'use', 'given', 'each', 'types', 'cognitive', 'functions', 'and', 'whatnot', 'when', 'left', 'byAll', 'things', 'in', 'moderation', 'Sims', 'is', 'indeed', 'a', 'video', 'game', 'and', 'a', 'good', 'one', 'at', 'that', 'Note', 'a', 'good', 'one', 'at', 'that', 'is', 'somewhat', 'subjective', 'in', 'that', 'I', 'am', 'not', 'completely', 'promoting', 'the', 'death', 'of', 'any', 'given', 'SimDear', 'ENFP', 'What', 'were', 'your', 'favorite', 'video', 'games', 'growing', 'up', 'and', 'what', 'are', 'your', 'now', 'current', 'favorite', 'video', 'games', 'cool', 'appears', 'to', 'be', 'too', 'late', 'sadTheres', 'someone', 'out', 'there', 'for', 'everyoneWait', 'I', 'thought', 'confidence', 'was', 'a', 'good', 'thingI', 'just', 'cherish', 'the', 'time', 'of', 'solitude', 'bc', 'i', 'revel', 'within', 'my', 'inner', 'world', 'more', 'whereas', 'most', 'other', 'time', 'i', 'would', 'be', 'workin', 'just', 'enjoy', 'the', 'me', 'time', 'while', 'you', 'can', 'Dont', 'worry', 'people', 'will', 'always', 'be', 'around', 'toYo', 'entp', 'ladies', 'if', 'you', 'are', 'into', 'a', 'complimentary', 'personalitywell', 'hey', 'when', 'your', 'main', 'social', 'outlet', 'is', 'xbox', 'live', 'conversations', 'and', 'even', 'then', 'you', 'verbally', 'fatigue', 'quickly', 'I', 'really', 'dig', 'the', 'part', 'from', '146', 'to', '250', 'because', 'this', 'thread', 'requires', 'it', 'of', 'meGet', 'high', 'in', 'backyard', 'roast', 'and', 'eat', 'marshmellows', 'in', 'backyard', 'while', 'conversing', 'over', 'something', 'intellectual', 'followed', 'by', 'massages', 'and', 'kisses', 'for', 'too', 'many', 'bs', 'in', 'that', 'sentence', 'How', 'could', 'you', 'Think', 'of', 'the', 'BBanned', 'for', 'watching', 'movies', 'in', 'the', 'corner', 'with', 'the', 'duncesBanned', 'because', 'Health', 'class', 'clearly', 'taught', 'you', 'nothing', 'about', 'peer', 'pressureBanned', 'for', 'a', 'whole', 'host', 'of', 'reasons', 'Two', 'baby', 'deer', 'on', 'left', 'and', 'right', 'munching', 'on', 'a', 'beetle', 'in', 'the', 'middle', '2', 'Using', 'their', 'own', 'blood', 'two', 'cavemen', 'diary', 'todays', 'latest', 'happenings', 'on', 'their', 'designated', 'cave', 'diary', 'wall', '3', 'I', 'see', 'it', 'asa', 'pokemon', 'world', 'an', 'infj', 'society', 'everyone', 'becomes', 'an', 'optimist49142', 'all', 'artists', 'are', 'artists', 'because', 'they', 'draw', 'Its', 'the', 'idea', 'that', 'counts', 'in', 'forming', 'something', 'of', 'your', 'own', 'like', 'a', 'signatureWelcome', 'to', 'the', 'robot', 'ranks', 'person', 'who', 'downed', 'my', 'selfesteem', 'cuz', 'I', 'am', 'not', 'an', 'avid', 'signature', 'artist', 'like', 'herself', 'proudBanned', 'for', 'taking', 'all', 'the', 'room', 'under', 'my', 'bed', 'Ya', 'got', 'ta', 'learn', 'to', 'share', 'with', 'the', 'roaches', 'for', 'being', 'too', 'much', 'of', 'a', 'thundering', 'grumbling', 'kind', 'of', 'storm', 'yepAhh', 'old', 'high', 'school', 'music', 'I', 'have', 'not', 'heard', 'in', 'ages', 'failed', 'a', 'public', 'speaking', 'class', 'a', 'few', 'years', 'ago', 'and', 'I', 'have', 'sort', 'of', 'learned', 'what', 'I', 'could', 'do', 'better', 'were', 'I', 'to', 'be', 'in', 'that', 'position', 'again', 'A', 'big', 'part', 'of', 'my', 'failure', 'was', 'just', 'overloading', 'myself', 'with', 'tooI', 'like', 'this', 'persons', 'mentality', 'Hes', 'a', 'confirmed', 'INTJ', 'by', 'the', 'way', 'to', 'the', 'Denver', 'area', 'and', 'start', 'a', 'new', 'life', 'for', 'myself']\n",
            "['Actually', 'from', 'these', 'results', 'it', 'looks', 'like', 'you', 'are', 'triplewithdrawn', '5w4', '9w8', '4w5', 'It', 'would', 'appear', 'that', 'you', 'just', 'happen', 'to', 'have', 'strong', '2', '6', 'and', '7', 'traitsIts', 'odd', 'that', 'you', 'are', 'associating', 'the', 'whole', 'heart', 'triad', 'with', 'narcissism', 'Also', 'I', 'would', 'associate', 'Fives', 'with', 'having', 'some', 'antisocial', 'disorder', 'not', 'Eights', 'BTW', 'let', 'us', 'set', 'aside', 'the', 'aspergers', 'and', 'call', 'itSo', 'is', 'my', 'mom', 'It', 'sometimes', 'annoys', 'me', 'to', 'pieces', 'My', 'mom', 'Go', 'do', 'insert', 'known', 'todo', 'task', 'here', 'Me', 'I', 'know', 'My', 'mom', 'Well', 'if', 'you', 'know', 'then', 'why', 'do', 'not', 'you', 'go', 'do', 'it', 'yeah', 'I', 'am', 'not', 'oneIm', 'gon', 'na', 'guess', 'the', 'EJ', 'types', 'are', 'most', 'likely', 'to', 'groupthink', 'but', 'I', 'am', 'not', 'entirely', 'sure', 'Thoughts', 'Also', 'which', 'types', 'are', 'least', 'likely', 'to', 'groupthinkVery', 'true', 'My', 'guess', 'is', 'that', '9s', 'are', 'the', 'most', 'idealized', 'type', 'thanks', 'to', 'our', 'high', 'levels', 'of', 'neutrality', 'and', 'inner', 'tranquility', 'but', 'from', 'the', 'perspective', 'of', 'a', '9', 'it', 'is', 'not', 'worth', 'it', 'to', 'idealize', 'any', 'type', 'I', 'hardly', 'ever', 'wear', 'hats', 'if', 'at', 'all', 'Nice', 'new', 'avatar', 'BTW', 'dealwithitThe', 'ENTJ', 'I', 'am', 'currently', 'living', 'with', 'apparently', 'has', 'used', 'his', 'Se', 'via', 'cooking', 'amid', 'other', 'things', 'I', 'am', 'not', '100', 'sure', 'of', 'Hes', 'quite', 'nice', 'with', 'Se', 'compared', 'to', 'TeNi', 'alone', 'Sometimes', 'I', 'kinda', 'wonder', 'howYou', 'have', 'been', 'criticized', 'of', 'having', 'less', 'thanks', 'than', 'posts', 'guiltyA', 'Type', '9', 'looks', 'at', 'the', 'poll', 'Were', 'so', 'popular', 'proud', 'Goes', 'and', 'votes', 'for', '9', 'EDIT', 'and', '9th', 'vote', 'What', 'a', 'number', 'crazyIt', 'seems', 'both', 'of', 'the', 'ISPs', 'seem', 'to', 'hold', 'out', 'relationships', 'and', 'get', 'married', 'longer', 'than', 'the', 'ESPs', 'Also', 'some', 'stats', 'from', 'Personality', 'Page', 'Highest', 'Percentage', 'Married', 'From', 'highest', 'toLooks', 'back', 'at', 'thread', 'Riiiiiiiiiight', 'so', 'why', 'did', 'I', 'create', 'this', 'thread', 'dry', 'maybe', 'too', 'much', 'like', 'comparing', 'an', 'ISTP', 'to', 'an', 'INTPMaybe', 'an', 'INTP', 'in', 'a', 'TiSi', 'loop', 'I', 'tend', 'to', 'be', 'nitpicky', 'about', 'my', 'environment', 'as', 'well', 'due', 'to', 'my', 'high', 'SiSo', 'am', 'I', 'and', 'although', 'my', '5w6', 'is', 'close', 'I', 'am', 'a', '9w1', 'I', 'have', 'absolutely', 'no', '8', 'anywhere', 'in', 'my', 'Enneagram', 'type', 'at', 'allNot', 'to', 'mention', 'it', 'feels', 'somewhat', 'disturbing', 'and', 'unreal', 'to', 'do', 'it', 'all', 'the', 'timePSTypes', 'Enneagram', 'Test', 'Results', 'The', 'Distribution', 'of', 'Your', 'Scores', 'Type', 'One', '15', 'Type', 'TwoIm', 'probably', 'the', 'one', 'all', 'the', 'way', 'to', 'the', 'right', 'Am', 'I', 'now', 'weird', 'for', 'looking', 'well', 'crazyMaybe', 'because', 'Enneagram', 'is', 'not', 'as', 'official', 'and', 'popular', 'as', 'MBTI', 'and', 'so', 'it', 'is', 'hard', 'to', 'find', 'broad', 'realworld', 'statsTP', 'and', 'FP', 'are', 'not', 'necessarily', 'associated', 'with', 'a', 'Pe', 'function', 'Theyre', 'associated', 'with', 'domaux', 'Ti', 'and', 'Fi', 'respectively', 'Anyway', 'you', 'could', 'divide', 'up', 'the', '16', 'types', 'in', 'a', 'number', 'of', 'ways', 'of', 'four', 'EJ', 'EPNot', 'an', 'SJ', 'but', 'my', 'mom', 'who', 'is', 'an', 'SJ', 'her', 'parents', 'are', 'most', 'likely', 'ESFJ', 'and', 'ISTPWhy', 'The', 'discussions', 'fine', 'nothings', 'heated', 'up', 'in', 'hereI', 'used', 'to', 'wear', 'a', 'watch', 'when', 'I', 'was', 'younger', 'but', 'watches', 'tend', 'to', 'irritate', 'my', 'wrist', 'so', 'I', 'stopped', 'Besides', 'there', 'are', 'other', 'ways', 'for', 'me', 'to', 'tell', 'time', 'when', 'it', 'is', 'necessary', 'Also', 'beware', 'under1', 'Words', 'of', 'Affirmation', 'Meh', '2', 'Gifts', 'Giving', 'them', 'yep', 'Receiving', 'them', 'is', 'another', 'story', '3', 'Acts', 'of', 'Service1', 'Not', 'entirely', 'sure', 'Theyre', 'mostly', 'about', 'places', 'than', 'anything', 'else', 'Seldom', 'if', 'at', 'all', 'are', 'there', 'people', 'in', 'my', 'dreams', '2', 'Often', 'like', 'most', 'other', 'things', 'I', 'remember', 'a', 'dream', 'quite', 'vividly', 'but', 'theTheyll', 'probably', 'get', 'along', 'quite', 'well', 'This', 'is', 'probably', 'true', 'for', 'any', 'XwY', 'with', 'a', 'YwX', 'BTW', 'if', 'you', 'were', 'wondering', 'the', 'little', 'w', 'between', 'the', 'numbers', 'stands', 'for', 'wing', 'not', 'with', 'it', 'can', 'be', 'unclearIve', 'wondered', 'how', 'common', 'each', 'of', 'the', '9', 'fundamental', 'Enneagram', 'types', 'are', 'Does', 'anyone', 'know', 'or', 'have', 'a', 'linkFrom', 'typelogiccom', 'Intuition', 'is', 'tertiaryas', 'the', 'ESFJ', 'matures', 'and', 'as', 'situations', 'arise', 'which', 'call', 'for', 'suspension', 'of', 'criticism', 'Ne', 'is', 'allowed', 'to', 'play', 'Under', 'the', 'leadership', 'of', 'the', 'Fe', 'functionFrom', 'typelogiccom', 'As', 'the', 'ESTJ', 'matures', 'and', 'as', 'situations', 'arise', 'which', 'call', 'for', 'suspension', 'of', 'criticism', 'Extraverted', 'iNtuition', 'is', 'allowed', 'to', 'play', 'Under', 'the', 'leadership', 'of', 'the', 'Te', 'functionAgain', 'sorry', 'if', 'I', 'am', 'harsh', 'Try', 'not', 'to', 'take', 'everything', 'here', 'personally', 'If', 'you', 'look', 'inside', 'the', 'parentheses', 'there', 'is', 'my', 'alternate', 'possibility', 'Im', 'not', 'inconsiderate', 'It', 'turns', 'out', 'I', 'was', 'justI', 'tend', 'to', 'apologize', 'like', 'that', 'too', 'very', 'reasoned', 'out', 'Maybe', 'it', 'is', 'a', 'TF', 'thingThis', 'obligation', 'of', 'SJs', 'not', 'just', 'ESTJs', 'amid', 'others', 'is', 'what', 'drives', 'me', 'up', 'a', 'wall', 'sometimes', 'My', 'ESFJ', 'mother', 'has', 'this', 'tendency', 'to', 'do', 'this', 'to', 'me', 'although', 'not', 'to', 'the', 'degree', 'you', 'are', 'encountering', 'I', 'find', 'this', 'interesting', 'I', 'never', 'would', 'have', 'guessed', 'that', 'an', 'ESTJ', 'would', 'tell', 'a', 'white', 'lie', 'this', 'in', 'part', 'due', 'to', 'my', 'stereotypical', 'views', 'of', 'ESTJs', 'As', 'a', 'thinking', 'type', 'I', 'might', 'get', 'thrown', 'off', 'by', 'this', 'andNot', 'to', 'be', 'harsh', 'but', 'speaking', 'of', 'lies', 'you', 'could', 'be', 'lying', 'about', 'your', 'strong', 'STJ', 'It', 'looks', 'like', 'you', 'are', 'just', 'strong', 'J', 'either', 'that', 'or', 'I', 'could', 'be', 'misreading', 'the', 'scale', 'So', 'another', 'question', 'whatHeres', 'a', 'third', 'ISTP', 'to', 'add', 'to', 'that', 'I', 'will', 'say', 'though', 'that', 'because', 'of', 'my', 'autism', 'I', 'have', 'an', 'unusually', 'strong', 'Si', 'It', 'could', 'happen', 'to', 'an', 'ISFP', 'and', 'the', 'result', 'could', 'be', 'an', 'autistic', 'ISFP', 'with', 'ISFJHere', 'I', 'replied', 'to', 'your', 'thread', 'happy', 'crazy', 'Anyway', 'I', 'once', 'read', 'that', 'IFPs', 'such', 'as', 'you', 'do', 'not', 'seem', 'to', 'have', 'much', 'patience', 'with', 'types', 'whose', 'preferences', 'are', 'strongly', 'T', 'or', 'J', 'let', 'alone', 'TJMostly', 'Se', 'and', 'Ni', 'I', 'rule', 'with', 'Ti', 'so', 'I', 'do', 'not', 'need', 'work', 'there', 'Te', 'and', 'Fi', 'are', 'doing', 'OK', 'and', 'they', 'will', 'develop', 'better', 'in', 'my', 'later', 'life', 'Ne', 'I', 'just', 'suck', 'at', 'and', 'Fe', 'I', 'am', 'not', 'too', 'good', 'with', 'either', 'BothP', 'S', 'Why', 'do', 'you', 'terms', 'and', 'conditions', 'have', 'to', 'be', 'so', 'long', 'Do', 'you', 'have', 'any', 'idea', 'how', 'discouraging', 'and', 'redundant', 'that', 'is', 'Ever', 'heard', 'of', 'plain', 'English', 'and', 'not', 'legaleseI', 'need', 'to', 'get', 'out', 'more', 'recurringthoughtofmineSounds', 'like', 'you', 'need', 'to', 'relax', 'It', 'also', 'sounds', 'like', 'you', 'need', 'to', 'forgive', 'your', 'INTPs', 'detached', 'perceiving', 'nature', 'Maybe', 'he', 'got', 'quickly', 'boredThanks', 'to', 'everyone', 'here', 'who', 'shared', 'their', 'twosided', 'Se', 'understanding', 'I', 'remember', 'my', 'high', 'school', 'ENFJ', 'teacher', 'taking', 'us', 'outside', 'during', 'homeroom', 'Se', 'relief', 'proudFirst', 'impression', 'ESTJ', 'maybe', 'with', 'a', 'strong', 'Se', 'Certainly', 'underdeveloped', 'in', 'terms', 'of', 'cognitive', 'functions', 'such', 'as', 'Ne', 'and', 'FiIt', 'looks', 'like', 'you', 'have', 'just', 'won', 'out', 'the', 'rest', 'of', 'us', 'either', 'that', 'or', 'you', 'were', 'not', 'being', 'true', 'to', 'yourselfISTJ', 'Cup', 'of', 'coffee', 'ESTJ', 'Judges', 'mallet', 'for', 'lack', 'of', 'a', 'proper', 'name', 'if', 'there', 'is', 'one', 'ISTP', 'Someone', 'fixing', 'up', 'their', 'cool', 'vehicle', 'be', 'it', 'a', 'car', 'motorcycle', 'bicycle', 'or', 'otherwise', 'ISFP', 'An', 'artistThe', 'question', 'is', 'will', 'it', 'be', 'because', 'we', 'humans', 'could', 'control', 'ourselves', 'or', 'because', 'mother', 'nature', 'forced', 'usI', 'would', 'guess', 'this', 'is', 'an', 'Si', 'thing', 'Given', 'my', 'strong', 'Si', 'I', 'have', 'become', 'like', 'this', 'as', 'well', 'However', 'being', 'an', 'SP', 'I', 'do', 'not', 'need', 'routine', 'just', 'need', 'to', 'know', 'how', 'it', 'worksI', 'find', 'it', 'fascinating', 'that', 'some', 'ISFJs', 'have', 'higher', 'Te', 'than', 'Ti', 'It', 'had', 'me', 'wondering', 'if', 'most', 'other', 'SJs', 'have', 'higher', 'Te', 'and', 'Fe', 'than', 'their', 'Ti', 'and', 'Fi', 'When', 'my', 'ESFJ', 'mother', 'tested', 'out', 'she', 'had', 'higher', 'TeHow', 'nostalgic', 'are', 'you', 'It', 'would', 'appear', 'that', 'Si', 'nostalgia', 'is', 'fairly', 'strong', 'among', 'you', 'ESFJs', 'being', 'SiauxI', 'wondered', 'where', 'this', 'thread', 'went', 'has', 'a', 'thought', 'of', 'music', 'and', 'therefore', 'can', 'not', 'be', 'describedFrom', 'an', 'ISTP', 'with', 'aux', 'Se', 'this', 'is', 'an', 'insightful', 'thread', 'I', 'have', 'sometimes', 'wondered', 'if', 'ENFJs', 'or', 'ENxJs', 'for', 'that', 'matter', 'experience', 'Se', 'in', 'a', 'hereandnow', 'manner', 'like', 'SPs', 'doI', 'can', 'imagine', 'like', 'any', 'identity', 'relationship', 'that', 'it', 'will', 'be', 'a', 'nice', 'one', 'but', 'eventually', 'will', 'get', 'boring', 'I', 'sometimes', 'wonder', 'what', 'an', 'ISFPISTP', 'relationship', 'would', 'look', 'likeLets', 'see', 'Playing', 'games', 'especially', 'ones', 'that', 'integrate', 'the', 'Ti', 'element', 'which', 'few', 'adventurous', 'games', 'seem', 'to', 'do', 'skiing', 'biking', 'hiking', 'climbing', 'procrastinating', 'here', 'not', 'uncommon', 'among', 'us']\n",
            "['I', 'am', 'finding', 'the', 'lack', 'of', 'me', 'in', 'these', 'posts', 'very', 'alarmingSex', 'can', 'be', 'boring', 'if', 'it', 'is', 'in', 'the', 'same', 'position', 'often', 'For', 'example', 'me', 'and', 'my', 'girlfriend', 'are', 'currently', 'in', 'an', 'environment', 'where', 'we', 'have', 'to', 'creatively', 'use', 'cowgirl', 'and', 'missionary', 'There', 'is', 'not', 'enoughGiving', 'new', 'meaning', 'to', 'Game', 'theoryHello', 'ENTP', 'Grin', 'Thats', 'all', 'it', 'takes', 'Than', 'we', 'converse', 'and', 'they', 'do', 'most', 'of', 'the', 'flirting', 'while', 'I', 'acknowledge', 'their', 'presence', 'and', 'return', 'their', 'words', 'with', 'smooth', 'wordplay', 'and', 'more', 'cheeky', 'grinsThis', 'Lack', 'of', 'Balance', 'and', 'Hand', 'Eye', 'CoordinationReal', 'IQ', 'test', 'I', 'score', '127', 'Internet', 'IQ', 'tests', 'are', 'funny', 'I', 'score', '140s', 'or', 'higher', 'Now', 'like', 'the', 'former', 'responses', 'of', 'this', 'thread', 'I', 'will', 'mention', 'that', 'I', 'do', 'not', 'believe', 'in', 'the', 'IQ', 'test', 'Before', 'you', 'banishYou', 'know', 'you', 'are', 'an', 'ENTP', 'when', 'you', 'vanish', 'from', 'a', 'site', 'for', 'a', 'year', 'and', 'a', 'half', 'return', 'and', 'find', 'people', 'are', 'still', 'commenting', 'on', 'your', 'posts', 'and', 'liking', 'your', 'ideasthoughts', 'You', 'know', 'you', 'are', 'an', 'ENTP', 'when', 'you', 'over', 'think', 'things', 'sometimes', 'I', 'go', 'by', 'the', 'old', 'Sherlock', 'Holmes', 'quote', 'Perhaps', 'when', 'a', 'man', 'has', 'special', 'knowledge', 'and', 'special', 'powers', 'like', 'my', 'own', 'it', 'rather', 'encourages', 'him', 'to', 'seek', 'a', 'complexcheshirewolftumblrcom', 'So', 'is', 'I', 'D400000', 'postNot', 'really', 'I', 'have', 'never', 'thought', 'of', 'EI', 'or', 'JP', 'as', 'real', 'functions', 'I', 'judge', 'myself', 'on', 'what', 'I', 'use', 'I', 'use', 'Ne', 'and', 'Ti', 'as', 'my', 'dominates', 'Fe', 'for', 'emotions', 'and', 'rarely', 'Si', 'I', 'also', 'use', 'Ni', 'due', 'to', 'me', 'strengthYou', 'know', 'though', 'That', 'was', 'ingenious', 'After', 'saying', 'it', 'I', 'really', 'want', 'to', 'try', 'it', 'and', 'see', 'what', 'happens', 'with', 'me', 'playing', 'a', 'first', 'person', 'shooter', 'in', 'the', 'back', 'while', 'we', 'drive', 'around', 'I', 'want', 'to', 'see', 'the', 'look', 'onout', 'of', 'all', 'of', 'them', 'the', 'rock', 'paper', 'one', 'is', 'the', 'best', 'It', 'makes', 'me', 'lol', 'You', 'guys', 'are', 'lucky', 'D', 'I', 'am', 'really', 'high', 'up', 'on', 'the', 'tumblr', 'systemSo', 'did', 'you', 'hear', 'about', 'that', 'new', 'first', 'person', 'shooter', 'game', 'I', 'have', 'been', 'rocking', 'the', 'hell', 'out', 'of', 'the', 'soundtrack', 'on', 'my', 'auto', 'sound', 'equipment', 'that', 'will', 'shake', 'the', 'heavens', 'We', 'managed', 'to', 'put', 'a', 'couple', 'PS3s', 'inNo', 'The', 'way', 'he', 'connected', 'things', 'was', 'very', 'Ne', 'Ne', 'dominates', 'are', 'just', 'as', 'aware', 'of', 'their', 'environments', 'as', 'Se', 'dominates', 'Example', 'Shawn', 'Spencer', 'or', 'Patrick', 'Jane', 'Both', 'ENTPsWell', 'charlie', 'I', 'will', 'be', 'the', 'first', 'to', 'admit', 'I', 'do', 'get', 'jealous', 'like', 'you', 'do', 'I', 'chalk', 'it', 'up', 'to', 'my', '4w3', 'heart', 'mixed', 'with', 'my', 'dominate', '7w8', '7s', 'and', '8s', 'both', 'like', 'to', 'be', 'noticed', '4s', 'like', 'to', 'be', 'known', 'not', 'the', 'sameD', 'I', 'will', 'upload', 'the', 'same', 'clip', 'with', 'the', 'mic', 'away', 'from', 'my', 'mouth', 'Than', 'you', 'will', 'not', 'hear', 'anything', 'Ninja', 'Assassin', 'style', 'but', 'with', 'splatterTik', 'Tok', 'is', 'a', 'really', 'great', 'song', 'As', 'long', 'as', 'you', 'can', 'mental', 'block', 'out', 'the', 'singer', 'I', 'love', 'the', 'beat', 'it', 'makes', 'me', 'bouncedropio', 'v1swck0', 'D', 'Mic', 'really', 'close', 'to', 'my', 'mouth', 'and', 'smokin', 'aces', 'assassins', 'ball', 'playing', 'in', 'the', 'backgroundSociable', 'extrovert', 'I', 'am', 'an', 'extrovert', 'and', 'I', 'am', 'not', 'sociable', 'Sherlock', 'in', 'the', 'movie', 'was', 'an', 'ENTP', 'Normally', 'he', 'is', 'played', 'as', 'a', 'EXTJ', 'In', 'the', 'books', 'he', 'is', 'an', 'ESTJ', 'As', 'I', 'said', 'The', 'movie', 'looked', 'good', 'except', 'for', 'it', 'being', 'called', 'sherlock', 'holmes', 'I', 'never', 'had', 'fear', 'of', 'kissing', 'a', 'guy', 'I', 'will', 'kiss', 'an', 'animal', 'too', 'So', 'there', 'was', 'nothing', 'to', 'vanish', 'Just', 'personal', 'taste', 'and', 'me', 'not', 'liking', 'it', 'The', 'guy', 'I', 'kissed', 'did', 'not', 'know', 'me', 'It', 'was', 'one', 'of', 'thoseSounds', 'pretty', 'much', 'like', 'my', 'area', 'and', 'what', 'I', 'am', 'going', 'through', 'right', 'now', 'trying', 'to', 'figure', 'out', 'which', 'way', 'I', 'want', 'to', 'take', 'my', 'life', 'I', 'want', 'to', 'do', 'so', 'many', 'things', 'The', 'biggest', 'problem', 'is', 'that', 'I', 'know', 'if', 'I', 'dontD', 'I', 'was', 'operating', 'under', 'the', 'impression', 'that', 'you', 'were', 'female', 'I', 'never', 'looked', 'at', 'your', 'boxy', 'Okay', 'I', 'help', 'out', 'my', 'gay', 'friends', 'all', 'the', 'time', 'and', 'one', 'of', 'them', 'has', 'developed', 'a', 'little', 'crush', 'on', 'me', 'I', 'get', 'redTT', 'You', 'just', 'described', 'me', 'and', 'I', 'am', 'living', 'the', 'worst', 'nightmare', 'I', 'am', 'trapped', 'in', 'one', 'place', 'with', 'one', 'one', 'around', 'Only', 'dull', 'woods', 'If', 'I', 'was', 'a', 'serial', 'killer', 'this', 'would', 'be', 'the', 'perfect', 'place', 'but', 'sadly', 'ImTBH', 'and', 'biased', 'sounds', 'like', 'a', 'shadowed', 'INFP', 'I', 'think', 'maybe', 'he', 'was', 'hurt', 'and', 'turned', 'ESTJ', 'I', 'can', 'tell', 'because', 'he', 'has', 'some', 'of', 'the', 'typical', 'INFP', 'traits', 'left', 'overChecks', 'list', 'I', 'am', 'sorry', 'It', 'seems', 'that', 'you', 'have', 'came', 'at', 'a', 'bad', 'time', 'Weve', 'already', 'reached', 'our', 'quota', 'of', 'INFJs', 'However', 'being', 'you', 'are', 'female', 'and', 'I', 'like', 'females', 'I', 'will', 'make', 'you', 'a', 'deal', 'I', 'will', 'kick', 'oneIm', 'ANTP', 'Leaning', 'toward', 'E', 'I', 'am', 'easy', 'for', 'both', 'ENTPs', 'and', 'INTPs', 'to', 'identify', 'with', 'I', 'also', 'imagine', 'ENTPs', 'interrogations', 'would', 'go', 'a', 'little', 'bit', 'like', 'Jacks', 'from', '24', 'except', 'more', 'mechanical', 'Rigging', 'up', 'shock', 'treatment', 'equipment', 'in', 'an', 'abandoned', 'building', 'out', 'of', 'an', 'old', 'car', 'batty', 'jumperIt', 'was', 'a', 'compliment', 'Trust', 'me', 'I', 'am', 'just', 'as', 'psychopathic', 'D', 'except', 'I', 'have', 'emoticons', 'Theyre', 'just', 'weird', 'ones', 'Like', 'laughing', 'when', 'I', 'get', 'hurt', 'or', 'at', 'people', 'running', 'themselves', 'over', 'with', 'their', 'lawn', 'mower', 'Its', 'like', 'a', 'theme', 'for', 'where', 'I', 'live', 'and', 'that', 'is', 'why', 'I', 'know', 'it', 'by', 'heart', 'I', 'usual', 'do', 'not', 'leave', 'until', 'the', 'thing', 'ends', 'But', 'in', 'the', 'mean', 'time', 'In', 'between', 'times', 'You', 'work', 'your', 'thing', 'I', 'will', 'work', 'mine', 'D', 'D', 'I', 'am', 'the', 'MBP', 'Pleasure', 'to', 'meet', 'youDamn', 'need', 'to', 'trust', 'my', 'instincts', 'more', 'I', 'would', 'have', 'been', 'closer', 'I', 'was', 'going', 'to', 'say', 'INFPEXFP', 'Leaning', 'toward', 'S', 'with', 'the', 'way', 'she', 'responded', 'D', 'My', 'friends', 'even', 'my', 'gay', 'and', 'lesbian', 'ones', 'always', 'come', 'to', 'me', 'for', 'adviceI', 'bow', 'to', 'my', 'entp', 'masters', 'ENTPs', 'are', 'so', 'great', 'If', 'it', 'was', 'not', 'for', 'ENTPs', 'I', 'would', 'not', 'have', 'been', 'able', 'to', 'build', 'what', 'I', 'am', 'building', 'Duck', 'Duck', 'Duck', 'ShotgunWhat', 'Me', 'I', 'never', 'do', 'that', 'Because', 'its', 'hard', 'to', 'be', 'sad', 'about', 'losing', 'someone', 'you', 'like', 'when', 'you', 'knew', 'you', 'were', 'right', 'and', 'give', 'yourself', 'a', 'big', 'pat', 'on', 'the', 'back', 'because', 'you', 'are', 'awesome', 'and', 'always', 'correctOh', 'you', 'do', 'not', 'have', 'to', 'tell', 'me', 'that', 'most', 'of', 'them', 'are', 'stupid', 'I', 'know', 'this', 'That', 'is', 'why', 'I', 'play', 'with', 'them', 'and', 'it', 'makes', 'me', 'laugh', 'D', 'As', 'I', 'am', 'going', 'to', 'take', 'Neuropsychology', 'and', 'I', 'have', 'a', 'few', 'psychologistD', 'I', 'am', 'a', 'Nightowl', 'I', 'wake', 'up', 'between', '67pm', 'and', 'stay', 'awake', 'till', '101130amPersonal', 'opinion', 'backed', 'by', 'theory', 'would', 'suggest', 'that', 'INTPs', 'are', 'the', 'most', 'socially', 'difficult', 'While', 'INTJs', 'can', 'be', 'socially', 'indifferent', 'but', 'they', 'will', 'also', 'use', 'social', 'situations', 'if', 'the', 'the', 'need', 'arisesPersonal', 'stocks', 'that', 'I', 'have', 'on', 'my', 'desktop', 'that', 'I', 'have', 'downloaded', 'from', 'random', 'stock', 'sites', 'and', 'stock', 'photobucketsIll', 'tell', 'you', 'when', 'I', 'open', 'photoshop', 'Glad', 'you', 'like', 'it', 'staticD', 'Thanks', 'Made', 'for', 'a', 'friend', 'Several', 'hours', 'of', 'work', 'I', 'constructed', 'every', 'line', 'by', 'Static', 'I', 'will', 'have', 'to', 'get', 'to', 'your', 'avatar', 'later', 'if', 'one', 'of', 'my', 'fellow', 'teammates', 'doesntPsychologist', 'do', 'not', 'keep', 'me', 'around', 'long', 'enough', 'to', 'diagnosis', 'me', 'I', 'like', 'to', 'toy', 'with', 'them', 'What', 'I', 'have', 'diagnosis', 'myself', 'with', 'and', 'had', 'a', 'few', 'psychologist', 'friends', 'a', 'few', 'other', 'friends', 'tell', 'me', 'I', 'have', 'is']\n",
            "['does', 'indeed', 'help', 'To', 'answer', 'the', 'question', 'my', 'IQ', 'is', '129', 'and', 'it', 'was', 'professionally', 'administered', 'But', 'it', 'does', 'not', 'mean', 'anything', 'to', 'meI', 'do', 'not', 'need', 'a', 'number', 'to', 'tell', 'me', 'I', 'am', 'intelligent', 'IShall', 'I', 'play', 'you', 'a', 'song', 'on', 'the', 'worlds', 'smallest', 'violinI', 'really', 'do', 'not', 'get', 'how', 'you', 'guys', 'think', 'she', 'is', 'an', 'introvert', 'Shes', 'said', 'many', 'times', 'about', 'how', 'extroverted', 'she', 'is', 'and', 'she', 'was', 'voted', 'Most', 'Talkative', 'by', 'her', 'high', 'school', 'I', 'can', 'see', 'an', 'introvert', 'beingAssuming', 'morality', 'is', 'absolute', 'can', 'you', 'explain', 'to', 'me', 'the', 'absolute', 'best', 'moral', 'choice', 'out', 'of', 'every', 'situation', 'I', 'am', 'assuming', 'you', 'can', 'not', 'and', 'on', 'who', 'is', 'authority', 'should', 'we', 'accept', 'these', 'truths', 'It', 'can', 'not', 'beHello', 'all', 'I', 'originally', 'joined', 'this', 'site', 'in', 'late', '2009', 'and', 'I', 'lurked', 'for', 'many', 'months', 'before', 'I', 'had', 'just', 'turned', '19', 'and', 'started', 'college', 'in', 'search', 'of', 'myself', 'and', 'I', 'used', 'this', 'forum', 'to', 'help', 'discover1', 'Log', 'in', 'after', 'a', 'week', 'or', 'so', 'of', 'not', 'being', 'on', 'here', '2', 'Look', 'at', 'INFJ', 'forum', 'sees', 'that', 'all', 'the', 'new', 'threads', 'are', 'already', 'ones', 'that', 'I', 'have', 'seen', 'and', 'discussed', 'in', 'the', 'past', '3', 'Check', 'the', 'new', 'posts', 'in', 'case', 'II', 'hope', 'everyone', 'realizes', 'the', 'difference', 'between', 'a', 'nice', 'guy', 'and', 'a', 'well', 'nice', 'guywwwyoutubecomwatchvDOX9l4Ys7NYI', 'would', 'retire', 'my', 'account', 'since', 'I', 'do', 'not', 'ever', 'come', 'on', 'here', 'anymore', 'and', 'I', 'do', 'not', 'really', 'care', 'about', 'MBTI', 'anymore', 'but', 'why', 'put', 'an', 'unnecessary', 'restriction', 'on', 'myselfIm', 'not', 'a', 'virgin', 'In', 'some', 'ways', 'I', 'still', 'wish', 'I', 'wasI', 'lost', 'my', 'virginity', 'to', 'someone', 'who', 'I', 'was', 'not', 'in', 'love', 'with', 'The', 'girl', 'I', 'am', 'with', 'right', 'now', 'is', 'and', 'if', 'it', 'were', 'not', 'for', 'that', 'one', 'girl', 'I', 'would', 'be', 'too', 'andIm', '21', 'I', 'am', 'young', 'amiriteHaving', 'the', 'feeling', 'of', 'being', 'alone', 'Being', 'able', 'to', 'tell', 'a', 'lot', 'about', 'a', 'person', 'just', 'by', 'their', 'energy', 'Its', 'almost', 'like', 'I', 'have', 'known', 'them', 'for', 'years', 'And', 'then', 'if', 'they', 'find', 'this', 'out', 'it', 'freaks', 'them', 'out', 'think', 'it', 'might', 'be', 'more', 'of', 'a', 'biological', 'thing', 'and', 'how', 'you', 'were', 'raised', 'more', 'than', 'how', 'it', 'is', 'based', 'on', 'your', 'type', 'but', 'I', 'can', 'see', 'how', 'type', 'could', 'play', 'a', 'part', 'As', 'for', 'meyeah', 'I', 'am', 'nowhere', 'near', 'anI', 'suppose', 'I', 'still', 'am', 'but', 'I', 'have', 'lowered', 'my', 'standards', 'so', 'much', 'to', 'where', 'I', 'date', 'people', 'I', 'do', 'not', 'even', 'like', 'probably', 'just', 'to', 'not', 'feel', 'alone', 'I', 'am', 'a', 'little', 'disgusted', 'with', 'myself', 'at', 'the', 'moment', 'know', 'what', 'you', 'mean', 'I', 'have', 'had', 'this', 'same', 'problem', 'for', 'the', 'longest', 'time', 'and', 'I', 'too', 'can', 'seem', 'to', 'spark', 'relationships', 'better', 'over', 'text', 'Weird', 'But', 'anyways', 'I', 'have', 'just', 'forced', 'myself', 'to', 'be', 'a', 'little', 'moreI', 'can', 'imagine', 'most', 'INFJs', 'can', 'relate', 'to', 'this', 'trust', 'test', 'results', 'That', 'being', 'said', 'I', 'could', 'very', 'well', 'be', 'an', 'INFJ', 'type', '3My', 'views', 'have', 'always', 'been', 'that', 'I', 'will', 'never', 'have', 'sex', 'with', 'someone', 'that', 'I', 'know', 'is', 'just', 'gon', 'na', 'lead', 'to', 'sex', 'and', 'that', 'is', 'it', 'Up', 'to', 'this', 'point', 'I', 'have', 'followed', 'through', 'to', 'that', 'because', 'I', 'can', 'not', 'imagine', 'givingFor', 'me', 'like', 'most', 'of', 'you', 'it', 'comes', 'out', 'very', 'early', 'on', 'but', 'I', 'try', 'to', 'control', 'my', 'tongue', 'for', 'as', 'long', 'as', 'I', 'can', 'so', 'I', 'hardly', 'ever', 'say', 'it', 'at', 'all', 'at', 'least', 'intentionally', 'At', 'the', 'beginning', 'I', 'think', 'it', 'is', 'lessRight', 'now', 'I', 'am', 'debating', 'whether', 'I', 'am', 'an', 'ENTP', 'or', 'INFJ', 'Sounds', 'very', 'strange', 'but', 'both', 'of', 'them', 'fit', 'meWho', 'does', 'not', 'get', 'a', 'little', 'genocidal', 'every', 'now', 'and', 'thenWalter', 'may', 'actually', 'be', 'an', 'INFJ', 'not', 'an', 'INTJ', 'The', 'reason', 'I', 'say', 'this', 'is', 'that', 'it', 'is', 'VERY', 'clear', 'to', 'me', 'that', 'Gus', 'is', 'an', 'INTJ', 'but', 'there', 'seems', 'to', 'be', 'some', 'variance', 'between', 'them', 'I', 'will', 'be', 'able', 'to', 'explain', 'moreBout', 'damn', 'timeIm', 'a', 'dude', 'so', 'it', 'is', 'kind', 'of', 'embarrassing', 'that', 'I', 'like', 'this', 'show', 'but', 'it', 'is', 'not', 'too', 'bad', 'The', 'only', 'two', 'I', 'know', 'are', 'Lorelai', 'and', 'Rory', 'and', 'they', 'are', 'ESFP', 'and', 'INFJISFJ', 'respectively', 'would', 'say', 'you', 'are', 'an', 'ESFP', 'or', 'ENFP', 'probably', 'leaning', 'stronger', 'with', 'ESFP', 'over', 'ENFP', 'Youre', 'not', 'introverted', 'At', 'allAre', 'you', 'seriously', 'basing', 'your', 'dating', 'life', 'based', 'on', 'some', 'Personality', 'Theory', 'that', 'may', 'or', 'may', 'not', 'be', 'bullshitI', 'seriously', 'hope', 'this', 'is', 'a', 'joke', 'thread', 'Its', 'getting', 'that', 'bad', 'that', 'I', 'can', 'not', 'tell', 'if', 'someone', 'is', 'trolling', 'or', 'just', 'flat', 'out', 'fucking', 'stupid', 'As', 'for', 'who', 'is', 'going', 'to', 'winunless', 'Romeny', 'wins', 'theCongratulationsI', 'never', 'made', 'one', 'in', 'the', 'first', 'place', 'sohey', 'I', 'am', 'not', 'sure', 'why', 'I', 'am', 'even', 'making', 'this', 'as', 'I', 'am', 'probably', 'just', 'gon', 'na', 'retire', 'this', 'account', 'soon', 'anyway', 'but', 'ya', 'know', 'just', 'thought', 'I', 'would', 'make', 'oneYoure', 'typism', 'Honestly', 'I', 'do', 'not', 'really', 'have', 'a', 'specific', 'type', 'that', 'annoys', 'me', 'Stupid', 'annoys', 'me', 'not', 'type', 'That', 'being', 'said', 'for', 'the', 'love', 'of', 'FSM', 'and', 'all', 'that', 'is', 'holy', 'I', 'am', 'NEVER', 'EVER', 'EVER', 'this', 'is', 'not', 'the', 'first', 'time', 'you', 'have', 'posted', 'something', 'like', 'this', 'in', 'the', 'two', 'years', 'I', 'have', 'been', 'here', 'it', 'is', 'in', 'all', 'likelihood', 'depression', 'dude', 'I', 'had', 'the', 'same', 'symptoms', 'for', 'oh', '7', 'years', 'or', 'so', 'and', 'when', 'IIm', 'my', 'own', 'partnerEDIT', 'I', 'guess', 'that', 'is', 'what', 'I', 'get', 'for', 'not', 'reading', 'the', 'whole', 'postCan', 'I', 'come', 'tuck', 'you', 'inYoure', 'probably', 'a', '3', 'then', 'I', 'am', 'a', 'type', 'three', 'myself', 'and', 'I', 'fall', 'into', 'the', 'more', 'reserved', 'category', 'with', 'most', 'people', 'I', 'would', 'still', 'consider', 'myself', 'extroverted', 'but', 'people', 'who', 'talk', 'nonstop', 'actually', 'get', 'common', 'I', 'am', 'a', '3', 'but', 'a', '3w4', 'not', 'a', '3w2Not', 'at', 'all', 'ENTP', 'I', 'would', 'say', 'ISTP', 'or', 'ESTP', 'if', 'that', 'does', 'not', 'work', 'the', 'words', 'right', 'out', 'of', 'my', 'mouthJust', 'so', 'everyones', 'clear', 'getting', 'a', 'percentage', 'on', 'a', 'MBTI', 'does', 'not', 'mean', 'you', 'are', '75', 'introvert', 'It', 'means', 'you', 'can', 'be', 'pretty', 'confident', 'you', 'are', 'an', 'introvert', 'Back', 'on', 'topic', 'I', 'am', 'pretty', 'much', 'certain', 'thatYeah', 'same', 'thing', 'happened', 'to', 'me', 'Fuckers', 'Dear', 'stupid', 'peoplejust', 'because', 'I', 'do', 'not', 'show', 'it', 'does', 'not', 'mean', 'I', 'am', 'not', 'judging', 'you', 'At', 'least', 'you', 'keep', 'me', 'entertained', 'Excuse', 'my', 'misogyny', 'but', 'fuckTell', 'me', 'about', 'it', 'But', 'ironically', 'I', 'am', 'dating', 'a', 'girl', 'from', 'California', 'who', 'moved', 'over', 'here', 'a', 'while', 'ago', 'and', 'I', 'met', 'her', 'through', 'Ok', 'Cupid', 'Didnt', 'actually', 'expect', 'that', 'thing', 'to', 'produce', 'results', 'but', 'it', 'hasId', 'say', 'Obama', 'is', 'most', 'definitely', 'an', 'ENFJ', 'Speaking', 'to', 'common', 'values', 'but', 'sticking', 'to', 'his', 'own', 'internal', 'vision', 'etc', 'Sarah', 'PalinESFJ', 'Ronald', 'ReaganHard', 'to', 'tell', 'Probably', 'ESTP', 'in', 'my', 'opnion']\n",
            "['Good', 'one', 'course', 'to', 'which', 'I', 'say', 'I', 'know', 'that', 'is', 'my', 'blessing', 'and', 'my', 'curseDoes', 'being', 'absolutely', 'positive', 'that', 'you', 'and', 'your', 'best', 'friend', 'could', 'be', 'an', 'amazing', 'couple', 'count', 'If', 'so', 'than', 'yes', 'Or', 'it', 'is', 'more', 'I', 'could', 'be', 'madly', 'in', 'love', 'in', 'case', 'I', 'reconciled', 'my', 'feelings', 'which', 'atNo', 'I', 'didnt', 'thank', 'you', 'for', 'a', 'linkSocalled', 'TiSi', 'loop', 'and', 'it', 'can', 'stem', 'from', 'any', 'current', 'topicobsession', 'can', 'be', 'deadly', 'Its', 'like', 'when', 'you', 'are', 'stuck', 'in', 'your', 'own', 'thoughts', 'and', 'your', 'mind', 'just', 'wanders', 'in', 'circles', 'Feels', 'truly', 'terrible', 'Have', 'you', 'noticed', 'how', 'peculiar', 'vegetation', 'can', 'be', 'All', 'you', 'have', 'to', 'do', 'is', 'look', 'down', 'at', 'the', 'grass', 'dozens', 'of', 'different', 'plant', 'species', 'there', 'And', 'now', 'imagine', 'that', 'hundreds', 'of', 'years', 'later', 'whenif', 'soilThe', 'Smiths', 'Never', 'Had', 'No', 'One', 'EverI', 'often', 'find', 'myself', 'spotting', 'faces', 'on', 'marble', 'tileswoodThis', '5', 'yearold', 'sentence', 'is', 'an', 'incredibly', 'accurate', 'and', 'beautiful', 'descriptionI', 'have', 'not', 'visited', 'this', 'website', 'in', 'the', 'last', '3', 'years', 'So', 'whoever', 'reads', 'this', 'and', 'maybe', 'even', 'remembers', 'me', 'which', 'I', 'highly', 'doubt', 'hi', '700049', '700057When', 'you', 'sit', 'in', 'your', 'garden', 'until', '1030', 'PM', 'writing', 'songs', 'and', 'sing', 'them', 'together', 'with', 'dozens', 'of', 'crickets', 'while', 'playing', 'your', 'acoustic', 'guitarThis', 'is', 'the', 'most', 'INTPish', 'thread', 'I', 'have', 'ever', 'seenI', 'would', 'not', 'be', 'able', 'to', 'look', 'at', 'the', 'painting', 'for', 'the', 'entire', 'life', 'if', 'I', 'knew', 'that', 'I', 'picked', 'it', 'over', 'the', 'human', 'beingI', 'was', 'drawing', 'a', 'background', 'for', 'my', 'animation', 'on', 'which', 'I', 'am', 'working', 'right', 'now', 'it', 'should', 'have', 'been', 'Mars', 'But', 'I', 'felt', 'obligated', 'to', 'make', 'Mark', 'Watneyx92s', 'postcard', 'from', 'it', 'D', 'If', 'you', 'read', 'the', 'bookI', 'started', 'to', 'make', 'comics', 'about', 'turtle', 'Gordon', 'and', 'unicorn', 'Chimes', 'here', 'you', 'can', 'see', 'two', 'first', 'stories', 'Recently', 'I', 'started', 'to', 'post', 'my', 'comics', 'about', 'two', 'friends', 'turtle', 'Gordon', 'and', 'unicorn', 'Chimes', 'Before', 'that', 'I', 'just', 'posted', 'stuff', 'that', 'interested', 'me', 'but', 'from', 'now', 'on', 'I', 'will', 'try', 'to', 'include', 'only', 'my', 'worksProbably', 'we', 'could', 'work', 'together', 'on', 'a', 'new', 'model', 'I', 'am', 'an', 'expert', 'in', 'abrupt', 'explosions', 'of', 'laughter', 'upon', 'various', 'weird', 'stuff', 'That', 'happens', 'because', 'of', 'peculiar', 'sense', 'of', 'humor', 'so', 'peculiar', 'that', 'not', 'muchHellooo', 'Nah', 'you', 'can', 'touch', 'it', 'Everyone', 'thinks', 'that', 'it', 'is', 'scared', 'or', 'sad', 'but', 'that', 'is', 'not', 'true', 'in', 'fact', 'it', 'has', 'an', 'absolutely', 'neutral', 'face', 'And', 'this', 'kitten', 'actually', 'really', 'likes', 'patting', 'and', 'hugs', 'onlyWell', 'kind', 'of', 'As', 'it', 'was', 'already', 'mentioned', 'sometimes', 'because', 'of', 'Ni', 'it', 'is', 'hard', 'to', 'convey', 'complex', 'stuff', 'which', 'pops', 'up', 'in', 'your', 'head', 'in', 'whimsical', 'compilations', 'of', 'shapes', 'and', 'pictures', 'only', 'with', 'wordsI', 'think', 'this', 'kitten', 'would', 'be', 'very', 'appropriate', 'here', '376562367034GOOD', 'NIGHT', 'everyone', 'out', 'there', 'Even', 'if', 'for', 'someone', 'there', 'is', 'morning', 'right', 'now', 'nights', 'always', 'supersede', 'mornings', 'And', 'people', 'say', 'good', 'night', 'in', 'order', 'to', 'meet', 'next', 'day', 'Oh', 'that', 'movie', 'Its', 'awesome', 'Thank', 'you', 'Hope', 'you', 'had', 'good', 'sleep', 'in', 'the', 'air', 'anyway', 'I', 'am', 'wishing', 'you', 'good', 'night', 'for', 'the', 'next', 'night', 'ahead', 'hopefully', 'it', 'will', 'be', 'on', 'land', 'Good', 'people', 'deserve', 'good358882', '358890Well', 'other', 'people', 'who', 'may', 'be', 'wondering', 'about', 'an', 'issue', 'from', 'the', 'name', 'of', 'the', 'topic', 'will', 'find', 'your', 'response', 'helpful', 'anyway', 'This', 'Finally', 'someone', 'mentioned', 'that', 'I', 'still', 'see', 'creaturesfaces', 'in', 'a', 'maze', 'of', 'various', 'random', 'patterns', 'It', 'can', 'be', 'amusing', 'sometimes', 'Its', 'a', 'very', 'handy', 'skill', 'when', 'you', 'are', 'boredOh', 'I', 'did', 'not', 'know', 'that', 'What', 'a', 'pity', 'Why', 'not', 'sacrifice', 'whole', 'supermarket', 'then', 'We', 'can', 'decide', 'which', 'Walmart', 'will', 'be', 'the', 'best', 'I', 'think', 'the', 'biggest', 'one', 'would', 'be', 'greatyippy', 'Here', 'you', 'go', '357002', 'He', 'thinks', 'that', 'the', 'fire', 'is', 'delicious', 'Should', 'I', 'sacrifice', 'tofu', 'I', 'do', 'not', 'like', 'to', 'waste', 'foodI', 'do', 'not', 'think', 'that', 'the', 'creator', 'of', 'this', 'thread', 'cares', 'what', 'is', 'going', 'on', 'here', 'after', '3', 'years', 'Heh', 'I', 'understand', 'you', 'With', 'these', 'same', 'given', 'languagesYessss', 'Adventure', 'Time', 'DI', 'get', 'angry', 'quite', 'rarely', 'but', 'when', 'I', 'do', 'it', 'is', 'safer', 'for', 'surrounding', 'people', 'to', 'go', 'somewhere', 'else', 'Its', 'impossible', 'for', 'me', 'to', 'hide', 'or', 'suppress', 'anger', 'the', 'only', 'way', 'to', 'get', 'rid', 'of', 'this', 'feeling', 'is', 'to', 'burstIve', 'never', 'liked', 'it', 'Anything', 'fake', 'is', 'bad', 'actuallyHugs', 'should', 'be', 'given', 'only', 'to', 'chosen', 'ones', 'Chosen', 'There', 'are', 'quite', 'few', 'of', 'them', 'though349890Yup', 'you', 'are', 'doing', 'it', 'right', 'course', 'it', 'is', 'not', 'very', 'comfortable', 'But', 'Human', 'race', 'survived', 'thankfully', 'womens', 'ability', 'to', 'give', 'birth', 'to', 'other', 'human', 'beings', 'It', 'worked', 'for', 'thousands', 'of', 'years', 'Why', 'change', 'it', 'Besides', 'there', 'areThat', 'happens', 'And', 'it', 'occurs', 'because', 'most', 'often', 'people', 'use', 'results', 'of', 'extremely', 'precise', 'and', 'elaborate', 'online', 'tests', 'as', 'a', 'basis', 'of', 'determining', 'ones', 'type', 'Both', 'visual', 'and', 'language', 'arts', 'more246386I', 'study', 'graphic', 'design', 'now', 'which', 'I', 'really', 'enjoy', 'What', 'is', 'interesting', 'about', 'this', 'field', 'is', 'that', 'the', 'ability', 'to', 'generate', 'ideas', 'and', 'solve', 'problems', 'is', 'much', 'more', 'important', 'than', 'possession', 'of', 'a', 'specificAlexxxandra97', 'DeviantArt236994', 'am', 'always', 'ready', 'to', 'discipline', 'to', 'intimidate', 'to', 'be', 'precise', 'my', 'siblings', 'offenderWorld', 'domination', 'Shooting', 'people', 'in', 'the', 'head', 'Why', 'Oh', 'right', 'INTJs', 'always', 'must', 'be', 'characterised', 'only', 'with', 'these', 'words', 'I', 'want', 'to', 'show', 'so', 'badly', 'my', 'reaction', 'to', 'this', '221226218106ISTP']\n",
            "['As', 'an', 'ENFJ', 'how', 'ambitious', 'are', 'you', 'I', 'am', 'fairly', 'ambitious', 'I', 'have', 'two', 'undergrad', 'degrees', 'SociologyReligious', 'Studies', 'in', 'Education', 'in', 'ESLSecondary', 'Education', 'I', 'left', 'about', 'a', '3', 'year', 'gap', 'between', 'bothWelcome', 'I', 'find', 'that', 'writing', 'my', 'thoughts', 'in', 'freeflow', 'about', 'the', 'situation', 'helps', 'me', 'cope', 'with', 'separating', 'my', 'feelings', 'with', 'the', 'other', 'person', 'I', 'also', 'remind', 'myself', 'that', 'I', 'will', 'not', 'allow', 'anotherhealthy', 'ways', 'workout', 'regularly', 'yoga', 'talk', 'to', 'my', 'boyfriendfriends', 'Maintain', 'a', 'regular', 'sleep', 'schedule', 'unhealthy', 'chocolate', 'more', 'chocolate', 'Sometimes', 'other', 'unhealthy', 'foods', 'It', 'is', 'going', 'excellent', 'Are', 'relationship', 'is', 'building', 'an', 'amazing', 'foundation', 'We', 'love', 'to', 'express', 'our', 'feelings', 'for', 'each', 'other', 'through', 'poetry', 'my', 'preference', 'through', 'drawings', 'art', 'his', 'preference', 'WeHey', 'INFPs', 'barely', 'post', 'anymore', 'I', 'just', 'wanted', 'to', 'share', 'that', 'I', 'met', 'my', 'INFP', 'boyfriend', 'on', 'Feb', '4th', 'of', 'this', 'year', 'We', 'met', 'through', 'a', 'dating', 'app', 'We', 'have', 'never', 'been', 'more', 'in', 'love', 'we', 'have', 'both', 'described', 'ourIts', 'been', 'six', 'dates', 'and', 'I', 'found', 'myself', 'an', 'INFP', 'he', 'took', 'the', 'test', 'and', 'yes', 'he', 'is', 'an', 'INFP', 'The', 'connection', 'is', 'just', 'so', 'amazing', 'and', 'intense', 'right', 'now', 'it', 'even', 'scares', 'me', 'He', 'told', 'me', 'he', 'has', 'neverI', 'am', 'curious', 'what', 'you', 'would', 'like', 'Yeah', 'we', 'ENFJs', 'are', 'unique', 'Wonder', 'if', 'this', 'has', 'to', 'do', 'with', 'enneagramlove', 'stylesI', 'do', 'not', 'have', 'a', 'ton', 'of', 'info', 'as', 'I', 'have', 'not', 'met', 'this', 'guy', 'in', 'person', 'only', 'chatted', 'with', 'him', 'yesterday', 'for', 'the', 'first', 'time', 'online', 'Heres', 'what', 'I', 'do', 'know', 'according', 'to', 'his', 'profile', 'he', 'is', 'looking', 'forHere', 'are', 'some', 'signs', 'they', 'tend', 'to', 'talk', 'faster', 'they', 'will', 'have', 'a', 'tougher', 'time', 'filling', 'in', 'gaps', 'in', 'the', 'conversation', 'sometimes', 'they', 'will', 'not', 'initiate', 'the', 'interaction', 'get', 'a', 'bit', 'more', 'shy', 'or', 'wait', 'tillDislike', 'my', 'INFP', 'bestfriends', 'sister', 'We', 'only', 'just', 'met', 'this', 'month', 'I', 'do', 'not', 'know', 'I', 'felt', 'strangely', 'upset', 'about', 'why', 'I', 'do', 'not', 'like', 'her', 'sister', 'and', 'guilty', 'The', 'girl', 'is', 'so', 'selfabsorbed', 'does', 'things', 'thatYeah', 'I', 'hear', 'you', 'there', 'You', 'just', 'never', 'know', 'that', 'you', 'will', 'fall', 'in', 'love', 'with', 'someone', 'It', 'does', 'come', 'out', 'of', 'nowhereWell', 'put', 'I', 'am', 'borrowing', 'this', 'one', 'in', 'the', 'futureHere', 'are', 'some', 'ideas', 'anything', 'handwritten', 'or', 'created', 'by', 'hand', 'so', 'original', 'this', 'can', 'range', 'from', 'poetry', 'a', 'cleverly', 'created', 'time', 'line', 'of', 'your', 'relationship', 'with', 'photos', 'in', 'form', 'of', 'a', 'YouTube', 'clip', 'tooI', 'totally', 'relate', 'to', 'what', 'you', 'said', 'thereYes', 'I', 'am', 'with', 'you', 'I', 'find', 'it', 'very', 'hard', 'to', 'fall', 'in', 'love', 'Some', 'people', 'have', 'been', 'known', 'to', 'mistake', 'my', 'friendly', 'extrovert', 'behaviour', 'as', 'some', 'kind', 'of', 'romantic', 'interest', 'Must', 'be', 'going', 'out', 'of', 'style', 'to', 'takeThanks', 'for', 'the', 'reply', 'I', 'agree', 'with', 'what', 'you', 'have', 'said', 'I', 'would', 'actually', 'like', 'to', 'dump', 'and', 'bailout', 'on', 'her', 'at', 'this', 'pointThat', 'is', 'what', 'she', 'said', 'However', 'her', 'friend', 'reporting', 'me', 'to', 'HR', 'would', 'not', 'have', 'any', 'affect', 'on', 'me', 'I', 'do', 'not', 'work', 'there', 'I', 'am', 'simply', 'an', 'individual', 'who', 'applied', 'for', 'a', 'grant', 'which', 'is', 'govt', 'money', 'This', 'moneythank', 'you', 'sane', 'adviceHey', 'I', 'am', 'working', 'with', 'INFP', 'on', 'a', 'community', 'project', 'Without', 'going', 'into', 'too', 'many', 'details', 'a', 'number', 'of', 'people', 'have', 'dropped', 'the', 'ball', 'on', 'her', 'including', 'the', 'Illustrator', 'who', 'was', 'working', 'with', 'her', 'an', 'INTP', 'So', 'good', 'James', 'is', 'also', 'a', 'Youth', 'WorkerMusician', 'the', 'nonlyrical', 'version', 'of', 'the', 'song', 'is', 'amazing', 'any', 'how', 'F3', 'Throwback', 'to', '1995Reminds', 'me', 'of', 'the', 'barista', 'at', 'my', 'local', 'Starbucks', 'Still', 'checking', 'if', 'he', 'is', 'going', 'to', 'do', 'some', 'more', 'rad', 'art', 'work', 'and', 'what', 'is', 'next', 'in', 'his', 'life', 'lol', 'Bono', 'is', 'rumoured', 'to', 'be', 'an', 'ENFJ', 'as', 'well', 'yeah', 'that', 'is', 'the', 'correct', 'way', 'to', 'put', 'I', 'felt', 'my', 'post', 'was', 'rather', 'unbalanced', 'The', 'one', 'male', 'ENFP', 'I', 'know', 'is', 'an', 'excellent', 'photographer', 'very', 'reliable', 'when', 'it', 'comes', 'to', 'delievering', 'his', 'work', 'I', 'think', 'it', 'wasYes', 'that', 'is', 'what', 'I', 'was', 'conveying', 'Glad', 'it', 'made', 'sense', 'Really', 'tongue', 'I', 'think', 'about', 'the', '2', 'ENFP', 'friends', 'I', 'have', 'well', 'one', 'is', 'not', 'a', 'friend', 'anymore', 'by', 'virtue', 'of', 'the', 'total', 'lack', 'of', 'effort', 'she', 'puts', 'in', 'our', 'friendship', 'They', 'amass', 'so', 'many', 'friends', 'very', 'quicklyIs', 'it', 'me', 'or', 'do', 'other', 'ENFJs', 'have', 'trouble', 'opening', 'up', 'I', 'find', 'it', 'takes', 'forever', 'for', 'me', 'to', 'actual', 'talk', 'about', 'myself', 'as', 'a', 'person', 'unless', 'someone', 'asks', 'direct', 'questions', 'but', 'who', 'the', 'heck', 'does', 'that', 'PMostly', 'jealous', 'of', 'their', 'social', 'acumen', 'They', 'walk', 'into', 'a', 'room', 'trump', 'all', 'the', 'efforts', 'of', 'other', 'people', 'namely', 'ENFJs', 'through', 'their', 'charisma', 'and', 'largerthanlife', 'personalities', 'I', 'find', 'they', 'say', 'alotI', 'agree', 'with', 'what', 'Gilly', 'said', 'point', 'on', 'I', 'find', 'that', 'people', 'simply', 'do', 'not', 'directly', 'ask', 'questions', 'about', 'me', 'I', 'think', 'it', 'is', 'refreshing', 'for', 'ENFJs', 'to', 'be', 'able', 'to', 'talk', 'about', 'themselves', 'We', 'value1', 'A', 'big', 'party', 'that', 'will', 'have', 'mostly', 'acquaintances', 'and', 'strangers', 'There', 'is', 'alcohol', 'food', 'and', 'music', 'but', 'the', 'point', 'is', 'to', 'mainly', 'talk', 'to', 'others', 'I', 'would', 'likely', 'be', 'tired', 'thinking', 'about', 'this', 'eventpart', 'in', 'bold', 'Something', 'tells', 'me', 'that', 'you', 'feel', 'disappointed', 'about', 'this', 'or', 'at', 'least', 'confused', 'that', 'he', 'wanted', 'to', 'stayintouch', 'but', 'chooses', 'not', 'to', 'initiate', 'contact', 'If', 'he', 'is', 'not', 'choosing', 'to', 'contact', 'youThanks', 'for', 'sharing', 'Gilly', 'Well', 'I', 'believe', 'in', 'my', '30s', 'I', 'started', 'to', 'care', 'less', 'about', 'fitting', 'in', 'and', 'pleasing', 'other', 'peoples', 'whims', 'particularly', 'people', 'who', 'wanted', 'me', 'to', 'change', 'I', 'also', 'became', 'muchI', 'did', 'not', 'read', 'the', 'link', 'yet', 'I', 'had', 'a', 'best', 'friend', 'that', 'is', 'a', 'ESTJ', 'Very', 'controlling', 'and', 'unable', 'to', 'accept', 'new', 'ways', 'of', 'doing', 'things', 'It', 'was', 'her', 'way', 'or', 'the', 'highway', 'I', 'also', 'felt', 'she', 'cared', 'too', 'much', 'aboutThanks', 'for', 'the', 'reply', 'I', 'like', 'how', 'you', 'helped', 'me', 'work', 'that', 'out', 'ENFJ', 'brotherHave', 'you', 'tried', 'an', 'I', 'feel', 'statement', 'Basically', 'you', 'would', 'explain', 'how', 'you', 'feel', 'without', 'implicating', 'him', 'So', 'you', 'could', 'say', 'something', 'like', 'I', 'feel', 'frustrated', 'rejected', 'shut', 'down', 'yes', 'good', 'observation', 'There', 'were', 'other', 'reasons', 'he', 'did', 'not', 'want', 'to', 'share', 'with', 'me', 'I', 'often', 'wonder', 'why', 'he', 'would', 'not', 'want', 'to', 'I', 'typically', 'do', 'not', 'see', 'ESFJs', 'as', 'very', 'private', 'people', 'Thanks', 'forCouldnt', 'agree', 'more', 'with', 'all', 'that', 'is', 'posted', 'here', 'Dont', 'over', 'complicate', 'things', 'Start', 'with', 'FB', 'then', 'a', 'coffee', 'before', 'moving', 'on', 'to', 'something', 'more', 'Honestly', 'if', 'she', 'does', 'not', 'want', 'to', 'talk', 'to', 'you', 'sheYes', 'during', 'times', 'of', 'frustration', 'I', 'feel', 'the', 'same', 'Before', 'I', 'reach', 'out', 'to', 'someone', 'I', 'ask', 'myself', 'if', 'they', 'are', 'not', 'there', 'for', 'me', 'when', 'I', 'need', 'them', 'will', 'I', 'be', 'ok', 'with', 'helping', 'them', 'now', 'This', 'help', 'me', 'putQuestion', 'for', 'my', 'ENFJ', 'brothers', 'and', 'sisters', 'how', 'do', 'you', 'get', 'over', 'a', 'breakup', 'especially', 'with', 'someone', 'you', 'still', 'have', 'great', 'memories', 'with', 'and', 'truly', 'loved', 'I', 'still', 'my', 'ex', 'ESFJ', 'boyfriend', 'and', 'it', 'is', 'beenI', 'would', 'not', 'worry', 'at', 'all', 'He', 'also', 'told', 'you', 'not', 'to', 'worry', 'trust', 'him', 'The', 'thing', 'is', 'he', 'knows', 'to', 'know', 'she', 'needs', 'to', 'own', 'her', 'feelings', 'and', 'that', 'he', 'is', 'not', 'responsible', 'for', 'them', 'It', 'is', 'important', 'that', 'youWhen', 'I', 'look', 'back', 'on', 'when', 'I', 'met', 'the', 'ESFJ', 'I', 'once', 'dated', 'he', 'was', 'immediately', 'affectionate', 'with', 'me', 'Reached', 'for', 'my', 'hand', 'kissed', 'me', 'very', 'obvious', 'When', 'we', 'spoke', 'he', 'listened', 'to', 'me', 'intently', 'asked', 'me', 'some', 'new', 'picture', 'of', 'me', 'By', 'new', 'it', 'is', 'a', 'year', 'old', 'but', 'I', 'have', 'not', 'changed', 'in', 'yearsJust', 'watched', 'the', 'trailer', 'I', 'can', 'not', 'decide', 'from', 'the', 'itybityclip', 'if', 'he', 'is', 'an', 'ENFJ', 'Looks', 'like', 'an', 'awesome', 'movieMr', 'Selfridge', 'my', 'newest', 'love', 'Fresh', 'Prince', 'of', 'Bel', 'Air', 'Star', 'Trek', 'the', 'Next', 'Generation', 'thanks', 'to', 'my', 'INFP', 'sister', 'Breaking', 'Bad', 'whole', 'season', 'is', 'fantastic', 'Top', 'Chef', 'I', 'do', 'not', 'have', 'a', 'lot', 'of', 'time', 'toIts', 'been', 'a', 'while', 'ENFJs', 'I', 'am', 'curious', 'to', 'know', 'how', 'your', 'views', 'on', 'relationships', 'romantic', 'familial', 'friendships', 'colleagues', 'has', 'changed', 'over', 'the', 'course', 'of', 'your', 'life', 'A', 'broad', 'question', 'that', 'can', 'Not', 'as', 'popular', 'as', 'ENFPs', 'though', 'I', 'find', 'that', 'if', 'their', 'is', 'an', 'ENFP', 'in', 'the', 'room', 'they', 'will', 'outshine', 'us', 'People', 'just', 'gravitate', 'towards', 'them', 'I', 'think', 'if', 'we', 'need', 'to', 'take', 'care', 'of', 'the', 'needs', 'of', 'the', 'groupIt', 'used', 'to', 'bother', 'me', 'in', 'the', 'past', 'but', 'knowing', 'that', 'I', 'dislike', 'not', 'hate', 'I', 'can', 'not', 'say', 'I', 'hate', 'anyone', 'some', 'people', 'I', 'am', 'comfortable', 'knowing', 'that', 'others', 'would', 'also', 'dislike', 'me', 'I', 'used', 'to', 'have', 'a', 'sense', 'ofGreat', 'question', 'I', 'had', 'a', 'little', 'school', 'on', 'the', 'block', 'I', 'would', 'make', 'worksheets', 'buy', 'all', 'kinds', 'of', 'supplies', 'for', 'my', 'stickers', 'fix', 'the', 'booboos', 'of', 'the', 'little', 'kids', 'Is', 'it', 'surprising', 'that', 'I', 'am', 'aNormally', 'I', 'do', 'not', 'like', 'beards', 'on', 'men', 'However', 'when', 'it', 'comes', 'to', 'Mr', 'Selfridge', 'I', 'would', 'make', 'an', 'exception', 'It', 'looks', 'really', 'sexy', 'Well', 'groomed', 'and', 'suits', 'him', 'well', 'My', 'ex', 'also', 'looked', 'very', 'hot', 'with', 'a', 'beard']\n"
          ]
        }
      ]
    },
    {
      "cell_type": "code",
      "source": [
        "after_stemming_training = stemming(training_token)\n",
        "after_stemming_testing = stemming(testing_token)\n",
        "for i in range(0,3):\n",
        "  print(after_stemming_training[i])\n",
        "  print(after_stemming_testing[i])"
      ],
      "metadata": {
        "colab": {
          "base_uri": "https://localhost:8080/"
        },
        "id": "-P-3y1y6dLFz",
        "outputId": "f4839b58-9d1b-461b-d218-c3a15795f3b0"
      },
      "execution_count": 15,
      "outputs": [
        {
          "output_type": "stream",
          "name": "stdout",
          "text": [
            "['and', 'intj', 'moment', 'sportscent', 'not', 'top', 'ten', 'play', 'prankswhat', 'has', 'been', 'the', 'most', 'lifechang', 'experi', 'in', 'your', 'life', 'on', 'repeat', 'for', 'most', 'of', 'todaymay', 'the', 'perc', 'experi', 'immers', 'youth', 'last', 'thing', 'my', 'infj', 'friend', 'post', 'on', 'his', 'facebook', 'befor', 'commit', 'suicid', 'the', 'next', 'day', 'rest', 'in', 'peac', 'enfj7', 'sorri', 'to', 'hear', 'of', 'your', 'distress', 'it', 'onli', 'natur', 'for', 'a', 'relationship', 'to', 'not', 'be', 'perfect', 'all', 'the', 'time', 'in', 'everi', 'moment', 'of', 'exist', 'tri', 'to', 'figur', 'the', 'hard', 'time', 'as', 'time', 'of', 'growth', 'as84389', '84390', 'welcom', 'and', 'stuff', 'game', 'set', 'matchprozac', 'wellbrutin', 'at', 'least', 'thirti', 'minut', 'of', 'move', 'your', 'leg', 'and', 'i', 'do', 'not', 'mean', 'move', 'them', 'while', 'sit', 'in', 'your', 'same', 'desk', 'chair', 'weed', 'in', 'moder', 'mayb', 'tri', 'edibl', 'as', 'a', 'healthier', 'alternativebas', 'come', 'up', 'with', 'three', 'item', 'you', 'have', 'determin', 'that', 'each', 'type', 'or', 'whichev', 'type', 'you', 'want', 'to', 'do', 'would', 'more', 'than', 'like', 'use', 'given', 'each', 'type', 'cognit', 'function', 'and', 'whatnot', 'when', 'left', 'byall', 'thing', 'in', 'moder', 'sim', 'is', 'inde', 'a', 'video', 'game', 'and', 'a', 'good', 'one', 'at', 'that', 'note', 'a', 'good', 'one', 'at', 'that', 'is', 'somewhat', 'subject', 'in', 'that', 'i', 'am', 'not', 'complet', 'promot', 'the', 'death', 'of', 'ani', 'given', 'simdear', 'enfp', 'what', 'were', 'your', 'favorit', 'video', 'game', 'grow', 'up', 'and', 'what', 'are', 'your', 'now', 'current', 'favorit', 'video', 'game', 'cool', 'appear', 'to', 'be', 'too', 'late', 'sadther', 'someon', 'out', 'there', 'for', 'everyonewait', 'i', 'thought', 'confid', 'was', 'a', 'good', 'thingi', 'just', 'cherish', 'the', 'time', 'of', 'solitud', 'bc', 'i', 'revel', 'within', 'my', 'inner', 'world', 'more', 'wherea', 'most', 'other', 'time', 'i', 'would', 'be', 'workin', 'just', 'enjoy', 'the', 'me', 'time', 'while', 'you', 'can', 'dont', 'worri', 'peopl', 'will', 'alway', 'be', 'around', 'toyo', 'entp', 'ladi', 'if', 'you', 'are', 'into', 'a', 'complimentari', 'personalitywel', 'hey', 'when', 'your', 'main', 'social', 'outlet', 'is', 'xbox', 'live', 'convers', 'and', 'even', 'then', 'you', 'verbal', 'fatigu', 'quick', 'i', 'realli', 'dig', 'the', 'part', 'from', '146', 'to', '250', 'becaus', 'this', 'thread', 'requir', 'it', 'of', 'meget', 'high', 'in', 'backyard', 'roast', 'and', 'eat', 'marshmellow', 'in', 'backyard', 'while', 'convers', 'over', 'someth', 'intellectu', 'follow', 'by', 'massag', 'and', 'kiss', 'for', 'too', 'mani', 'bs', 'in', 'that', 'sentenc', 'how', 'could', 'you', 'think', 'of', 'the', 'bban', 'for', 'watch', 'movi', 'in', 'the', 'corner', 'with', 'the', 'duncesban', 'becaus', 'health', 'class', 'clear', 'taught', 'you', 'noth', 'about', 'peer', 'pressureban', 'for', 'a', 'whole', 'host', 'of', 'reason', 'two', 'babi', 'deer', 'on', 'left', 'and', 'right', 'munch', 'on', 'a', 'beetl', 'in', 'the', 'middl', '2', 'use', 'their', 'own', 'blood', 'two', 'cavemen', 'diari', 'today', 'latest', 'happen', 'on', 'their', 'design', 'cave', 'diari', 'wall', '3', 'i', 'see', 'it', 'asa', 'pokemon', 'world', 'an', 'infj', 'societi', 'everyon', 'becom', 'an', 'optimist49142', 'all', 'artist', 'are', 'artist', 'becaus', 'they', 'draw', 'it', 'the', 'idea', 'that', 'count', 'in', 'form', 'someth', 'of', 'your', 'own', 'like', 'a', 'signaturewelcom', 'to', 'the', 'robot', 'rank', 'person', 'who', 'down', 'my', 'selfesteem', 'cuz', 'i', 'am', 'not', 'an', 'avid', 'signatur', 'artist', 'like', 'herself', 'proudban', 'for', 'take', 'all', 'the', 'room', 'under', 'my', 'bed', 'ya', 'got', 'ta', 'learn', 'to', 'share', 'with', 'the', 'roach', 'for', 'be', 'too', 'much', 'of', 'a', 'thunder', 'grumbl', 'kind', 'of', 'storm', 'yepahh', 'old', 'high', 'school', 'music', 'i', 'have', 'not', 'heard', 'in', 'age', 'fail', 'a', 'public', 'speak', 'class', 'a', 'few', 'year', 'ago', 'and', 'i', 'have', 'sort', 'of', 'learn', 'what', 'i', 'could', 'do', 'better', 'were', 'i', 'to', 'be', 'in', 'that', 'posit', 'again', 'a', 'big', 'part', 'of', 'my', 'failur', 'was', 'just', 'overload', 'myself', 'with', 'tooi', 'like', 'this', 'person', 'mental', 'hes', 'a', 'confirm', 'intj', 'by', 'the', 'way', 'to', 'the', 'denver', 'area', 'and', 'start', 'a', 'new', 'life', 'for', 'myself']\n",
            "['actual', 'from', 'these', 'result', 'it', 'look', 'like', 'you', 'are', 'triplewithdrawn', '5w4', '9w8', '4w5', 'it', 'would', 'appear', 'that', 'you', 'just', 'happen', 'to', 'have', 'strong', '2', '6', 'and', '7', 'traitsit', 'odd', 'that', 'you', 'are', 'associ', 'the', 'whole', 'heart', 'triad', 'with', 'narciss', 'also', 'i', 'would', 'associ', 'five', 'with', 'have', 'some', 'antisoci', 'disord', 'not', 'eight', 'btw', 'let', 'us', 'set', 'asid', 'the', 'asperg', 'and', 'call', 'itso', 'is', 'my', 'mom', 'it', 'sometim', 'annoy', 'me', 'to', 'piec', 'my', 'mom', 'go', 'do', 'insert', 'known', 'todo', 'task', 'here', 'me', 'i', 'know', 'my', 'mom', 'well', 'if', 'you', 'know', 'then', 'whi', 'do', 'not', 'you', 'go', 'do', 'it', 'yeah', 'i', 'am', 'not', 'oneim', 'gon', 'na', 'guess', 'the', 'ej', 'type', 'are', 'most', 'like', 'to', 'groupthink', 'but', 'i', 'am', 'not', 'entir', 'sure', 'thought', 'also', 'which', 'type', 'are', 'least', 'like', 'to', 'groupthinkveri', 'true', 'my', 'guess', 'is', 'that', '9s', 'are', 'the', 'most', 'ideal', 'type', 'thank', 'to', 'our', 'high', 'level', 'of', 'neutral', 'and', 'inner', 'tranquil', 'but', 'from', 'the', 'perspect', 'of', 'a', '9', 'it', 'is', 'not', 'worth', 'it', 'to', 'ideal', 'ani', 'type', 'i', 'hard', 'ever', 'wear', 'hat', 'if', 'at', 'all', 'nice', 'new', 'avatar', 'btw', 'dealwithitth', 'entj', 'i', 'am', 'current', 'live', 'with', 'appar', 'has', 'use', 'his', 'se', 'via', 'cook', 'amid', 'other', 'thing', 'i', 'am', 'not', '100', 'sure', 'of', 'hes', 'quit', 'nice', 'with', 'se', 'compar', 'to', 'teni', 'alon', 'sometim', 'i', 'kinda', 'wonder', 'howyou', 'have', 'been', 'critic', 'of', 'have', 'less', 'thank', 'than', 'post', 'guiltya', 'type', '9', 'look', 'at', 'the', 'poll', 'were', 'so', 'popular', 'proud', 'goe', 'and', 'vote', 'for', '9', 'edit', 'and', '9th', 'vote', 'what', 'a', 'number', 'crazyit', 'seem', 'both', 'of', 'the', 'isp', 'seem', 'to', 'hold', 'out', 'relationship', 'and', 'get', 'marri', 'longer', 'than', 'the', 'esp', 'also', 'some', 'stat', 'from', 'person', 'page', 'highest', 'percentag', 'marri', 'from', 'highest', 'tolook', 'back', 'at', 'thread', 'riiiiiiiiiight', 'so', 'whi', 'did', 'i', 'creat', 'this', 'thread', 'dri', 'mayb', 'too', 'much', 'like', 'compar', 'an', 'istp', 'to', 'an', 'intpmayb', 'an', 'intp', 'in', 'a', 'tisi', 'loop', 'i', 'tend', 'to', 'be', 'nitpicki', 'about', 'my', 'environ', 'as', 'well', 'due', 'to', 'my', 'high', 'siso', 'am', 'i', 'and', 'although', 'my', '5w6', 'is', 'close', 'i', 'am', 'a', '9w1', 'i', 'have', 'absolut', 'no', '8', 'anywher', 'in', 'my', 'enneagram', 'type', 'at', 'allnot', 'to', 'mention', 'it', 'feel', 'somewhat', 'disturb', 'and', 'unreal', 'to', 'do', 'it', 'all', 'the', 'timepstyp', 'enneagram', 'test', 'result', 'the', 'distribut', 'of', 'your', 'score', 'type', 'one', '15', 'type', 'twoim', 'probabl', 'the', 'one', 'all', 'the', 'way', 'to', 'the', 'right', 'am', 'i', 'now', 'weird', 'for', 'look', 'well', 'crazymayb', 'becaus', 'enneagram', 'is', 'not', 'as', 'offici', 'and', 'popular', 'as', 'mbti', 'and', 'so', 'it', 'is', 'hard', 'to', 'find', 'broad', 'realworld', 'statstp', 'and', 'fp', 'are', 'not', 'necessarili', 'associ', 'with', 'a', 'pe', 'function', 'theyr', 'associ', 'with', 'domaux', 'ti', 'and', 'fi', 'respect', 'anyway', 'you', 'could', 'divid', 'up', 'the', '16', 'type', 'in', 'a', 'number', 'of', 'way', 'of', 'four', 'ej', 'epnot', 'an', 'sj', 'but', 'my', 'mom', 'who', 'is', 'an', 'sj', 'her', 'parent', 'are', 'most', 'like', 'esfj', 'and', 'istpwhi', 'the', 'discuss', 'fine', 'noth', 'heat', 'up', 'in', 'herei', 'use', 'to', 'wear', 'a', 'watch', 'when', 'i', 'was', 'younger', 'but', 'watch', 'tend', 'to', 'irrit', 'my', 'wrist', 'so', 'i', 'stop', 'besid', 'there', 'are', 'other', 'way', 'for', 'me', 'to', 'tell', 'time', 'when', 'it', 'is', 'necessari', 'also', 'bewar', 'under1', 'word', 'of', 'affirm', 'meh', '2', 'gift', 'give', 'them', 'yep', 'receiv', 'them', 'is', 'anoth', 'stori', '3', 'act', 'of', 'service1', 'not', 'entir', 'sure', 'theyr', 'most', 'about', 'place', 'than', 'anyth', 'els', 'seldom', 'if', 'at', 'all', 'are', 'there', 'peopl', 'in', 'my', 'dream', '2', 'often', 'like', 'most', 'other', 'thing', 'i', 'rememb', 'a', 'dream', 'quit', 'vivid', 'but', 'thetheyl', 'probabl', 'get', 'along', 'quit', 'well', 'this', 'is', 'probabl', 'true', 'for', 'ani', 'xwi', 'with', 'a', 'ywx', 'btw', 'if', 'you', 'were', 'wonder', 'the', 'littl', 'w', 'between', 'the', 'number', 'stand', 'for', 'wing', 'not', 'with', 'it', 'can', 'be', 'unclear', 'wonder', 'how', 'common', 'each', 'of', 'the', '9', 'fundament', 'enneagram', 'type', 'are', 'doe', 'anyon', 'know', 'or', 'have', 'a', 'linkfrom', 'typelogiccom', 'intuit', 'is', 'tertiarya', 'the', 'esfj', 'matur', 'and', 'as', 'situat', 'aris', 'which', 'call', 'for', 'suspens', 'of', 'critic', 'ne', 'is', 'allow', 'to', 'play', 'under', 'the', 'leadership', 'of', 'the', 'fe', 'functionfrom', 'typelogiccom', 'as', 'the', 'estj', 'matur', 'and', 'as', 'situat', 'aris', 'which', 'call', 'for', 'suspens', 'of', 'critic', 'extravert', 'intuit', 'is', 'allow', 'to', 'play', 'under', 'the', 'leadership', 'of', 'the', 'te', 'functionagain', 'sorri', 'if', 'i', 'am', 'harsh', 'tri', 'not', 'to', 'take', 'everyth', 'here', 'person', 'if', 'you', 'look', 'insid', 'the', 'parenthes', 'there', 'is', 'my', 'altern', 'possibl', 'im', 'not', 'inconsider', 'it', 'turn', 'out', 'i', 'was', 'justi', 'tend', 'to', 'apolog', 'like', 'that', 'too', 'veri', 'reason', 'out', 'mayb', 'it', 'is', 'a', 'tf', 'thingthi', 'oblig', 'of', 'sjs', 'not', 'just', 'estj', 'amid', 'other', 'is', 'what', 'drive', 'me', 'up', 'a', 'wall', 'sometim', 'my', 'esfj', 'mother', 'has', 'this', 'tendenc', 'to', 'do', 'this', 'to', 'me', 'although', 'not', 'to', 'the', 'degre', 'you', 'are', 'encount', 'i', 'find', 'this', 'interest', 'i', 'never', 'would', 'have', 'guess', 'that', 'an', 'estj', 'would', 'tell', 'a', 'white', 'lie', 'this', 'in', 'part', 'due', 'to', 'my', 'stereotyp', 'view', 'of', 'estj', 'as', 'a', 'think', 'type', 'i', 'might', 'get', 'thrown', 'off', 'by', 'this', 'andnot', 'to', 'be', 'harsh', 'but', 'speak', 'of', 'lie', 'you', 'could', 'be', 'lie', 'about', 'your', 'strong', 'stj', 'it', 'look', 'like', 'you', 'are', 'just', 'strong', 'j', 'either', 'that', 'or', 'i', 'could', 'be', 'misread', 'the', 'scale', 'so', 'anoth', 'question', 'whather', 'a', 'third', 'istp', 'to', 'add', 'to', 'that', 'i', 'will', 'say', 'though', 'that', 'becaus', 'of', 'my', 'autism', 'i', 'have', 'an', 'unusu', 'strong', 'si', 'it', 'could', 'happen', 'to', 'an', 'isfp', 'and', 'the', 'result', 'could', 'be', 'an', 'autist', 'isfp', 'with', 'isfjher', 'i', 'repli', 'to', 'your', 'thread', 'happi', 'crazi', 'anyway', 'i', 'onc', 'read', 'that', 'ifp', 'such', 'as', 'you', 'do', 'not', 'seem', 'to', 'have', 'much', 'patienc', 'with', 'type', 'whose', 'prefer', 'are', 'strong', 't', 'or', 'j', 'let', 'alon', 'tjmost', 'se', 'and', 'ni', 'i', 'rule', 'with', 'ti', 'so', 'i', 'do', 'not', 'need', 'work', 'there', 'te', 'and', 'fi', 'are', 'do', 'ok', 'and', 'they', 'will', 'develop', 'better', 'in', 'my', 'later', 'life', 'ne', 'i', 'just', 'suck', 'at', 'and', 'fe', 'i', 'am', 'not', 'too', 'good', 'with', 'either', 'bothp', 's', 'whi', 'do', 'you', 'term', 'and', 'condit', 'have', 'to', 'be', 'so', 'long', 'do', 'you', 'have', 'ani', 'idea', 'how', 'discourag', 'and', 'redund', 'that', 'is', 'ever', 'heard', 'of', 'plain', 'english', 'and', 'not', 'legalesei', 'need', 'to', 'get', 'out', 'more', 'recurringthoughtofminesound', 'like', 'you', 'need', 'to', 'relax', 'it', 'also', 'sound', 'like', 'you', 'need', 'to', 'forgiv', 'your', 'intp', 'detach', 'perceiv', 'natur', 'mayb', 'he', 'got', 'quick', 'boredthank', 'to', 'everyon', 'here', 'who', 'share', 'their', 'twosid', 'se', 'understand', 'i', 'rememb', 'my', 'high', 'school', 'enfj', 'teacher', 'take', 'us', 'outsid', 'dure', 'homeroom', 'se', 'relief', 'proudfirst', 'impress', 'estj', 'mayb', 'with', 'a', 'strong', 'se', 'certain', 'underdevelop', 'in', 'term', 'of', 'cognit', 'function', 'such', 'as', 'ne', 'and', 'fiit', 'look', 'like', 'you', 'have', 'just', 'won', 'out', 'the', 'rest', 'of', 'us', 'either', 'that', 'or', 'you', 'were', 'not', 'be', 'true', 'to', 'yourselfistj', 'cup', 'of', 'coffe', 'estj', 'judg', 'mallet', 'for', 'lack', 'of', 'a', 'proper', 'name', 'if', 'there', 'is', 'one', 'istp', 'someon', 'fix', 'up', 'their', 'cool', 'vehicl', 'be', 'it', 'a', 'car', 'motorcycl', 'bicycl', 'or', 'otherwis', 'isfp', 'an', 'artistth', 'question', 'is', 'will', 'it', 'be', 'becaus', 'we', 'human', 'could', 'control', 'ourselv', 'or', 'becaus', 'mother', 'natur', 'forc', 'usi', 'would', 'guess', 'this', 'is', 'an', 'si', 'thing', 'given', 'my', 'strong', 'si', 'i', 'have', 'becom', 'like', 'this', 'as', 'well', 'howev', 'be', 'an', 'sp', 'i', 'do', 'not', 'need', 'routin', 'just', 'need', 'to', 'know', 'how', 'it', 'worksi', 'find', 'it', 'fascin', 'that', 'some', 'isfj', 'have', 'higher', 'te', 'than', 'ti', 'it', 'had', 'me', 'wonder', 'if', 'most', 'other', 'sjs', 'have', 'higher', 'te', 'and', 'fe', 'than', 'their', 'ti', 'and', 'fi', 'when', 'my', 'esfj', 'mother', 'test', 'out', 'she', 'had', 'higher', 'tehow', 'nostalg', 'are', 'you', 'it', 'would', 'appear', 'that', 'si', 'nostalgia', 'is', 'fair', 'strong', 'among', 'you', 'esfj', 'be', 'siauxi', 'wonder', 'where', 'this', 'thread', 'went', 'has', 'a', 'thought', 'of', 'music', 'and', 'therefor', 'can', 'not', 'be', 'describedfrom', 'an', 'istp', 'with', 'aux', 'se', 'this', 'is', 'an', 'insight', 'thread', 'i', 'have', 'sometim', 'wonder', 'if', 'enfj', 'or', 'enxj', 'for', 'that', 'matter', 'experi', 'se', 'in', 'a', 'hereandnow', 'manner', 'like', 'sps', 'doi', 'can', 'imagin', 'like', 'ani', 'ident', 'relationship', 'that', 'it', 'will', 'be', 'a', 'nice', 'one', 'but', 'eventu', 'will', 'get', 'bore', 'i', 'sometim', 'wonder', 'what', 'an', 'isfpistp', 'relationship', 'would', 'look', 'likelet', 'see', 'play', 'game', 'especi', 'one', 'that', 'integr', 'the', 'ti', 'element', 'which', 'few', 'adventur', 'game', 'seem', 'to', 'do', 'ski', 'bike', 'hike', 'climb', 'procrastin', 'here', 'not', 'uncommon', 'among', 'us']\n",
            "['i', 'am', 'find', 'the', 'lack', 'of', 'me', 'in', 'these', 'post', 'veri', 'alarmingsex', 'can', 'be', 'bore', 'if', 'it', 'is', 'in', 'the', 'same', 'posit', 'often', 'for', 'exampl', 'me', 'and', 'my', 'girlfriend', 'are', 'current', 'in', 'an', 'environ', 'where', 'we', 'have', 'to', 'creativ', 'use', 'cowgirl', 'and', 'missionari', 'there', 'is', 'not', 'enoughgiv', 'new', 'mean', 'to', 'game', 'theoryhello', 'entp', 'grin', 'that', 'all', 'it', 'take', 'than', 'we', 'convers', 'and', 'they', 'do', 'most', 'of', 'the', 'flirt', 'while', 'i', 'acknowledg', 'their', 'presenc', 'and', 'return', 'their', 'word', 'with', 'smooth', 'wordplay', 'and', 'more', 'cheeki', 'grinsthi', 'lack', 'of', 'balanc', 'and', 'hand', 'eye', 'coordinationr', 'iq', 'test', 'i', 'score', '127', 'internet', 'iq', 'test', 'are', 'funni', 'i', 'score', '140s', 'or', 'higher', 'now', 'like', 'the', 'former', 'respons', 'of', 'this', 'thread', 'i', 'will', 'mention', 'that', 'i', 'do', 'not', 'believ', 'in', 'the', 'iq', 'test', 'befor', 'you', 'banishyou', 'know', 'you', 'are', 'an', 'entp', 'when', 'you', 'vanish', 'from', 'a', 'site', 'for', 'a', 'year', 'and', 'a', 'half', 'return', 'and', 'find', 'peopl', 'are', 'still', 'comment', 'on', 'your', 'post', 'and', 'like', 'your', 'ideasthought', 'you', 'know', 'you', 'are', 'an', 'entp', 'when', 'you', 'over', 'think', 'thing', 'sometim', 'i', 'go', 'by', 'the', 'old', 'sherlock', 'holm', 'quot', 'perhap', 'when', 'a', 'man', 'has', 'special', 'knowledg', 'and', 'special', 'power', 'like', 'my', 'own', 'it', 'rather', 'encourag', 'him', 'to', 'seek', 'a', 'complexcheshirewolftumblrcom', 'so', 'is', 'i', 'd400000', 'postnot', 'realli', 'i', 'have', 'never', 'thought', 'of', 'ei', 'or', 'jp', 'as', 'real', 'function', 'i', 'judg', 'myself', 'on', 'what', 'i', 'use', 'i', 'use', 'ne', 'and', 'ti', 'as', 'my', 'domin', 'fe', 'for', 'emot', 'and', 'rare', 'si', 'i', 'also', 'use', 'ni', 'due', 'to', 'me', 'strengthyou', 'know', 'though', 'that', 'was', 'ingeni', 'after', 'say', 'it', 'i', 'realli', 'want', 'to', 'tri', 'it', 'and', 'see', 'what', 'happen', 'with', 'me', 'play', 'a', 'first', 'person', 'shooter', 'in', 'the', 'back', 'while', 'we', 'drive', 'around', 'i', 'want', 'to', 'see', 'the', 'look', 'onout', 'of', 'all', 'of', 'them', 'the', 'rock', 'paper', 'one', 'is', 'the', 'best', 'it', 'make', 'me', 'lol', 'you', 'guy', 'are', 'lucki', 'd', 'i', 'am', 'realli', 'high', 'up', 'on', 'the', 'tumblr', 'systemso', 'did', 'you', 'hear', 'about', 'that', 'new', 'first', 'person', 'shooter', 'game', 'i', 'have', 'been', 'rock', 'the', 'hell', 'out', 'of', 'the', 'soundtrack', 'on', 'my', 'auto', 'sound', 'equip', 'that', 'will', 'shake', 'the', 'heaven', 'we', 'manag', 'to', 'put', 'a', 'coupl', 'ps3s', 'inno', 'the', 'way', 'he', 'connect', 'thing', 'was', 'veri', 'ne', 'ne', 'domin', 'are', 'just', 'as', 'awar', 'of', 'their', 'environ', 'as', 'se', 'domin', 'exampl', 'shawn', 'spencer', 'or', 'patrick', 'jane', 'both', 'entpswel', 'charli', 'i', 'will', 'be', 'the', 'first', 'to', 'admit', 'i', 'do', 'get', 'jealous', 'like', 'you', 'do', 'i', 'chalk', 'it', 'up', 'to', 'my', '4w3', 'heart', 'mix', 'with', 'my', 'domin', '7w8', '7s', 'and', '8s', 'both', 'like', 'to', 'be', 'notic', '4s', 'like', 'to', 'be', 'known', 'not', 'the', 'same', 'i', 'will', 'upload', 'the', 'same', 'clip', 'with', 'the', 'mic', 'away', 'from', 'my', 'mouth', 'than', 'you', 'will', 'not', 'hear', 'anyth', 'ninja', 'assassin', 'style', 'but', 'with', 'splattertik', 'tok', 'is', 'a', 'realli', 'great', 'song', 'as', 'long', 'as', 'you', 'can', 'mental', 'block', 'out', 'the', 'singer', 'i', 'love', 'the', 'beat', 'it', 'make', 'me', 'bouncedropio', 'v1swck0', 'd', 'mic', 'realli', 'close', 'to', 'my', 'mouth', 'and', 'smokin', 'ace', 'assassin', 'ball', 'play', 'in', 'the', 'backgroundsoci', 'extrovert', 'i', 'am', 'an', 'extrovert', 'and', 'i', 'am', 'not', 'sociabl', 'sherlock', 'in', 'the', 'movi', 'was', 'an', 'entp', 'normal', 'he', 'is', 'play', 'as', 'a', 'extj', 'in', 'the', 'book', 'he', 'is', 'an', 'estj', 'as', 'i', 'said', 'the', 'movi', 'look', 'good', 'except', 'for', 'it', 'be', 'call', 'sherlock', 'holm', 'i', 'never', 'had', 'fear', 'of', 'kiss', 'a', 'guy', 'i', 'will', 'kiss', 'an', 'anim', 'too', 'so', 'there', 'was', 'noth', 'to', 'vanish', 'just', 'person', 'tast', 'and', 'me', 'not', 'like', 'it', 'the', 'guy', 'i', 'kiss', 'did', 'not', 'know', 'me', 'it', 'was', 'one', 'of', 'thosesound', 'pretti', 'much', 'like', 'my', 'area', 'and', 'what', 'i', 'am', 'go', 'through', 'right', 'now', 'tri', 'to', 'figur', 'out', 'which', 'way', 'i', 'want', 'to', 'take', 'my', 'life', 'i', 'want', 'to', 'do', 'so', 'mani', 'thing', 'the', 'biggest', 'problem', 'is', 'that', 'i', 'know', 'if', 'i', 'dontd', 'i', 'was', 'oper', 'under', 'the', 'impress', 'that', 'you', 'were', 'femal', 'i', 'never', 'look', 'at', 'your', 'boxi', 'okay', 'i', 'help', 'out', 'my', 'gay', 'friend', 'all', 'the', 'time', 'and', 'one', 'of', 'them', 'has', 'develop', 'a', 'littl', 'crush', 'on', 'me', 'i', 'get', 'redtt', 'you', 'just', 'describ', 'me', 'and', 'i', 'am', 'live', 'the', 'worst', 'nightmar', 'i', 'am', 'trap', 'in', 'one', 'place', 'with', 'one', 'one', 'around', 'onli', 'dull', 'wood', 'if', 'i', 'was', 'a', 'serial', 'killer', 'this', 'would', 'be', 'the', 'perfect', 'place', 'but', 'sad', 'imtbh', 'and', 'bias', 'sound', 'like', 'a', 'shadow', 'infp', 'i', 'think', 'mayb', 'he', 'was', 'hurt', 'and', 'turn', 'estj', 'i', 'can', 'tell', 'becaus', 'he', 'has', 'some', 'of', 'the', 'typic', 'infp', 'trait', 'left', 'overcheck', 'list', 'i', 'am', 'sorri', 'it', 'seem', 'that', 'you', 'have', 'came', 'at', 'a', 'bad', 'time', 'weve', 'alreadi', 'reach', 'our', 'quota', 'of', 'infj', 'howev', 'be', 'you', 'are', 'femal', 'and', 'i', 'like', 'femal', 'i', 'will', 'make', 'you', 'a', 'deal', 'i', 'will', 'kick', 'oneim', 'antp', 'lean', 'toward', 'e', 'i', 'am', 'easi', 'for', 'both', 'entp', 'and', 'intp', 'to', 'identifi', 'with', 'i', 'also', 'imagin', 'entp', 'interrog', 'would', 'go', 'a', 'littl', 'bit', 'like', 'jack', 'from', '24', 'except', 'more', 'mechan', 'rig', 'up', 'shock', 'treatment', 'equip', 'in', 'an', 'abandon', 'build', 'out', 'of', 'an', 'old', 'car', 'batti', 'jumperit', 'was', 'a', 'compliment', 'trust', 'me', 'i', 'am', 'just', 'as', 'psychopath', 'd', 'except', 'i', 'have', 'emoticon', 'theyr', 'just', 'weird', 'one', 'like', 'laugh', 'when', 'i', 'get', 'hurt', 'or', 'at', 'peopl', 'run', 'themselv', 'over', 'with', 'their', 'lawn', 'mower', 'it', 'like', 'a', 'theme', 'for', 'where', 'i', 'live', 'and', 'that', 'is', 'whi', 'i', 'know', 'it', 'by', 'heart', 'i', 'usual', 'do', 'not', 'leav', 'until', 'the', 'thing', 'end', 'but', 'in', 'the', 'mean', 'time', 'in', 'between', 'time', 'you', 'work', 'your', 'thing', 'i', 'will', 'work', 'mine', 'd', 'd', 'i', 'am', 'the', 'mbp', 'pleasur', 'to', 'meet', 'youdamn', 'need', 'to', 'trust', 'my', 'instinct', 'more', 'i', 'would', 'have', 'been', 'closer', 'i', 'was', 'go', 'to', 'say', 'infpexfp', 'lean', 'toward', 's', 'with', 'the', 'way', 'she', 'respond', 'd', 'my', 'friend', 'even', 'my', 'gay', 'and', 'lesbian', 'one', 'alway', 'come', 'to', 'me', 'for', 'advicei', 'bow', 'to', 'my', 'entp', 'master', 'entp', 'are', 'so', 'great', 'if', 'it', 'was', 'not', 'for', 'entp', 'i', 'would', 'not', 'have', 'been', 'abl', 'to', 'build', 'what', 'i', 'am', 'build', 'duck', 'duck', 'duck', 'shotgunwhat', 'me', 'i', 'never', 'do', 'that', 'becaus', 'it', 'hard', 'to', 'be', 'sad', 'about', 'lose', 'someon', 'you', 'like', 'when', 'you', 'knew', 'you', 'were', 'right', 'and', 'give', 'yourself', 'a', 'big', 'pat', 'on', 'the', 'back', 'becaus', 'you', 'are', 'awesom', 'and', 'alway', 'correctoh', 'you', 'do', 'not', 'have', 'to', 'tell', 'me', 'that', 'most', 'of', 'them', 'are', 'stupid', 'i', 'know', 'this', 'that', 'is', 'whi', 'i', 'play', 'with', 'them', 'and', 'it', 'make', 'me', 'laugh', 'd', 'as', 'i', 'am', 'go', 'to', 'take', 'neuropsycholog', 'and', 'i', 'have', 'a', 'few', 'psychologistd', 'i', 'am', 'a', 'nightowl', 'i', 'wake', 'up', 'between', '67pm', 'and', 'stay', 'awak', 'till', '101130amperson', 'opinion', 'back', 'by', 'theori', 'would', 'suggest', 'that', 'intp', 'are', 'the', 'most', 'social', 'difficult', 'while', 'intj', 'can', 'be', 'social', 'indiffer', 'but', 'they', 'will', 'also', 'use', 'social', 'situat', 'if', 'the', 'the', 'need', 'arisesperson', 'stock', 'that', 'i', 'have', 'on', 'my', 'desktop', 'that', 'i', 'have', 'download', 'from', 'random', 'stock', 'site', 'and', 'stock', 'photobucketsil', 'tell', 'you', 'when', 'i', 'open', 'photoshop', 'glad', 'you', 'like', 'it', 'staticd', 'thank', 'made', 'for', 'a', 'friend', 'sever', 'hour', 'of', 'work', 'i', 'construct', 'everi', 'line', 'by', 'static', 'i', 'will', 'have', 'to', 'get', 'to', 'your', 'avatar', 'later', 'if', 'one', 'of', 'my', 'fellow', 'teammat', 'doesntpsychologist', 'do', 'not', 'keep', 'me', 'around', 'long', 'enough', 'to', 'diagnosi', 'me', 'i', 'like', 'to', 'toy', 'with', 'them', 'what', 'i', 'have', 'diagnosi', 'myself', 'with', 'and', 'had', 'a', 'few', 'psychologist', 'friend', 'a', 'few', 'other', 'friend', 'tell', 'me', 'i', 'have', 'is']\n",
            "['doe', 'inde', 'help', 'to', 'answer', 'the', 'question', 'my', 'iq', 'is', '129', 'and', 'it', 'was', 'profession', 'administ', 'but', 'it', 'doe', 'not', 'mean', 'anyth', 'to', 'mei', 'do', 'not', 'need', 'a', 'number', 'to', 'tell', 'me', 'i', 'am', 'intellig', 'ishal', 'i', 'play', 'you', 'a', 'song', 'on', 'the', 'world', 'smallest', 'violini', 'realli', 'do', 'not', 'get', 'how', 'you', 'guy', 'think', 'she', 'is', 'an', 'introvert', 'shes', 'said', 'mani', 'time', 'about', 'how', 'extrovert', 'she', 'is', 'and', 'she', 'was', 'vote', 'most', 'talkat', 'by', 'her', 'high', 'school', 'i', 'can', 'see', 'an', 'introvert', 'beingassum', 'moral', 'is', 'absolut', 'can', 'you', 'explain', 'to', 'me', 'the', 'absolut', 'best', 'moral', 'choic', 'out', 'of', 'everi', 'situat', 'i', 'am', 'assum', 'you', 'can', 'not', 'and', 'on', 'who', 'is', 'author', 'should', 'we', 'accept', 'these', 'truth', 'it', 'can', 'not', 'behello', 'all', 'i', 'origin', 'join', 'this', 'site', 'in', 'late', '2009', 'and', 'i', 'lurk', 'for', 'mani', 'month', 'befor', 'i', 'had', 'just', 'turn', '19', 'and', 'start', 'colleg', 'in', 'search', 'of', 'myself', 'and', 'i', 'use', 'this', 'forum', 'to', 'help', 'discover1', 'log', 'in', 'after', 'a', 'week', 'or', 'so', 'of', 'not', 'be', 'on', 'here', '2', 'look', 'at', 'infj', 'forum', 'see', 'that', 'all', 'the', 'new', 'thread', 'are', 'alreadi', 'one', 'that', 'i', 'have', 'seen', 'and', 'discuss', 'in', 'the', 'past', '3', 'check', 'the', 'new', 'post', 'in', 'case', 'ii', 'hope', 'everyon', 'realiz', 'the', 'differ', 'between', 'a', 'nice', 'guy', 'and', 'a', 'well', 'nice', 'guywwwyoutubecomwatchvdox9l4ys7nyi', 'would', 'retir', 'my', 'account', 'sinc', 'i', 'do', 'not', 'ever', 'come', 'on', 'here', 'anymor', 'and', 'i', 'do', 'not', 'realli', 'care', 'about', 'mbti', 'anymor', 'but', 'whi', 'put', 'an', 'unnecessari', 'restrict', 'on', 'myselfim', 'not', 'a', 'virgin', 'in', 'some', 'way', 'i', 'still', 'wish', 'i', 'wasi', 'lost', 'my', 'virgin', 'to', 'someon', 'who', 'i', 'was', 'not', 'in', 'love', 'with', 'the', 'girl', 'i', 'am', 'with', 'right', 'now', 'is', 'and', 'if', 'it', 'were', 'not', 'for', 'that', 'one', 'girl', 'i', 'would', 'be', 'too', 'andim', '21', 'i', 'am', 'young', 'amiritehav', 'the', 'feel', 'of', 'be', 'alon', 'be', 'abl', 'to', 'tell', 'a', 'lot', 'about', 'a', 'person', 'just', 'by', 'their', 'energi', 'it', 'almost', 'like', 'i', 'have', 'known', 'them', 'for', 'year', 'and', 'then', 'if', 'they', 'find', 'this', 'out', 'it', 'freak', 'them', 'out', 'think', 'it', 'might', 'be', 'more', 'of', 'a', 'biolog', 'thing', 'and', 'how', 'you', 'were', 'rais', 'more', 'than', 'how', 'it', 'is', 'base', 'on', 'your', 'type', 'but', 'i', 'can', 'see', 'how', 'type', 'could', 'play', 'a', 'part', 'as', 'for', 'meyeah', 'i', 'am', 'nowher', 'near', 'ani', 'suppos', 'i', 'still', 'am', 'but', 'i', 'have', 'lower', 'my', 'standard', 'so', 'much', 'to', 'where', 'i', 'date', 'peopl', 'i', 'do', 'not', 'even', 'like', 'probabl', 'just', 'to', 'not', 'feel', 'alon', 'i', 'am', 'a', 'littl', 'disgust', 'with', 'myself', 'at', 'the', 'moment', 'know', 'what', 'you', 'mean', 'i', 'have', 'had', 'this', 'same', 'problem', 'for', 'the', 'longest', 'time', 'and', 'i', 'too', 'can', 'seem', 'to', 'spark', 'relationship', 'better', 'over', 'text', 'weird', 'but', 'anyway', 'i', 'have', 'just', 'forc', 'myself', 'to', 'be', 'a', 'littl', 'morei', 'can', 'imagin', 'most', 'infj', 'can', 'relat', 'to', 'this', 'trust', 'test', 'result', 'that', 'be', 'said', 'i', 'could', 'veri', 'well', 'be', 'an', 'infj', 'type', '3mi', 'view', 'have', 'alway', 'been', 'that', 'i', 'will', 'never', 'have', 'sex', 'with', 'someon', 'that', 'i', 'know', 'is', 'just', 'gon', 'na', 'lead', 'to', 'sex', 'and', 'that', 'is', 'it', 'up', 'to', 'this', 'point', 'i', 'have', 'follow', 'through', 'to', 'that', 'becaus', 'i', 'can', 'not', 'imagin', 'givingfor', 'me', 'like', 'most', 'of', 'you', 'it', 'come', 'out', 'veri', 'earli', 'on', 'but', 'i', 'tri', 'to', 'control', 'my', 'tongu', 'for', 'as', 'long', 'as', 'i', 'can', 'so', 'i', 'hard', 'ever', 'say', 'it', 'at', 'all', 'at', 'least', 'intent', 'at', 'the', 'begin', 'i', 'think', 'it', 'is', 'lessright', 'now', 'i', 'am', 'debat', 'whether', 'i', 'am', 'an', 'entp', 'or', 'infj', 'sound', 'veri', 'strang', 'but', 'both', 'of', 'them', 'fit', 'mewho', 'doe', 'not', 'get', 'a', 'littl', 'genocid', 'everi', 'now', 'and', 'thenwalt', 'may', 'actual', 'be', 'an', 'infj', 'not', 'an', 'intj', 'the', 'reason', 'i', 'say', 'this', 'is', 'that', 'it', 'is', 'veri', 'clear', 'to', 'me', 'that', 'gus', 'is', 'an', 'intj', 'but', 'there', 'seem', 'to', 'be', 'some', 'varianc', 'between', 'them', 'i', 'will', 'be', 'abl', 'to', 'explain', 'morebout', 'damn', 'timeim', 'a', 'dude', 'so', 'it', 'is', 'kind', 'of', 'embarrass', 'that', 'i', 'like', 'this', 'show', 'but', 'it', 'is', 'not', 'too', 'bad', 'the', 'onli', 'two', 'i', 'know', 'are', 'lorelai', 'and', 'rori', 'and', 'they', 'are', 'esfp', 'and', 'infjisfj', 'respect', 'would', 'say', 'you', 'are', 'an', 'esfp', 'or', 'enfp', 'probabl', 'lean', 'stronger', 'with', 'esfp', 'over', 'enfp', 'your', 'not', 'introvert', 'at', 'allar', 'you', 'serious', 'base', 'your', 'date', 'life', 'base', 'on', 'some', 'person', 'theori', 'that', 'may', 'or', 'may', 'not', 'be', 'bullshiti', 'serious', 'hope', 'this', 'is', 'a', 'joke', 'thread', 'it', 'get', 'that', 'bad', 'that', 'i', 'can', 'not', 'tell', 'if', 'someon', 'is', 'troll', 'or', 'just', 'flat', 'out', 'fuck', 'stupid', 'as', 'for', 'who', 'is', 'go', 'to', 'winunless', 'romeni', 'win', 'thecongratulationsi', 'never', 'made', 'one', 'in', 'the', 'first', 'place', 'sohey', 'i', 'am', 'not', 'sure', 'whi', 'i', 'am', 'even', 'make', 'this', 'as', 'i', 'am', 'probabl', 'just', 'gon', 'na', 'retir', 'this', 'account', 'soon', 'anyway', 'but', 'ya', 'know', 'just', 'thought', 'i', 'would', 'make', 'oneyour', 'typism', 'honest', 'i', 'do', 'not', 'realli', 'have', 'a', 'specif', 'type', 'that', 'annoy', 'me', 'stupid', 'annoy', 'me', 'not', 'type', 'that', 'be', 'said', 'for', 'the', 'love', 'of', 'fsm', 'and', 'all', 'that', 'is', 'holi', 'i', 'am', 'never', 'ever', 'ever', 'this', 'is', 'not', 'the', 'first', 'time', 'you', 'have', 'post', 'someth', 'like', 'this', 'in', 'the', 'two', 'year', 'i', 'have', 'been', 'here', 'it', 'is', 'in', 'all', 'likelihood', 'depress', 'dude', 'i', 'had', 'the', 'same', 'symptom', 'for', 'oh', '7', 'year', 'or', 'so', 'and', 'when', 'iim', 'my', 'own', 'partneredit', 'i', 'guess', 'that', 'is', 'what', 'i', 'get', 'for', 'not', 'read', 'the', 'whole', 'postcan', 'i', 'come', 'tuck', 'you', 'inyour', 'probabl', 'a', '3', 'then', 'i', 'am', 'a', 'type', 'three', 'myself', 'and', 'i', 'fall', 'into', 'the', 'more', 'reserv', 'categori', 'with', 'most', 'peopl', 'i', 'would', 'still', 'consid', 'myself', 'extrovert', 'but', 'peopl', 'who', 'talk', 'nonstop', 'actual', 'get', 'common', 'i', 'am', 'a', '3', 'but', 'a', '3w4', 'not', 'a', '3w2not', 'at', 'all', 'entp', 'i', 'would', 'say', 'istp', 'or', 'estp', 'if', 'that', 'doe', 'not', 'work', 'the', 'word', 'right', 'out', 'of', 'my', 'mouthjust', 'so', 'everyon', 'clear', 'get', 'a', 'percentag', 'on', 'a', 'mbti', 'doe', 'not', 'mean', 'you', 'are', '75', 'introvert', 'it', 'mean', 'you', 'can', 'be', 'pretti', 'confid', 'you', 'are', 'an', 'introvert', 'back', 'on', 'topic', 'i', 'am', 'pretti', 'much', 'certain', 'thatyeah', 'same', 'thing', 'happen', 'to', 'me', 'fucker', 'dear', 'stupid', 'peoplejust', 'becaus', 'i', 'do', 'not', 'show', 'it', 'doe', 'not', 'mean', 'i', 'am', 'not', 'judg', 'you', 'at', 'least', 'you', 'keep', 'me', 'entertain', 'excus', 'my', 'misogyni', 'but', 'fucktel', 'me', 'about', 'it', 'but', 'iron', 'i', 'am', 'date', 'a', 'girl', 'from', 'california', 'who', 'move', 'over', 'here', 'a', 'while', 'ago', 'and', 'i', 'met', 'her', 'through', 'ok', 'cupid', 'didnt', 'actual', 'expect', 'that', 'thing', 'to', 'produc', 'result', 'but', 'it', 'hasid', 'say', 'obama', 'is', 'most', 'definit', 'an', 'enfj', 'speak', 'to', 'common', 'valu', 'but', 'stick', 'to', 'his', 'own', 'intern', 'vision', 'etc', 'sarah', 'palinesfj', 'ronald', 'reaganhard', 'to', 'tell', 'probabl', 'estp', 'in', 'my', 'opnion']\n",
            "['good', 'one', 'cours', 'to', 'which', 'i', 'say', 'i', 'know', 'that', 'is', 'my', 'bless', 'and', 'my', 'cursedo', 'be', 'absolut', 'posit', 'that', 'you', 'and', 'your', 'best', 'friend', 'could', 'be', 'an', 'amaz', 'coupl', 'count', 'if', 'so', 'than', 'yes', 'or', 'it', 'is', 'more', 'i', 'could', 'be', 'mad', 'in', 'love', 'in', 'case', 'i', 'reconcil', 'my', 'feel', 'which', 'atno', 'i', 'didnt', 'thank', 'you', 'for', 'a', 'linksocal', 'tisi', 'loop', 'and', 'it', 'can', 'stem', 'from', 'ani', 'current', 'topicobsess', 'can', 'be', 'dead', 'it', 'like', 'when', 'you', 'are', 'stuck', 'in', 'your', 'own', 'thought', 'and', 'your', 'mind', 'just', 'wander', 'in', 'circl', 'feel', 'truli', 'terribl', 'have', 'you', 'notic', 'how', 'peculiar', 'veget', 'can', 'be', 'all', 'you', 'have', 'to', 'do', 'is', 'look', 'down', 'at', 'the', 'grass', 'dozen', 'of', 'differ', 'plant', 'speci', 'there', 'and', 'now', 'imagin', 'that', 'hundr', 'of', 'year', 'later', 'whenif', 'soilth', 'smith', 'never', 'had', 'no', 'one', 'everi', 'often', 'find', 'myself', 'spot', 'face', 'on', 'marbl', 'tileswoodthi', '5', 'yearold', 'sentenc', 'is', 'an', 'incred', 'accur', 'and', 'beauti', 'descriptioni', 'have', 'not', 'visit', 'this', 'websit', 'in', 'the', 'last', '3', 'year', 'so', 'whoever', 'read', 'this', 'and', 'mayb', 'even', 'rememb', 'me', 'which', 'i', 'high', 'doubt', 'hi', '700049', '700057when', 'you', 'sit', 'in', 'your', 'garden', 'until', '1030', 'pm', 'write', 'song', 'and', 'sing', 'them', 'togeth', 'with', 'dozen', 'of', 'cricket', 'while', 'play', 'your', 'acoust', 'guitarthi', 'is', 'the', 'most', 'intpish', 'thread', 'i', 'have', 'ever', 'seeni', 'would', 'not', 'be', 'abl', 'to', 'look', 'at', 'the', 'paint', 'for', 'the', 'entir', 'life', 'if', 'i', 'knew', 'that', 'i', 'pick', 'it', 'over', 'the', 'human', 'beingi', 'was', 'draw', 'a', 'background', 'for', 'my', 'anim', 'on', 'which', 'i', 'am', 'work', 'right', 'now', 'it', 'should', 'have', 'been', 'mar', 'but', 'i', 'felt', 'oblig', 'to', 'make', 'mark', 'watneyx92', 'postcard', 'from', 'it', 'd', 'if', 'you', 'read', 'the', 'booki', 'start', 'to', 'make', 'comic', 'about', 'turtl', 'gordon', 'and', 'unicorn', 'chime', 'here', 'you', 'can', 'see', 'two', 'first', 'stori', 'recent', 'i', 'start', 'to', 'post', 'my', 'comic', 'about', 'two', 'friend', 'turtl', 'gordon', 'and', 'unicorn', 'chime', 'befor', 'that', 'i', 'just', 'post', 'stuff', 'that', 'interest', 'me', 'but', 'from', 'now', 'on', 'i', 'will', 'tri', 'to', 'includ', 'onli', 'my', 'worksprob', 'we', 'could', 'work', 'togeth', 'on', 'a', 'new', 'model', 'i', 'am', 'an', 'expert', 'in', 'abrupt', 'explos', 'of', 'laughter', 'upon', 'various', 'weird', 'stuff', 'that', 'happen', 'becaus', 'of', 'peculiar', 'sens', 'of', 'humor', 'so', 'peculiar', 'that', 'not', 'muchhellooo', 'nah', 'you', 'can', 'touch', 'it', 'everyon', 'think', 'that', 'it', 'is', 'scare', 'or', 'sad', 'but', 'that', 'is', 'not', 'true', 'in', 'fact', 'it', 'has', 'an', 'absolut', 'neutral', 'face', 'and', 'this', 'kitten', 'actual', 'realli', 'like', 'pat', 'and', 'hug', 'onlywel', 'kind', 'of', 'as', 'it', 'was', 'alreadi', 'mention', 'sometim', 'becaus', 'of', 'ni', 'it', 'is', 'hard', 'to', 'convey', 'complex', 'stuff', 'which', 'pop', 'up', 'in', 'your', 'head', 'in', 'whimsic', 'compil', 'of', 'shape', 'and', 'pictur', 'onli', 'with', 'wordsi', 'think', 'this', 'kitten', 'would', 'be', 'veri', 'appropri', 'here', '376562367034good', 'night', 'everyon', 'out', 'there', 'even', 'if', 'for', 'someon', 'there', 'is', 'morn', 'right', 'now', 'night', 'alway', 'supersed', 'morn', 'and', 'peopl', 'say', 'good', 'night', 'in', 'order', 'to', 'meet', 'next', 'day', 'oh', 'that', 'movi', 'it', 'awesom', 'thank', 'you', 'hope', 'you', 'had', 'good', 'sleep', 'in', 'the', 'air', 'anyway', 'i', 'am', 'wish', 'you', 'good', 'night', 'for', 'the', 'next', 'night', 'ahead', 'hope', 'it', 'will', 'be', 'on', 'land', 'good', 'peopl', 'deserv', 'good358882', '358890well', 'other', 'peopl', 'who', 'may', 'be', 'wonder', 'about', 'an', 'issu', 'from', 'the', 'name', 'of', 'the', 'topic', 'will', 'find', 'your', 'respons', 'help', 'anyway', 'this', 'final', 'someon', 'mention', 'that', 'i', 'still', 'see', 'creaturesfac', 'in', 'a', 'maze', 'of', 'various', 'random', 'pattern', 'it', 'can', 'be', 'amus', 'sometim', 'it', 'a', 'veri', 'handi', 'skill', 'when', 'you', 'are', 'boredoh', 'i', 'did', 'not', 'know', 'that', 'what', 'a', 'piti', 'whi', 'not', 'sacrific', 'whole', 'supermarket', 'then', 'we', 'can', 'decid', 'which', 'walmart', 'will', 'be', 'the', 'best', 'i', 'think', 'the', 'biggest', 'one', 'would', 'be', 'greatyippi', 'here', 'you', 'go', '357002', 'he', 'think', 'that', 'the', 'fire', 'is', 'delici', 'should', 'i', 'sacrific', 'tofu', 'i', 'do', 'not', 'like', 'to', 'wast', 'foodi', 'do', 'not', 'think', 'that', 'the', 'creator', 'of', 'this', 'thread', 'care', 'what', 'is', 'go', 'on', 'here', 'after', '3', 'year', 'heh', 'i', 'understand', 'you', 'with', 'these', 'same', 'given', 'languagesyessss', 'adventur', 'time', 'di', 'get', 'angri', 'quit', 'rare', 'but', 'when', 'i', 'do', 'it', 'is', 'safer', 'for', 'surround', 'peopl', 'to', 'go', 'somewher', 'els', 'it', 'imposs', 'for', 'me', 'to', 'hide', 'or', 'suppress', 'anger', 'the', 'onli', 'way', 'to', 'get', 'rid', 'of', 'this', 'feel', 'is', 'to', 'burstiv', 'never', 'like', 'it', 'anyth', 'fake', 'is', 'bad', 'actuallyhug', 'should', 'be', 'given', 'onli', 'to', 'chosen', 'one', 'chosen', 'there', 'are', 'quit', 'few', 'of', 'them', 'though349890yup', 'you', 'are', 'do', 'it', 'right', 'cours', 'it', 'is', 'not', 'veri', 'comfort', 'but', 'human', 'race', 'surviv', 'thank', 'women', 'abil', 'to', 'give', 'birth', 'to', 'other', 'human', 'be', 'it', 'work', 'for', 'thousand', 'of', 'year', 'whi', 'chang', 'it', 'besid', 'there', 'arethat', 'happen', 'and', 'it', 'occur', 'becaus', 'most', 'often', 'peopl', 'use', 'result', 'of', 'extrem', 'precis', 'and', 'elabor', 'onlin', 'test', 'as', 'a', 'basi', 'of', 'determin', 'one', 'type', 'both', 'visual', 'and', 'languag', 'art', 'more246386i', 'studi', 'graphic', 'design', 'now', 'which', 'i', 'realli', 'enjoy', 'what', 'is', 'interest', 'about', 'this', 'field', 'is', 'that', 'the', 'abil', 'to', 'generat', 'idea', 'and', 'solv', 'problem', 'is', 'much', 'more', 'import', 'than', 'possess', 'of', 'a', 'specificalexxxandra97', 'deviantart236994', 'am', 'alway', 'readi', 'to', 'disciplin', 'to', 'intimid', 'to', 'be', 'precis', 'my', 'sibl', 'offenderworld', 'domin', 'shoot', 'peopl', 'in', 'the', 'head', 'whi', 'oh', 'right', 'intj', 'alway', 'must', 'be', 'characteris', 'onli', 'with', 'these', 'word', 'i', 'want', 'to', 'show', 'so', 'bad', 'my', 'reaction', 'to', 'this', '221226218106istp']\n",
            "['as', 'an', 'enfj', 'how', 'ambiti', 'are', 'you', 'i', 'am', 'fair', 'ambiti', 'i', 'have', 'two', 'undergrad', 'degre', 'sociologyreligi', 'studi', 'in', 'educ', 'in', 'eslsecondari', 'educ', 'i', 'left', 'about', 'a', '3', 'year', 'gap', 'between', 'bothwelcom', 'i', 'find', 'that', 'write', 'my', 'thought', 'in', 'freeflow', 'about', 'the', 'situat', 'help', 'me', 'cope', 'with', 'separ', 'my', 'feel', 'with', 'the', 'other', 'person', 'i', 'also', 'remind', 'myself', 'that', 'i', 'will', 'not', 'allow', 'anotherhealthi', 'way', 'workout', 'regular', 'yoga', 'talk', 'to', 'my', 'boyfriendfriend', 'maintain', 'a', 'regular', 'sleep', 'schedul', 'unhealthi', 'chocol', 'more', 'chocol', 'sometim', 'other', 'unhealthi', 'food', 'it', 'is', 'go', 'excel', 'are', 'relationship', 'is', 'build', 'an', 'amaz', 'foundat', 'we', 'love', 'to', 'express', 'our', 'feel', 'for', 'each', 'other', 'through', 'poetri', 'my', 'prefer', 'through', 'draw', 'art', 'his', 'prefer', 'wehey', 'infp', 'bare', 'post', 'anymor', 'i', 'just', 'want', 'to', 'share', 'that', 'i', 'met', 'my', 'infp', 'boyfriend', 'on', 'feb', '4th', 'of', 'this', 'year', 'we', 'met', 'through', 'a', 'date', 'app', 'we', 'have', 'never', 'been', 'more', 'in', 'love', 'we', 'have', 'both', 'describ', 'ourit', 'been', 'six', 'date', 'and', 'i', 'found', 'myself', 'an', 'infp', 'he', 'took', 'the', 'test', 'and', 'yes', 'he', 'is', 'an', 'infp', 'the', 'connect', 'is', 'just', 'so', 'amaz', 'and', 'intens', 'right', 'now', 'it', 'even', 'scare', 'me', 'he', 'told', 'me', 'he', 'has', 'neveri', 'am', 'curious', 'what', 'you', 'would', 'like', 'yeah', 'we', 'enfj', 'are', 'uniqu', 'wonder', 'if', 'this', 'has', 'to', 'do', 'with', 'enneagramlov', 'stylesi', 'do', 'not', 'have', 'a', 'ton', 'of', 'info', 'as', 'i', 'have', 'not', 'met', 'this', 'guy', 'in', 'person', 'onli', 'chat', 'with', 'him', 'yesterday', 'for', 'the', 'first', 'time', 'onlin', 'here', 'what', 'i', 'do', 'know', 'accord', 'to', 'his', 'profil', 'he', 'is', 'look', 'forher', 'are', 'some', 'sign', 'they', 'tend', 'to', 'talk', 'faster', 'they', 'will', 'have', 'a', 'tougher', 'time', 'fill', 'in', 'gap', 'in', 'the', 'convers', 'sometim', 'they', 'will', 'not', 'initi', 'the', 'interact', 'get', 'a', 'bit', 'more', 'shi', 'or', 'wait', 'tilldislik', 'my', 'infp', 'bestfriend', 'sister', 'we', 'onli', 'just', 'met', 'this', 'month', 'i', 'do', 'not', 'know', 'i', 'felt', 'strang', 'upset', 'about', 'whi', 'i', 'do', 'not', 'like', 'her', 'sister', 'and', 'guilti', 'the', 'girl', 'is', 'so', 'selfabsorb', 'doe', 'thing', 'thatyeah', 'i', 'hear', 'you', 'there', 'you', 'just', 'never', 'know', 'that', 'you', 'will', 'fall', 'in', 'love', 'with', 'someon', 'it', 'doe', 'come', 'out', 'of', 'nowherewel', 'put', 'i', 'am', 'borrow', 'this', 'one', 'in', 'the', 'futureher', 'are', 'some', 'idea', 'anyth', 'handwritten', 'or', 'creat', 'by', 'hand', 'so', 'origin', 'this', 'can', 'rang', 'from', 'poetri', 'a', 'clever', 'creat', 'time', 'line', 'of', 'your', 'relationship', 'with', 'photo', 'in', 'form', 'of', 'a', 'youtub', 'clip', 'tooi', 'total', 'relat', 'to', 'what', 'you', 'said', 'therey', 'i', 'am', 'with', 'you', 'i', 'find', 'it', 'veri', 'hard', 'to', 'fall', 'in', 'love', 'some', 'peopl', 'have', 'been', 'known', 'to', 'mistak', 'my', 'friend', 'extrovert', 'behaviour', 'as', 'some', 'kind', 'of', 'romant', 'interest', 'must', 'be', 'go', 'out', 'of', 'style', 'to', 'takethank', 'for', 'the', 'repli', 'i', 'agre', 'with', 'what', 'you', 'have', 'said', 'i', 'would', 'actual', 'like', 'to', 'dump', 'and', 'bailout', 'on', 'her', 'at', 'this', 'pointthat', 'is', 'what', 'she', 'said', 'howev', 'her', 'friend', 'report', 'me', 'to', 'hr', 'would', 'not', 'have', 'ani', 'affect', 'on', 'me', 'i', 'do', 'not', 'work', 'there', 'i', 'am', 'simpli', 'an', 'individu', 'who', 'appli', 'for', 'a', 'grant', 'which', 'is', 'govt', 'money', 'this', 'moneythank', 'you', 'sane', 'advicehey', 'i', 'am', 'work', 'with', 'infp', 'on', 'a', 'communiti', 'project', 'without', 'go', 'into', 'too', 'mani', 'detail', 'a', 'number', 'of', 'peopl', 'have', 'drop', 'the', 'ball', 'on', 'her', 'includ', 'the', 'illustr', 'who', 'was', 'work', 'with', 'her', 'an', 'intp', 'so', 'good', 'jame', 'is', 'also', 'a', 'youth', 'workermusician', 'the', 'nonlyr', 'version', 'of', 'the', 'song', 'is', 'amaz', 'ani', 'how', 'f3', 'throwback', 'to', '1995remind', 'me', 'of', 'the', 'barista', 'at', 'my', 'local', 'starbuck', 'still', 'check', 'if', 'he', 'is', 'go', 'to', 'do', 'some', 'more', 'rad', 'art', 'work', 'and', 'what', 'is', 'next', 'in', 'his', 'life', 'lol', 'bono', 'is', 'rumour', 'to', 'be', 'an', 'enfj', 'as', 'well', 'yeah', 'that', 'is', 'the', 'correct', 'way', 'to', 'put', 'i', 'felt', 'my', 'post', 'was', 'rather', 'unbalanc', 'the', 'one', 'male', 'enfp', 'i', 'know', 'is', 'an', 'excel', 'photograph', 'veri', 'reliabl', 'when', 'it', 'come', 'to', 'deliev', 'his', 'work', 'i', 'think', 'it', 'wasy', 'that', 'is', 'what', 'i', 'was', 'convey', 'glad', 'it', 'made', 'sens', 'realli', 'tongu', 'i', 'think', 'about', 'the', '2', 'enfp', 'friend', 'i', 'have', 'well', 'one', 'is', 'not', 'a', 'friend', 'anymor', 'by', 'virtu', 'of', 'the', 'total', 'lack', 'of', 'effort', 'she', 'put', 'in', 'our', 'friendship', 'they', 'amass', 'so', 'mani', 'friend', 'veri', 'quicklyi', 'it', 'me', 'or', 'do', 'other', 'enfj', 'have', 'troubl', 'open', 'up', 'i', 'find', 'it', 'take', 'forev', 'for', 'me', 'to', 'actual', 'talk', 'about', 'myself', 'as', 'a', 'person', 'unless', 'someon', 'ask', 'direct', 'question', 'but', 'who', 'the', 'heck', 'doe', 'that', 'pmost', 'jealous', 'of', 'their', 'social', 'acumen', 'they', 'walk', 'into', 'a', 'room', 'trump', 'all', 'the', 'effort', 'of', 'other', 'peopl', 'name', 'enfj', 'through', 'their', 'charisma', 'and', 'largerthanlif', 'person', 'i', 'find', 'they', 'say', 'aloti', 'agre', 'with', 'what', 'gilli', 'said', 'point', 'on', 'i', 'find', 'that', 'peopl', 'simpli', 'do', 'not', 'direct', 'ask', 'question', 'about', 'me', 'i', 'think', 'it', 'is', 'refresh', 'for', 'enfj', 'to', 'be', 'abl', 'to', 'talk', 'about', 'themselv', 'we', 'value1', 'a', 'big', 'parti', 'that', 'will', 'have', 'most', 'acquaint', 'and', 'stranger', 'there', 'is', 'alcohol', 'food', 'and', 'music', 'but', 'the', 'point', 'is', 'to', 'main', 'talk', 'to', 'other', 'i', 'would', 'like', 'be', 'tire', 'think', 'about', 'this', 'eventpart', 'in', 'bold', 'someth', 'tell', 'me', 'that', 'you', 'feel', 'disappoint', 'about', 'this', 'or', 'at', 'least', 'confus', 'that', 'he', 'want', 'to', 'stayintouch', 'but', 'choos', 'not', 'to', 'initi', 'contact', 'if', 'he', 'is', 'not', 'choos', 'to', 'contact', 'youthank', 'for', 'share', 'gilli', 'well', 'i', 'believ', 'in', 'my', '30s', 'i', 'start', 'to', 'care', 'less', 'about', 'fit', 'in', 'and', 'pleas', 'other', 'peopl', 'whim', 'particular', 'peopl', 'who', 'want', 'me', 'to', 'chang', 'i', 'also', 'becam', 'muchi', 'did', 'not', 'read', 'the', 'link', 'yet', 'i', 'had', 'a', 'best', 'friend', 'that', 'is', 'a', 'estj', 'veri', 'control', 'and', 'unabl', 'to', 'accept', 'new', 'way', 'of', 'do', 'thing', 'it', 'was', 'her', 'way', 'or', 'the', 'highway', 'i', 'also', 'felt', 'she', 'care', 'too', 'much', 'aboutthank', 'for', 'the', 'repli', 'i', 'like', 'how', 'you', 'help', 'me', 'work', 'that', 'out', 'enfj', 'brotherhav', 'you', 'tri', 'an', 'i', 'feel', 'statement', 'basic', 'you', 'would', 'explain', 'how', 'you', 'feel', 'without', 'implic', 'him', 'so', 'you', 'could', 'say', 'someth', 'like', 'i', 'feel', 'frustrat', 'reject', 'shut', 'down', 'yes', 'good', 'observ', 'there', 'were', 'other', 'reason', 'he', 'did', 'not', 'want', 'to', 'share', 'with', 'me', 'i', 'often', 'wonder', 'whi', 'he', 'would', 'not', 'want', 'to', 'i', 'typic', 'do', 'not', 'see', 'esfj', 'as', 'veri', 'privat', 'peopl', 'thank', 'forcouldnt', 'agre', 'more', 'with', 'all', 'that', 'is', 'post', 'here', 'dont', 'over', 'complic', 'thing', 'start', 'with', 'fb', 'then', 'a', 'coffe', 'befor', 'move', 'on', 'to', 'someth', 'more', 'honest', 'if', 'she', 'doe', 'not', 'want', 'to', 'talk', 'to', 'you', 'shey', 'dure', 'time', 'of', 'frustrat', 'i', 'feel', 'the', 'same', 'befor', 'i', 'reach', 'out', 'to', 'someon', 'i', 'ask', 'myself', 'if', 'they', 'are', 'not', 'there', 'for', 'me', 'when', 'i', 'need', 'them', 'will', 'i', 'be', 'ok', 'with', 'help', 'them', 'now', 'this', 'help', 'me', 'putquest', 'for', 'my', 'enfj', 'brother', 'and', 'sister', 'how', 'do', 'you', 'get', 'over', 'a', 'breakup', 'especi', 'with', 'someon', 'you', 'still', 'have', 'great', 'memori', 'with', 'and', 'truli', 'love', 'i', 'still', 'my', 'ex', 'esfj', 'boyfriend', 'and', 'it', 'is', 'beeni', 'would', 'not', 'worri', 'at', 'all', 'he', 'also', 'told', 'you', 'not', 'to', 'worri', 'trust', 'him', 'the', 'thing', 'is', 'he', 'know', 'to', 'know', 'she', 'need', 'to', 'own', 'her', 'feel', 'and', 'that', 'he', 'is', 'not', 'respons', 'for', 'them', 'it', 'is', 'import', 'that', 'youwhen', 'i', 'look', 'back', 'on', 'when', 'i', 'met', 'the', 'esfj', 'i', 'onc', 'date', 'he', 'was', 'immedi', 'affection', 'with', 'me', 'reach', 'for', 'my', 'hand', 'kiss', 'me', 'veri', 'obvious', 'when', 'we', 'spoke', 'he', 'listen', 'to', 'me', 'intent', 'ask', 'me', 'some', 'new', 'pictur', 'of', 'me', 'by', 'new', 'it', 'is', 'a', 'year', 'old', 'but', 'i', 'have', 'not', 'chang', 'in', 'yearsjust', 'watch', 'the', 'trailer', 'i', 'can', 'not', 'decid', 'from', 'the', 'itybityclip', 'if', 'he', 'is', 'an', 'enfj', 'look', 'like', 'an', 'awesom', 'moviemr', 'selfridg', 'my', 'newest', 'love', 'fresh', 'princ', 'of', 'bel', 'air', 'star', 'trek', 'the', 'next', 'generat', 'thank', 'to', 'my', 'infp', 'sister', 'break', 'bad', 'whole', 'season', 'is', 'fantast', 'top', 'chef', 'i', 'do', 'not', 'have', 'a', 'lot', 'of', 'time', 'toit', 'been', 'a', 'while', 'enfj', 'i', 'am', 'curious', 'to', 'know', 'how', 'your', 'view', 'on', 'relationship', 'romant', 'famili', 'friendship', 'colleagu', 'has', 'chang', 'over', 'the', 'cours', 'of', 'your', 'life', 'a', 'broad', 'question', 'that', 'can', 'not', 'as', 'popular', 'as', 'enfp', 'though', 'i', 'find', 'that', 'if', 'their', 'is', 'an', 'enfp', 'in', 'the', 'room', 'they', 'will', 'outshin', 'us', 'peopl', 'just', 'gravit', 'toward', 'them', 'i', 'think', 'if', 'we', 'need', 'to', 'take', 'care', 'of', 'the', 'need', 'of', 'the', 'groupit', 'use', 'to', 'bother', 'me', 'in', 'the', 'past', 'but', 'know', 'that', 'i', 'dislik', 'not', 'hate', 'i', 'can', 'not', 'say', 'i', 'hate', 'anyon', 'some', 'peopl', 'i', 'am', 'comfort', 'know', 'that', 'other', 'would', 'also', 'dislik', 'me', 'i', 'use', 'to', 'have', 'a', 'sens', 'ofgreat', 'question', 'i', 'had', 'a', 'littl', 'school', 'on', 'the', 'block', 'i', 'would', 'make', 'worksheet', 'buy', 'all', 'kind', 'of', 'suppli', 'for', 'my', 'sticker', 'fix', 'the', 'booboo', 'of', 'the', 'littl', 'kid', 'is', 'it', 'surpris', 'that', 'i', 'am', 'anorm', 'i', 'do', 'not', 'like', 'beard', 'on', 'men', 'howev', 'when', 'it', 'come', 'to', 'mr', 'selfridg', 'i', 'would', 'make', 'an', 'except', 'it', 'look', 'realli', 'sexi', 'well', 'groom', 'and', 'suit', 'him', 'well', 'my', 'ex', 'also', 'look', 'veri', 'hot', 'with', 'a', 'beard']\n"
          ]
        }
      ]
    },
    {
      "cell_type": "code",
      "source": [
        "after_stop_words_training = remove_stop_words(after_stemming_training)\n",
        "after_stop_words_testing = remove_stop_words(after_stemming_testing)\n",
        "for i in range(0,3):\n",
        "  print(after_stop_words_training[i])\n",
        "  print(after_stop_words_testing[i])"
      ],
      "metadata": {
        "colab": {
          "base_uri": "https://localhost:8080/"
        },
        "id": "ddwqSwRRPQFF",
        "outputId": "cd044276-bf46-49c2-ea27-78c21dc5d714"
      },
      "execution_count": 16,
      "outputs": [
        {
          "output_type": "stream",
          "name": "stdout",
          "text": [
            "['intj', 'moment', 'sportscent', 'top', 'ten', 'play', 'prankswhat', 'lifechang', 'experi', 'life', 'repeat', 'todaymay', 'perc', 'experi', 'immers', 'youth', 'last', 'thing', 'infj', 'friend', 'post', 'facebook', 'befor', 'commit', 'suicid', 'next', 'day', 'rest', 'peac', 'enfj7', 'sorri', 'hear', 'distress', 'onli', 'natur', 'relationship', 'perfect', 'time', 'everi', 'moment', 'exist', 'figur', 'hard', 'time', 'time', 'growth', 'as84389', '84390', 'welcom', 'stuff', 'game', 'set', 'matchprozac', 'wellbrutin', 'least', 'thirti', 'move', 'leg', 'mean', 'move', 'desk', 'chair', 'weed', 'moder', 'mayb', 'edibl', 'healthier', 'alternativebas', 'three', 'item', 'determin', 'type', 'whichev', 'type', 'would', 'like', 'use', 'given', 'type', 'cognit', 'function', 'whatnot', 'left', 'byall', 'thing', 'moder', 'sim', 'inde', 'video', 'game', 'good', 'note', 'good', 'somewhat', 'subject', 'complet', 'promot', 'death', 'ani', 'given', 'simdear', 'enfp', 'favorit', 'video', 'game', 'grow', 'current', 'favorit', 'video', 'game', 'cool', 'appear', 'late', 'sadther', 'someon', 'everyonewait', 'thought', 'confid', 'good', 'thingi', 'cherish', 'time', 'solitud', 'bc', 'revel', 'within', 'inner', 'world', 'wherea', 'time', 'would', 'workin', 'enjoy', 'time', 'dont', 'worri', 'peopl', 'alway', 'around', 'toyo', 'entp', 'ladi', 'complimentari', 'personalitywel', 'hey', 'main', 'social', 'outlet', 'xbox', 'live', 'convers', 'even', 'verbal', 'fatigu', 'quick', 'realli', 'part', '146', '250', 'becaus', 'thread', 'requir', 'high', 'backyard', 'roast', 'eat', 'marshmellow', 'backyard', 'convers', 'someth', 'intellectu', 'follow', 'massag', 'kiss', 'mani', 'bs', 'sentenc', 'could', 'think', 'bban', 'watch', 'movi', 'corner', 'duncesban', 'becaus', 'health', 'class', 'clear', 'taught', 'noth', 'peer', 'pressureban', 'whole', 'host', 'reason', 'two', 'babi', 'deer', 'left', 'right', 'munch', 'beetl', 'middl', '2', 'use', 'blood', 'two', 'cavemen', 'diari', 'today', 'latest', 'happen', 'design', 'cave', 'diari', 'wall', '3', 'see', 'pokemon', 'world', 'infj', 'societi', 'everyon', 'becom', 'optimist49142', 'artist', 'artist', 'becaus', 'draw', 'idea', 'count', 'form', 'someth', 'like', 'signaturewelcom', 'robot', 'rank', 'person', 'selfesteem', 'cuz', 'avid', 'signatur', 'artist', 'like', 'proudban', 'room', 'bed', 'got', 'learn', 'share', 'roach', 'much', 'thunder', 'grumbl', 'kind', 'storm', 'yepahh', 'old', 'high', 'school', 'music', 'heard', 'age', 'fail', 'public', 'speak', 'class', 'year', 'ago', 'sort', 'learn', 'could', 'better', 'posit', 'big', 'part', 'failur', 'overload', 'tooi', 'like', 'person', 'mental', 'hes', 'confirm', 'intj', 'way', 'denver', 'area', 'start', 'new', 'life']\n",
            "['actual', 'result', 'look', 'like', 'triplewithdrawn', '5w4', '9w8', '4w5', 'would', 'appear', 'happen', 'strong', '2', '6', '7', 'traitsit', 'odd', 'associ', 'whole', 'heart', 'triad', 'narciss', 'would', 'associ', 'five', 'antisoci', 'disord', 'eight', 'btw', 'let', 'us', 'set', 'asid', 'asperg', 'call', 'itso', 'mom', 'sometim', 'annoy', 'piec', 'mom', 'go', 'insert', 'known', 'task', 'know', 'mom', 'well', 'know', 'whi', 'go', 'yeah', 'oneim', 'gon', 'guess', 'type', 'like', 'groupthink', 'entir', 'sure', 'thought', 'type', 'least', 'like', 'groupthinkveri', 'true', 'guess', '9s', 'ideal', 'type', 'thank', 'high', 'level', 'neutral', 'inner', 'tranquil', 'perspect', '9', 'worth', 'ideal', 'ani', 'type', 'hard', 'ever', 'wear', 'nice', 'new', 'avatar', 'btw', 'dealwithitth', 'entj', 'current', 'live', 'appar', 'use', 'via', 'cook', 'amid', 'thing', '100', 'sure', 'hes', 'quit', 'nice', 'compar', 'teni', 'alon', 'sometim', 'kinda', 'wonder', 'howyou', 'critic', 'less', 'thank', 'post', 'guiltya', 'type', '9', 'look', 'poll', 'popular', 'proud', 'goe', 'vote', '9', 'edit', '9th', 'vote', 'number', 'crazyit', 'seem', 'isp', 'seem', 'hold', 'relationship', 'get', 'marri', 'longer', 'esp', 'stat', 'person', 'page', 'highest', 'percentag', 'marri', 'highest', 'tolook', 'back', 'thread', 'riiiiiiiiiight', 'whi', 'creat', 'thread', 'dri', 'mayb', 'much', 'like', 'compar', 'istp', 'intpmayb', 'intp', 'tisi', 'loop', 'tend', 'nitpicki', 'environ', 'well', 'due', 'high', 'siso', 'although', '5w6', 'close', '9w1', 'absolut', '8', 'anywher', 'enneagram', 'type', 'allnot', 'mention', 'feel', 'somewhat', 'disturb', 'unreal', 'timepstyp', 'enneagram', 'test', 'result', 'distribut', 'score', 'type', '15', 'type', 'twoim', 'probabl', 'way', 'right', 'weird', 'look', 'well', 'crazymayb', 'becaus', 'enneagram', 'offici', 'popular', 'mbti', 'hard', 'find', 'broad', 'realworld', 'statstp', 'fp', 'necessarili', 'associ', 'function', 'theyr', 'associ', 'domaux', 'respect', 'anyway', 'could', 'divid', '16', 'type', 'number', 'way', 'four', 'epnot', 'sj', 'mom', 'sj', 'parent', 'like', 'esfj', 'istpwhi', 'discuss', 'fine', 'noth', 'heat', 'herei', 'use', 'wear', 'watch', 'younger', 'watch', 'tend', 'irrit', 'wrist', 'stop', 'besid', 'way', 'tell', 'time', 'necessari', 'bewar', 'under1', 'word', 'affirm', 'meh', '2', 'gift', 'give', 'yep', 'receiv', 'anoth', 'stori', '3', 'act', 'service1', 'entir', 'sure', 'theyr', 'place', 'anyth', 'els', 'seldom', 'peopl', 'dream', '2', 'often', 'like', 'thing', 'rememb', 'dream', 'quit', 'vivid', 'thetheyl', 'probabl', 'get', 'along', 'quit', 'well', 'probabl', 'true', 'ani', 'xwi', 'ywx', 'btw', 'wonder', 'littl', 'w', 'number', 'stand', 'wing', 'unclear', 'wonder', 'common', '9', 'fundament', 'enneagram', 'type', 'doe', 'anyon', 'know', 'linkfrom', 'typelogiccom', 'intuit', 'tertiarya', 'esfj', 'matur', 'situat', 'aris', 'call', 'suspens', 'critic', 'allow', 'play', 'leadership', 'fe', 'functionfrom', 'typelogiccom', 'estj', 'matur', 'situat', 'aris', 'call', 'suspens', 'critic', 'extravert', 'intuit', 'allow', 'play', 'leadership', 'functionagain', 'sorri', 'harsh', 'everyth', 'person', 'look', 'insid', 'parenthes', 'altern', 'possibl', 'inconsider', 'turn', 'justi', 'tend', 'apolog', 'like', 'veri', 'reason', 'mayb', 'tf', 'thingthi', 'oblig', 'sjs', 'estj', 'amid', 'drive', 'wall', 'sometim', 'esfj', 'mother', 'tendenc', 'although', 'degre', 'encount', 'find', 'interest', 'never', 'would', 'guess', 'estj', 'would', 'tell', 'white', 'lie', 'part', 'due', 'stereotyp', 'view', 'estj', 'think', 'type', 'might', 'get', 'thrown', 'andnot', 'harsh', 'speak', 'lie', 'could', 'lie', 'strong', 'stj', 'look', 'like', 'strong', 'either', 'could', 'misread', 'scale', 'anoth', 'question', 'whather', 'third', 'istp', 'add', 'say', 'though', 'becaus', 'autism', 'unusu', 'strong', 'could', 'happen', 'isfp', 'result', 'could', 'autist', 'isfp', 'isfjher', 'repli', 'thread', 'happi', 'crazi', 'anyway', 'onc', 'read', 'ifp', 'seem', 'much', 'patienc', 'type', 'whose', 'prefer', 'strong', 'let', 'alon', 'tjmost', 'rule', 'need', 'work', 'ok', 'develop', 'better', 'later', 'life', 'suck', 'fe', 'good', 'either', 'bothp', 'whi', 'term', 'condit', 'long', 'ani', 'idea', 'discourag', 'redund', 'ever', 'heard', 'plain', 'english', 'legalesei', 'need', 'get', 'recurringthoughtofminesound', 'like', 'need', 'relax', 'sound', 'like', 'need', 'forgiv', 'intp', 'detach', 'perceiv', 'natur', 'mayb', 'got', 'quick', 'boredthank', 'everyon', 'share', 'twosid', 'understand', 'rememb', 'high', 'school', 'enfj', 'teacher', 'us', 'outsid', 'dure', 'homeroom', 'relief', 'proudfirst', 'impress', 'estj', 'mayb', 'strong', 'certain', 'underdevelop', 'term', 'cognit', 'function', 'fiit', 'look', 'like', 'rest', 'us', 'either', 'true', 'yourselfistj', 'cup', 'coffe', 'estj', 'judg', 'mallet', 'lack', 'proper', 'istp', 'someon', 'fix', 'cool', 'vehicl', 'car', 'motorcycl', 'bicycl', 'otherwis', 'isfp', 'artistth', 'question', 'becaus', 'human', 'could', 'control', 'ourselv', 'becaus', 'mother', 'natur', 'forc', 'usi', 'would', 'guess', 'thing', 'given', 'strong', 'becom', 'like', 'well', 'howev', 'sp', 'need', 'routin', 'need', 'know', 'worksi', 'find', 'fascin', 'isfj', 'higher', 'wonder', 'sjs', 'higher', 'fe', 'esfj', 'mother', 'test', 'higher', 'tehow', 'nostalg', 'would', 'appear', 'nostalgia', 'fair', 'strong', 'among', 'esfj', 'siauxi', 'wonder', 'thread', 'went', 'thought', 'music', 'therefor', 'describedfrom', 'istp', 'insight', 'thread', 'sometim', 'wonder', 'enfj', 'enxj', 'matter', 'experi', 'hereandnow', 'manner', 'like', 'sps', 'imagin', 'like', 'ani', 'ident', 'relationship', 'nice', 'eventu', 'get', 'bore', 'sometim', 'wonder', 'isfpistp', 'relationship', 'would', 'look', 'likelet', 'see', 'play', 'game', 'especi', 'integr', 'element', 'adventur', 'game', 'seem', 'ski', 'bike', 'hike', 'climb', 'procrastin', 'uncommon', 'among', 'us']\n",
            "['find', 'lack', 'post', 'veri', 'alarmingsex', 'bore', 'posit', 'often', 'exampl', 'girlfriend', 'current', 'environ', 'creativ', 'use', 'cowgirl', 'missionari', 'enoughgiv', 'new', 'mean', 'game', 'theoryhello', 'entp', 'grin', 'convers', 'flirt', 'acknowledg', 'presenc', 'return', 'word', 'smooth', 'wordplay', 'cheeki', 'grinsthi', 'lack', 'balanc', 'hand', 'eye', 'coordinationr', 'iq', 'test', 'score', '127', 'internet', 'iq', 'test', 'funni', 'score', '140s', 'higher', 'like', 'former', 'respons', 'thread', 'mention', 'believ', 'iq', 'test', 'befor', 'banishyou', 'know', 'entp', 'vanish', 'site', 'year', 'half', 'return', 'find', 'peopl', 'still', 'comment', 'post', 'like', 'ideasthought', 'know', 'entp', 'think', 'thing', 'sometim', 'go', 'old', 'sherlock', 'holm', 'quot', 'perhap', 'special', 'knowledg', 'special', 'power', 'like', 'rather', 'encourag', 'seek', 'complexcheshirewolftumblrcom', 'd400000', 'postnot', 'realli', 'never', 'thought', 'jp', 'real', 'function', 'judg', 'use', 'use', 'domin', 'fe', 'emot', 'rare', 'use', 'due', 'strengthyou', 'know', 'though', 'ingeni', 'say', 'realli', 'see', 'happen', 'play', 'first', 'person', 'shooter', 'back', 'drive', 'around', 'see', 'look', 'onout', 'rock', 'paper', 'best', 'make', 'lol', 'guy', 'lucki', 'realli', 'high', 'tumblr', 'systemso', 'hear', 'new', 'first', 'person', 'shooter', 'game', 'rock', 'hell', 'soundtrack', 'auto', 'sound', 'equip', 'shake', 'heaven', 'manag', 'put', 'coupl', 'ps3s', 'inno', 'way', 'connect', 'thing', 'veri', 'domin', 'awar', 'environ', 'domin', 'exampl', 'shawn', 'spencer', 'patrick', 'jane', 'entpswel', 'charli', 'first', 'admit', 'get', 'jealous', 'like', 'chalk', '4w3', 'heart', 'mix', 'domin', '7w8', '7s', '8s', 'like', 'notic', '4s', 'like', 'known', 'upload', 'clip', 'mic', 'away', 'mouth', 'hear', 'anyth', 'ninja', 'assassin', 'style', 'splattertik', 'tok', 'realli', 'great', 'song', 'long', 'mental', 'block', 'singer', 'love', 'beat', 'make', 'bouncedropio', 'v1swck0', 'mic', 'realli', 'close', 'mouth', 'smokin', 'ace', 'assassin', 'ball', 'play', 'backgroundsoci', 'extrovert', 'extrovert', 'sociabl', 'sherlock', 'movi', 'entp', 'normal', 'play', 'extj', 'book', 'estj', 'said', 'movi', 'look', 'good', 'except', 'call', 'sherlock', 'holm', 'never', 'fear', 'kiss', 'guy', 'kiss', 'anim', 'noth', 'vanish', 'person', 'tast', 'like', 'guy', 'kiss', 'know', 'thosesound', 'pretti', 'much', 'like', 'area', 'go', 'right', 'figur', 'way', 'life', 'mani', 'thing', 'biggest', 'problem', 'know', 'dontd', 'oper', 'impress', 'femal', 'never', 'look', 'boxi', 'okay', 'help', 'gay', 'friend', 'time', 'develop', 'littl', 'crush', 'get', 'redtt', 'describ', 'live', 'worst', 'nightmar', 'trap', 'place', 'around', 'onli', 'dull', 'wood', 'serial', 'killer', 'would', 'perfect', 'place', 'sad', 'imtbh', 'bias', 'sound', 'like', 'shadow', 'infp', 'think', 'mayb', 'hurt', 'turn', 'estj', 'tell', 'becaus', 'typic', 'infp', 'trait', 'left', 'overcheck', 'list', 'sorri', 'seem', 'came', 'bad', 'time', 'weve', 'alreadi', 'reach', 'quota', 'infj', 'howev', 'femal', 'like', 'femal', 'make', 'deal', 'kick', 'oneim', 'antp', 'lean', 'toward', 'easi', 'entp', 'intp', 'identifi', 'imagin', 'entp', 'interrog', 'would', 'go', 'littl', 'bit', 'like', 'jack', '24', 'except', 'mechan', 'rig', 'shock', 'treatment', 'equip', 'abandon', 'build', 'old', 'car', 'batti', 'jumperit', 'compliment', 'trust', 'psychopath', 'except', 'emoticon', 'theyr', 'weird', 'like', 'laugh', 'get', 'hurt', 'peopl', 'run', 'themselv', 'lawn', 'mower', 'like', 'theme', 'live', 'whi', 'know', 'heart', 'usual', 'leav', 'thing', 'mean', 'time', 'time', 'work', 'thing', 'work', 'mbp', 'pleasur', 'meet', 'youdamn', 'need', 'trust', 'instinct', 'would', 'closer', 'go', 'say', 'infpexfp', 'lean', 'toward', 'way', 'respond', 'friend', 'even', 'gay', 'lesbian', 'alway', 'advicei', 'bow', 'entp', 'master', 'entp', 'great', 'entp', 'would', 'abl', 'build', 'build', 'duck', 'duck', 'duck', 'shotgunwhat', 'never', 'becaus', 'hard', 'sad', 'lose', 'someon', 'like', 'knew', 'right', 'give', 'big', 'pat', 'back', 'becaus', 'awesom', 'alway', 'correctoh', 'tell', 'stupid', 'know', 'whi', 'play', 'make', 'laugh', 'go', 'neuropsycholog', 'psychologistd', 'nightowl', 'wake', '67pm', 'stay', 'awak', '101130amperson', 'opinion', 'back', 'theori', 'would', 'suggest', 'intp', 'social', 'difficult', 'intj', 'social', 'indiffer', 'use', 'social', 'situat', 'need', 'arisesperson', 'stock', 'desktop', 'download', 'random', 'stock', 'site', 'stock', 'photobucketsil', 'tell', 'open', 'photoshop', 'glad', 'like', 'staticd', 'thank', 'made', 'friend', 'sever', 'hour', 'work', 'construct', 'everi', 'line', 'static', 'get', 'avatar', 'later', 'fellow', 'teammat', 'doesntpsychologist', 'keep', 'around', 'long', 'enough', 'diagnosi', 'like', 'toy', 'diagnosi', 'psychologist', 'friend', 'friend', 'tell']\n",
            "['doe', 'inde', 'help', 'answer', 'question', 'iq', '129', 'profession', 'administ', 'doe', 'mean', 'anyth', 'need', 'number', 'tell', 'intellig', 'ishal', 'play', 'song', 'world', 'smallest', 'violini', 'realli', 'get', 'guy', 'think', 'introvert', 'shes', 'said', 'mani', 'time', 'extrovert', 'vote', 'talkat', 'high', 'school', 'see', 'introvert', 'beingassum', 'absolut', 'explain', 'absolut', 'best', 'choic', 'everi', 'situat', 'assum', 'author', 'accept', 'truth', 'behello', 'origin', 'join', 'site', 'late', '2009', 'lurk', 'mani', 'month', 'befor', 'turn', '19', 'start', 'colleg', 'search', 'use', 'forum', 'help', 'discover1', 'log', 'week', '2', 'look', 'infj', 'forum', 'see', 'new', 'thread', 'alreadi', 'seen', 'discuss', 'past', '3', 'check', 'new', 'post', 'case', 'hope', 'everyon', 'realiz', 'differ', 'nice', 'guy', 'well', 'nice', 'guywwwyoutubecomwatchvdox9l4ys7nyi', 'would', 'retir', 'account', 'sinc', 'ever', 'anymor', 'realli', 'mbti', 'anymor', 'whi', 'put', 'unnecessari', 'restrict', 'myselfim', 'virgin', 'way', 'still', 'wish', 'wasi', 'lost', 'virgin', 'someon', 'love', 'girl', 'right', 'girl', 'would', 'andim', '21', 'young', 'amiritehav', 'feel', 'alon', 'abl', 'tell', 'lot', 'person', 'energi', 'almost', 'like', 'known', 'year', 'find', 'freak', 'think', 'might', 'biolog', 'thing', 'rais', 'base', 'type', 'see', 'type', 'could', 'play', 'part', 'meyeah', 'nowher', 'near', 'ani', 'suppos', 'still', 'lower', 'standard', 'much', 'date', 'peopl', 'even', 'like', 'probabl', 'feel', 'alon', 'littl', 'disgust', 'moment', 'know', 'mean', 'problem', 'longest', 'time', 'seem', 'spark', 'relationship', 'better', 'text', 'weird', 'anyway', 'forc', 'littl', 'morei', 'imagin', 'infj', 'relat', 'trust', 'test', 'result', 'said', 'could', 'veri', 'well', 'infj', 'type', '3mi', 'view', 'alway', 'never', 'sex', 'someon', 'know', 'gon', 'lead', 'sex', 'point', 'follow', 'becaus', 'imagin', 'givingfor', 'like', 'veri', 'earli', 'control', 'tongu', 'long', 'hard', 'ever', 'say', 'least', 'intent', 'begin', 'think', 'lessright', 'debat', 'whether', 'entp', 'infj', 'sound', 'veri', 'strang', 'fit', 'mewho', 'doe', 'get', 'littl', 'genocid', 'everi', 'thenwalt', 'may', 'actual', 'infj', 'intj', 'reason', 'say', 'veri', 'clear', 'gus', 'intj', 'seem', 'varianc', 'abl', 'explain', 'morebout', 'damn', 'timeim', 'dude', 'kind', 'embarrass', 'like', 'show', 'bad', 'onli', 'two', 'know', 'lorelai', 'rori', 'esfp', 'infjisfj', 'respect', 'would', 'say', 'esfp', 'enfp', 'probabl', 'lean', 'stronger', 'esfp', 'enfp', 'introvert', 'allar', 'serious', 'base', 'date', 'life', 'base', 'person', 'theori', 'may', 'may', 'bullshiti', 'serious', 'hope', 'joke', 'thread', 'get', 'bad', 'tell', 'someon', 'troll', 'flat', 'fuck', 'stupid', 'go', 'winunless', 'romeni', 'win', 'thecongratulationsi', 'never', 'made', 'first', 'place', 'sohey', 'sure', 'whi', 'even', 'make', 'probabl', 'gon', 'retir', 'account', 'soon', 'anyway', 'know', 'thought', 'would', 'make', 'oneyour', 'typism', 'honest', 'realli', 'specif', 'type', 'annoy', 'stupid', 'annoy', 'type', 'said', 'love', 'fsm', 'holi', 'never', 'ever', 'ever', 'first', 'time', 'post', 'someth', 'like', 'two', 'year', 'likelihood', 'depress', 'dude', 'symptom', 'oh', '7', 'year', 'iim', 'partneredit', 'guess', 'get', 'read', 'whole', 'postcan', 'tuck', 'inyour', 'probabl', '3', 'type', 'three', 'fall', 'reserv', 'categori', 'peopl', 'would', 'still', 'consid', 'extrovert', 'peopl', 'talk', 'nonstop', 'actual', 'get', 'common', '3', '3w4', '3w2not', 'entp', 'would', 'say', 'istp', 'estp', 'doe', 'work', 'word', 'right', 'mouthjust', 'everyon', 'clear', 'get', 'percentag', 'mbti', 'doe', 'mean', '75', 'introvert', 'mean', 'pretti', 'confid', 'introvert', 'back', 'topic', 'pretti', 'much', 'certain', 'thatyeah', 'thing', 'happen', 'fucker', 'dear', 'stupid', 'peoplejust', 'becaus', 'show', 'doe', 'mean', 'judg', 'least', 'keep', 'entertain', 'excus', 'misogyni', 'fucktel', 'iron', 'date', 'girl', 'california', 'move', 'ago', 'ok', 'cupid', 'didnt', 'actual', 'expect', 'thing', 'produc', 'result', 'hasid', 'say', 'obama', 'definit', 'enfj', 'speak', 'common', 'valu', 'stick', 'intern', 'vision', 'etc', 'sarah', 'palinesfj', 'ronald', 'reaganhard', 'tell', 'probabl', 'estp', 'opnion']\n",
            "['good', 'cours', 'say', 'know', 'bless', 'cursedo', 'absolut', 'posit', 'best', 'friend', 'could', 'amaz', 'coupl', 'count', 'yes', 'could', 'mad', 'love', 'case', 'reconcil', 'feel', 'atno', 'didnt', 'thank', 'linksocal', 'tisi', 'loop', 'stem', 'ani', 'current', 'topicobsess', 'dead', 'like', 'stuck', 'thought', 'mind', 'wander', 'circl', 'feel', 'truli', 'terribl', 'notic', 'peculiar', 'veget', 'look', 'grass', 'dozen', 'differ', 'plant', 'speci', 'imagin', 'hundr', 'year', 'later', 'whenif', 'soilth', 'smith', 'never', 'everi', 'often', 'find', 'spot', 'marbl', 'tileswoodthi', '5', 'yearold', 'sentenc', 'incred', 'accur', 'beauti', 'descriptioni', 'visit', 'websit', 'last', '3', 'year', 'whoever', 'read', 'mayb', 'even', 'rememb', 'high', 'doubt', 'hi', '700049', '700057when', 'garden', '1030', 'pm', 'write', 'song', 'sing', 'togeth', 'dozen', 'cricket', 'play', 'acoust', 'guitarthi', 'intpish', 'thread', 'ever', 'seeni', 'would', 'abl', 'look', 'paint', 'entir', 'life', 'knew', 'pick', 'human', 'beingi', 'draw', 'background', 'anim', 'work', 'right', 'felt', 'oblig', 'make', 'mark', 'watneyx92', 'postcard', 'read', 'booki', 'start', 'make', 'comic', 'turtl', 'gordon', 'unicorn', 'chime', 'see', 'two', 'first', 'stori', 'recent', 'start', 'post', 'comic', 'two', 'friend', 'turtl', 'gordon', 'unicorn', 'chime', 'befor', 'post', 'stuff', 'interest', 'includ', 'onli', 'worksprob', 'could', 'work', 'togeth', 'new', 'model', 'expert', 'abrupt', 'explos', 'laughter', 'upon', 'various', 'weird', 'stuff', 'happen', 'becaus', 'peculiar', 'sens', 'humor', 'peculiar', 'muchhellooo', 'touch', 'everyon', 'think', 'scare', 'sad', 'true', 'fact', 'absolut', 'neutral', 'kitten', 'actual', 'realli', 'like', 'pat', 'hug', 'onlywel', 'kind', 'alreadi', 'mention', 'sometim', 'becaus', 'hard', 'convey', 'complex', 'stuff', 'pop', 'head', 'whimsic', 'compil', 'shape', 'pictur', 'onli', 'wordsi', 'think', 'kitten', 'would', 'veri', 'appropri', '376562367034good', 'night', 'everyon', 'even', 'someon', 'morn', 'right', 'night', 'alway', 'supersed', 'morn', 'peopl', 'say', 'good', 'night', 'order', 'meet', 'next', 'day', 'oh', 'movi', 'awesom', 'thank', 'hope', 'good', 'sleep', 'air', 'anyway', 'wish', 'good', 'night', 'next', 'night', 'ahead', 'hope', 'land', 'good', 'peopl', 'deserv', 'good358882', '358890well', 'peopl', 'may', 'wonder', 'issu', 'topic', 'find', 'respons', 'help', 'anyway', 'final', 'someon', 'mention', 'still', 'see', 'creaturesfac', 'maze', 'various', 'random', 'pattern', 'amus', 'sometim', 'veri', 'handi', 'skill', 'boredoh', 'know', 'piti', 'whi', 'sacrific', 'whole', 'supermarket', 'decid', 'walmart', 'best', 'think', 'biggest', 'would', 'greatyippi', 'go', '357002', 'think', 'fire', 'delici', 'sacrific', 'tofu', 'like', 'wast', 'foodi', 'think', 'creator', 'thread', 'go', '3', 'year', 'heh', 'understand', 'given', 'languagesyessss', 'adventur', 'time', 'get', 'angri', 'quit', 'rare', 'safer', 'surround', 'peopl', 'go', 'somewher', 'els', 'imposs', 'hide', 'suppress', 'anger', 'onli', 'way', 'get', 'rid', 'feel', 'burstiv', 'never', 'like', 'anyth', 'fake', 'bad', 'actuallyhug', 'given', 'onli', 'chosen', 'chosen', 'quit', 'though349890yup', 'right', 'cours', 'veri', 'comfort', 'human', 'race', 'surviv', 'thank', 'women', 'abil', 'give', 'birth', 'human', 'work', 'thousand', 'year', 'whi', 'chang', 'besid', 'arethat', 'happen', 'occur', 'becaus', 'often', 'peopl', 'use', 'result', 'extrem', 'precis', 'elabor', 'onlin', 'test', 'basi', 'determin', 'type', 'visual', 'languag', 'art', 'more246386i', 'studi', 'graphic', 'design', 'realli', 'enjoy', 'interest', 'field', 'abil', 'generat', 'idea', 'solv', 'problem', 'much', 'import', 'possess', 'specificalexxxandra97', 'deviantart236994', 'alway', 'readi', 'disciplin', 'intimid', 'precis', 'sibl', 'offenderworld', 'domin', 'shoot', 'peopl', 'head', 'whi', 'oh', 'right', 'intj', 'alway', 'must', 'characteris', 'onli', 'word', 'show', 'bad', 'reaction', '221226218106istp']\n",
            "['enfj', 'ambiti', 'fair', 'ambiti', 'two', 'undergrad', 'degre', 'sociologyreligi', 'studi', 'educ', 'eslsecondari', 'educ', 'left', '3', 'year', 'gap', 'bothwelcom', 'find', 'write', 'thought', 'freeflow', 'situat', 'help', 'cope', 'separ', 'feel', 'person', 'remind', 'allow', 'anotherhealthi', 'way', 'workout', 'regular', 'yoga', 'talk', 'boyfriendfriend', 'maintain', 'regular', 'sleep', 'schedul', 'unhealthi', 'chocol', 'chocol', 'sometim', 'unhealthi', 'food', 'go', 'excel', 'relationship', 'build', 'amaz', 'foundat', 'love', 'express', 'feel', 'poetri', 'prefer', 'draw', 'art', 'prefer', 'wehey', 'infp', 'post', 'anymor', 'share', 'infp', 'boyfriend', 'feb', '4th', 'year', 'date', 'app', 'never', 'love', 'describ', 'ourit', 'six', 'date', 'found', 'infp', 'took', 'test', 'yes', 'infp', 'connect', 'amaz', 'intens', 'right', 'even', 'scare', 'told', 'neveri', 'curious', 'would', 'like', 'yeah', 'enfj', 'uniqu', 'wonder', 'enneagramlov', 'stylesi', 'info', 'guy', 'person', 'onli', 'chat', 'yesterday', 'first', 'time', 'onlin', 'know', 'accord', 'profil', 'look', 'forher', 'sign', 'tend', 'talk', 'faster', 'tougher', 'time', 'fill', 'gap', 'convers', 'sometim', 'initi', 'interact', 'get', 'bit', 'shi', 'wait', 'tilldislik', 'infp', 'bestfriend', 'sister', 'onli', 'month', 'know', 'felt', 'strang', 'upset', 'whi', 'like', 'sister', 'guilti', 'girl', 'selfabsorb', 'doe', 'thing', 'thatyeah', 'hear', 'never', 'know', 'fall', 'love', 'someon', 'doe', 'nowherewel', 'put', 'borrow', 'futureher', 'idea', 'anyth', 'handwritten', 'creat', 'hand', 'origin', 'rang', 'poetri', 'clever', 'creat', 'time', 'line', 'relationship', 'photo', 'form', 'youtub', 'clip', 'tooi', 'total', 'relat', 'said', 'therey', 'find', 'veri', 'hard', 'fall', 'love', 'peopl', 'known', 'mistak', 'friend', 'extrovert', 'behaviour', 'kind', 'romant', 'interest', 'must', 'go', 'style', 'takethank', 'repli', 'agre', 'said', 'would', 'actual', 'like', 'dump', 'bailout', 'pointthat', 'said', 'howev', 'friend', 'report', 'hr', 'would', 'ani', 'affect', 'work', 'simpli', 'individu', 'appli', 'grant', 'govt', 'money', 'moneythank', 'sane', 'advicehey', 'work', 'infp', 'communiti', 'project', 'without', 'go', 'mani', 'detail', 'number', 'peopl', 'drop', 'ball', 'includ', 'illustr', 'work', 'intp', 'good', 'jame', 'youth', 'workermusician', 'nonlyr', 'version', 'song', 'amaz', 'ani', 'f3', 'throwback', '1995remind', 'barista', 'local', 'starbuck', 'still', 'check', 'go', 'art', 'work', 'next', 'life', 'lol', 'bono', 'rumour', 'enfj', 'well', 'yeah', 'correct', 'way', 'put', 'felt', 'post', 'rather', 'unbalanc', 'male', 'enfp', 'know', 'excel', 'photograph', 'veri', 'reliabl', 'deliev', 'work', 'think', 'wasy', 'convey', 'glad', 'made', 'sens', 'realli', 'tongu', 'think', '2', 'enfp', 'friend', 'well', 'friend', 'anymor', 'virtu', 'total', 'lack', 'effort', 'put', 'friendship', 'amass', 'mani', 'friend', 'veri', 'quicklyi', 'enfj', 'troubl', 'open', 'find', 'forev', 'actual', 'talk', 'person', 'unless', 'someon', 'ask', 'direct', 'question', 'heck', 'doe', 'pmost', 'jealous', 'social', 'acumen', 'walk', 'room', 'trump', 'effort', 'peopl', 'enfj', 'charisma', 'largerthanlif', 'person', 'find', 'say', 'aloti', 'agre', 'gilli', 'said', 'point', 'find', 'peopl', 'simpli', 'direct', 'ask', 'question', 'think', 'refresh', 'enfj', 'abl', 'talk', 'themselv', 'value1', 'big', 'parti', 'acquaint', 'stranger', 'alcohol', 'food', 'music', 'point', 'main', 'talk', 'would', 'like', 'tire', 'think', 'eventpart', 'bold', 'someth', 'tell', 'feel', 'disappoint', 'least', 'confus', 'stayintouch', 'choos', 'initi', 'contact', 'choos', 'contact', 'youthank', 'share', 'gilli', 'well', 'believ', '30s', 'start', 'less', 'fit', 'pleas', 'peopl', 'whim', 'particular', 'peopl', 'chang', 'becam', 'muchi', 'read', 'link', 'yet', 'best', 'friend', 'estj', 'veri', 'control', 'unabl', 'accept', 'new', 'way', 'thing', 'way', 'highway', 'felt', 'much', 'aboutthank', 'repli', 'like', 'help', 'work', 'enfj', 'brotherhav', 'feel', 'statement', 'basic', 'would', 'explain', 'feel', 'without', 'implic', 'could', 'say', 'someth', 'like', 'feel', 'frustrat', 'reject', 'shut', 'yes', 'good', 'observ', 'reason', 'share', 'often', 'wonder', 'whi', 'would', 'typic', 'see', 'esfj', 'veri', 'privat', 'peopl', 'thank', 'forcouldnt', 'agre', 'post', 'dont', 'complic', 'thing', 'start', 'fb', 'coffe', 'befor', 'move', 'someth', 'honest', 'doe', 'talk', 'shey', 'dure', 'time', 'frustrat', 'feel', 'befor', 'reach', 'someon', 'ask', 'need', 'ok', 'help', 'help', 'putquest', 'enfj', 'brother', 'sister', 'get', 'breakup', 'especi', 'someon', 'still', 'great', 'memori', 'truli', 'love', 'still', 'ex', 'esfj', 'boyfriend', 'beeni', 'would', 'worri', 'told', 'worri', 'trust', 'thing', 'know', 'know', 'need', 'feel', 'respons', 'import', 'youwhen', 'look', 'back', 'esfj', 'onc', 'date', 'immedi', 'affection', 'reach', 'hand', 'kiss', 'veri', 'obvious', 'spoke', 'listen', 'intent', 'ask', 'new', 'pictur', 'new', 'year', 'old', 'chang', 'yearsjust', 'watch', 'trailer', 'decid', 'itybityclip', 'enfj', 'look', 'like', 'awesom', 'moviemr', 'selfridg', 'newest', 'love', 'fresh', 'princ', 'bel', 'air', 'star', 'trek', 'next', 'generat', 'thank', 'infp', 'sister', 'break', 'bad', 'whole', 'season', 'fantast', 'top', 'chef', 'lot', 'time', 'toit', 'enfj', 'curious', 'know', 'view', 'relationship', 'romant', 'famili', 'friendship', 'colleagu', 'chang', 'cours', 'life', 'broad', 'question', 'popular', 'enfp', 'though', 'find', 'enfp', 'room', 'outshin', 'us', 'peopl', 'gravit', 'toward', 'think', 'need', 'need', 'groupit', 'use', 'bother', 'past', 'know', 'dislik', 'hate', 'say', 'hate', 'anyon', 'peopl', 'comfort', 'know', 'would', 'dislik', 'use', 'sens', 'ofgreat', 'question', 'littl', 'school', 'block', 'would', 'make', 'worksheet', 'buy', 'kind', 'suppli', 'sticker', 'fix', 'booboo', 'littl', 'kid', 'surpris', 'anorm', 'like', 'beard', 'howev', 'mr', 'selfridg', 'would', 'make', 'except', 'look', 'realli', 'sexi', 'well', 'groom', 'suit', 'well', 'ex', 'look', 'veri', 'hot', 'beard']\n"
          ]
        }
      ]
    },
    {
      "cell_type": "code",
      "source": [
        "after_removing_numbers_training = remove_numbers(after_stop_words_training)\n",
        "after_removing_numbers_testing = remove_numbers(after_stop_words_testing)\n",
        "for i in range(0,3):\n",
        "  print(after_removing_numbers_training[i])\n",
        "  print(after_removing_numbers_testing[i])"
      ],
      "metadata": {
        "colab": {
          "base_uri": "https://localhost:8080/"
        },
        "id": "oe_sTnBS6YF9",
        "outputId": "6a98afe8-7a7e-4c31-e9ab-410046149284"
      },
      "execution_count": 17,
      "outputs": [
        {
          "output_type": "stream",
          "name": "stdout",
          "text": [
            "['intj', 'moment', 'sportscent', 'top', 'ten', 'play', 'prankswhat', 'lifechang', 'experi', 'life', 'repeat', 'todaymay', 'perc', 'experi', 'immers', 'youth', 'last', 'thing', 'infj', 'friend', 'post', 'facebook', 'befor', 'commit', 'suicid', 'next', 'day', 'rest', 'peac', 'enfj', 'sorri', 'hear', 'distress', 'onli', 'natur', 'relationship', 'perfect', 'time', 'everi', 'moment', 'exist', 'figur', 'hard', 'time', 'time', 'growth', 'as', 'welcom', 'stuff', 'game', 'set', 'matchprozac', 'wellbrutin', 'least', 'thirti', 'move', 'leg', 'mean', 'move', 'desk', 'chair', 'weed', 'moder', 'mayb', 'edibl', 'healthier', 'alternativebas', 'three', 'item', 'determin', 'type', 'whichev', 'type', 'would', 'like', 'use', 'given', 'type', 'cognit', 'function', 'whatnot', 'left', 'byall', 'thing', 'moder', 'sim', 'inde', 'video', 'game', 'good', 'note', 'good', 'somewhat', 'subject', 'complet', 'promot', 'death', 'ani', 'given', 'simdear', 'enfp', 'favorit', 'video', 'game', 'grow', 'current', 'favorit', 'video', 'game', 'cool', 'appear', 'late', 'sadther', 'someon', 'everyonewait', 'thought', 'confid', 'good', 'thingi', 'cherish', 'time', 'solitud', 'bc', 'revel', 'within', 'inner', 'world', 'wherea', 'time', 'would', 'workin', 'enjoy', 'time', 'dont', 'worri', 'peopl', 'alway', 'around', 'toyo', 'entp', 'ladi', 'complimentari', 'personalitywel', 'hey', 'main', 'social', 'outlet', 'xbox', 'live', 'convers', 'even', 'verbal', 'fatigu', 'quick', 'realli', 'part', 'becaus', 'thread', 'requir', 'high', 'backyard', 'roast', 'eat', 'marshmellow', 'backyard', 'convers', 'someth', 'intellectu', 'follow', 'massag', 'kiss', 'mani', 'bs', 'sentenc', 'could', 'think', 'bban', 'watch', 'movi', 'corner', 'duncesban', 'becaus', 'health', 'class', 'clear', 'taught', 'noth', 'peer', 'pressureban', 'whole', 'host', 'reason', 'two', 'babi', 'deer', 'left', 'right', 'munch', 'beetl', 'middl', 'use', 'blood', 'two', 'cavemen', 'diari', 'today', 'latest', 'happen', 'design', 'cave', 'diari', 'wall', 'see', 'pokemon', 'world', 'infj', 'societi', 'everyon', 'becom', 'optimist', 'artist', 'artist', 'becaus', 'draw', 'idea', 'count', 'form', 'someth', 'like', 'signaturewelcom', 'robot', 'rank', 'person', 'selfesteem', 'cuz', 'avid', 'signatur', 'artist', 'like', 'proudban', 'room', 'bed', 'got', 'learn', 'share', 'roach', 'much', 'thunder', 'grumbl', 'kind', 'storm', 'yepahh', 'old', 'high', 'school', 'music', 'heard', 'age', 'fail', 'public', 'speak', 'class', 'year', 'ago', 'sort', 'learn', 'could', 'better', 'posit', 'big', 'part', 'failur', 'overload', 'tooi', 'like', 'person', 'mental', 'hes', 'confirm', 'intj', 'way', 'denver', 'area', 'start', 'new', 'life']\n",
            "['actual', 'result', 'look', 'like', 'triplewithdrawn', 'w', 'w', 'w', 'would', 'appear', 'happen', 'strong', 'traitsit', 'odd', 'associ', 'whole', 'heart', 'triad', 'narciss', 'would', 'associ', 'five', 'antisoci', 'disord', 'eight', 'btw', 'let', 'us', 'set', 'asid', 'asperg', 'call', 'itso', 'mom', 'sometim', 'annoy', 'piec', 'mom', 'go', 'insert', 'known', 'task', 'know', 'mom', 'well', 'know', 'whi', 'go', 'yeah', 'oneim', 'gon', 'guess', 'type', 'like', 'groupthink', 'entir', 'sure', 'thought', 'type', 'least', 'like', 'groupthinkveri', 'true', 'guess', 's', 'ideal', 'type', 'thank', 'high', 'level', 'neutral', 'inner', 'tranquil', 'perspect', 'worth', 'ideal', 'ani', 'type', 'hard', 'ever', 'wear', 'nice', 'new', 'avatar', 'btw', 'dealwithitth', 'entj', 'current', 'live', 'appar', 'use', 'via', 'cook', 'amid', 'thing', 'sure', 'hes', 'quit', 'nice', 'compar', 'teni', 'alon', 'sometim', 'kinda', 'wonder', 'howyou', 'critic', 'less', 'thank', 'post', 'guiltya', 'type', 'look', 'poll', 'popular', 'proud', 'goe', 'vote', 'edit', 'th', 'vote', 'number', 'crazyit', 'seem', 'isp', 'seem', 'hold', 'relationship', 'get', 'marri', 'longer', 'esp', 'stat', 'person', 'page', 'highest', 'percentag', 'marri', 'highest', 'tolook', 'back', 'thread', 'riiiiiiiiiight', 'whi', 'creat', 'thread', 'dri', 'mayb', 'much', 'like', 'compar', 'istp', 'intpmayb', 'intp', 'tisi', 'loop', 'tend', 'nitpicki', 'environ', 'well', 'due', 'high', 'siso', 'although', 'w', 'close', 'w', 'absolut', 'anywher', 'enneagram', 'type', 'allnot', 'mention', 'feel', 'somewhat', 'disturb', 'unreal', 'timepstyp', 'enneagram', 'test', 'result', 'distribut', 'score', 'type', 'type', 'twoim', 'probabl', 'way', 'right', 'weird', 'look', 'well', 'crazymayb', 'becaus', 'enneagram', 'offici', 'popular', 'mbti', 'hard', 'find', 'broad', 'realworld', 'statstp', 'fp', 'necessarili', 'associ', 'function', 'theyr', 'associ', 'domaux', 'respect', 'anyway', 'could', 'divid', 'type', 'number', 'way', 'four', 'epnot', 'sj', 'mom', 'sj', 'parent', 'like', 'esfj', 'istpwhi', 'discuss', 'fine', 'noth', 'heat', 'herei', 'use', 'wear', 'watch', 'younger', 'watch', 'tend', 'irrit', 'wrist', 'stop', 'besid', 'way', 'tell', 'time', 'necessari', 'bewar', 'under', 'word', 'affirm', 'meh', 'gift', 'give', 'yep', 'receiv', 'anoth', 'stori', 'act', 'service', 'entir', 'sure', 'theyr', 'place', 'anyth', 'els', 'seldom', 'peopl', 'dream', 'often', 'like', 'thing', 'rememb', 'dream', 'quit', 'vivid', 'thetheyl', 'probabl', 'get', 'along', 'quit', 'well', 'probabl', 'true', 'ani', 'xwi', 'ywx', 'btw', 'wonder', 'littl', 'w', 'number', 'stand', 'wing', 'unclear', 'wonder', 'common', 'fundament', 'enneagram', 'type', 'doe', 'anyon', 'know', 'linkfrom', 'typelogiccom', 'intuit', 'tertiarya', 'esfj', 'matur', 'situat', 'aris', 'call', 'suspens', 'critic', 'allow', 'play', 'leadership', 'fe', 'functionfrom', 'typelogiccom', 'estj', 'matur', 'situat', 'aris', 'call', 'suspens', 'critic', 'extravert', 'intuit', 'allow', 'play', 'leadership', 'functionagain', 'sorri', 'harsh', 'everyth', 'person', 'look', 'insid', 'parenthes', 'altern', 'possibl', 'inconsider', 'turn', 'justi', 'tend', 'apolog', 'like', 'veri', 'reason', 'mayb', 'tf', 'thingthi', 'oblig', 'sjs', 'estj', 'amid', 'drive', 'wall', 'sometim', 'esfj', 'mother', 'tendenc', 'although', 'degre', 'encount', 'find', 'interest', 'never', 'would', 'guess', 'estj', 'would', 'tell', 'white', 'lie', 'part', 'due', 'stereotyp', 'view', 'estj', 'think', 'type', 'might', 'get', 'thrown', 'andnot', 'harsh', 'speak', 'lie', 'could', 'lie', 'strong', 'stj', 'look', 'like', 'strong', 'either', 'could', 'misread', 'scale', 'anoth', 'question', 'whather', 'third', 'istp', 'add', 'say', 'though', 'becaus', 'autism', 'unusu', 'strong', 'could', 'happen', 'isfp', 'result', 'could', 'autist', 'isfp', 'isfjher', 'repli', 'thread', 'happi', 'crazi', 'anyway', 'onc', 'read', 'ifp', 'seem', 'much', 'patienc', 'type', 'whose', 'prefer', 'strong', 'let', 'alon', 'tjmost', 'rule', 'need', 'work', 'ok', 'develop', 'better', 'later', 'life', 'suck', 'fe', 'good', 'either', 'bothp', 'whi', 'term', 'condit', 'long', 'ani', 'idea', 'discourag', 'redund', 'ever', 'heard', 'plain', 'english', 'legalesei', 'need', 'get', 'recurringthoughtofminesound', 'like', 'need', 'relax', 'sound', 'like', 'need', 'forgiv', 'intp', 'detach', 'perceiv', 'natur', 'mayb', 'got', 'quick', 'boredthank', 'everyon', 'share', 'twosid', 'understand', 'rememb', 'high', 'school', 'enfj', 'teacher', 'us', 'outsid', 'dure', 'homeroom', 'relief', 'proudfirst', 'impress', 'estj', 'mayb', 'strong', 'certain', 'underdevelop', 'term', 'cognit', 'function', 'fiit', 'look', 'like', 'rest', 'us', 'either', 'true', 'yourselfistj', 'cup', 'coffe', 'estj', 'judg', 'mallet', 'lack', 'proper', 'istp', 'someon', 'fix', 'cool', 'vehicl', 'car', 'motorcycl', 'bicycl', 'otherwis', 'isfp', 'artistth', 'question', 'becaus', 'human', 'could', 'control', 'ourselv', 'becaus', 'mother', 'natur', 'forc', 'usi', 'would', 'guess', 'thing', 'given', 'strong', 'becom', 'like', 'well', 'howev', 'sp', 'need', 'routin', 'need', 'know', 'worksi', 'find', 'fascin', 'isfj', 'higher', 'wonder', 'sjs', 'higher', 'fe', 'esfj', 'mother', 'test', 'higher', 'tehow', 'nostalg', 'would', 'appear', 'nostalgia', 'fair', 'strong', 'among', 'esfj', 'siauxi', 'wonder', 'thread', 'went', 'thought', 'music', 'therefor', 'describedfrom', 'istp', 'insight', 'thread', 'sometim', 'wonder', 'enfj', 'enxj', 'matter', 'experi', 'hereandnow', 'manner', 'like', 'sps', 'imagin', 'like', 'ani', 'ident', 'relationship', 'nice', 'eventu', 'get', 'bore', 'sometim', 'wonder', 'isfpistp', 'relationship', 'would', 'look', 'likelet', 'see', 'play', 'game', 'especi', 'integr', 'element', 'adventur', 'game', 'seem', 'ski', 'bike', 'hike', 'climb', 'procrastin', 'uncommon', 'among', 'us']\n",
            "['find', 'lack', 'post', 'veri', 'alarmingsex', 'bore', 'posit', 'often', 'exampl', 'girlfriend', 'current', 'environ', 'creativ', 'use', 'cowgirl', 'missionari', 'enoughgiv', 'new', 'mean', 'game', 'theoryhello', 'entp', 'grin', 'convers', 'flirt', 'acknowledg', 'presenc', 'return', 'word', 'smooth', 'wordplay', 'cheeki', 'grinsthi', 'lack', 'balanc', 'hand', 'eye', 'coordinationr', 'iq', 'test', 'score', 'internet', 'iq', 'test', 'funni', 'score', 's', 'higher', 'like', 'former', 'respons', 'thread', 'mention', 'believ', 'iq', 'test', 'befor', 'banishyou', 'know', 'entp', 'vanish', 'site', 'year', 'half', 'return', 'find', 'peopl', 'still', 'comment', 'post', 'like', 'ideasthought', 'know', 'entp', 'think', 'thing', 'sometim', 'go', 'old', 'sherlock', 'holm', 'quot', 'perhap', 'special', 'knowledg', 'special', 'power', 'like', 'rather', 'encourag', 'seek', 'complexcheshirewolftumblrcom', 'd', 'postnot', 'realli', 'never', 'thought', 'jp', 'real', 'function', 'judg', 'use', 'use', 'domin', 'fe', 'emot', 'rare', 'use', 'due', 'strengthyou', 'know', 'though', 'ingeni', 'say', 'realli', 'see', 'happen', 'play', 'first', 'person', 'shooter', 'back', 'drive', 'around', 'see', 'look', 'onout', 'rock', 'paper', 'best', 'make', 'lol', 'guy', 'lucki', 'realli', 'high', 'tumblr', 'systemso', 'hear', 'new', 'first', 'person', 'shooter', 'game', 'rock', 'hell', 'soundtrack', 'auto', 'sound', 'equip', 'shake', 'heaven', 'manag', 'put', 'coupl', 'pss', 'inno', 'way', 'connect', 'thing', 'veri', 'domin', 'awar', 'environ', 'domin', 'exampl', 'shawn', 'spencer', 'patrick', 'jane', 'entpswel', 'charli', 'first', 'admit', 'get', 'jealous', 'like', 'chalk', 'w', 'heart', 'mix', 'domin', 'w', 's', 's', 'like', 'notic', 's', 'like', 'known', 'upload', 'clip', 'mic', 'away', 'mouth', 'hear', 'anyth', 'ninja', 'assassin', 'style', 'splattertik', 'tok', 'realli', 'great', 'song', 'long', 'mental', 'block', 'singer', 'love', 'beat', 'make', 'bouncedropio', 'vswck', 'mic', 'realli', 'close', 'mouth', 'smokin', 'ace', 'assassin', 'ball', 'play', 'backgroundsoci', 'extrovert', 'extrovert', 'sociabl', 'sherlock', 'movi', 'entp', 'normal', 'play', 'extj', 'book', 'estj', 'said', 'movi', 'look', 'good', 'except', 'call', 'sherlock', 'holm', 'never', 'fear', 'kiss', 'guy', 'kiss', 'anim', 'noth', 'vanish', 'person', 'tast', 'like', 'guy', 'kiss', 'know', 'thosesound', 'pretti', 'much', 'like', 'area', 'go', 'right', 'figur', 'way', 'life', 'mani', 'thing', 'biggest', 'problem', 'know', 'dontd', 'oper', 'impress', 'femal', 'never', 'look', 'boxi', 'okay', 'help', 'gay', 'friend', 'time', 'develop', 'littl', 'crush', 'get', 'redtt', 'describ', 'live', 'worst', 'nightmar', 'trap', 'place', 'around', 'onli', 'dull', 'wood', 'serial', 'killer', 'would', 'perfect', 'place', 'sad', 'imtbh', 'bias', 'sound', 'like', 'shadow', 'infp', 'think', 'mayb', 'hurt', 'turn', 'estj', 'tell', 'becaus', 'typic', 'infp', 'trait', 'left', 'overcheck', 'list', 'sorri', 'seem', 'came', 'bad', 'time', 'weve', 'alreadi', 'reach', 'quota', 'infj', 'howev', 'femal', 'like', 'femal', 'make', 'deal', 'kick', 'oneim', 'antp', 'lean', 'toward', 'easi', 'entp', 'intp', 'identifi', 'imagin', 'entp', 'interrog', 'would', 'go', 'littl', 'bit', 'like', 'jack', 'except', 'mechan', 'rig', 'shock', 'treatment', 'equip', 'abandon', 'build', 'old', 'car', 'batti', 'jumperit', 'compliment', 'trust', 'psychopath', 'except', 'emoticon', 'theyr', 'weird', 'like', 'laugh', 'get', 'hurt', 'peopl', 'run', 'themselv', 'lawn', 'mower', 'like', 'theme', 'live', 'whi', 'know', 'heart', 'usual', 'leav', 'thing', 'mean', 'time', 'time', 'work', 'thing', 'work', 'mbp', 'pleasur', 'meet', 'youdamn', 'need', 'trust', 'instinct', 'would', 'closer', 'go', 'say', 'infpexfp', 'lean', 'toward', 'way', 'respond', 'friend', 'even', 'gay', 'lesbian', 'alway', 'advicei', 'bow', 'entp', 'master', 'entp', 'great', 'entp', 'would', 'abl', 'build', 'build', 'duck', 'duck', 'duck', 'shotgunwhat', 'never', 'becaus', 'hard', 'sad', 'lose', 'someon', 'like', 'knew', 'right', 'give', 'big', 'pat', 'back', 'becaus', 'awesom', 'alway', 'correctoh', 'tell', 'stupid', 'know', 'whi', 'play', 'make', 'laugh', 'go', 'neuropsycholog', 'psychologistd', 'nightowl', 'wake', 'pm', 'stay', 'awak', 'amperson', 'opinion', 'back', 'theori', 'would', 'suggest', 'intp', 'social', 'difficult', 'intj', 'social', 'indiffer', 'use', 'social', 'situat', 'need', 'arisesperson', 'stock', 'desktop', 'download', 'random', 'stock', 'site', 'stock', 'photobucketsil', 'tell', 'open', 'photoshop', 'glad', 'like', 'staticd', 'thank', 'made', 'friend', 'sever', 'hour', 'work', 'construct', 'everi', 'line', 'static', 'get', 'avatar', 'later', 'fellow', 'teammat', 'doesntpsychologist', 'keep', 'around', 'long', 'enough', 'diagnosi', 'like', 'toy', 'diagnosi', 'psychologist', 'friend', 'friend', 'tell']\n",
            "['doe', 'inde', 'help', 'answer', 'question', 'iq', 'profession', 'administ', 'doe', 'mean', 'anyth', 'need', 'number', 'tell', 'intellig', 'ishal', 'play', 'song', 'world', 'smallest', 'violini', 'realli', 'get', 'guy', 'think', 'introvert', 'shes', 'said', 'mani', 'time', 'extrovert', 'vote', 'talkat', 'high', 'school', 'see', 'introvert', 'beingassum', 'absolut', 'explain', 'absolut', 'best', 'choic', 'everi', 'situat', 'assum', 'author', 'accept', 'truth', 'behello', 'origin', 'join', 'site', 'late', 'lurk', 'mani', 'month', 'befor', 'turn', 'start', 'colleg', 'search', 'use', 'forum', 'help', 'discover', 'log', 'week', 'look', 'infj', 'forum', 'see', 'new', 'thread', 'alreadi', 'seen', 'discuss', 'past', 'check', 'new', 'post', 'case', 'hope', 'everyon', 'realiz', 'differ', 'nice', 'guy', 'well', 'nice', 'guywwwyoutubecomwatchvdoxlysnyi', 'would', 'retir', 'account', 'sinc', 'ever', 'anymor', 'realli', 'mbti', 'anymor', 'whi', 'put', 'unnecessari', 'restrict', 'myselfim', 'virgin', 'way', 'still', 'wish', 'wasi', 'lost', 'virgin', 'someon', 'love', 'girl', 'right', 'girl', 'would', 'andim', 'young', 'amiritehav', 'feel', 'alon', 'abl', 'tell', 'lot', 'person', 'energi', 'almost', 'like', 'known', 'year', 'find', 'freak', 'think', 'might', 'biolog', 'thing', 'rais', 'base', 'type', 'see', 'type', 'could', 'play', 'part', 'meyeah', 'nowher', 'near', 'ani', 'suppos', 'still', 'lower', 'standard', 'much', 'date', 'peopl', 'even', 'like', 'probabl', 'feel', 'alon', 'littl', 'disgust', 'moment', 'know', 'mean', 'problem', 'longest', 'time', 'seem', 'spark', 'relationship', 'better', 'text', 'weird', 'anyway', 'forc', 'littl', 'morei', 'imagin', 'infj', 'relat', 'trust', 'test', 'result', 'said', 'could', 'veri', 'well', 'infj', 'type', 'mi', 'view', 'alway', 'never', 'sex', 'someon', 'know', 'gon', 'lead', 'sex', 'point', 'follow', 'becaus', 'imagin', 'givingfor', 'like', 'veri', 'earli', 'control', 'tongu', 'long', 'hard', 'ever', 'say', 'least', 'intent', 'begin', 'think', 'lessright', 'debat', 'whether', 'entp', 'infj', 'sound', 'veri', 'strang', 'fit', 'mewho', 'doe', 'get', 'littl', 'genocid', 'everi', 'thenwalt', 'may', 'actual', 'infj', 'intj', 'reason', 'say', 'veri', 'clear', 'gus', 'intj', 'seem', 'varianc', 'abl', 'explain', 'morebout', 'damn', 'timeim', 'dude', 'kind', 'embarrass', 'like', 'show', 'bad', 'onli', 'two', 'know', 'lorelai', 'rori', 'esfp', 'infjisfj', 'respect', 'would', 'say', 'esfp', 'enfp', 'probabl', 'lean', 'stronger', 'esfp', 'enfp', 'introvert', 'allar', 'serious', 'base', 'date', 'life', 'base', 'person', 'theori', 'may', 'may', 'bullshiti', 'serious', 'hope', 'joke', 'thread', 'get', 'bad', 'tell', 'someon', 'troll', 'flat', 'fuck', 'stupid', 'go', 'winunless', 'romeni', 'win', 'thecongratulationsi', 'never', 'made', 'first', 'place', 'sohey', 'sure', 'whi', 'even', 'make', 'probabl', 'gon', 'retir', 'account', 'soon', 'anyway', 'know', 'thought', 'would', 'make', 'oneyour', 'typism', 'honest', 'realli', 'specif', 'type', 'annoy', 'stupid', 'annoy', 'type', 'said', 'love', 'fsm', 'holi', 'never', 'ever', 'ever', 'first', 'time', 'post', 'someth', 'like', 'two', 'year', 'likelihood', 'depress', 'dude', 'symptom', 'oh', 'year', 'iim', 'partneredit', 'guess', 'get', 'read', 'whole', 'postcan', 'tuck', 'inyour', 'probabl', 'type', 'three', 'fall', 'reserv', 'categori', 'peopl', 'would', 'still', 'consid', 'extrovert', 'peopl', 'talk', 'nonstop', 'actual', 'get', 'common', 'w', 'wnot', 'entp', 'would', 'say', 'istp', 'estp', 'doe', 'work', 'word', 'right', 'mouthjust', 'everyon', 'clear', 'get', 'percentag', 'mbti', 'doe', 'mean', 'introvert', 'mean', 'pretti', 'confid', 'introvert', 'back', 'topic', 'pretti', 'much', 'certain', 'thatyeah', 'thing', 'happen', 'fucker', 'dear', 'stupid', 'peoplejust', 'becaus', 'show', 'doe', 'mean', 'judg', 'least', 'keep', 'entertain', 'excus', 'misogyni', 'fucktel', 'iron', 'date', 'girl', 'california', 'move', 'ago', 'ok', 'cupid', 'didnt', 'actual', 'expect', 'thing', 'produc', 'result', 'hasid', 'say', 'obama', 'definit', 'enfj', 'speak', 'common', 'valu', 'stick', 'intern', 'vision', 'etc', 'sarah', 'palinesfj', 'ronald', 'reaganhard', 'tell', 'probabl', 'estp', 'opnion']\n",
            "['good', 'cours', 'say', 'know', 'bless', 'cursedo', 'absolut', 'posit', 'best', 'friend', 'could', 'amaz', 'coupl', 'count', 'yes', 'could', 'mad', 'love', 'case', 'reconcil', 'feel', 'atno', 'didnt', 'thank', 'linksocal', 'tisi', 'loop', 'stem', 'ani', 'current', 'topicobsess', 'dead', 'like', 'stuck', 'thought', 'mind', 'wander', 'circl', 'feel', 'truli', 'terribl', 'notic', 'peculiar', 'veget', 'look', 'grass', 'dozen', 'differ', 'plant', 'speci', 'imagin', 'hundr', 'year', 'later', 'whenif', 'soilth', 'smith', 'never', 'everi', 'often', 'find', 'spot', 'marbl', 'tileswoodthi', 'yearold', 'sentenc', 'incred', 'accur', 'beauti', 'descriptioni', 'visit', 'websit', 'last', 'year', 'whoever', 'read', 'mayb', 'even', 'rememb', 'high', 'doubt', 'hi', 'when', 'garden', 'pm', 'write', 'song', 'sing', 'togeth', 'dozen', 'cricket', 'play', 'acoust', 'guitarthi', 'intpish', 'thread', 'ever', 'seeni', 'would', 'abl', 'look', 'paint', 'entir', 'life', 'knew', 'pick', 'human', 'beingi', 'draw', 'background', 'anim', 'work', 'right', 'felt', 'oblig', 'make', 'mark', 'watneyx', 'postcard', 'read', 'booki', 'start', 'make', 'comic', 'turtl', 'gordon', 'unicorn', 'chime', 'see', 'two', 'first', 'stori', 'recent', 'start', 'post', 'comic', 'two', 'friend', 'turtl', 'gordon', 'unicorn', 'chime', 'befor', 'post', 'stuff', 'interest', 'includ', 'onli', 'worksprob', 'could', 'work', 'togeth', 'new', 'model', 'expert', 'abrupt', 'explos', 'laughter', 'upon', 'various', 'weird', 'stuff', 'happen', 'becaus', 'peculiar', 'sens', 'humor', 'peculiar', 'muchhellooo', 'touch', 'everyon', 'think', 'scare', 'sad', 'true', 'fact', 'absolut', 'neutral', 'kitten', 'actual', 'realli', 'like', 'pat', 'hug', 'onlywel', 'kind', 'alreadi', 'mention', 'sometim', 'becaus', 'hard', 'convey', 'complex', 'stuff', 'pop', 'head', 'whimsic', 'compil', 'shape', 'pictur', 'onli', 'wordsi', 'think', 'kitten', 'would', 'veri', 'appropri', 'good', 'night', 'everyon', 'even', 'someon', 'morn', 'right', 'night', 'alway', 'supersed', 'morn', 'peopl', 'say', 'good', 'night', 'order', 'meet', 'next', 'day', 'oh', 'movi', 'awesom', 'thank', 'hope', 'good', 'sleep', 'air', 'anyway', 'wish', 'good', 'night', 'next', 'night', 'ahead', 'hope', 'land', 'good', 'peopl', 'deserv', 'good', 'well', 'peopl', 'may', 'wonder', 'issu', 'topic', 'find', 'respons', 'help', 'anyway', 'final', 'someon', 'mention', 'still', 'see', 'creaturesfac', 'maze', 'various', 'random', 'pattern', 'amus', 'sometim', 'veri', 'handi', 'skill', 'boredoh', 'know', 'piti', 'whi', 'sacrific', 'whole', 'supermarket', 'decid', 'walmart', 'best', 'think', 'biggest', 'would', 'greatyippi', 'go', 'think', 'fire', 'delici', 'sacrific', 'tofu', 'like', 'wast', 'foodi', 'think', 'creator', 'thread', 'go', 'year', 'heh', 'understand', 'given', 'languagesyessss', 'adventur', 'time', 'get', 'angri', 'quit', 'rare', 'safer', 'surround', 'peopl', 'go', 'somewher', 'els', 'imposs', 'hide', 'suppress', 'anger', 'onli', 'way', 'get', 'rid', 'feel', 'burstiv', 'never', 'like', 'anyth', 'fake', 'bad', 'actuallyhug', 'given', 'onli', 'chosen', 'chosen', 'quit', 'thoughyup', 'right', 'cours', 'veri', 'comfort', 'human', 'race', 'surviv', 'thank', 'women', 'abil', 'give', 'birth', 'human', 'work', 'thousand', 'year', 'whi', 'chang', 'besid', 'arethat', 'happen', 'occur', 'becaus', 'often', 'peopl', 'use', 'result', 'extrem', 'precis', 'elabor', 'onlin', 'test', 'basi', 'determin', 'type', 'visual', 'languag', 'art', 'morei', 'studi', 'graphic', 'design', 'realli', 'enjoy', 'interest', 'field', 'abil', 'generat', 'idea', 'solv', 'problem', 'much', 'import', 'possess', 'specificalexxxandra', 'deviantart', 'alway', 'readi', 'disciplin', 'intimid', 'precis', 'sibl', 'offenderworld', 'domin', 'shoot', 'peopl', 'head', 'whi', 'oh', 'right', 'intj', 'alway', 'must', 'characteris', 'onli', 'word', 'show', 'bad', 'reaction', 'istp']\n",
            "['enfj', 'ambiti', 'fair', 'ambiti', 'two', 'undergrad', 'degre', 'sociologyreligi', 'studi', 'educ', 'eslsecondari', 'educ', 'left', 'year', 'gap', 'bothwelcom', 'find', 'write', 'thought', 'freeflow', 'situat', 'help', 'cope', 'separ', 'feel', 'person', 'remind', 'allow', 'anotherhealthi', 'way', 'workout', 'regular', 'yoga', 'talk', 'boyfriendfriend', 'maintain', 'regular', 'sleep', 'schedul', 'unhealthi', 'chocol', 'chocol', 'sometim', 'unhealthi', 'food', 'go', 'excel', 'relationship', 'build', 'amaz', 'foundat', 'love', 'express', 'feel', 'poetri', 'prefer', 'draw', 'art', 'prefer', 'wehey', 'infp', 'post', 'anymor', 'share', 'infp', 'boyfriend', 'feb', 'th', 'year', 'date', 'app', 'never', 'love', 'describ', 'ourit', 'six', 'date', 'found', 'infp', 'took', 'test', 'yes', 'infp', 'connect', 'amaz', 'intens', 'right', 'even', 'scare', 'told', 'neveri', 'curious', 'would', 'like', 'yeah', 'enfj', 'uniqu', 'wonder', 'enneagramlov', 'stylesi', 'info', 'guy', 'person', 'onli', 'chat', 'yesterday', 'first', 'time', 'onlin', 'know', 'accord', 'profil', 'look', 'forher', 'sign', 'tend', 'talk', 'faster', 'tougher', 'time', 'fill', 'gap', 'convers', 'sometim', 'initi', 'interact', 'get', 'bit', 'shi', 'wait', 'tilldislik', 'infp', 'bestfriend', 'sister', 'onli', 'month', 'know', 'felt', 'strang', 'upset', 'whi', 'like', 'sister', 'guilti', 'girl', 'selfabsorb', 'doe', 'thing', 'thatyeah', 'hear', 'never', 'know', 'fall', 'love', 'someon', 'doe', 'nowherewel', 'put', 'borrow', 'futureher', 'idea', 'anyth', 'handwritten', 'creat', 'hand', 'origin', 'rang', 'poetri', 'clever', 'creat', 'time', 'line', 'relationship', 'photo', 'form', 'youtub', 'clip', 'tooi', 'total', 'relat', 'said', 'therey', 'find', 'veri', 'hard', 'fall', 'love', 'peopl', 'known', 'mistak', 'friend', 'extrovert', 'behaviour', 'kind', 'romant', 'interest', 'must', 'go', 'style', 'takethank', 'repli', 'agre', 'said', 'would', 'actual', 'like', 'dump', 'bailout', 'pointthat', 'said', 'howev', 'friend', 'report', 'hr', 'would', 'ani', 'affect', 'work', 'simpli', 'individu', 'appli', 'grant', 'govt', 'money', 'moneythank', 'sane', 'advicehey', 'work', 'infp', 'communiti', 'project', 'without', 'go', 'mani', 'detail', 'number', 'peopl', 'drop', 'ball', 'includ', 'illustr', 'work', 'intp', 'good', 'jame', 'youth', 'workermusician', 'nonlyr', 'version', 'song', 'amaz', 'ani', 'f', 'throwback', 'remind', 'barista', 'local', 'starbuck', 'still', 'check', 'go', 'art', 'work', 'next', 'life', 'lol', 'bono', 'rumour', 'enfj', 'well', 'yeah', 'correct', 'way', 'put', 'felt', 'post', 'rather', 'unbalanc', 'male', 'enfp', 'know', 'excel', 'photograph', 'veri', 'reliabl', 'deliev', 'work', 'think', 'wasy', 'convey', 'glad', 'made', 'sens', 'realli', 'tongu', 'think', 'enfp', 'friend', 'well', 'friend', 'anymor', 'virtu', 'total', 'lack', 'effort', 'put', 'friendship', 'amass', 'mani', 'friend', 'veri', 'quicklyi', 'enfj', 'troubl', 'open', 'find', 'forev', 'actual', 'talk', 'person', 'unless', 'someon', 'ask', 'direct', 'question', 'heck', 'doe', 'pmost', 'jealous', 'social', 'acumen', 'walk', 'room', 'trump', 'effort', 'peopl', 'enfj', 'charisma', 'largerthanlif', 'person', 'find', 'say', 'aloti', 'agre', 'gilli', 'said', 'point', 'find', 'peopl', 'simpli', 'direct', 'ask', 'question', 'think', 'refresh', 'enfj', 'abl', 'talk', 'themselv', 'value', 'big', 'parti', 'acquaint', 'stranger', 'alcohol', 'food', 'music', 'point', 'main', 'talk', 'would', 'like', 'tire', 'think', 'eventpart', 'bold', 'someth', 'tell', 'feel', 'disappoint', 'least', 'confus', 'stayintouch', 'choos', 'initi', 'contact', 'choos', 'contact', 'youthank', 'share', 'gilli', 'well', 'believ', 's', 'start', 'less', 'fit', 'pleas', 'peopl', 'whim', 'particular', 'peopl', 'chang', 'becam', 'muchi', 'read', 'link', 'yet', 'best', 'friend', 'estj', 'veri', 'control', 'unabl', 'accept', 'new', 'way', 'thing', 'way', 'highway', 'felt', 'much', 'aboutthank', 'repli', 'like', 'help', 'work', 'enfj', 'brotherhav', 'feel', 'statement', 'basic', 'would', 'explain', 'feel', 'without', 'implic', 'could', 'say', 'someth', 'like', 'feel', 'frustrat', 'reject', 'shut', 'yes', 'good', 'observ', 'reason', 'share', 'often', 'wonder', 'whi', 'would', 'typic', 'see', 'esfj', 'veri', 'privat', 'peopl', 'thank', 'forcouldnt', 'agre', 'post', 'dont', 'complic', 'thing', 'start', 'fb', 'coffe', 'befor', 'move', 'someth', 'honest', 'doe', 'talk', 'shey', 'dure', 'time', 'frustrat', 'feel', 'befor', 'reach', 'someon', 'ask', 'need', 'ok', 'help', 'help', 'putquest', 'enfj', 'brother', 'sister', 'get', 'breakup', 'especi', 'someon', 'still', 'great', 'memori', 'truli', 'love', 'still', 'ex', 'esfj', 'boyfriend', 'beeni', 'would', 'worri', 'told', 'worri', 'trust', 'thing', 'know', 'know', 'need', 'feel', 'respons', 'import', 'youwhen', 'look', 'back', 'esfj', 'onc', 'date', 'immedi', 'affection', 'reach', 'hand', 'kiss', 'veri', 'obvious', 'spoke', 'listen', 'intent', 'ask', 'new', 'pictur', 'new', 'year', 'old', 'chang', 'yearsjust', 'watch', 'trailer', 'decid', 'itybityclip', 'enfj', 'look', 'like', 'awesom', 'moviemr', 'selfridg', 'newest', 'love', 'fresh', 'princ', 'bel', 'air', 'star', 'trek', 'next', 'generat', 'thank', 'infp', 'sister', 'break', 'bad', 'whole', 'season', 'fantast', 'top', 'chef', 'lot', 'time', 'toit', 'enfj', 'curious', 'know', 'view', 'relationship', 'romant', 'famili', 'friendship', 'colleagu', 'chang', 'cours', 'life', 'broad', 'question', 'popular', 'enfp', 'though', 'find', 'enfp', 'room', 'outshin', 'us', 'peopl', 'gravit', 'toward', 'think', 'need', 'need', 'groupit', 'use', 'bother', 'past', 'know', 'dislik', 'hate', 'say', 'hate', 'anyon', 'peopl', 'comfort', 'know', 'would', 'dislik', 'use', 'sens', 'ofgreat', 'question', 'littl', 'school', 'block', 'would', 'make', 'worksheet', 'buy', 'kind', 'suppli', 'sticker', 'fix', 'booboo', 'littl', 'kid', 'surpris', 'anorm', 'like', 'beard', 'howev', 'mr', 'selfridg', 'would', 'make', 'except', 'look', 'realli', 'sexi', 'well', 'groom', 'suit', 'well', 'ex', 'look', 'veri', 'hot', 'beard']\n"
          ]
        }
      ]
    },
    {
      "cell_type": "markdown",
      "source": [
        "\n",
        "\n",
        "---\n",
        "\n"
      ],
      "metadata": {
        "id": "gIzFi5NK68vc"
      }
    },
    {
      "cell_type": "markdown",
      "source": [
        "# 2 - Input Representation\n"
      ],
      "metadata": {
        "id": "6sAZNIg5927R"
      }
    },
    {
      "cell_type": "markdown",
      "metadata": {
        "id": "daDvAftceIvr"
      },
      "source": [
        "## 2.1. Word Embedding Construction\n",
        "*related to the section 4.1 and 4.3*\n"
      ]
    },
    {
      "cell_type": "code",
      "source": [
        "# Word2Vec-CBOW\n",
        "from gensim.models import Word2Vec\n",
        "wv_cbow_model = Word2Vec(sentences=after_stop_words_training + after_stop_words_testing, size=100, window=5, min_count=5, workers=2, sg=0)"
      ],
      "metadata": {
        "id": "1PirupdCJ0tq"
      },
      "execution_count": 33,
      "outputs": []
    },
    {
      "cell_type": "code",
      "source": [
        "import pprint\n",
        "similar_words= wv_cbow_model.wv.most_similar(\"logic\") # topn=10 by default\n",
        "pprint.pprint(similar_words)"
      ],
      "metadata": {
        "id": "8TC8SRSO6Zn4",
        "outputId": "00332823-5eba-4848-9b00-4d9126f9e8e6",
        "colab": {
          "base_uri": "https://localhost:8080/"
        }
      },
      "execution_count": 45,
      "outputs": [
        {
          "output_type": "stream",
          "name": "stdout",
          "text": [
            "[('ration', 0.8451854586601257),\n",
            " ('fallaci', 0.7596102356910706),\n",
            " ('deduct', 0.7455563545227051),\n",
            " ('illog', 0.7224417924880981),\n",
            " ('object', 0.6544502973556519),\n",
            " ('precis', 0.6513552665710449),\n",
            " ('method', 0.6511602401733398),\n",
            " ('factual', 0.637279748916626),\n",
            " ('concret', 0.6342222094535828),\n",
            " ('argument', 0.630585789680481)]\n"
          ]
        }
      ]
    },
    {
      "cell_type": "code",
      "source": [
        "# Word2Vec-Skip-Gram\n",
        "\n",
        "wv_sg_model = Word2Vec(sentences=after_stop_words_training + after_stop_words_testing, size=100, window=5, min_count=5, workers=4, sg=1)"
      ],
      "metadata": {
        "id": "hbiqzeuz0Spn"
      },
      "execution_count": 46,
      "outputs": []
    },
    {
      "cell_type": "code",
      "source": [
        "similar_words= wv_sg_model.wv.most_similar(\"logic\") # topn=10 by default\n",
        "pprint.pprint(similar_words)"
      ],
      "metadata": {
        "id": "fc63BrBh87jp",
        "outputId": "ebdd2303-0269-469e-f5b2-50ca6bb62f29",
        "colab": {
          "base_uri": "https://localhost:8080/"
        }
      },
      "execution_count": 47,
      "outputs": [
        {
          "output_type": "stream",
          "name": "stdout",
          "text": [
            "[('ration', 0.8215256929397583),\n",
            " ('induct', 0.743458092212677),\n",
            " ('deduct', 0.7365408539772034),\n",
            " ('fallaci', 0.7171690464019775),\n",
            " ('rational', 0.7016866207122803),\n",
            " ('priori', 0.7000617980957031),\n",
            " ('faulti', 0.6990525722503662),\n",
            " ('systemat', 0.6985352635383606),\n",
            " ('irrefut', 0.6899970173835754),\n",
            " ('deism', 0.6855560541152954)]\n"
          ]
        }
      ]
    },
    {
      "cell_type": "markdown",
      "metadata": {
        "id": "LNys5HOdISK-"
      },
      "source": [
        "## 2.2. Pretrained Word Embedding\n",
        "*related to the section 4.3*"
      ]
    },
    {
      "cell_type": "code",
      "metadata": {
        "id": "Ae8i7Z2kIef-",
        "colab": {
          "base_uri": "https://localhost:8080/"
        },
        "outputId": "665a91e5-ba7f-43aa-ae1e-9f9bba745405"
      },
      "source": [
        "# glove-twitter-100\n",
        "\n",
        "import gensim.downloader as api\n",
        "word_emb_model = api.load(\"glove-twitter-100\")"
      ],
      "execution_count": 23,
      "outputs": [
        {
          "output_type": "stream",
          "name": "stdout",
          "text": [
            "[==================================================] 100.0% 387.1/387.1MB downloaded\n"
          ]
        }
      ]
    },
    {
      "cell_type": "code",
      "source": [
        "# Get the Embedding lookup table\n",
        "import numpy as np\n",
        "emb_dim = word_emb_model.vector_size\n",
        "print(emb_dim)\n",
        "emb_table = []\n",
        "for i, word in enumerate(word_list):\n",
        "    if word in word_emb_model:\n",
        "        emb_table.append(word_emb_model[word])\n",
        "    else:\n",
        "        emb_table.append([0]*emb_dim)\n",
        "emb_table = np.array(emb_table)"
      ],
      "metadata": {
        "colab": {
          "base_uri": "https://localhost:8080/"
        },
        "id": "oMSrVjE6cL1X",
        "outputId": "91c48595-19b4-447b-cee8-f9ec97ca8634"
      },
      "execution_count": 25,
      "outputs": [
        {
          "output_type": "stream",
          "name": "stdout",
          "text": [
            "100\n"
          ]
        }
      ]
    },
    {
      "cell_type": "code",
      "source": [
        "print(emb_table[:20])"
      ],
      "metadata": {
        "id": "zV6cCZOdxtw1",
        "outputId": "66c772de-51bd-438a-f8fb-ba41cbf7652d",
        "colab": {
          "base_uri": "https://localhost:8080/"
        }
      },
      "execution_count": 27,
      "outputs": [
        {
          "output_type": "stream",
          "name": "stdout",
          "text": [
            "[[ 0.          0.          0.         ...  0.          0.\n",
            "   0.        ]\n",
            " [ 0.          0.          0.         ...  0.          0.\n",
            "   0.        ]\n",
            " [ 0.          0.          0.         ...  0.          0.\n",
            "   0.        ]\n",
            " ...\n",
            " [ 0.          0.          0.         ...  0.          0.\n",
            "   0.        ]\n",
            " [ 0.          0.          0.         ...  0.          0.\n",
            "   0.        ]\n",
            " [-0.67996001  0.32203999  1.54990005 ...  0.0032953   0.16005\n",
            "   0.033684  ]]\n"
          ]
        }
      ]
    },
    {
      "cell_type": "code",
      "source": [
        "# glove-wiki-gigaword-100"
      ],
      "metadata": {
        "id": "zyNY9iEq0b0V"
      },
      "execution_count": null,
      "outputs": []
    },
    {
      "cell_type": "markdown",
      "metadata": {
        "id": "T0ap96aeGlIk"
      },
      "source": [
        "## 2.3. Input Concatenation\n",
        "*related to the section 4.3*"
      ]
    },
    {
      "cell_type": "code",
      "metadata": {
        "id": "i2CUCL1cGlI2",
        "colab": {
          "base_uri": "https://localhost:8080/"
        },
        "outputId": "bbece1ad-2c47-4b4e-ad0f-e6a673e24571"
      },
      "source": [
        "# Contacte model trained by myself and pretrained model\n",
        "data1 = [[1,2,3],[4,5,6]]\n",
        "data2 = [[0.1,0.2,0.3],[0.4,0.5,0.6]]\n",
        "def get_input_training_data(data1, data2):\n",
        "  result = []\n",
        "  for i in range(0,len(data1)):\n",
        "    result.append(data1[i]+data2[i])\n",
        "  return result"
      ],
      "execution_count": 4,
      "outputs": [
        {
          "output_type": "stream",
          "name": "stdout",
          "text": [
            "[[1, 2, 3, 0.1, 0.2, 0.3], [4, 5, 6, 0.4, 0.5, 0.6]]\n"
          ]
        }
      ]
    },
    {
      "cell_type": "markdown",
      "metadata": {
        "id": "LIu_lkJwQ55g"
      },
      "source": [
        "# 3 - Model Implementation"
      ]
    },
    {
      "cell_type": "markdown",
      "metadata": {
        "id": "DpYCL17JKZxl"
      },
      "source": [
        "### 3.1. Build Sequence Model (Bi-directional model)\n",
        "*related to the section 4.4*"
      ]
    },
    {
      "cell_type": "code",
      "metadata": {
        "id": "13eCtR_SLUG6"
      },
      "source": [
        "# Please comment your code"
      ],
      "execution_count": null,
      "outputs": []
    },
    {
      "cell_type": "markdown",
      "metadata": {
        "id": "6BaOiaGRLW7R"
      },
      "source": [
        "### 3.2. Train Sequence Model (Bi-directional model)\n",
        "\n",
        "*related to the section 4.4*\n",
        "\n",
        "Note that it will not be marked if you do not display the Training Loss and the Number of Epochs in the Assignment 1 ipynb.\n"
      ]
    },
    {
      "cell_type": "code",
      "metadata": {
        "id": "lVQnUSX1LZ6C"
      },
      "source": [
        "# Please comment your code"
      ],
      "execution_count": null,
      "outputs": []
    },
    {
      "cell_type": "markdown",
      "metadata": {
        "id": "a4mpRpocePLN"
      },
      "source": [
        "# 4 - Evaluation\n"
      ]
    },
    {
      "cell_type": "markdown",
      "metadata": {
        "id": "lbLBzHObsvvM"
      },
      "source": [
        "## 4.1. Word Embedding Evaluation\n",
        "You are to apply Semantic-Syntactic word relationship tests for the trained word embeddings and visualise the result of Semantic-Syntactic word relationship tests.\n",
        "Note that it will not be marked if you do not display it in the ipynb file.\n"
      ]
    },
    {
      "cell_type": "markdown",
      "metadata": {
        "id": "MSIUsb7qtQEf"
      },
      "source": [
        "(*Please show your empirical evidence and justification*)\n",
        "\n",
        "\n"
      ]
    },
    {
      "cell_type": "code",
      "metadata": {
        "id": "tCrcXwcGsuuo"
      },
      "source": [
        "# Please comment your code"
      ],
      "execution_count": null,
      "outputs": []
    },
    {
      "cell_type": "markdown",
      "metadata": {
        "id": "KEW1zMgVMREr"
      },
      "source": [
        "## 4.2. Performance Evaluation with Data Processing Techiques\n",
        "\n",
        "\n",
        "You are required to evaluate with the testing dataset and provide the table with f1 of test set.\n",
        "Note that it will not be marked if you do not display it in the ipynb file.\n"
      ]
    },
    {
      "cell_type": "markdown",
      "metadata": {
        "id": "oVCF0bwTtRS0"
      },
      "source": [
        "(*Please show your empirical evidence and justification*)\n",
        "\n"
      ]
    },
    {
      "cell_type": "code",
      "metadata": {
        "id": "LPHCb-bneTI9"
      },
      "source": [
        "# Please comment your code"
      ],
      "execution_count": null,
      "outputs": []
    },
    {
      "cell_type": "markdown",
      "metadata": {
        "id": "-gwVpllNoOiY"
      },
      "source": [
        "## 4.3. Performance Evaluation with Different Input\n",
        "\n",
        "\n",
        "You are required to evaluate with the testing dataset and provide the table with f1 of test set.\n",
        "Note that it will not be marked if you do not display it in the ipynb file.\n"
      ]
    },
    {
      "cell_type": "markdown",
      "metadata": {
        "id": "mWS3oonaoOiY"
      },
      "source": [
        "(*Please show your empirical evidence and justification*)"
      ]
    },
    {
      "cell_type": "code",
      "metadata": {
        "id": "FTqc1XdioOiZ"
      },
      "source": [
        "# Please comment your code"
      ],
      "execution_count": null,
      "outputs": []
    },
    {
      "cell_type": "markdown",
      "metadata": {
        "id": "vg08uf3hpyoF"
      },
      "source": [
        "## 4.4. Performance Evaluation with Different Sequence Models\n",
        "\n",
        "\n",
        "You are required to evaluate with the testing dataset and provide the table with f1 of test set.\n",
        "Note that it will not be marked if you do not display it in the ipynb file.\n"
      ]
    },
    {
      "cell_type": "markdown",
      "metadata": {
        "id": "1e_nVbdrpyoK"
      },
      "source": [
        "(*Please show your empirical evidence and justification*)"
      ]
    },
    {
      "cell_type": "code",
      "metadata": {
        "id": "WmbjL4yGpyoK"
      },
      "source": [
        "# Please comment your code"
      ],
      "execution_count": null,
      "outputs": []
    },
    {
      "cell_type": "code",
      "source": [
        ""
      ],
      "metadata": {
        "id": "7YEvlJTPnEqP"
      },
      "execution_count": null,
      "outputs": []
    },
    {
      "cell_type": "code",
      "source": [
        ""
      ],
      "metadata": {
        "id": "wD75F1B_nFLA"
      },
      "execution_count": null,
      "outputs": []
    },
    {
      "cell_type": "markdown",
      "metadata": {
        "id": "P28Z1k36MZuo"
      },
      "source": [
        "## 4.5. HyperParameter Testing\n",
        "*You are required to draw a graph(y-axis: f1, x-axis: epoch) for test set and explain the optimal number of epochs based on the learning rate you have already chosen.* Note that it will not be marked if you do not display it in the ipynb file.\n"
      ]
    },
    {
      "cell_type": "markdown",
      "metadata": {
        "id": "BYzrA_s2tTaz"
      },
      "source": [
        "(*Please show your empirical evidence and justification*)\n",
        "\n"
      ]
    },
    {
      "cell_type": "code",
      "metadata": {
        "id": "wTLyQEeZMZ2f"
      },
      "source": [
        "# Please comment your code"
      ],
      "execution_count": null,
      "outputs": []
    },
    {
      "cell_type": "markdown",
      "source": [
        "#5 - Test your model via Colab Form Fields User Interface"
      ],
      "metadata": {
        "id": "dIfa2nm85H9I"
      }
    },
    {
      "cell_type": "markdown",
      "source": [
        "You are required to design a user interface so that user can input a textual sentence via the colab form fields user interface to get the personality type classification result from your trained model. *You can just modify based on the following Colab Form Fields template*"
      ],
      "metadata": {
        "id": "qrCqpwHD5RG1"
      }
    },
    {
      "cell_type": "code",
      "source": [
        "#@title Personality Type Prediction\n",
        "\n",
        "text = \"\" #@param {type:\"string\"}\n"
      ],
      "metadata": {
        "id": "HO_aV5bz5-ry",
        "colab": {
          "base_uri": "https://localhost:8080/"
        },
        "outputId": "fb90ee04-d344-40c5-c51d-79c2bde53556"
      },
      "execution_count": null,
      "outputs": [
        {
          "output_type": "stream",
          "name": "stdout",
          "text": [
            "Predicted Personality Type: T\n"
          ]
        }
      ]
    },
    {
      "cell_type": "markdown",
      "metadata": {
        "id": "sfv8rWTKPzeb"
      },
      "source": [
        "# Object Oriented Programming codes here"
      ]
    },
    {
      "cell_type": "markdown",
      "metadata": {
        "id": "TS23AjBRSZaX"
      },
      "source": [
        "*You can use multiple code snippets. Just add more if needed* "
      ]
    },
    {
      "cell_type": "code",
      "metadata": {
        "id": "1hVmx4E52dXS"
      },
      "source": [
        "# If you used OOP style, use this section"
      ],
      "execution_count": null,
      "outputs": []
    }
  ]
}