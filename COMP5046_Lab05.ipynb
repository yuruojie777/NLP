{
  "nbformat": 4,
  "nbformat_minor": 0,
  "metadata": {
    "colab": {
      "name": "COMP5046_Lab05.ipynb",
      "provenance": [],
      "collapsed_sections": [],
      "toc_visible": true,
      "include_colab_link": true
    },
    "kernelspec": {
      "name": "python3",
      "display_name": "Python 3"
    },
    "accelerator": "GPU"
  },
  "cells": [
    {
      "cell_type": "markdown",
      "metadata": {
        "id": "view-in-github",
        "colab_type": "text"
      },
      "source": [
        "<a href=\"https://colab.research.google.com/github/yuruojie777/NLP/blob/main/COMP5046_Lab05.ipynb\" target=\"_parent\"><img src=\"https://colab.research.google.com/assets/colab-badge.svg\" alt=\"Open In Colab\"/></a>"
      ]
    },
    {
      "cell_type": "markdown",
      "metadata": {
        "id": "2JX8CSelGdJf"
      },
      "source": [
        "# Lab 05"
      ]
    },
    {
      "cell_type": "markdown",
      "metadata": {
        "id": "be_7UFUxGfke"
      },
      "source": [
        "# Preprocessing\n",
        "\n",
        "Text preprocessing is an important step for natural language processing (NLP) tasks. It transforms text into a more digestible form so that machine learning algorithms can perform better. It is important to understand what each preprocessing method does in order to help decide if it is appropriate for your particular task."
      ]
    },
    {
      "cell_type": "markdown",
      "metadata": {
        "id": "ee0J8xZ9Kxwk"
      },
      "source": [
        "## Text Wrangling"
      ]
    },
    {
      "cell_type": "markdown",
      "metadata": {
        "id": "18BJU1JqYnSD"
      },
      "source": [
        "Text wrangling is converting/gathering/extracting formatted text from raw data. "
      ]
    },
    {
      "cell_type": "markdown",
      "metadata": {
        "id": "tWOVJtY-L1Sm"
      },
      "source": [
        "For example, **HTML** does not include only content text. Even when you extract only the text from **HTML**, it is not all meaningful (e.g. it can include advertisements).\n",
        "\n",
        "Have a look at the [news article](https://www.smh.com.au/national/nsw/macquarie-uni-suspends-teaching-for-10-days-to-move-learning-online-20200317-p54avs.html). We might be only interested in getting the headline and body of the article.\n",
        "\n",
        "The following code removes some irrelevant tags (i.e. script, style, link, etc.) and displays the remaining tags. We will mainly utilise two packages: \n",
        "\n",
        "\n",
        "*   `urllib`: is a package that collects several modules for working with URLs. We will use `urllib.request` for opening and reading URLs (See details at [urllib.request](https://docs.python.org/3/library/urllib.request.html#module-urllib.request)). \n",
        "*   `BeautifulSoup`: Beautiful Soup is a library that makes it easy to scrape information from web pages. It sits atop an HTML or XML parser, providing Pythonic idioms for iterating, searching, and modifying the parse tree (See details at [BeautifulSoup](https://pypi.org/project/beautifulsoup4/)).\n",
        "\n",
        "\n",
        "    \n"
      ]
    },
    {
      "cell_type": "code",
      "metadata": {
        "id": "4_FeckidL1k0",
        "colab": {
          "base_uri": "https://localhost:8080/"
        },
        "outputId": "1cc15173-2765-4aa9-f6e7-d696a9e9952c"
      },
      "source": [
        "import urllib \n",
        "from bs4 import BeautifulSoup\n",
        "\n",
        "url = \"https://www.smh.com.au/national/nsw/macquarie-uni-suspends-teaching-for-10-days-to-move-learning-online-20200317-p54avs.html\"\n",
        "html = urllib.request.urlopen(url).read()\n",
        "soup = BeautifulSoup(html)\n",
        "\n",
        "# remove irrelevant tags (script, style, link, etc.)\n",
        "for script in soup([\"script\", \"style\", \"link\", \"head\", \"noscript\"]):\n",
        "    script.extract()    # rip it out, i.e remove the tag from the tree\n",
        "\n",
        "# The get_text() returns all the human-readable text beneath the tag as string\n",
        "text = soup.get_text()\n",
        "#print(text) # you can uncomment to have a look the returned text\n",
        "\n",
        "# The prettify() method will turn a Beautiful Soup parse tree into a nicely formatted Unicode string, with a separate line for each tag and each string\n",
        "print(soup.prettify())"
      ],
      "execution_count": null,
      "outputs": [
        {
          "output_type": "stream",
          "name": "stdout",
          "text": [
            "<!DOCTYPE html>\n",
            "<html lang=\"en\">\n",
            " <body>\n",
            "  <div data-reactroot=\"\" id=\"app\">\n",
            "   <div aria-atomic=\"true\" aria-live=\"off\" class=\"_2O3rv\" id=\"page_announcer\" tabindex=\"-1\">\n",
            "    University of Sydney to move fully online while Macquarie cancels classes\n",
            "   </div>\n",
            "   <div>\n",
            "   </div>\n",
            "   <div class=\"_2lciU\" role=\"\">\n",
            "    <svg aria-hidden=\"true\" class=\"QMY9O idv27\" focusable=\"false\" height=\"1em\" width=\"1em\">\n",
            "     <use xlink:href=\"#icon-exclamation\">\n",
            "     </use>\n",
            "    </svg>\n",
            "    <p>\n",
            "     We’re sorry, this feature is currently unavailable. We’re working to restore it. Please try again later.\n",
            "    </p>\n",
            "    <button class=\"_760Mo\">\n",
            "     Dismiss\n",
            "    </button>\n",
            "   </div>\n",
            "   <nav class=\"RbLp5\">\n",
            "    <a href=\"#sections\">\n",
            "     Skip to sections navigation\n",
            "    </a>\n",
            "    <a href=\"#content\">\n",
            "     Skip to content\n",
            "    </a>\n",
            "    <a href=\"#footer\">\n",
            "     Skip to footer\n",
            "    </a>\n",
            "   </nav>\n",
            "   <header class=\"_21UZG noPrint\" data-testid=\"header\">\n",
            "    <div class=\"_2L98J\">\n",
            "     <div class=\"_2gsJ0\">\n",
            "      <ul>\n",
            "       <li class=\"PJUwX\">\n",
            "        <button aria-controls=\"navigation\" aria-expanded=\"false\" class=\"_1k8VI\" data-testid=\"network-strip\">\n",
            "         Our network\n",
            "        </button>\n",
            "       </li>\n",
            "       <li class=\"_3CYE0\">\n",
            "       </li>\n",
            "      </ul>\n",
            "     </div>\n",
            "    </div>\n",
            "    <div class=\"h-Jxc\">\n",
            "     <div class=\"_2k79Y\">\n",
            "      <div class=\"_1hN2k\">\n",
            "       <button aria-controls=\"navigation\" aria-expanded=\"false\" class=\"_2g2-4 _2FxXH\" data-testid=\"menu-button\" id=\"sections\">\n",
            "        <span class=\"_2Wsmd\">\n",
            "         <em>\n",
            "          Open Navigation\n",
            "         </em>\n",
            "        </span>\n",
            "        <span class=\"yHQ5k\">\n",
            "         Menu\n",
            "        </span>\n",
            "       </button>\n",
            "      </div>\n",
            "      <div class=\"_2FAuv\" data-testid=\"small-logo\">\n",
            "       <div class=\"_3uPYr _2qnYw\">\n",
            "        <a class=\"_2ABN- YClUs\" href=\"/\">\n",
            "         <h2>\n",
            "          The Sydney Morning Herald\n",
            "         </h2>\n",
            "        </a>\n",
            "       </div>\n",
            "      </div>\n",
            "      <div class=\"gLolC _2fVGr\" data-testid=\"subscribe-button\">\n",
            "       <a class=\"_1GI7o WvV_s\" href=\"https://subscribe.smh.com.au/?promote_channel=HI_HL_GNL\">\n",
            "        Subscribe\n",
            "       </a>\n",
            "      </div>\n",
            "     </div>\n",
            "    </div>\n",
            "   </header>\n",
            "   <div class=\"_3ic7p printOnly\">\n",
            "    <div class=\"_3uPYr _2qnYw\">\n",
            "     <a class=\"_2ABN- YClUs\" href=\"/\">\n",
            "      <h2>\n",
            "       The Sydney Morning Herald\n",
            "      </h2>\n",
            "     </a>\n",
            "    </div>\n",
            "   </div>\n",
            "   <div aria-hidden=\"true\" class=\"_2yAUQ\" data-testid=\"site-menu\" id=\"navigation\">\n",
            "    <button class=\"_2dmHA\">\n",
            "     close\n",
            "    </button>\n",
            "    <form class=\"_3b67L\">\n",
            "     <label for=\"site-search\">\n",
            "      Search Site\n",
            "     </label>\n",
            "     <input class=\"_2q19s\" id=\"site-search\" name=\"query\" placeholder=\"Search\" type=\"search\" value=\"\"/>\n",
            "     <input class=\"JaNbC\" data-testid=\"search-submit\" type=\"submit\" value=\"Search\"/>\n",
            "    </form>\n",
            "    <ul class=\"_2fq7t\" role=\"tablist\">\n",
            "     <li class=\"rGXdz\" role=\"presentation\">\n",
            "      <a aria-controls=\"sections\" aria-selected=\"true\" href=\"#sections\" id=\"navSections\" role=\"tab\" tabindex=\"0\">\n",
            "       Sections\n",
            "      </a>\n",
            "     </li>\n",
            "     <li class=\"\" role=\"presentation\">\n",
            "      <a aria-selected=\"false\" data-testid=\"site-menu-network-tab\" href=\"#network\" id=\"navNetwork\" role=\"tab\" tabindex=\"-1\">\n",
            "       Network\n",
            "      </a>\n",
            "     </li>\n",
            "    </ul>\n",
            "    <div class=\"RTABy\">\n",
            "     <nav aria-hidden=\"false\" aria-labelledby=\"navSections\" class=\"rGXdz _2PKwb\" data-testid=\"site-menu-section-nav\" role=\"tabpanel\">\n",
            "      <div>\n",
            "       <ul data-testid=\"site-menu-section-link-group\" role=\"tree\">\n",
            "        <li class=\"\" role=\"treeitem\">\n",
            "         <a href=\"/\" id=\"section-home\">\n",
            "          Home\n",
            "         </a>\n",
            "        </li>\n",
            "        <li class=\"\" role=\"treeitem\">\n",
            "         <a href=\"/sydney-news\" id=\"section-sydney\">\n",
            "          Sydney\n",
            "         </a>\n",
            "        </li>\n",
            "        <li class=\"\" role=\"treeitem\">\n",
            "         <a href=\"/national/nsw\" id=\"section-nsw\">\n",
            "          NSW\n",
            "         </a>\n",
            "        </li>\n",
            "        <li aria-expanded=\"false\" class=\"_3kQ2X\" role=\"treeitem\">\n",
            "         <a href=\"/politics\" id=\"section-politics\">\n",
            "          Politics\n",
            "         </a>\n",
            "         <button aria-controls=\"subsection-politics\" aria-expanded=\"false\" class=\"\">\n",
            "          <span class=\"_1KXcO\">\n",
            "           Show subsections\n",
            "          </span>\n",
            "          <span class=\"_35a30\">\n",
            "           <svg aria-hidden=\"true\" class=\"QMY9O\" focusable=\"false\" height=\"1em\" width=\"1em\">\n",
            "            <use xlink:href=\"#icon-arrowsdown\">\n",
            "            </use>\n",
            "           </svg>\n",
            "          </span>\n",
            "         </button>\n",
            "         <ul aria-hidden=\"true\" aria-labelledby=\"section-politics\" class=\"_3Nydp\" id=\"subsection-politics\" role=\"group\">\n",
            "          <li class=\"\" role=\"treeitem\">\n",
            "           <a href=\"/politics/federal\" id=\"section-politics-federal\">\n",
            "            Federal\n",
            "           </a>\n",
            "          </li>\n",
            "          <li class=\"\" role=\"treeitem\">\n",
            "           <a href=\"/politics/nsw\" id=\"section-politics-nsw\">\n",
            "            NSW\n",
            "           </a>\n",
            "          </li>\n",
            "          <li class=\"\" role=\"treeitem\">\n",
            "           <a href=\"/politics/victoria\" id=\"section-politics-victoria\">\n",
            "            Victoria\n",
            "           </a>\n",
            "          </li>\n",
            "          <li class=\"\" role=\"treeitem\">\n",
            "           <a href=\"/politics/queensland\" id=\"section-politics-queensland\">\n",
            "            Queensland\n",
            "           </a>\n",
            "          </li>\n",
            "          <li class=\"\" role=\"treeitem\">\n",
            "           <a href=\"/politics/western-australia\" id=\"section-politics-western-australia\">\n",
            "            Western Australia\n",
            "           </a>\n",
            "          </li>\n",
            "         </ul>\n",
            "        </li>\n",
            "        <li aria-expanded=\"false\" class=\"_3kQ2X\" role=\"treeitem\">\n",
            "         <a href=\"/business\" id=\"section-business\">\n",
            "          Business\n",
            "         </a>\n",
            "         <button aria-controls=\"subsection-business\" aria-expanded=\"false\" class=\"\">\n",
            "          <span class=\"_1KXcO\">\n",
            "           Show subsections\n",
            "          </span>\n",
            "          <span class=\"_35a30\">\n",
            "           <svg aria-hidden=\"true\" class=\"QMY9O\" focusable=\"false\" height=\"1em\" width=\"1em\">\n",
            "            <use xlink:href=\"#icon-arrowsdown\">\n",
            "            </use>\n",
            "           </svg>\n",
            "          </span>\n",
            "         </button>\n",
            "         <ul aria-hidden=\"true\" aria-labelledby=\"section-business\" class=\"_3Nydp\" id=\"subsection-business\" role=\"group\">\n",
            "          <li class=\"\" role=\"treeitem\">\n",
            "           <a href=\"/business/companies\" id=\"section-business-companies\">\n",
            "            Companies\n",
            "           </a>\n",
            "          </li>\n",
            "          <li class=\"\" role=\"treeitem\">\n",
            "           <a href=\"/business/markets\" id=\"section-business-markets\">\n",
            "            Markets\n",
            "           </a>\n",
            "          </li>\n",
            "          <li class=\"\" role=\"treeitem\">\n",
            "           <a href=\"/business/the-economy\" id=\"section-business-the-economy\">\n",
            "            The economy\n",
            "           </a>\n",
            "          </li>\n",
            "          <li class=\"\" role=\"treeitem\">\n",
            "           <a href=\"/business/banking-and-finance\" id=\"section-business-banking-&amp;-finance\">\n",
            "            Banking &amp; finance\n",
            "           </a>\n",
            "          </li>\n",
            "          <li class=\"\" role=\"treeitem\">\n",
            "           <a href=\"/business/entrepreneurship\" id=\"section-business-entrepreneurship\">\n",
            "            Entrepreneurship\n",
            "           </a>\n",
            "          </li>\n",
            "          <li class=\"\" role=\"treeitem\">\n",
            "           <a href=\"/topic/media-and-marketing-5z7\" id=\"section-business-media\">\n",
            "            Media\n",
            "           </a>\n",
            "          </li>\n",
            "          <li class=\"\" role=\"treeitem\">\n",
            "           <a href=\"/business/workplace\" id=\"section-business-workplace\">\n",
            "            Workplace\n",
            "           </a>\n",
            "          </li>\n",
            "         </ul>\n",
            "        </li>\n",
            "        <li aria-expanded=\"false\" class=\"_3kQ2X\" role=\"treeitem\">\n",
            "         <a href=\"/world\" id=\"section-world\">\n",
            "          World\n",
            "         </a>\n",
            "         <button aria-controls=\"subsection-world\" aria-expanded=\"false\" class=\"\">\n",
            "          <span class=\"_1KXcO\">\n",
            "           Show subsections\n",
            "          </span>\n",
            "          <span class=\"_35a30\">\n",
            "           <svg aria-hidden=\"true\" class=\"QMY9O\" focusable=\"false\" height=\"1em\" width=\"1em\">\n",
            "            <use xlink:href=\"#icon-arrowsdown\">\n",
            "            </use>\n",
            "           </svg>\n",
            "          </span>\n",
            "         </button>\n",
            "         <ul aria-hidden=\"true\" aria-labelledby=\"section-world\" class=\"_3Nydp\" id=\"subsection-world\" role=\"group\">\n",
            "          <li class=\"\" role=\"treeitem\">\n",
            "           <a href=\"/world/north-america\" id=\"section-world-north-america\">\n",
            "            North America\n",
            "           </a>\n",
            "          </li>\n",
            "          <li class=\"\" role=\"treeitem\">\n",
            "           <a href=\"/world/europe\" id=\"section-world-europe\">\n",
            "            Europe\n",
            "           </a>\n",
            "          </li>\n",
            "          <li class=\"\" role=\"treeitem\">\n",
            "           <a href=\"/world/asia\" id=\"section-world-asia\">\n",
            "            Asia\n",
            "           </a>\n",
            "          </li>\n",
            "          <li class=\"\" role=\"treeitem\">\n",
            "           <a href=\"/world/middle-east\" id=\"section-world-middle-east\">\n",
            "            Middle East\n",
            "           </a>\n",
            "          </li>\n",
            "          <li class=\"\" role=\"treeitem\">\n",
            "           <a href=\"/world/oceania\" id=\"section-world-oceania\">\n",
            "            Oceania\n",
            "           </a>\n",
            "          </li>\n",
            "          <li class=\"\" role=\"treeitem\">\n",
            "           <a href=\"/world/south-america\" id=\"section-world-south-america\">\n",
            "            South America\n",
            "           </a>\n",
            "          </li>\n",
            "          <li class=\"\" role=\"treeitem\">\n",
            "           <a href=\"/world/africa\" id=\"section-world-africa\">\n",
            "            Africa\n",
            "           </a>\n",
            "          </li>\n",
            "         </ul>\n",
            "        </li>\n",
            "        <li aria-expanded=\"false\" class=\"_3kQ2X\" role=\"treeitem\">\n",
            "         <a href=\"/national\" id=\"section-national\">\n",
            "          National\n",
            "         </a>\n",
            "         <button aria-controls=\"subsection-national\" aria-expanded=\"false\" class=\"\">\n",
            "          <span class=\"_1KXcO\">\n",
            "           Show subsections\n",
            "          </span>\n",
            "          <span class=\"_35a30\">\n",
            "           <svg aria-hidden=\"true\" class=\"QMY9O\" focusable=\"false\" height=\"1em\" width=\"1em\">\n",
            "            <use xlink:href=\"#icon-arrowsdown\">\n",
            "            </use>\n",
            "           </svg>\n",
            "          </span>\n",
            "         </button>\n",
            "         <ul aria-hidden=\"true\" aria-labelledby=\"section-national\" class=\"_3Nydp\" id=\"subsection-national\" role=\"group\">\n",
            "          <li class=\"\" role=\"treeitem\">\n",
            "           <a href=\"/national/victoria\" id=\"section-national-victoria\">\n",
            "            Victoria\n",
            "           </a>\n",
            "          </li>\n",
            "          <li class=\"\" role=\"treeitem\">\n",
            "           <a href=\"/national/queensland\" id=\"section-national-queensland\">\n",
            "            Queensland\n",
            "           </a>\n",
            "          </li>\n",
            "          <li class=\"\" role=\"treeitem\">\n",
            "           <a href=\"/national/western-australia\" id=\"section-national-western-australia\">\n",
            "            Western Australia\n",
            "           </a>\n",
            "          </li>\n",
            "         </ul>\n",
            "        </li>\n",
            "        <li class=\"\" role=\"treeitem\">\n",
            "         <a href=\"/opinion\" id=\"section-opinion\">\n",
            "          Opinion\n",
            "         </a>\n",
            "        </li>\n",
            "        <li aria-expanded=\"false\" class=\"_3kQ2X\" role=\"treeitem\">\n",
            "         <a href=\"/property\" id=\"section-property\">\n",
            "          Property\n",
            "         </a>\n",
            "         <button aria-controls=\"subsection-property\" aria-expanded=\"false\" class=\"\">\n",
            "          <span class=\"_1KXcO\">\n",
            "           Show subsections\n",
            "          </span>\n",
            "          <span class=\"_35a30\">\n",
            "           <svg aria-hidden=\"true\" class=\"QMY9O\" focusable=\"false\" height=\"1em\" width=\"1em\">\n",
            "            <use xlink:href=\"#icon-arrowsdown\">\n",
            "            </use>\n",
            "           </svg>\n",
            "          </span>\n",
            "         </button>\n",
            "         <ul aria-hidden=\"true\" aria-labelledby=\"section-property\" class=\"_3Nydp\" id=\"subsection-property\" role=\"group\">\n",
            "          <li class=\"\" role=\"treeitem\">\n",
            "           <a href=\"/property/news\" id=\"section-property-news\">\n",
            "            News\n",
            "           </a>\n",
            "          </li>\n",
            "          <li class=\"\" role=\"treeitem\">\n",
            "           <a href=\"/topic/title-deeds-1nq0\" id=\"section-property-title-deeds\">\n",
            "            Title Deeds\n",
            "           </a>\n",
            "          </li>\n",
            "          <li class=\"\" role=\"treeitem\">\n",
            "           <a href=\"/property/living\" id=\"section-property-living\">\n",
            "            Living\n",
            "           </a>\n",
            "          </li>\n",
            "          <li class=\"\" role=\"treeitem\">\n",
            "           <a href=\"/topic/auctions-1nq1\" id=\"section-property-auctions\">\n",
            "            Auctions\n",
            "           </a>\n",
            "          </li>\n",
            "          <li class=\"\" role=\"treeitem\">\n",
            "           <a href=\"/topic/financing-1nq2\" id=\"section-property-financing\">\n",
            "            Financing\n",
            "           </a>\n",
            "          </li>\n",
            "         </ul>\n",
            "        </li>\n",
            "        <li aria-expanded=\"false\" class=\"_3kQ2X\" role=\"treeitem\">\n",
            "         <a href=\"/sport\" id=\"section-sport\">\n",
            "          Sport\n",
            "         </a>\n",
            "         <button aria-controls=\"subsection-sport\" aria-expanded=\"false\" class=\"\">\n",
            "          <span class=\"_1KXcO\">\n",
            "           Show subsections\n",
            "          </span>\n",
            "          <span class=\"_35a30\">\n",
            "           <svg aria-hidden=\"true\" class=\"QMY9O\" focusable=\"false\" height=\"1em\" width=\"1em\">\n",
            "            <use xlink:href=\"#icon-arrowsdown\">\n",
            "            </use>\n",
            "           </svg>\n",
            "          </span>\n",
            "         </button>\n",
            "         <ul aria-hidden=\"true\" aria-labelledby=\"section-sport\" class=\"_3Nydp\" id=\"subsection-sport\" role=\"group\">\n",
            "          <li aria-expanded=\"false\" class=\"_3kQ2X\" role=\"treeitem\">\n",
            "           <a href=\"/sport/nrl\" id=\"section-sport-nrl\">\n",
            "            NRL\n",
            "           </a>\n",
            "          </li>\n",
            "          <li aria-expanded=\"false\" class=\"_3kQ2X\" role=\"treeitem\">\n",
            "           <a href=\"/sport/rugby-union\" id=\"section-sport-rugby-union\">\n",
            "            Rugby union\n",
            "           </a>\n",
            "          </li>\n",
            "          <li aria-expanded=\"false\" class=\"_3kQ2X\" role=\"treeitem\">\n",
            "           <a href=\"/sport/cricket\" id=\"section-sport-cricket\">\n",
            "            Cricket\n",
            "           </a>\n",
            "          </li>\n",
            "          <li class=\"\" role=\"treeitem\">\n",
            "           <a href=\"/sport/soccer\" id=\"section-sport-soccer\">\n",
            "            Soccer\n",
            "           </a>\n",
            "          </li>\n",
            "          <li aria-expanded=\"false\" class=\"_3kQ2X\" role=\"treeitem\">\n",
            "           <a href=\"/sport/afl\" id=\"section-sport-afl\">\n",
            "            AFL\n",
            "           </a>\n",
            "          </li>\n",
            "          <li class=\"\" role=\"treeitem\">\n",
            "           <a href=\"/sport/racing\" id=\"section-sport-racing\">\n",
            "            Racing\n",
            "           </a>\n",
            "          </li>\n",
            "          <li aria-expanded=\"false\" class=\"_3kQ2X\" role=\"treeitem\">\n",
            "           <a href=\"/sport/tennis\" id=\"section-sport-tennis\">\n",
            "            Tennis\n",
            "           </a>\n",
            "          </li>\n",
            "          <li aria-expanded=\"false\" class=\"_3kQ2X\" role=\"treeitem\">\n",
            "           <a href=\"/sport/netball\" id=\"section-sport-netball\">\n",
            "            Netball\n",
            "           </a>\n",
            "          </li>\n",
            "          <li class=\"\" role=\"treeitem\">\n",
            "           <a href=\"/sport/basketball\" id=\"section-sport-basketball\">\n",
            "            Basketball\n",
            "           </a>\n",
            "          </li>\n",
            "          <li class=\"\" role=\"treeitem\">\n",
            "           <a href=\"/sport/motorsport\" id=\"section-sport-motorsport\">\n",
            "            Motorsport\n",
            "           </a>\n",
            "          </li>\n",
            "          <li class=\"\" role=\"treeitem\">\n",
            "           <a href=\"/sport/cycling\" id=\"section-sport-cycling\">\n",
            "            Cycling\n",
            "           </a>\n",
            "          </li>\n",
            "          <li class=\"\" role=\"treeitem\">\n",
            "           <a href=\"/sport/golf\" id=\"section-sport-golf\">\n",
            "            Golf\n",
            "           </a>\n",
            "          </li>\n",
            "          <li class=\"\" role=\"treeitem\">\n",
            "           <a href=\"/sport/nfl\" id=\"section-sport-nfl\">\n",
            "            NFL\n",
            "           </a>\n",
            "          </li>\n",
            "          <li class=\"\" role=\"treeitem\">\n",
            "           <a href=\"/sport/athletics\" id=\"section-sport-athletics\">\n",
            "            Athletics\n",
            "           </a>\n",
            "          </li>\n",
            "          <li class=\"\" role=\"treeitem\">\n",
            "           <a href=\"/sport/swimming\" id=\"section-sport-swimming\">\n",
            "            Swimming\n",
            "           </a>\n",
            "          </li>\n",
            "          <li class=\"\" role=\"treeitem\">\n",
            "           <a href=\"/sport/boxing\" id=\"section-sport-boxing\">\n",
            "            Boxing\n",
            "           </a>\n",
            "          </li>\n",
            "         </ul>\n",
            "        </li>\n",
            "        <li aria-expanded=\"false\" class=\"_3kQ2X\" role=\"treeitem\">\n",
            "         <a href=\"/culture\" id=\"section-culture\">\n",
            "          Culture\n",
            "         </a>\n",
            "         <button aria-controls=\"subsection-culture\" aria-expanded=\"false\" class=\"\">\n",
            "          <span class=\"_1KXcO\">\n",
            "           Show subsections\n",
            "          </span>\n",
            "          <span class=\"_35a30\">\n",
            "           <svg aria-hidden=\"true\" class=\"QMY9O\" focusable=\"false\" height=\"1em\" width=\"1em\">\n",
            "            <use xlink:href=\"#icon-arrowsdown\">\n",
            "            </use>\n",
            "           </svg>\n",
            "          </span>\n",
            "         </button>\n",
            "         <ul aria-hidden=\"true\" aria-labelledby=\"section-culture\" class=\"_3Nydp\" id=\"subsection-culture\" role=\"group\">\n",
            "          <li class=\"\" role=\"treeitem\">\n",
            "           <a href=\"/culture/movies\" id=\"section-culture-movies\">\n",
            "            Movies\n",
            "           </a>\n",
            "          </li>\n",
            "          <li aria-expanded=\"false\" class=\"_3kQ2X\" role=\"treeitem\">\n",
            "           <a href=\"/culture/tv-and-radio\" id=\"section-culture-tv-&amp;-radio\">\n",
            "            TV &amp; radio\n",
            "           </a>\n",
            "          </li>\n",
            "          <li class=\"\" role=\"treeitem\">\n",
            "           <a href=\"/culture/music\" id=\"section-culture-music\">\n",
            "            Music\n",
            "           </a>\n",
            "          </li>\n",
            "          <li class=\"\" role=\"treeitem\">\n",
            "           <a href=\"/culture/celebrity\" id=\"section-culture-celebrity\">\n",
            "            Celebrity\n",
            "           </a>\n",
            "          </li>\n",
            "          <li class=\"\" role=\"treeitem\">\n",
            "           <a href=\"/culture/books\" id=\"section-culture-books\">\n",
            "            Books\n",
            "           </a>\n",
            "          </li>\n",
            "          <li class=\"\" role=\"treeitem\">\n",
            "           <a href=\"/culture/comedy\" id=\"section-culture-comedy\">\n",
            "            Comedy\n",
            "           </a>\n",
            "          </li>\n",
            "          <li class=\"\" role=\"treeitem\">\n",
            "           <a href=\"/culture/dance\" id=\"section-culture-dance\">\n",
            "            Dance\n",
            "           </a>\n",
            "          </li>\n",
            "          <li class=\"\" role=\"treeitem\">\n",
            "           <a href=\"/culture/musicals\" id=\"section-culture-musicals\">\n",
            "            Musicals\n",
            "           </a>\n",
            "          </li>\n",
            "          <li class=\"\" role=\"treeitem\">\n",
            "           <a href=\"/culture/opera\" id=\"section-culture-opera\">\n",
            "            Opera\n",
            "           </a>\n",
            "          </li>\n",
            "          <li class=\"\" role=\"treeitem\">\n",
            "           <a href=\"/culture/theatre\" id=\"section-culture-theatre\">\n",
            "            Theatre\n",
            "           </a>\n",
            "          </li>\n",
            "          <li class=\"\" role=\"treeitem\">\n",
            "           <a href=\"/culture/art-and-design\" id=\"section-culture-art-&amp;-design\">\n",
            "            Art &amp; design\n",
            "           </a>\n",
            "          </li>\n",
            "          <li class=\"\" role=\"treeitem\">\n",
            "           <a href=\"https://tvguide.smh.com.au\">\n",
            "            TV guide\n",
            "           </a>\n",
            "          </li>\n",
            "         </ul>\n",
            "        </li>\n",
            "        <li aria-expanded=\"false\" class=\"_3kQ2X\" role=\"treeitem\">\n",
            "         <a href=\"/lifestyle\" id=\"section-lifestyle\">\n",
            "          Lifestyle\n",
            "         </a>\n",
            "         <button aria-controls=\"subsection-lifestyle\" aria-expanded=\"false\" class=\"\">\n",
            "          <span class=\"_1KXcO\">\n",
            "           Show subsections\n",
            "          </span>\n",
            "          <span class=\"_35a30\">\n",
            "           <svg aria-hidden=\"true\" class=\"QMY9O\" focusable=\"false\" height=\"1em\" width=\"1em\">\n",
            "            <use xlink:href=\"#icon-arrowsdown\">\n",
            "            </use>\n",
            "           </svg>\n",
            "          </span>\n",
            "         </button>\n",
            "         <ul aria-hidden=\"true\" aria-labelledby=\"section-lifestyle\" class=\"_3Nydp\" id=\"subsection-lifestyle\" role=\"group\">\n",
            "          <li class=\"\" role=\"treeitem\">\n",
            "           <a href=\"/lifestyle/health-and-wellness\" id=\"section-lifestyle-health-&amp;-wellness\">\n",
            "            Health &amp; wellness\n",
            "           </a>\n",
            "          </li>\n",
            "          <li class=\"\" role=\"treeitem\">\n",
            "           <a href=\"/lifestyle/fashion\" id=\"section-lifestyle-fashion\">\n",
            "            Fashion\n",
            "           </a>\n",
            "          </li>\n",
            "          <li class=\"\" role=\"treeitem\">\n",
            "           <a href=\"/lifestyle/life-and-relationships\" id=\"section-lifestyle-life-&amp;-relationships\">\n",
            "            Life &amp; relationships\n",
            "           </a>\n",
            "          </li>\n",
            "          <li class=\"\" role=\"treeitem\">\n",
            "           <a href=\"/lifestyle/beauty\" id=\"section-lifestyle-beauty\">\n",
            "            Beauty\n",
            "           </a>\n",
            "          </li>\n",
            "          <li class=\"\" role=\"treeitem\">\n",
            "           <a href=\"/topic/style-luxury-1nij\" id=\"section-lifestyle-style\">\n",
            "            Style\n",
            "           </a>\n",
            "          </li>\n",
            "          <li class=\"\" role=\"treeitem\">\n",
            "           <a href=\"/topic/horoscopes-5yc\" id=\"section-lifestyle-horoscopes\">\n",
            "            Horoscopes\n",
            "           </a>\n",
            "          </li>\n",
            "         </ul>\n",
            "        </li>\n",
            "        <li class=\"\" role=\"treeitem\">\n",
            "         <a href=\"/topic/good-weekend-1qq\" id=\"section-good-weekend\">\n",
            "          Good Weekend\n",
            "         </a>\n",
            "        </li>\n",
            "        <li class=\"\" role=\"treeitem\">\n",
            "         <a href=\"/topic/spectrum-smh-hog\" id=\"section-spectrum\">\n",
            "          Spectrum\n",
            "         </a>\n",
            "        </li>\n",
            "        <li class=\"\" role=\"treeitem\">\n",
            "         <a href=\"/topic/sunday-life-1ni3\" id=\"section-sunday-life\">\n",
            "          Sunday Life\n",
            "         </a>\n",
            "        </li>\n",
            "        <li aria-expanded=\"false\" class=\"_3kQ2X\" role=\"treeitem\">\n",
            "         <a href=\"/money\" id=\"section-money\">\n",
            "          Money\n",
            "         </a>\n",
            "         <button aria-controls=\"subsection-money\" aria-expanded=\"false\" class=\"\">\n",
            "          <span class=\"_1KXcO\">\n",
            "           Show subsections\n",
            "          </span>\n",
            "          <span class=\"_35a30\">\n",
            "           <svg aria-hidden=\"true\" class=\"QMY9O\" focusable=\"false\" height=\"1em\" width=\"1em\">\n",
            "            <use xlink:href=\"#icon-arrowsdown\">\n",
            "            </use>\n",
            "           </svg>\n",
            "          </span>\n",
            "         </button>\n",
            "         <ul aria-hidden=\"true\" aria-labelledby=\"section-money\" class=\"_3Nydp\" id=\"subsection-money\" role=\"group\">\n",
            "          <li class=\"\" role=\"treeitem\">\n",
            "           <a href=\"/money/super-and-retirement\" id=\"section-money-super-&amp;-retirement\">\n",
            "            Super &amp; retirement\n",
            "           </a>\n",
            "          </li>\n",
            "          <li class=\"\" role=\"treeitem\">\n",
            "           <a href=\"/money/investing\" id=\"section-money-investing\">\n",
            "            Investing\n",
            "           </a>\n",
            "          </li>\n",
            "          <li class=\"\" role=\"treeitem\">\n",
            "           <a href=\"/money/banking\" id=\"section-money-banking\">\n",
            "            Banking\n",
            "           </a>\n",
            "          </li>\n",
            "          <li class=\"\" role=\"treeitem\">\n",
            "           <a href=\"/money/borrowing\" id=\"section-money-borrowing\">\n",
            "            Borrowing\n",
            "           </a>\n",
            "          </li>\n",
            "          <li class=\"\" role=\"treeitem\">\n",
            "           <a href=\"/money/saving\" id=\"section-money-saving\">\n",
            "            Saving\n",
            "           </a>\n",
            "          </li>\n",
            "          <li class=\"\" role=\"treeitem\">\n",
            "           <a href=\"/money/tax\" id=\"section-money-tax\">\n",
            "            Tax\n",
            "           </a>\n",
            "          </li>\n",
            "          <li class=\"\" role=\"treeitem\">\n",
            "           <a href=\"/money/planning-and-budgeting\" id=\"section-money-planning-&amp;-budgeting\">\n",
            "            Planning &amp; budgeting\n",
            "           </a>\n",
            "          </li>\n",
            "          <li class=\"\" role=\"treeitem\">\n",
            "           <a href=\"/money/insurance\" id=\"section-money-insurance\">\n",
            "            Insurance\n",
            "           </a>\n",
            "          </li>\n",
            "         </ul>\n",
            "        </li>\n",
            "        <li class=\"\" role=\"treeitem\">\n",
            "         <a href=\"/education\" id=\"section-education\">\n",
            "          Education\n",
            "         </a>\n",
            "        </li>\n",
            "        <li class=\"\" role=\"treeitem\">\n",
            "         <a href=\"/healthcare\" id=\"section-healthcare\">\n",
            "          Healthcare\n",
            "         </a>\n",
            "        </li>\n",
            "        <li aria-expanded=\"false\" class=\"_3kQ2X\" role=\"treeitem\">\n",
            "         <a href=\"/environment\" id=\"section-environment\">\n",
            "          Environment\n",
            "         </a>\n",
            "         <button aria-controls=\"subsection-environment\" aria-expanded=\"false\" class=\"\">\n",
            "          <span class=\"_1KXcO\">\n",
            "           Show subsections\n",
            "          </span>\n",
            "          <span class=\"_35a30\">\n",
            "           <svg aria-hidden=\"true\" class=\"QMY9O\" focusable=\"false\" height=\"1em\" width=\"1em\">\n",
            "            <use xlink:href=\"#icon-arrowsdown\">\n",
            "            </use>\n",
            "           </svg>\n",
            "          </span>\n",
            "         </button>\n",
            "         <ul aria-hidden=\"true\" aria-labelledby=\"section-environment\" class=\"_3Nydp\" id=\"subsection-environment\" role=\"group\">\n",
            "          <li class=\"\" role=\"treeitem\">\n",
            "           <a href=\"/environment/conservation\" id=\"section-environment-conservation\">\n",
            "            Conservation\n",
            "           </a>\n",
            "          </li>\n",
            "          <li class=\"\" role=\"treeitem\">\n",
            "           <a href=\"/environment/climate-change\" id=\"section-environment-climate-change\">\n",
            "            Climate change\n",
            "           </a>\n",
            "          </li>\n",
            "          <li class=\"\" role=\"treeitem\">\n",
            "           <a href=\"/environment/sustainability\" id=\"section-environment-sustainability\">\n",
            "            Sustainability\n",
            "           </a>\n",
            "          </li>\n",
            "          <li class=\"\" role=\"treeitem\">\n",
            "           <a href=\"/environment/weather\" id=\"section-environment-weather\">\n",
            "            Weather\n",
            "           </a>\n",
            "          </li>\n",
            "         </ul>\n",
            "        </li>\n",
            "        <li aria-expanded=\"false\" class=\"_3kQ2X\" role=\"treeitem\">\n",
            "         <a href=\"/technology\" id=\"section-technology\">\n",
            "          Technology\n",
            "         </a>\n",
            "         <button aria-controls=\"subsection-technology\" aria-expanded=\"false\" class=\"\">\n",
            "          <span class=\"_1KXcO\">\n",
            "           Show subsections\n",
            "          </span>\n",
            "          <span class=\"_35a30\">\n",
            "           <svg aria-hidden=\"true\" class=\"QMY9O\" focusable=\"false\" height=\"1em\" width=\"1em\">\n",
            "            <use xlink:href=\"#icon-arrowsdown\">\n",
            "            </use>\n",
            "           </svg>\n",
            "          </span>\n",
            "         </button>\n",
            "         <ul aria-hidden=\"true\" aria-labelledby=\"section-technology\" class=\"_3Nydp\" id=\"subsection-technology\" role=\"group\">\n",
            "          <li class=\"\" role=\"treeitem\">\n",
            "           <a href=\"/technology/video-games\" id=\"section-technology-video-games\">\n",
            "            Video games\n",
            "           </a>\n",
            "          </li>\n",
            "          <li class=\"\" role=\"treeitem\">\n",
            "           <a href=\"/topic/home-technology-hqq\" id=\"section-technology-home-tech\">\n",
            "            Home tech\n",
            "           </a>\n",
            "          </li>\n",
            "          <li class=\"\" role=\"treeitem\">\n",
            "           <a href=\"/topic/phones-5zt\" id=\"section-technology-phones\">\n",
            "            Phones\n",
            "           </a>\n",
            "          </li>\n",
            "          <li class=\"\" role=\"treeitem\">\n",
            "           <a href=\"/topic/gadgets-hqp\" id=\"section-technology-gadgets\">\n",
            "            Gadgets\n",
            "           </a>\n",
            "          </li>\n",
            "         </ul>\n",
            "        </li>\n",
            "        <li class=\"\" role=\"treeitem\">\n",
            "         <a href=\"http://www.drive.com.au\">\n",
            "          Drive\n",
            "         </a>\n",
            "        </li>\n",
            "        <li class=\"\" role=\"treeitem\">\n",
            "         <a href=\"http://www.traveller.com.au\">\n",
            "          Traveller\n",
            "         </a>\n",
            "        </li>\n",
            "        <li class=\"\" role=\"treeitem\">\n",
            "         <a href=\"http://www.goodfood.com.au\">\n",
            "          Good Food\n",
            "         </a>\n",
            "        </li>\n",
            "       </ul>\n",
            "       <ul class=\"Uffnp _375G7\" data-testid=\"site-menu-section-link-group\" role=\"tree\">\n",
            "        <li>\n",
            "         <h4>\n",
            "          Premium\n",
            "         </h4>\n",
            "         <a class=\"_3zoNz _3_hLE _252xb\" data-ffx-event-action=\"cta click\" data-ffx-event-attribute=\"menu\" data-ffx-event-category=\"component\" data-ffx-event-label=\"subscribe\" data-ffx-hittype=\"event\" data-testid=\"subscribe-upgrade\" href=\"https://subscribe.smh.com.au/?promote_channel=HI_IL_GNL&amp;utm_source=PremiumIndex&amp;utm_medium=HouseInventory&amp;utm_campaign=General\">\n",
            "          Subscribe\n",
            "         </a>\n",
            "        </li>\n",
            "        <li role=\"treeitem\">\n",
            "         <a data-ffx-event-action=\"cta click\" data-ffx-event-attribute=\"menu\" data-ffx-event-category=\"component\" data-ffx-event-label=\"todays paper\" data-ffx-hittype=\"event\" data-testid=\"primary-navigation-todays-paper\" href=\"/todays-newspaper\" id=\"section-today’s-paper\">\n",
            "          <svg aria-hidden=\"true\" class=\"QMY9O\" focusable=\"false\" height=\"24px\" width=\"24px\">\n",
            "           <use xlink:href=\"#icon-menu-todays-paper\">\n",
            "           </use>\n",
            "          </svg>\n",
            "          Today’s Paper\n",
            "         </a>\n",
            "        </li>\n",
            "        <li role=\"treeitem\">\n",
            "         <a data-ffx-event-action=\"cta click\" data-ffx-event-attribute=\"menu\" data-ffx-event-category=\"component\" data-ffx-event-label=\"puzzles\" data-ffx-hittype=\"event\" href=\"/puzzles\" id=\"section-daily-crosswords-&amp;-sudoku\">\n",
            "          <svg aria-hidden=\"true\" class=\"QMY9O\" focusable=\"false\" height=\"24px\" width=\"24px\">\n",
            "           <use xlink:href=\"#icon-menu-crossword\">\n",
            "           </use>\n",
            "          </svg>\n",
            "          Daily Crosswords &amp; Sudoku\n",
            "         </a>\n",
            "        </li>\n",
            "       </ul>\n",
            "       <ul class=\"Uffnp undefined\" data-testid=\"site-menu-section-link-group\" role=\"tree\">\n",
            "        <li>\n",
            "         <h4>\n",
            "          More\n",
            "         </h4>\n",
            "        </li>\n",
            "        <li role=\"treeitem\">\n",
            "         <a href=\"/topic/smh-letters-1r7\" id=\"section-letters\">\n",
            "          Letters\n",
            "         </a>\n",
            "        </li>\n",
            "        <li role=\"treeitem\">\n",
            "         <a href=\"/topic/smh-editorial-1r6\" id=\"section-editorial\">\n",
            "          Editorial\n",
            "         </a>\n",
            "        </li>\n",
            "        <li role=\"treeitem\">\n",
            "         <a href=\"/topic/column-8-1r4\" id=\"section-column-8\">\n",
            "          Column 8\n",
            "         </a>\n",
            "        </li>\n",
            "        <li role=\"treeitem\">\n",
            "         <a href=\"/topic/obituaries-1qv\" id=\"section-obituaries\">\n",
            "          Obituaries\n",
            "         </a>\n",
            "        </li>\n",
            "        <li role=\"treeitem\">\n",
            "         <a href=\"/topic/explainers-1lz9\" id=\"section-explainers\">\n",
            "          Explainers\n",
            "         </a>\n",
            "        </li>\n",
            "        <li role=\"treeitem\">\n",
            "         <a href=\"/topic/quizzes-1qx\" id=\"section-quizzes\">\n",
            "          Quizzes\n",
            "         </a>\n",
            "        </li>\n",
            "        <li role=\"treeitem\">\n",
            "         <a href=\"https://weather.smh.com.au/local-forecast/nsw/sydney\" id=\"section-weather\">\n",
            "          Weather\n",
            "         </a>\n",
            "        </li>\n",
            "       </ul>\n",
            "      </div>\n",
            "     </nav>\n",
            "     <nav aria-hidden=\"true\" aria-labelledby=\"navNetwork\" class=\"_2PKwb\" data-testid=\"site-menu-network-nav\" role=\"tabpanel\">\n",
            "      <div class=\"_2fv33\">\n",
            "       <ul class=\"_32aAr\" data-testid=\"site-menu-network-link-group\">\n",
            "        <li>\n",
            "         <a href=\"https://www.smh.com.au\">\n",
            "          The Sydney Morning Herald\n",
            "         </a>\n",
            "        </li>\n",
            "        <li>\n",
            "         <a href=\"https://www.theage.com.au\">\n",
            "          The Age\n",
            "         </a>\n",
            "        </li>\n",
            "        <li>\n",
            "         <a href=\"https://www.brisbanetimes.com.au\">\n",
            "          Brisbane Times\n",
            "         </a>\n",
            "        </li>\n",
            "        <li>\n",
            "         <a href=\"https://www.watoday.com.au\">\n",
            "          WAtoday\n",
            "         </a>\n",
            "        </li>\n",
            "        <li>\n",
            "         <a href=\"https://www.afr.com\">\n",
            "          The Australian Financial Review\n",
            "         </a>\n",
            "        </li>\n",
            "       </ul>\n",
            "       <ul class=\"_32aAr\" data-testid=\"site-menu-network-link-group\">\n",
            "        <li>\n",
            "         <a href=\"https://www.domain.com.au\">\n",
            "          Domain\n",
            "         </a>\n",
            "        </li>\n",
            "        <li>\n",
            "         <a href=\"https://www.commercialrealestate.com.au\">\n",
            "          Commercial Real Estate\n",
            "         </a>\n",
            "        </li>\n",
            "        <li>\n",
            "         <a href=\"https://www.drive.com.au\">\n",
            "          Drive\n",
            "         </a>\n",
            "        </li>\n",
            "        <li>\n",
            "         <a href=\"https://www.goodfood.com.au\">\n",
            "          Good Food\n",
            "         </a>\n",
            "        </li>\n",
            "        <li>\n",
            "         <a href=\"http://www.traveller.com.au\">\n",
            "          Traveller\n",
            "         </a>\n",
            "        </li>\n",
            "       </ul>\n",
            "      </div>\n",
            "     </nav>\n",
            "    </div>\n",
            "   </div>\n",
            "   <main id=\"content\">\n",
            "    <div class=\"_1JART _3ECgH _2TEVJ OK924 KNwOD\">\n",
            "     <div class=\"_34z61 _2iGMx\">\n",
            "      <div class=\"adWrapper _2UMq- noPrint\" data-testid=\"ad\">\n",
            "       <small class=\"_3ToRr\">\n",
            "        Advertisement\n",
            "       </small>\n",
            "       <div class=\"_2KSwt\" id=\"adspot-970x250_728x90-pos1\">\n",
            "       </div>\n",
            "      </div>\n",
            "     </div>\n",
            "     <article class=\"_2yRSr\">\n",
            "      <header class=\"_16lwx _2-5AL\">\n",
            "       <div class=\"_2JwnJ\">\n",
            "        <div class=\"JwYux\">\n",
            "         <div class=\"_2YAR2 _1dnWn\">\n",
            "          <ul>\n",
            "           <li class=\"_3wukJ\" data-testid=\"category\">\n",
            "            <a href=\"/national\" title=\"National\">\n",
            "             National\n",
            "            </a>\n",
            "           </li>\n",
            "           <li class=\"_3wukJ\" data-testid=\"category\">\n",
            "            <a href=\"/national/nsw\" title=\"NSW\">\n",
            "             NSW\n",
            "            </a>\n",
            "           </li>\n",
            "           <li class=\"_1pMb9\" data-testid=\"tag-name\">\n",
            "            <a href=\"/coronavirus-pandemic\" title=\"Coronavirus pandemic\">\n",
            "             Coronavirus pandemic\n",
            "            </a>\n",
            "           </li>\n",
            "          </ul>\n",
            "         </div>\n",
            "         <p class=\"CpcU1\">\n",
            "          <span>\n",
            "           This was published\n",
            "           <!-- -->\n",
            "           2\n",
            "           <!-- -->\n",
            "           <!-- -->\n",
            "           years\n",
            "           <!-- -->\n",
            "           ago\n",
            "          </span>\n",
            "         </p>\n",
            "         <h1 data-testid=\"headline\" itemprop=\"headline\">\n",
            "          University of Sydney to move fully online while Macquarie cancels classes\n",
            "         </h1>\n",
            "        </div>\n",
            "       </div>\n",
            "      </header>\n",
            "      <section class=\"_3OhA4\">\n",
            "       <div class=\"_2h56q\">\n",
            "        <div class=\"_3J1te\">\n",
            "         <h5 class=\"_3-xPQ\">\n",
            "          By\n",
            "          <span>\n",
            "           <span data-testid=\"byline\">\n",
            "            <a href=\"/by/natassia-chrysanthos-h17jwj\" title=\"Articles by Natassia Chrysanthos\">\n",
            "             Natassia Chrysanthos\n",
            "            </a>\n",
            "           </span>\n",
            "           and\n",
            "           <span data-testid=\"byline\">\n",
            "            <a href=\"/by/anna-patty-hvebs\" title=\"Articles by Anna Patty\">\n",
            "             Anna Patty\n",
            "            </a>\n",
            "           </span>\n",
            "          </span>\n",
            "         </h5>\n",
            "         <div class=\"_3xKNx\">\n",
            "          <span class=\"_1IjU5\">\n",
            "           Updated\n",
            "          </span>\n",
            "          <span class=\"_2xetH\">\n",
            "           <time class=\"_2_zR-\" data-testid=\"datetime\" datetime=\"2020-03-17T18:07:15+11:00\">\n",
            "            March 17, 2020 — 6.07pm\n",
            "           </time>\n",
            "          </span>\n",
            "          <span class=\"_2tV7D\" hidden=\"\">\n",
            "           first published\n",
            "           <!-- -->\n",
            "           at\n",
            "           <time class=\"_2_zR-\" data-testid=\"datetime\" datetime=\"2020-03-17T11:38:26+11:00\">\n",
            "            11.38am\n",
            "           </time>\n",
            "          </span>\n",
            "         </div>\n",
            "        </div>\n",
            "       </div>\n",
            "       <div class=\"_2CSKo noPrint\">\n",
            "        <div class=\"_1KqZ_\">\n",
            "         <div class=\"hLTvJ\">\n",
            "          <button aria-checked=\"false\" aria-describedby=\"saveTooltip\" aria-label=\"Save article to read later\" class=\"_31ZN0\" role=\"switch\" type=\"button\">\n",
            "           <svg aria-hidden=\"true\" class=\"QMY9O _11R7m\" focusable=\"false\" height=\"1em\" width=\"1em\">\n",
            "            <use xlink:href=\"#icon-save\">\n",
            "            </use>\n",
            "           </svg>\n",
            "           <span class=\"_3-fU6\">\n",
            "            Save\n",
            "           </span>\n",
            "          </button>\n",
            "          <div aria-hidden=\"true\" class=\"_1lwFz uXbxr\" id=\"saveTooltip\" role=\"tooltip\">\n",
            "           <button>\n",
            "            Log in\n",
            "           </button>\n",
            "           ,\n",
            "           <!-- -->\n",
            "           <a data-testid=\"login-register\" href=\"https://smh.myfairfax.com.au/channel/zHE9EWDHf1XPuz3Phk0YIg/members/signups/new?callback_uri=\">\n",
            "            register\n",
            "           </a>\n",
            "           <!-- -->\n",
            "           or\n",
            "           <a href=\"https://subscribe.smh.com.au/?promote_channel=HI_HL_GNL\">\n",
            "            subscribe\n",
            "           </a>\n",
            "           <!-- -->\n",
            "           to save articles for later.\n",
            "          </div>\n",
            "         </div>\n",
            "         <div class=\"_2Cn91\">\n",
            "          <div class=\"_2KkCz\">\n",
            "           <button class=\"_30X7v _2-NUy\" data-ffx-event-action=\"cta click\" data-ffx-event-category=\"component\" data-ffx-event-label=\"font size normal\" data-ffx-event-value=\"0\" data-ffx-hittype=\"event\">\n",
            "            Normal text size\n",
            "           </button>\n",
            "           <button class=\"_3Rq_0\" data-ffx-event-action=\"cta click\" data-ffx-event-category=\"component\" data-ffx-event-label=\"font size large\" data-ffx-event-value=\"0\" data-ffx-hittype=\"event\">\n",
            "            Larger text size\n",
            "           </button>\n",
            "           <button class=\"_3VkdU\" data-ffx-event-action=\"cta click\" data-ffx-event-category=\"component\" data-ffx-event-label=\"font size extra large\" data-ffx-event-value=\"0\" data-ffx-hittype=\"event\">\n",
            "            Very large text size\n",
            "           </button>\n",
            "          </div>\n",
            "         </div>\n",
            "        </div>\n",
            "       </div>\n",
            "      </section>\n",
            "      <section class=\"_1Rw6X\" data-testid=\"article-body-top\">\n",
            "       <aside class=\"_2GZaf\">\n",
            "        <div class=\"_3sCHz\">\n",
            "         <div class=\"adWrapper _2UMq- noPrint\" data-testid=\"ad\">\n",
            "          <small class=\"_3ToRr\">\n",
            "           Advertisement\n",
            "          </small>\n",
            "          <div class=\"\" id=\"adspot-300x600_300x250_160x600-pos2\">\n",
            "          </div>\n",
            "         </div>\n",
            "        </div>\n",
            "       </aside>\n",
            "       <div class=\"_1ysFk\" data-testid=\"article-body\">\n",
            "        <div>\n",
            "         <div class=\"_1665V _2q-Vk\" data-testid=\"body-content\">\n",
            "          <p>\n",
            "           The University of Sydney will suspend all face-to-face teaching from Monday and move fully online while Macquarie University has cancelled classes altogether in order to make the digital transition, revealing one of its students tested positive for COVID-19.\n",
            "          </p>\n",
            "          <p>\n",
            "           The University of Sydney's 10,000 staff members have been encouraged to work remotely to slow the spread of coronavirus, but the campus Wi-Fi network and facilities will remain open with enhanced cleaning protocols and social distancing measures.\n",
            "          </p>\n",
            "          <figure class=\"_3ujPS _3x3-4 RMwbY _2XZQH\" data-testid=\"image\">\n",
            "           <div aria-label=\"enlarge image\" class=\"_1lwW_\" role=\"button\" tabindex=\"0\">\n",
            "            <picture class=\"\">\n",
            "             <source height=\"534\" media=\"(min-width: 1024px)\" srcset=\"https://static.ffx.io/images/$zoom_0.378%2C$multiply_1.0582%2C$ratio_1.5%2C$width_756%2C$x_0%2C$y_0/t_crop_custom/q_86%2Cf_auto/a55013287ad8bff02b821a4b1e189316a0ca3580, https://static.ffx.io/images/$zoom_0.378%2C$multiply_2.1164%2C$ratio_1.5%2C$width_756%2C$x_0%2C$y_0/t_crop_custom/q_62%2Cf_auto/a55013287ad8bff02b821a4b1e189316a0ca3580 2x\" width=\"800\"/>\n",
            "             <source height=\"486\" media=\"(min-width: 768px)\" srcset=\"https://static.ffx.io/images/$zoom_0.378%2C$multiply_0.963%2C$ratio_1.5%2C$width_756%2C$x_0%2C$y_0/t_crop_custom/q_86%2Cf_auto/a55013287ad8bff02b821a4b1e189316a0ca3580, https://static.ffx.io/images/$zoom_0.378%2C$multiply_1.9259%2C$ratio_1.5%2C$width_756%2C$x_0%2C$y_0/t_crop_custom/q_62%2Cf_auto/a55013287ad8bff02b821a4b1e189316a0ca3580 2x\" width=\"728\"/>\n",
            "             <img alt=\"Sydney University will move fully online from next week.\" height=\"224\" src=\"https://static.ffx.io/images/$zoom_0.378%2C$multiply_0.4431%2C$ratio_1.5%2C$width_756%2C$x_0%2C$y_0/t_crop_custom/q_86%2Cf_auto/a55013287ad8bff02b821a4b1e189316a0ca3580\" srcset=\"https://static.ffx.io/images/$zoom_0.378%2C$multiply_0.4431%2C$ratio_1.5%2C$width_756%2C$x_0%2C$y_0/t_crop_custom/q_86%2Cf_auto/a55013287ad8bff02b821a4b1e189316a0ca3580, https://static.ffx.io/images/$zoom_0.378%2C$multiply_0.8862%2C$ratio_1.5%2C$width_756%2C$x_0%2C$y_0/t_crop_custom/q_62%2Cf_auto/a55013287ad8bff02b821a4b1e189316a0ca3580 2x\" width=\"335\"/>\n",
            "            </picture>\n",
            "           </div>\n",
            "           <figcaption class=\"_3CZmy\">\n",
            "            <p>\n",
            "             <span class=\"_2Li3P\">\n",
            "              Sydney University will move fully online from next week.\n",
            "             </span>\n",
            "             <cite class=\"ojLwA\">\n",
            "              <span class=\"_30ROC\">\n",
            "               Credit:\n",
            "              </span>\n",
            "              Louise Kennerley\n",
            "             </cite>\n",
            "            </p>\n",
            "           </figcaption>\n",
            "          </figure>\n",
            "          <p>\n",
            "           Courses with labs and practical components will be adapted for online or suspended until later in the semester while clinical placements for health students will go ahead under strict guidelines, Vice-Chancellor Michael Spence wrote to staff on Tuesday afternoon.\n",
            "          </p>\n",
            "          <p>\n",
            "           \"We are anticipating this will be for the whole of semester and we’re planning on that,\" Dr Spence told the\n",
            "           <em>\n",
            "            Herald.\n",
            "           </em>\n",
            "           He said some business school courses had been designed from scratch, while teachers would adapt other courses throughout semester based on student feedback.\n",
            "          </p>\n",
            "         </div>\n",
            "         <div class=\"_1lC_G\">\n",
            "         </div>\n",
            "         <div class=\"_1665V _2q-Vk\" data-testid=\"body-content\">\n",
            "          <p>\n",
            "           \"We’ve put a lot of effort and thought into how to do it. I think this is a tremendous opportunity. This could be an interesting pedagogical experiment,\" he said.\n",
            "          </p>\n",
            "          <p>\n",
            "           The university\n",
            "           <a href=\"/link/follow-20170101-p546ef\">\n",
            "            has already projected $200 million losses due to coronavirus\n",
            "           </a>\n",
            "           . Dr Spence said the expense of adapting courses, bolstering IT systems and student support would \"cost us more overall\" than regular teaching.\n",
            "          </p>\n",
            "          <p>\n",
            "           \"At the moment we have to spend money to put education online to make sure our students' experience is uninterrupted as possible. There has been an overwhelming response from students that [is what they want].\"\n",
            "          </p>\n",
            "          <p>\n",
            "           Universities Australia deputy chief executive officer Anne-Marie Lansdown said 39 universities were providing online learning where possible amid the coronavirus pandemic. She said the challenge was increasing the amount of content that can be put online in a very short period of time.\n",
            "          </p>\n",
            "          <p>\n",
            "           \"For some courses it will be much harder – especially those with significant practical or technical requirements,\" Ms Lansdown said. \"In the case of practical-based learning, where online may not be possible, universities are offering maximum flexibility, including delaying or deferring those components.\"\n",
            "          </p>\n",
            "         </div>\n",
            "        </div>\n",
            "       </div>\n",
            "      </section>\n",
            "      <div class=\"_1FVfK\">\n",
            "       <div class=\"adWrapper _2UMq- noPrint\" data-testid=\"ad\">\n",
            "        <small class=\"_3ToRr\">\n",
            "         Advertisement\n",
            "        </small>\n",
            "        <div class=\"\" id=\"adspot-970x250_728x90-pos3\">\n",
            "        </div>\n",
            "       </div>\n",
            "      </div>\n",
            "      <section class=\"vPaWe\" data-testid=\"article-body-bottom\">\n",
            "       <div class=\"_1ysFk\">\n",
            "        <div>\n",
            "         <div class=\"_1665V _2q-Vk\" data-testid=\"body-content\">\n",
            "          <div class=\"ymInT _3uJpn _3by58 noPrint\">\n",
            "           <span class=\"_2wzgv D5idv _3lVFK\">\n",
            "            <span class=\"_29Qt8\">\n",
            "            </span>\n",
            "            <span class=\"_3qqDc\">\n",
            "             Loading\n",
            "            </span>\n",
            "           </span>\n",
            "          </div>\n",
            "          <p>\n",
            "           Macquarie Vice-Chancellor Professor Bruce Dowton said in an email to staff on Tuesday morning that face-to-face and online teaching will be suspended for 12 days from Wednesday while the university transitions to online delivery of lectures and seminars.\n",
            "          </p>\n",
            "          <p>\n",
            "           \"It will also allow us to redesign campus-based delivery of our units to modes that support social distancing and remote support,\" he said.\n",
            "          </p>\n",
            "          <p>\n",
            "           Hours later, Macquarie confirmed a student had tested positive for COVID-19 the day before, and that several locations on campus had been cleaned overnight.\n",
            "          </p>\n",
            "          <p>\n",
            "           \"The current advice is that the rest of campus can continue to operate as normal after the completion of intensive cleaning operations and in line with ... moving to increase online delivery of educational programs,\" a spokesperson said.\n",
            "          </p>\n",
            "         </div>\n",
            "         <div class=\"_1lC_G\">\n",
            "         </div>\n",
            "         <div class=\"_1665V _2q-Vk\" data-testid=\"body-content\">\n",
            "          <p>\n",
            "           But students were concerned they had not been told where the infected student had been on campus and whether some needed to self-isolate.\n",
            "          </p>\n",
            "          <p>\n",
            "           \"Many of the students are shocked that we could be left in the dark and that the university has not been able to make decisions for weeks about how to handle the virus situation,\" one student, who requested anonymity, said.\n",
            "          </p>\n",
            "          <p>\n",
            "           The surrounding area of Macquarie Park was\n",
            "           <a href=\"/link/follow-20170101-p546lf\">\n",
            "            the first hotspot for coronavirus community transmission in Sydney\n",
            "           </a>\n",
            "           . Macquarie's mid-semester Easter break, due to take place between April 13-26, will now be a normal teaching period. Staff have been encouraged to work from home and non-essential events will been cancelled.\n",
            "          </p>\n",
            "          <p>\n",
            "           The University of NSW on Tuesday confirmed a third student tested positive for COVID-19 and had exhibited mild symptoms while in a three-hour evening science class last week.\n",
            "          </p>\n",
            "          <p>\n",
            "           UNSW is\n",
            "           <a href=\"/link/follow-20170101-p54ag0\">\n",
            "            making a quick transition to online learning\n",
            "           </a>\n",
            "           and its law school, which does not routinely record its lectures, will cease face-to-face lessons from Wednesday to move all classes online.\n",
            "          </p>\n",
            "         </div>\n",
            "         <div class=\"_1lC_G\">\n",
            "         </div>\n",
            "         <div class=\"_1665V _2q-Vk\" data-testid=\"body-content\">\n",
            "          <p>\n",
            "           \"We are currently working to finalise details around classes and, down the track, assessment... There will be some changes to the way that courses are delivered, including to involve more online activities as a replacement for classroom face-to-face discussions. Those are likely to evolve over the term,\" acting head of the law school Melanie Schwartz wrote to students on Monday.\n",
            "           <em>\n",
            "            <strong>\n",
            "            </strong>\n",
            "           </em>\n",
            "          </p>\n",
            "          <h3>\n",
            "           Unis try to avoid infection in share accommodation\n",
            "          </h3>\n",
            "          <p>\n",
            "           Universities around the country are also seeking advice from public health experts on how to minimise the spread of COVID-19 among students living in campus accommodation and other share housing.\n",
            "          </p>\n",
            "          <p>\n",
            "           The Australian National University said many students congregated in residential halls \"so across our student residences we’re implementing considered social distancing measures for our dining halls, kitchens and self-catering\".\n",
            "          </p>\n",
            "          <p>\n",
            "           \"We’ve also reformatted social and academic support events and activities so that they have smaller numbers (25 people or less) and in some cases, these will be offered as online connections – we’re being creative to ensure pastoral care and community wellbeing are maintained,\" a spokesperson said.\n",
            "          </p>\n",
            "         </div>\n",
            "         <div class=\"_1lC_G\">\n",
            "         </div>\n",
            "         <div class=\"_1665V _2q-Vk\" data-testid=\"body-content\">\n",
            "          <div class=\"ymInT _3uJpn _3by58 noPrint\">\n",
            "           <span class=\"_2wzgv D5idv _3lVFK\">\n",
            "            <span class=\"_29Qt8\">\n",
            "            </span>\n",
            "            <span class=\"_3qqDc\">\n",
            "             Loading\n",
            "            </span>\n",
            "           </span>\n",
            "          </div>\n",
            "          <p>\n",
            "           University of Sydney-owned student accommodation and residential colleges have also started additional cleaning and sanitation of common areas. Students are being provided with hand sanitisers, tissues and face masks and advised to keep a physical distance from each other. Housing\n",
            "           <a href=\"/link/follow-20170101-p5479m\">\n",
            "            is being provided\n",
            "           </a>\n",
            "           to students that live in university-owned accommodation who need to self isolate.\n",
            "          </p>\n",
            "          <p>\n",
            "           Dining times have also been extended to allow students to stagger their meals and restrict access to communal utensils.\n",
            "          </p>\n",
            "          <p>\n",
            "           The University of NSW has asked students who need to self-isolate to avoid communal areas and avoid sharing utensils and tea towels. They have been advised to use separate bathroom and kitchen facilities and to regularly clean shared facilities. They should also wear a surgical mask while in the same room with any other people.\n",
            "          </p>\n",
            "         </div>\n",
            "        </div>\n",
            "        <div class=\"noPrint\">\n",
            "         <div>\n",
            "         </div>\n",
            "         <div>\n",
            "         </div>\n",
            "        </div>\n",
            "        <div class=\"_22FRK _2spQv\">\n",
            "         <section class=\"aKWhn noPrint\" id=\"endOfArticle\">\n",
            "          <div class=\"dLGbc\">\n",
            "           <div class=\"hLTvJ\">\n",
            "            <button aria-checked=\"false\" aria-describedby=\"saveTooltip\" aria-label=\"Save article to read later\" class=\"_31ZN0\" role=\"switch\" type=\"button\">\n",
            "             <svg aria-hidden=\"true\" class=\"QMY9O _11R7m\" focusable=\"false\" height=\"1em\" width=\"1em\">\n",
            "              <use xlink:href=\"#icon-save\">\n",
            "              </use>\n",
            "             </svg>\n",
            "             <span class=\"_3-fU6\">\n",
            "              Save\n",
            "             </span>\n",
            "            </button>\n",
            "            <div aria-hidden=\"true\" class=\"_1lwFz uXbxr\" id=\"saveTooltip\" role=\"tooltip\">\n",
            "             <button>\n",
            "              Log in\n",
            "             </button>\n",
            "             ,\n",
            "             <!-- -->\n",
            "             <a data-testid=\"login-register\" href=\"https://smh.myfairfax.com.au/channel/zHE9EWDHf1XPuz3Phk0YIg/members/signups/new?callback_uri=\">\n",
            "              register\n",
            "             </a>\n",
            "             <!-- -->\n",
            "             or\n",
            "             <a href=\"https://subscribe.smh.com.au/?promote_channel=HI_HL_GNL\">\n",
            "              subscribe\n",
            "             </a>\n",
            "             <!-- -->\n",
            "             to save articles for later.\n",
            "            </div>\n",
            "           </div>\n",
            "           <div class=\"_8Cum8\">\n",
            "            <a class=\"_4oUp_\" href=\"http://rightsportal.copyright.com.au/pages/republicationpage.aspx?author=Natassia%20Chrysanthos%20and%20Anna%20Patty&amp;publication=SMH&amp;publicationdate=2020-03-17T07%3A07%3A15Z&amp;publisher=fxj&amp;title=University%20of%20Sydney%20to%20move%20fully%20online%20while%20Macquarie%20cancels%20classes&amp;url=https%3A%2F%2Fwww.smh.com.au%2Fnational%2Fnsw%2Fmacquarie-uni-suspends-teaching-for-10-days-to-move-learning-online-20200317-p54avs.html\">\n",
            "             License this article\n",
            "            </a>\n",
            "           </div>\n",
            "           <div class=\"ZFgNO\">\n",
            "            <ul class=\"_3Nz34\">\n",
            "             <li>\n",
            "              <a class=\"_2Tz1_\" href=\"/coronavirus-pandemic\">\n",
            "               Coronavirus pandemic\n",
            "              </a>\n",
            "             </li>\n",
            "             <li>\n",
            "              <a class=\"_2Tz1_\" href=\"/education\">\n",
            "               Education\n",
            "              </a>\n",
            "             </li>\n",
            "             <li>\n",
            "              <a class=\"_2Tz1_\" href=\"/topic/university-63k\">\n",
            "               University\n",
            "              </a>\n",
            "             </li>\n",
            "            </ul>\n",
            "           </div>\n",
            "          </div>\n",
            "         </section>\n",
            "         <div class=\"_2Cg_3\">\n",
            "          <div class=\"iQMz1\" hidden=\"\">\n",
            "           <div class=\"_1Oml5\">\n",
            "            <a class=\"_3NFLJ\" href=\"/by/natassia-chrysanthos-h17jwj\" title=\"Articles by Natassia Chrysanthos\">\n",
            "             Natassia Chrysanthos\n",
            "            </a>\n",
            "            is the urban culture reporter for The Sydney Morning Herald. She was formerly its education reporter.\n",
            "            <span class=\"_11p0O\">\n",
            "             Connect via\n",
            "             <a href=\"//twitter.com/natassiazc?lang=en\" rel=\"noopener noreferrer\" target=\"_blank\">\n",
            "              Twitter\n",
            "             </a>\n",
            "             or\n",
            "             <a href=\"mailto:n.chrysanthos@smh.com.au\">\n",
            "              email\n",
            "             </a>\n",
            "             .\n",
            "            </span>\n",
            "           </div>\n",
            "          </div>\n",
            "          <div class=\"iQMz1\" hidden=\"\">\n",
            "           <div class=\"_1Oml5\">\n",
            "            <a class=\"_3NFLJ\" href=\"/by/anna-patty-hvebs\" title=\"Articles by Anna Patty\">\n",
            "             Anna Patty\n",
            "            </a>\n",
            "            is a Senior Writer for The Sydney Morning Herald. She is a former Workplace Editor, Education Editor, State Political Reporter and Health Reporter.\n",
            "            <span class=\"_11p0O\">\n",
            "             Connect via\n",
            "             <a href=\"//twitter.com/annapattysmh?lang=en\" rel=\"noopener noreferrer\" target=\"_blank\">\n",
            "              Twitter\n",
            "             </a>\n",
            "             ,\n",
            "             <a href=\"//www.facebook.com/Anna-Patty-1480824402179729\" rel=\"noopener noreferrer\" target=\"_blank\">\n",
            "              Facebook\n",
            "             </a>\n",
            "             or\n",
            "             <a href=\"mailto:apatty@theage.com.au\">\n",
            "              email\n",
            "             </a>\n",
            "             .\n",
            "            </span>\n",
            "           </div>\n",
            "          </div>\n",
            "         </div>\n",
            "         <div class=\"noPrint\">\n",
            "          <section aria-busy=\"true\" aria-live=\"polite\" class=\"_2zaYr n422E\" style=\"height:380px\">\n",
            "           <header class=\"_2qhpu\">\n",
            "            <h2 class=\"_2qhpu\">\n",
            "             Most Viewed in National\n",
            "            </h2>\n",
            "           </header>\n",
            "           <div class=\"_29X_Z\">\n",
            "            <span class=\"_2wzgv D5idv _3lVFK\">\n",
            "             <span class=\"_29Qt8\">\n",
            "             </span>\n",
            "             <span class=\"_3qqDc\">\n",
            "              Loading\n",
            "             </span>\n",
            "            </span>\n",
            "           </div>\n",
            "          </section>\n",
            "         </div>\n",
            "        </div>\n",
            "       </div>\n",
            "       <aside class=\"_1ki1P noPrint\">\n",
            "        <div class=\"_2MFEO\">\n",
            "         <div class=\"_3DvAw noPrint\" id=\"articlePartnerStories\">\n",
            "          <h3>\n",
            "           From our partners\n",
            "          </h3>\n",
            "          <div class=\"adWrapper _2lnjx\">\n",
            "           <div class=\"_2Tsxq\" data-testid=\"sponsored-story-tile\" id=\"adspot-N-6x2-pos1\">\n",
            "            <div class=\"_2bMG3\">\n",
            "             <div class=\"_1vxqb\">\n",
            "              <svg aria-labelledby=\"Loading 3rd party ad content\" ltr=\"true\" preserveaspectratio=\"none\" role=\"img\" viewbox=\"0 0 96 96\">\n",
            "               <title>\n",
            "                Loading 3rd party ad content\n",
            "               </title>\n",
            "               <rect clip-path=\"url(#nqq000yw8l)\" height=\"96\" style=\"fill:url(#3uu068td0ue)\" width=\"96\" x=\"0\" y=\"0\">\n",
            "               </rect>\n",
            "               <defs>\n",
            "                <clippath id=\"nqq000yw8l\">\n",
            "                 <rect height=\"96\" rx=\"0\" ry=\"0\" width=\"96\" x=\"0\" y=\"4\">\n",
            "                 </rect>\n",
            "                </clippath>\n",
            "                <lineargradient id=\"3uu068td0ue\">\n",
            "                 <stop offset=\"0%\" stop-color=\"#f6f6f6\" stop-opacity=\"1\">\n",
            "                  <animate attributename=\"offset\" dur=\"2s\" keytimes=\"0; 0.25; 1\" repeatcount=\"indefinite\" values=\"-2; -2; 1\">\n",
            "                  </animate>\n",
            "                 </stop>\n",
            "                 <stop offset=\"50%\" stop-color=\"#f0f0f0\" stop-opacity=\"1\">\n",
            "                  <animate attributename=\"offset\" dur=\"2s\" keytimes=\"0; 0.25; 1\" repeatcount=\"indefinite\" values=\"-1; -1; 2\">\n",
            "                  </animate>\n",
            "                 </stop>\n",
            "                 <stop offset=\"100%\" stop-color=\"#f6f6f6\" stop-opacity=\"1\">\n",
            "                  <animate attributename=\"offset\" dur=\"2s\" keytimes=\"0; 0.25; 1\" repeatcount=\"indefinite\" values=\"0; 0; 3\">\n",
            "                  </animate>\n",
            "                 </stop>\n",
            "                </lineargradient>\n",
            "               </defs>\n",
            "              </svg>\n",
            "             </div>\n",
            "             <div class=\"he87U\">\n",
            "              <svg aria-labelledby=\"Loading 3rd party ad content\" ltr=\"true\" preserveaspectratio=\"none\" role=\"img\" style=\"height:100px;width:100%\" viewbox=\"0 0 360 100\">\n",
            "               <title>\n",
            "                Loading 3rd party ad content\n",
            "               </title>\n",
            "               <rect clip-path=\"url(#1j88vhl2ftp)\" height=\"100\" style=\"fill:url(#65pgpz1a99n)\" width=\"360\" x=\"0\" y=\"0\">\n",
            "               </rect>\n",
            "               <defs>\n",
            "                <clippath id=\"1j88vhl2ftp\">\n",
            "                 <rect height=\"14\" rx=\"2\" ry=\"2\" width=\"90\" x=\"0\" y=\"4\">\n",
            "                 </rect>\n",
            "                 <rect class=\"cH9H_\" height=\"18\" rx=\"2\" ry=\"2\" width=\"90%\" x=\"0\" y=\"34\">\n",
            "                 </rect>\n",
            "                 <rect class=\"_9d-2y\" height=\"18\" rx=\"2\" ry=\"2\" width=\"80%\" x=\"0\" y=\"56\">\n",
            "                 </rect>\n",
            "                 <rect class=\"_1k_M1\" height=\"18\" rx=\"2\" ry=\"2\" width=\"70%\" x=\"0\" y=\"78\">\n",
            "                 </rect>\n",
            "                </clippath>\n",
            "                <lineargradient id=\"65pgpz1a99n\">\n",
            "                 <stop offset=\"0%\" stop-color=\"#f6f6f6\" stop-opacity=\"1\">\n",
            "                  <animate attributename=\"offset\" dur=\"2s\" keytimes=\"0; 0.25; 1\" repeatcount=\"indefinite\" values=\"-2; -2; 1\">\n",
            "                  </animate>\n",
            "                 </stop>\n",
            "                 <stop offset=\"50%\" stop-color=\"#f0f0f0\" stop-opacity=\"1\">\n",
            "                  <animate attributename=\"offset\" dur=\"2s\" keytimes=\"0; 0.25; 1\" repeatcount=\"indefinite\" values=\"-1; -1; 2\">\n",
            "                  </animate>\n",
            "                 </stop>\n",
            "                 <stop offset=\"100%\" stop-color=\"#f6f6f6\" stop-opacity=\"1\">\n",
            "                  <animate attributename=\"offset\" dur=\"2s\" keytimes=\"0; 0.25; 1\" repeatcount=\"indefinite\" values=\"0; 0; 3\">\n",
            "                  </animate>\n",
            "                 </stop>\n",
            "                </lineargradient>\n",
            "               </defs>\n",
            "              </svg>\n",
            "             </div>\n",
            "            </div>\n",
            "           </div>\n",
            "          </div>\n",
            "          <div class=\"adWrapper _2lnjx\">\n",
            "           <div class=\"_1GUN5\" data-testid=\"sponsored-story-tile\" id=\"adspot-N-6x2-pos2\">\n",
            "            <div class=\"_2bMG3\">\n",
            "             <div class=\"_1vxqb\">\n",
            "              <svg aria-labelledby=\"Loading 3rd party ad content\" ltr=\"true\" preserveaspectratio=\"none\" role=\"img\" viewbox=\"0 0 96 96\">\n",
            "               <title>\n",
            "                Loading 3rd party ad content\n",
            "               </title>\n",
            "               <rect clip-path=\"url(#qd0hbj6lfp)\" height=\"96\" style=\"fill:url(#gobivuowrzf)\" width=\"96\" x=\"0\" y=\"0\">\n",
            "               </rect>\n",
            "               <defs>\n",
            "                <clippath id=\"qd0hbj6lfp\">\n",
            "                 <rect height=\"96\" rx=\"0\" ry=\"0\" width=\"96\" x=\"0\" y=\"4\">\n",
            "                 </rect>\n",
            "                </clippath>\n",
            "                <lineargradient id=\"gobivuowrzf\">\n",
            "                 <stop offset=\"0%\" stop-color=\"#f6f6f6\" stop-opacity=\"1\">\n",
            "                  <animate attributename=\"offset\" dur=\"2s\" keytimes=\"0; 0.25; 1\" repeatcount=\"indefinite\" values=\"-2; -2; 1\">\n",
            "                  </animate>\n",
            "                 </stop>\n",
            "                 <stop offset=\"50%\" stop-color=\"#f0f0f0\" stop-opacity=\"1\">\n",
            "                  <animate attributename=\"offset\" dur=\"2s\" keytimes=\"0; 0.25; 1\" repeatcount=\"indefinite\" values=\"-1; -1; 2\">\n",
            "                  </animate>\n",
            "                 </stop>\n",
            "                 <stop offset=\"100%\" stop-color=\"#f6f6f6\" stop-opacity=\"1\">\n",
            "                  <animate attributename=\"offset\" dur=\"2s\" keytimes=\"0; 0.25; 1\" repeatcount=\"indefinite\" values=\"0; 0; 3\">\n",
            "                  </animate>\n",
            "                 </stop>\n",
            "                </lineargradient>\n",
            "               </defs>\n",
            "              </svg>\n",
            "             </div>\n",
            "             <div class=\"he87U\">\n",
            "              <svg aria-labelledby=\"Loading 3rd party ad content\" ltr=\"true\" preserveaspectratio=\"none\" role=\"img\" style=\"height:100px;width:100%\" viewbox=\"0 0 360 100\">\n",
            "               <title>\n",
            "                Loading 3rd party ad content\n",
            "               </title>\n",
            "               <rect clip-path=\"url(#jktg3vpx0j)\" height=\"100\" style=\"fill:url(#0htr980senvh)\" width=\"360\" x=\"0\" y=\"0\">\n",
            "               </rect>\n",
            "               <defs>\n",
            "                <clippath id=\"jktg3vpx0j\">\n",
            "                 <rect height=\"14\" rx=\"2\" ry=\"2\" width=\"90\" x=\"0\" y=\"4\">\n",
            "                 </rect>\n",
            "                 <rect class=\"cH9H_\" height=\"18\" rx=\"2\" ry=\"2\" width=\"90%\" x=\"0\" y=\"34\">\n",
            "                 </rect>\n",
            "                 <rect class=\"_9d-2y\" height=\"18\" rx=\"2\" ry=\"2\" width=\"80%\" x=\"0\" y=\"56\">\n",
            "                 </rect>\n",
            "                 <rect class=\"_1k_M1\" height=\"18\" rx=\"2\" ry=\"2\" width=\"70%\" x=\"0\" y=\"78\">\n",
            "                 </rect>\n",
            "                </clippath>\n",
            "                <lineargradient id=\"0htr980senvh\">\n",
            "                 <stop offset=\"0%\" stop-color=\"#f6f6f6\" stop-opacity=\"1\">\n",
            "                  <animate attributename=\"offset\" dur=\"2s\" keytimes=\"0; 0.25; 1\" repeatcount=\"indefinite\" values=\"-2; -2; 1\">\n",
            "                  </animate>\n",
            "                 </stop>\n",
            "                 <stop offset=\"50%\" stop-color=\"#f0f0f0\" stop-opacity=\"1\">\n",
            "                  <animate attributename=\"offset\" dur=\"2s\" keytimes=\"0; 0.25; 1\" repeatcount=\"indefinite\" values=\"-1; -1; 2\">\n",
            "                  </animate>\n",
            "                 </stop>\n",
            "                 <stop offset=\"100%\" stop-color=\"#f6f6f6\" stop-opacity=\"1\">\n",
            "                  <animate attributename=\"offset\" dur=\"2s\" keytimes=\"0; 0.25; 1\" repeatcount=\"indefinite\" values=\"0; 0; 3\">\n",
            "                  </animate>\n",
            "                 </stop>\n",
            "                </lineargradient>\n",
            "               </defs>\n",
            "              </svg>\n",
            "             </div>\n",
            "            </div>\n",
            "           </div>\n",
            "          </div>\n",
            "         </div>\n",
            "         <div class=\"_1R0g5\">\n",
            "          <div class=\"sticky-outer-wrapper\">\n",
            "           <div class=\"sticky-inner-wrapper\" style=\"position:relative;top:0px\">\n",
            "            <div class=\"adWrapper _2UMq- noPrint\" data-testid=\"ad\">\n",
            "             <small class=\"_3ToRr\">\n",
            "              Advertisement\n",
            "             </small>\n",
            "             <div class=\"\" id=\"adspot-300x600_300x250_160x600-pos4\">\n",
            "             </div>\n",
            "            </div>\n",
            "           </div>\n",
            "          </div>\n",
            "         </div>\n",
            "        </div>\n",
            "       </aside>\n",
            "      </section>\n",
            "     </article>\n",
            "     <div class=\"noPrint\">\n",
            "     </div>\n",
            "    </div>\n",
            "   </main>\n",
            "   <footer class=\"y77aF noPrint\" data-testid=\"footer\" id=\"footer\">\n",
            "    <div class=\"_39_V0\">\n",
            "     <div class=\"_3uPYr _2AynF\">\n",
            "      <a class=\"_2ABN- YClUs\" href=\"/\">\n",
            "       <h2>\n",
            "        The Sydney Morning Herald\n",
            "       </h2>\n",
            "      </a>\n",
            "     </div>\n",
            "     <ul class=\"_2tZpI\" data-testid=\"footer-socials\">\n",
            "      <li>\n",
            "       <a data-testid=\"footer-socials-link\" href=\"https://twitter.com/smh\">\n",
            "        <span>\n",
            "         Twitter\n",
            "        </span>\n",
            "        <svg aria-hidden=\"true\" class=\"QMY9O\" focusable=\"false\" height=\"1em\" width=\"1em\">\n",
            "         <use xlink:href=\"#icon-twitter\">\n",
            "         </use>\n",
            "        </svg>\n",
            "       </a>\n",
            "      </li>\n",
            "      <li>\n",
            "       <a data-testid=\"footer-socials-link\" href=\"http://www.facebook.com/sydneymorningherald\">\n",
            "        <span>\n",
            "         Facebook\n",
            "        </span>\n",
            "        <svg aria-hidden=\"true\" class=\"QMY9O\" focusable=\"false\" height=\"1em\" width=\"1em\">\n",
            "         <use xlink:href=\"#icon-facebook\">\n",
            "         </use>\n",
            "        </svg>\n",
            "       </a>\n",
            "      </li>\n",
            "      <li>\n",
            "       <a data-testid=\"footer-socials-link\" href=\"https://www.instagram.com/sydneymorningherald\">\n",
            "        <span>\n",
            "         Instagram\n",
            "        </span>\n",
            "        <svg aria-hidden=\"true\" class=\"QMY9O\" focusable=\"false\" height=\"1em\" width=\"1em\">\n",
            "         <use xlink:href=\"#icon-instagram\">\n",
            "         </use>\n",
            "        </svg>\n",
            "       </a>\n",
            "      </li>\n",
            "      <li>\n",
            "       <a data-testid=\"footer-socials-link\" href=\"/rssheadlines\">\n",
            "        <span>\n",
            "         RSS\n",
            "        </span>\n",
            "        <svg aria-hidden=\"true\" class=\"QMY9O\" focusable=\"false\" height=\"1em\" width=\"1em\">\n",
            "         <use xlink:href=\"#icon-rss\">\n",
            "         </use>\n",
            "        </svg>\n",
            "       </a>\n",
            "      </li>\n",
            "     </ul>\n",
            "     <section class=\"_2cb-t\">\n",
            "      <nav class=\"_3WLzB\" data-testid=\"footer-link-group\">\n",
            "       <h3 class=\"_2_Vga\">\n",
            "        <button class=\"_3amNM _17muu\">\n",
            "         <span class=\"_2g7Mb\" data-testid=\"footer-link-group-heading\">\n",
            "          Our Sites\n",
            "         </span>\n",
            "         <span class=\"_2hufO\">\n",
            "          <svg aria-hidden=\"true\" class=\"QMY9O\" focusable=\"false\" height=\"1em\" width=\"12px\">\n",
            "           <use xlink:href=\"#icon-arrowsdown\">\n",
            "           </use>\n",
            "          </svg>\n",
            "         </span>\n",
            "        </button>\n",
            "       </h3>\n",
            "       <ul aria-expanded=\"false\" class=\"_2q5mS\" role=\"region\">\n",
            "        <li>\n",
            "         <a data-testid=\"footer-link\" href=\"https://www.smh.com.au\">\n",
            "          The Sydney Morning Herald\n",
            "         </a>\n",
            "        </li>\n",
            "        <li>\n",
            "         <a data-testid=\"footer-link\" href=\"https://www.theage.com.au\">\n",
            "          The Age\n",
            "         </a>\n",
            "        </li>\n",
            "        <li>\n",
            "         <a data-testid=\"footer-link\" href=\"https://www.brisbanetimes.com.au\">\n",
            "          Brisbane Times\n",
            "         </a>\n",
            "        </li>\n",
            "        <li>\n",
            "         <a data-testid=\"footer-link\" href=\"https://www.watoday.com.au\">\n",
            "          WAtoday\n",
            "         </a>\n",
            "        </li>\n",
            "        <li>\n",
            "         <a data-testid=\"footer-link\" href=\"https://www.afr.com\">\n",
            "          The Australian Financial Review\n",
            "         </a>\n",
            "        </li>\n",
            "        <li>\n",
            "         <a data-testid=\"footer-link\" href=\"https://www.domain.com.au\">\n",
            "          Domain\n",
            "         </a>\n",
            "        </li>\n",
            "        <li>\n",
            "         <a data-testid=\"footer-link\" href=\"http://www.traveller.com.au\">\n",
            "          Traveller\n",
            "         </a>\n",
            "        </li>\n",
            "        <li>\n",
            "         <a data-testid=\"footer-link\" href=\"https://www.goodfood.com.au\">\n",
            "          Good Food\n",
            "         </a>\n",
            "        </li>\n",
            "        <li>\n",
            "         <a data-testid=\"footer-link\" href=\"https://www.drive.com.au\">\n",
            "          Drive\n",
            "         </a>\n",
            "        </li>\n",
            "       </ul>\n",
            "      </nav>\n",
            "      <nav class=\"_3WLzB\" data-testid=\"footer-link-group\">\n",
            "       <h3 class=\"_2_Vga\">\n",
            "        <button class=\"_3amNM _17muu\">\n",
            "         <span class=\"_2g7Mb\" data-testid=\"footer-link-group-heading\">\n",
            "          Classifieds\n",
            "         </span>\n",
            "         <span class=\"_2hufO\">\n",
            "          <svg aria-hidden=\"true\" class=\"QMY9O\" focusable=\"false\" height=\"1em\" width=\"12px\">\n",
            "           <use xlink:href=\"#icon-arrowsdown\">\n",
            "           </use>\n",
            "          </svg>\n",
            "         </span>\n",
            "        </button>\n",
            "       </h3>\n",
            "       <ul aria-expanded=\"false\" class=\"_2q5mS\" role=\"region\">\n",
            "        <li>\n",
            "         <a data-testid=\"footer-link\" href=\"http://tributes.smh.com.au/obituaries/smh-au/\">\n",
            "          Tributes\n",
            "         </a>\n",
            "        </li>\n",
            "        <li>\n",
            "         <a data-testid=\"footer-link\" href=\"http://celebrations.smh.com.au/celebration/smh-au/\">\n",
            "          Celebrations\n",
            "         </a>\n",
            "        </li>\n",
            "        <li>\n",
            "         <a data-testid=\"footer-link\" href=\"https://advertisers.com.au\">\n",
            "          Place your ad\n",
            "         </a>\n",
            "        </li>\n",
            "        <li>\n",
            "         <a data-testid=\"footer-link\" href=\"https://www.commercialrealestate.com.au\">\n",
            "          Commercial Real Estate\n",
            "         </a>\n",
            "        </li>\n",
            "       </ul>\n",
            "      </nav>\n",
            "      <nav class=\"_3WLzB\" data-testid=\"footer-link-group\">\n",
            "       <h3 class=\"_2_Vga\">\n",
            "        <button class=\"_3amNM _17muu\">\n",
            "         <span class=\"_2g7Mb\" data-testid=\"footer-link-group-heading\">\n",
            "          The Sydney Morning Herald\n",
            "         </span>\n",
            "         <span class=\"_2hufO\">\n",
            "          <svg aria-hidden=\"true\" class=\"QMY9O\" focusable=\"false\" height=\"1em\" width=\"12px\">\n",
            "           <use xlink:href=\"#icon-arrowsdown\">\n",
            "           </use>\n",
            "          </svg>\n",
            "         </span>\n",
            "        </button>\n",
            "       </h3>\n",
            "       <ul aria-expanded=\"false\" class=\"_2q5mS\" role=\"region\">\n",
            "        <li>\n",
            "         <a data-testid=\"footer-link\" href=\"/contact-us\">\n",
            "          Contact &amp; support\n",
            "         </a>\n",
            "        </li>\n",
            "        <li>\n",
            "         <a data-testid=\"footer-link\" href=\"https://www.nineforbrands.com.au/advertising-enquiries/\">\n",
            "          Advertise with us\n",
            "         </a>\n",
            "        </li>\n",
            "        <li>\n",
            "         <a data-testid=\"footer-link\" href=\"https://smh.myfairfax.com.au/members/lite_session/new?callback_uri=https%3A%2F%2Fsmh.myfairfax.com.au%2Fbeta%2Fmembers%2Fmy_account%2Fnewsletters%3Fchannel_key%3DzHE9EWDHf1XPuz3Phk0YIg%26callback_uri%3Dhttps%253A%252F%252Fwww.smh.com.au&amp;channel_key=zHE9EWDHf1XPuz3Phk0YIg\">\n",
            "          Newsletters\n",
            "         </a>\n",
            "        </li>\n",
            "        <li>\n",
            "         <a data-testid=\"footer-link\" href=\"/siteguide/accessibility\">\n",
            "          Accessibility guide\n",
            "         </a>\n",
            "        </li>\n",
            "        <li>\n",
            "         <a data-testid=\"footer-link\" href=\"/siteguide\">\n",
            "          Sitemap\n",
            "         </a>\n",
            "        </li>\n",
            "        <li>\n",
            "         <a data-testid=\"footer-link\" href=\"https://consumer.licensing-publishing.nine.com.au\">\n",
            "          Photo sales\n",
            "         </a>\n",
            "        </li>\n",
            "        <li>\n",
            "         <a data-testid=\"footer-link\" href=\"https://thestore.com.au/collections/front-pages\">\n",
            "          Purchase front pages\n",
            "         </a>\n",
            "        </li>\n",
            "        <li>\n",
            "         <a data-testid=\"footer-link\" href=\"https://professional.licensing-publishing.nine.com.au\">\n",
            "          Content licensing\n",
            "         </a>\n",
            "        </li>\n",
            "        <li>\n",
            "         <a data-testid=\"footer-link\" href=\"/our-events\">\n",
            "          Our events\n",
            "         </a>\n",
            "        </li>\n",
            "        <li>\n",
            "         <a data-testid=\"footer-link\" href=\"https://www.nineforbrands.com.au/about/careers/\">\n",
            "          Work with us\n",
            "         </a>\n",
            "        </li>\n",
            "        <li>\n",
            "         <a data-testid=\"footer-link\" href=\"https://login.nine.com.au/terms?client_id=smh\">\n",
            "          Terms of use\n",
            "         </a>\n",
            "        </li>\n",
            "        <li>\n",
            "         <a data-testid=\"footer-link\" href=\"https://login.nine.com.au/privacy?client_id=smh\">\n",
            "          Privacy policy\n",
            "         </a>\n",
            "        </li>\n",
            "        <li>\n",
            "         <a data-testid=\"footer-link\" href=\"https://www.presscouncil.org.au/what-we-do\">\n",
            "          Press Council\n",
            "         </a>\n",
            "        </li>\n",
            "       </ul>\n",
            "      </nav>\n",
            "      <nav class=\"_3WLzB\" data-testid=\"footer-link-group\">\n",
            "       <h3 class=\"_2_Vga\">\n",
            "        <button class=\"_3amNM _17muu\">\n",
            "         <span class=\"_2g7Mb\" data-testid=\"footer-link-group-heading\">\n",
            "          Products &amp; Services\n",
            "         </span>\n",
            "         <span class=\"_2hufO\">\n",
            "          <svg aria-hidden=\"true\" class=\"QMY9O\" focusable=\"false\" height=\"1em\" width=\"12px\">\n",
            "           <use xlink:href=\"#icon-arrowsdown\">\n",
            "           </use>\n",
            "          </svg>\n",
            "         </span>\n",
            "        </button>\n",
            "       </h3>\n",
            "       <ul aria-expanded=\"false\" class=\"_2q5mS\" role=\"region\">\n",
            "        <li>\n",
            "         <a data-testid=\"footer-link\" href=\"https://subscribe.smh.com.au/?promote_channel=HI_FL_GNL\">\n",
            "          Subscription packages\n",
            "         </a>\n",
            "        </li>\n",
            "        <li>\n",
            "         <a data-testid=\"footer-link\" href=\"https://www.smh.com.au/myaccount\">\n",
            "          My account\n",
            "         </a>\n",
            "        </li>\n",
            "        <li>\n",
            "         <a data-testid=\"footer-link\" href=\"/subscriber-faqs\">\n",
            "          Subscriber FAQs\n",
            "         </a>\n",
            "        </li>\n",
            "        <li>\n",
            "         <a data-ffx-event-action=\"cta click\" data-ffx-event-attribute=\"footer\" data-ffx-event-category=\"component\" data-ffx-event-label=\"todays paper\" data-ffx-hittype=\"event\" data-testid=\"footer-todays-paper\" href=\"/todays-newspaper\">\n",
            "          Today’s Paper\n",
            "         </a>\n",
            "        </li>\n",
            "        <li>\n",
            "         <a data-ffx-event-action=\"cta click\" data-ffx-event-attribute=\"footer\" data-ffx-event-category=\"component\" data-ffx-event-label=\"puzzles\" data-ffx-hittype=\"event\" data-testid=\"footer-link\" href=\"/puzzles\">\n",
            "          Daily Crosswords &amp; Sudoku\n",
            "         </a>\n",
            "        </li>\n",
            "       </ul>\n",
            "      </nav>\n",
            "     </section>\n",
            "     <div class=\"_1U4cI\">\n",
            "      <p>\n",
            "       Copyright ©\n",
            "       <!-- -->\n",
            "       2022\n",
            "      </p>\n",
            "      <div class=\"_1Z25A\">\n",
            "       <a class=\"_39qXI\" href=\"https://subscribe.smh.com.au/?promote_channel=HI_FL_GNL\">\n",
            "        Subscribe\n",
            "       </a>\n",
            "      </div>\n",
            "     </div>\n",
            "    </div>\n",
            "   </footer>\n",
            "  </div>\n",
            "  <div id=\"ZN_aWQOH5E46WdaZT0\">\n",
            "  </div>\n",
            " </body>\n",
            "</html>\n"
          ]
        }
      ]
    },
    {
      "cell_type": "markdown",
      "metadata": {
        "id": "8RlCBsYSPkVp"
      },
      "source": [
        "**Try &lt;p&gt;  tag**\n",
        "\n",
        "Using &lt;p&gt;  tag is a common way to extract the main contents of the online news articles. BUT, do not expect this always provides what you want."
      ]
    },
    {
      "cell_type": "code",
      "metadata": {
        "id": "uEx20icxPlDx",
        "colab": {
          "base_uri": "https://localhost:8080/"
        },
        "outputId": "dd7b46cd-5a09-4fdb-ef1c-67e4d5bb2659"
      },
      "source": [
        "# The findAll() method returns all the specified tags, it is the same as find_all()\n",
        "# Set text=True will return only the specified tags with the text inside, you can try to set text=False to compare the difference\n",
        "p_tags = soup.findAll('p', text=True) \n",
        "for i, p_tag in enumerate(p_tags): \n",
        "    print(str(i) + str(p_tag))"
      ],
      "execution_count": null,
      "outputs": [
        {
          "output_type": "stream",
          "name": "stdout",
          "text": [
            "0<p>We’re sorry, this feature is currently unavailable. We’re working to restore it. Please try again later.</p>\n",
            "1<p>The University of Sydney will suspend all face-to-face teaching from Monday and move fully online while Macquarie University has cancelled classes altogether in order to make the digital transition, revealing one of its students tested positive for COVID-19.</p>\n",
            "2<p>The University of Sydney's 10,000 staff members have been encouraged to work remotely to slow the spread of coronavirus, but the campus Wi-Fi network and facilities will remain open with enhanced cleaning protocols and social distancing measures.</p>\n",
            "3<p>Courses with labs and practical components will be adapted for online or suspended until later in the semester while clinical placements for health students will go ahead under strict guidelines, Vice-Chancellor Michael Spence wrote to staff on Tuesday afternoon.</p>\n",
            "4<p>\"We’ve put a lot of effort and thought into how to do it. I think this is a tremendous opportunity. This could be an interesting pedagogical experiment,\" he said.</p>\n",
            "5<p>\"At the moment we have to spend money to put education online to make sure our students' experience is uninterrupted as possible. There has been an overwhelming response from students that [is what they want].\"</p>\n",
            "6<p>Universities Australia deputy chief executive officer Anne-Marie Lansdown said 39 universities were providing online learning where possible amid the coronavirus pandemic. She said the challenge was increasing the amount of content that can be put online in a very short period of time.</p>\n",
            "7<p>\"For some courses it will be much harder – especially those with significant practical or technical requirements,\" Ms Lansdown said. \"In the case of practical-based learning, where online may not be possible, universities are offering maximum flexibility, including delaying or deferring those components.\"</p>\n",
            "8<p>Macquarie Vice-Chancellor Professor Bruce Dowton said in an email to staff on Tuesday morning that face-to-face and online teaching will be suspended for 12 days from Wednesday while the university transitions to online delivery of lectures and seminars.</p>\n",
            "9<p>\"It will also allow us to redesign campus-based delivery of our units to modes that support social distancing and remote support,\" he said.</p>\n",
            "10<p>Hours later, Macquarie confirmed a student had tested positive for COVID-19 the day before, and that several locations on campus had been cleaned overnight.</p>\n",
            "11<p>\"The current advice is that the rest of campus can continue to operate as normal after the completion of intensive cleaning operations and in line with ... moving to increase online delivery of educational programs,\" a spokesperson said.</p>\n",
            "12<p>But students were concerned they had not been told where the infected student had been on campus and whether some needed to self-isolate.</p>\n",
            "13<p>\"Many of the students are shocked that we could be left in the dark and that the university has not been able to make decisions for weeks about how to handle the virus situation,\" one student, who requested anonymity, said.</p>\n",
            "14<p>The University of NSW on Tuesday confirmed a third student tested positive for COVID-19 and had exhibited mild symptoms while in a three-hour evening science class last week.</p>\n",
            "15<p>Universities around the country are also seeking advice from public health experts on how to minimise the spread of COVID-19 among students living in campus accommodation and other share housing.</p>\n",
            "16<p>The Australian National University said many students congregated in residential halls \"so across our student residences we’re implementing considered social distancing measures for our dining halls, kitchens and self-catering\".</p>\n",
            "17<p>\"We’ve also reformatted social and academic support events and activities so that they have smaller numbers (25 people or less) and in some cases, these will be offered as online connections – we’re being creative to ensure pastoral care and community wellbeing are maintained,\" a spokesperson said.</p>\n",
            "18<p>Dining times have also been extended to allow students to stagger their meals and restrict access to communal utensils.</p>\n",
            "19<p>The University of NSW has asked students who need to self-isolate to avoid communal areas and avoid sharing utensils and tea towels. They have been advised to use separate bathroom and kitchen facilities and to regularly clean shared facilities. They should also wear a surgical mask while in the same room with any other people.</p>\n"
          ]
        }
      ]
    },
    {
      "cell_type": "markdown",
      "metadata": {
        "id": "BYnmY30W4kXq"
      },
      "source": [
        "## Punctuation removal"
      ]
    },
    {
      "cell_type": "markdown",
      "metadata": {
        "id": "WUSe0XB142YM"
      },
      "source": [
        "First, let's try to remove punctuation by using an exhaustive list of symbols! "
      ]
    },
    {
      "cell_type": "code",
      "metadata": {
        "id": "zPPA04m5CTS5",
        "colab": {
          "base_uri": "https://localhost:8080/"
        },
        "outputId": "05b652b2-4fb0-4f6e-f53e-8db7879607e6"
      },
      "source": [
        "puncts = [',', '.', '\"', ':', ')', '(', '-', '!', '?', '|', ';', \"'\", '$', '&', '/', '[', ']', '>', '%', '=', '#', '*', '+', '\\\\', '•',  '~', '@', '£', \n",
        " '·', '_', '{', '}', '©', '^', '®', '`',  '<', '→', '°', '€', '™', '›',  '♥', '←', '×', '§', '″', '′', 'Â', '█', '½', 'à', '…', \n",
        " '“', '★', '”', '–', '●', 'â', '►', '−', '¢', '²', '¬', '░', '¶', '↑', '±', '¿', '▾', '═', '¦', '║', '―', '¥', '▓', '—', '‹', '─', \n",
        " '▒', '：', '¼', '⊕', '▼', '▪', '†', '■', '’', '▀', '¨', '▄', '♫', '☆', 'é', '¯', '♦', '¤', '▲', 'è', '¸', '¾', 'Ã', '⋅', '‘', '∞', \n",
        " '∙', '）', '↓', '、', '│', '（', '»', '，', '♪', '╩', '╚', '³', '・', '╦', '╣', '╔', '╗', '▬', '❤', 'ï', 'Ø', '¹', '≤', '‡', '√', ]\n",
        "\n",
        "def remove_punctuation(x):\n",
        "    x = str(x)\n",
        "    for punct in puncts:\n",
        "        if punct in x:\n",
        "            x = x.replace(punct, '')\n",
        "    return x\n",
        "\n",
        "\n",
        "text = \"It's a nice day[]\"\n",
        "print(remove_punctuation(text))\n"
      ],
      "execution_count": null,
      "outputs": [
        {
          "output_type": "stream",
          "name": "stdout",
          "text": [
            "Its a nice day\n"
          ]
        }
      ]
    },
    {
      "cell_type": "markdown",
      "metadata": {
        "id": "yBYYb37K46gV"
      },
      "source": [
        "Alternatively, what about using regular expressions ([re package](https://docs.python.org/3/library/re.html))?"
      ]
    },
    {
      "cell_type": "code",
      "metadata": {
        "id": "SicWED4146pe",
        "colab": {
          "base_uri": "https://localhost:8080/"
        },
        "outputId": "880b18aa-5a46-45bf-bd07-cdbacdbc5be4"
      },
      "source": [
        "import re\n",
        "\n",
        "def remove_punctuation_re(x):\n",
        "    x = re.sub(r'[^\\w\\s]','',x)\n",
        "    \n",
        "    return x\n",
        "\n",
        "\n",
        "text = \"It's a nice day[]\"\n",
        "\n",
        "print(remove_punctuation_re(text))"
      ],
      "execution_count": null,
      "outputs": [
        {
          "output_type": "stream",
          "name": "stdout",
          "text": [
            "Its a nice day\n"
          ]
        }
      ]
    },
    {
      "cell_type": "markdown",
      "metadata": {
        "id": "1D4zy-EAFC2B"
      },
      "source": [
        "OK. Then what about emoticons?      **:)** or **:D** or **:(**  \n",
        "\n",
        "Some tasks may want you to keep emoticons e.g. sentiment analysis on tweets.\n"
      ]
    },
    {
      "cell_type": "code",
      "metadata": {
        "id": "lhSuQUQn7HHy"
      },
      "source": [
        "#you can find the solution from the TweetTokenizer https://www.nltk.org/_modules/nltk/tokenize/casual.html#TweetTokenizer (search \"EMOTICONS\" in the page)\n",
        "EMOTICONS = r\"\"\"\n",
        "    (?:\n",
        "      [<>]?\n",
        "      [:;=8]                     # eyes\n",
        "      [\\-o\\*\\']?                 # optional nose\n",
        "      [\\)\\]\\(\\[dDpP/\\:\\}\\{@\\|\\\\] # mouth\n",
        "      |\n",
        "      [\\)\\]\\(\\[dDpP/\\:\\}\\{@\\|\\\\] # mouth\n",
        "      [\\-o\\*\\']?                 # optional nose\n",
        "      [:;=8]                     # eyes\n",
        "      [<>]?\n",
        "      |\n",
        "      <3                         # heart\n",
        "    )\"\"\""
      ],
      "execution_count": null,
      "outputs": []
    },
    {
      "cell_type": "markdown",
      "metadata": {
        "id": "qbr_yUC07HRT"
      },
      "source": [
        "Have a look at some contractions of words! Contractions include punctuation - how would you handle them?\n"
      ]
    },
    {
      "cell_type": "code",
      "metadata": {
        "id": "GM6nYOK__dYw"
      },
      "source": [
        "# These are just common English contractions. There are many edge cases. i.e. University's working on it.\n",
        "contraction_dict = {\"ain't\": \"is not\", \"aren't\": \"are not\",\"can't\": \"cannot\", \"'cause\": \"because\", \"could've\": \"could have\", \n",
        "                    \"couldn't\": \"could not\", \"didn't\": \"did not\",  \"doesn't\": \"does not\", \"don't\": \"do not\", \"hadn't\": \"had not\", \n",
        "                    \"hasn't\": \"has not\", \"haven't\": \"have not\", \"he'd\": \"he would\",\"he'll\": \"he will\", \"he's\": \"he is\", \"how'd\": \"how did\", \n",
        "                    \"how'd'y\": \"how do you\", \"how'll\": \"how will\", \"how's\": \"how is\",  \"I'd\": \"I would\", \"I'd've\": \"I would have\", \n",
        "                    \"I'll\": \"I will\", \"I'll've\": \"I will have\",\"I'm\": \"I am\", \"I've\": \"I have\", \"i'd\": \"i would\", \"i'd've\": \"i would have\", \n",
        "                    \"i'll\": \"i will\",  \"i'll've\": \"i will have\",\"i'm\": \"i am\", \"i've\": \"i have\", \"isn't\": \"is not\", \"it'd\": \"it would\", \n",
        "                    \"it'd've\": \"it would have\", \"it'll\": \"it will\", \"it'll've\": \"it will have\",\"it's\": \"it is\", \"let's\": \"let us\", \n",
        "                    \"ma'am\": \"madam\", \"mayn't\": \"may not\", \"might've\": \"might have\",\"mightn't\": \"might not\",\"mightn't've\": \"might not have\", \n",
        "                    \"must've\": \"must have\", \"mustn't\": \"must not\", \"mustn't've\": \"must not have\", \"needn't\": \"need not\", \"needn't've\": \"need not have\",\n",
        "                    \"o'clock\": \"of the clock\", \"oughtn't\": \"ought not\", \"oughtn't've\": \"ought not have\", \"shan't\": \"shall not\", \"sha'n't\": \"shall not\", \n",
        "                    \"shan't've\": \"shall not have\", \"she'd\": \"she would\", \"she'd've\": \"she would have\", \"she'll\": \"she will\", \"she'll've\": \"she will have\", \n",
        "                    \"she's\": \"she is\", \"should've\": \"should have\", \"shouldn't\": \"should not\", \"shouldn't've\": \"should not have\", \"so've\": \"so have\",\n",
        "                    \"so's\": \"so as\", \"this's\": \"this is\",\"that'd\": \"that would\", \"that'd've\": \"that would have\", \"that's\": \"that is\", \"there'd\": \"there would\", \n",
        "                    \"there'd've\": \"there would have\", \"there's\": \"there is\", \"here's\": \"here is\",\"they'd\": \"they would\", \"they'd've\": \"they would have\", \n",
        "                    \"they'll\": \"they will\", \"they'll've\": \"they will have\", \"they're\": \"they are\", \"they've\": \"they have\", \"to've\": \"to have\", \"wasn't\": \"was not\", \n",
        "                    \"we'd\": \"we would\", \"we'd've\": \"we would have\", \"we'll\": \"we will\", \"we'll've\": \"we will have\", \"we're\": \"we are\", \"we've\": \"we have\", \n",
        "                    \"weren't\": \"were not\", \"what'll\": \"what will\", \"what'll've\": \"what will have\", \"what're\": \"what are\",  \"what's\": \"what is\", \"what've\": \"what have\", \n",
        "                    \"when's\": \"when is\", \"when've\": \"when have\", \"where'd\": \"where did\", \"where's\": \"where is\", \"where've\": \"where have\", \"who'll\": \"who will\", \n",
        "                    \"who'll've\": \"who will have\", \"who's\": \"who is\", \"who've\": \"who have\", \"why's\": \"why is\", \"why've\": \"why have\", \"will've\": \"will have\", \n",
        "                    \"won't\": \"will not\", \"won't've\": \"will not have\", \"would've\": \"would have\", \"wouldn't\": \"would not\", \"wouldn't've\": \"would not have\", \n",
        "                    \"y'all\": \"you all\", \"y'all'd\": \"you all would\",\"y'all'd've\": \"you all would have\",\"y'all're\": \"you all are\",\"y'all've\": \"you all have\",\n",
        "                    \"you'd\": \"you would\", \"you'd've\": \"you would have\", \"you'll\": \"you will\", \"you'll've\": \"you will have\", \"you're\": \"you are\", \"you've\": \"you have\"}"
      ],
      "execution_count": null,
      "outputs": []
    },
    {
      "cell_type": "markdown",
      "metadata": {
        "id": "fW0bu-886Tp0"
      },
      "source": [
        "## Stopwords removal\n",
        "Stopwords are the most common words in any natural language. They tend to perform a structural role rather than semantic. So for the purpose of analysing text data and building NLP models, these stopwords might not add much value to the meaning of the document. Generally, the most common words used in a text are “the”, “is”, “in”, “for”, “where”, “when”, “to”, “at” etc.\n",
        "\n"
      ]
    },
    {
      "cell_type": "code",
      "metadata": {
        "id": "vh1rYL3NIavi",
        "colab": {
          "base_uri": "https://localhost:8080/"
        },
        "outputId": "5c947b1f-d904-4f1a-c9b2-fd176269c4a5"
      },
      "source": [
        "# You must be familiar with the following already since we've tried this in Lab 1\n",
        "import nltk\n",
        "nltk.download('punkt')\n",
        "nltk.download('stopwords')\n",
        "\n",
        "from nltk.corpus import stopwords as sw\n",
        "from nltk.tokenize import word_tokenize\n",
        "\n",
        "my_sent = \"Natural Language Processing is fun but challenging.\"\n",
        "tokens = word_tokenize(my_sent)\n",
        "\n",
        "stop_words = sw.words()\n",
        "filtered_sentence = [w for w in tokens if not w in stop_words]\n",
        "\n",
        "print(filtered_sentence)"
      ],
      "execution_count": null,
      "outputs": [
        {
          "output_type": "stream",
          "name": "stdout",
          "text": [
            "[nltk_data] Downloading package punkt to /root/nltk_data...\n",
            "[nltk_data]   Unzipping tokenizers/punkt.zip.\n",
            "[nltk_data] Downloading package stopwords to /root/nltk_data...\n",
            "[nltk_data]   Unzipping corpora/stopwords.zip.\n",
            "['Natural', 'Language', 'Processing', 'fun', 'challenging', '.']\n"
          ]
        }
      ]
    },
    {
      "cell_type": "markdown",
      "metadata": {
        "id": "eap6jyY26ovD"
      },
      "source": [
        "## Case-folding\n",
        "How would you handle case? A common strategy is to do case-folding by reducing all letters to lower case"
      ]
    },
    {
      "cell_type": "code",
      "metadata": {
        "id": "yiLKuaoEIbnq",
        "colab": {
          "base_uri": "https://localhost:8080/"
        },
        "outputId": "5e0066e8-9a6d-4cfc-86ca-89b528548994"
      },
      "source": [
        "text = \"Hello there!\"\n",
        "#Returns the result of converting all characters in text to lowercase.\n",
        "print(text.lower())\n",
        "\n",
        "\n",
        "#do we need to reduce all letters to lower case?\n",
        "text2 = \"I love University of Sydney :D\"\n",
        "print(text2.lower())"
      ],
      "execution_count": null,
      "outputs": [
        {
          "output_type": "stream",
          "name": "stdout",
          "text": [
            "hello there!\n",
            "i love university of sydney :d\n"
          ]
        }
      ]
    },
    {
      "cell_type": "markdown",
      "metadata": {
        "id": "L9e4G_t5gCYG"
      },
      "source": [
        "## Stemming\n",
        "Stemming is a process of removing and replacing word suffixes to arrive at a common root form of the word.\n",
        "\n",
        "*   Try various types of NLTK stemmer in [demo](http://text-processing.com/demo/stem/)\n",
        "*   A comparative study of stemming algorithms: [Paper Link](https://pdfs.semanticscholar.org/1c0c/0fa35d4ff8a2f925eb955e48d655494bd167.pdf)\n"
      ]
    },
    {
      "cell_type": "code",
      "metadata": {
        "id": "5FhadZUH607p",
        "colab": {
          "base_uri": "https://localhost:8080/"
        },
        "outputId": "3674e638-47c3-45c1-dbec-0548b22d44fc"
      },
      "source": [
        "#let's try to test with porter algorithm\n",
        "from nltk.stem.porter import *\n",
        "stemmer = PorterStemmer()\n",
        "\n",
        "plurals = ['caresses', 'flies', 'dies', 'mules', 'denied',\n",
        "            'died', 'agreed', 'owned', 'humbled', 'sized',\n",
        "            'meeting', 'stating', 'siezing', 'itemization',\n",
        "            'sensational', 'traditional', 'reference', 'colonizer',\n",
        "            'plotted']\n",
        "singles = [stemmer.stem(plural) for plural in plurals]\n",
        "\n",
        "print(singles)"
      ],
      "execution_count": null,
      "outputs": [
        {
          "output_type": "stream",
          "name": "stdout",
          "text": [
            "['caress', 'fli', 'die', 'mule', 'deni', 'die', 'agre', 'own', 'humbl', 'size', 'meet', 'state', 'siez', 'item', 'sensat', 'tradit', 'refer', 'colon', 'plot']\n"
          ]
        }
      ]
    },
    {
      "cell_type": "markdown",
      "metadata": {
        "id": "t5Tm9Zj4K8nj"
      },
      "source": [
        "## Lemmatisation\n",
        "\n",
        "Lemmatisation is the process of grouping together the inflected forms of a word so they can be analysed as a single item, identified by the word's lemma, or dictionary form\n"
      ]
    },
    {
      "cell_type": "code",
      "metadata": {
        "id": "q0oIgt5NK8te",
        "colab": {
          "base_uri": "https://localhost:8080/"
        },
        "outputId": "f3d3dd5e-4163-4074-83b0-0b2bfb68cbab"
      },
      "source": [
        "#by NLTK Wordnet\n",
        "nltk.download('wordnet')\n",
        "\n",
        "from nltk.stem import WordNetLemmatizer\n",
        "\n",
        "lemmatizer = WordNetLemmatizer()\n",
        "\n",
        "print(lemmatizer.lemmatize(\"cats\"))\n",
        "print(lemmatizer.lemmatize(\"cacti\"))\n",
        "print(lemmatizer.lemmatize(\"geese\"))\n",
        "print(lemmatizer.lemmatize(\"rocks\"))\n",
        "print(lemmatizer.lemmatize(\"python\"))\n",
        "print(lemmatizer.lemmatize(\"better\", pos=\"a\"))\n",
        "print(lemmatizer.lemmatize(\"best\", pos=\"a\"))\n",
        "print(lemmatizer.lemmatize(\"run\"))\n",
        "print(lemmatizer.lemmatize(\"run\",'v'))"
      ],
      "execution_count": null,
      "outputs": [
        {
          "output_type": "stream",
          "name": "stdout",
          "text": [
            "[nltk_data] Downloading package wordnet to /root/nltk_data...\n",
            "[nltk_data]   Unzipping corpora/wordnet.zip.\n",
            "cat\n",
            "cactus\n",
            "goose\n",
            "rock\n",
            "python\n",
            "good\n",
            "best\n",
            "run\n",
            "run\n"
          ]
        }
      ]
    },
    {
      "cell_type": "markdown",
      "metadata": {
        "id": "gZQBz4bS63_S"
      },
      "source": [
        "## Tokenisation\n",
        "\n",
        "Given a character sequence and a defined document unit (word, sentence etc.), tokenisation is the task of chopping it up into pieces, called tokens, perhaps at the same time throwing away certain characters, such as punctuation\n",
        "\n",
        "Try various types of NLTK Tokenizer in [demo](http://text-processing.com/demo/tokenize/). \n",
        "\n",
        "[NLTK Tokeniser API Doc](https://www.nltk.org/api/nltk.tokenize.html)"
      ]
    },
    {
      "cell_type": "markdown",
      "metadata": {
        "id": "Jj6FSwVH9pig"
      },
      "source": [
        "**TweetTokenizer: Twitter-aware tokeniser**"
      ]
    },
    {
      "cell_type": "code",
      "metadata": {
        "id": "PLiWA6VAGfyr",
        "colab": {
          "base_uri": "https://localhost:8080/"
        },
        "outputId": "8621ad20-1646-48ab-c1ab-ff006d206bd3"
      },
      "source": [
        "from nltk.tokenize import TweetTokenizer\n",
        "tknzr = TweetTokenizer()\n",
        "\n",
        "s0 = \"I am so happy :) ;)\" \n",
        "\n",
        "print(tknzr.tokenize(s0))\n",
        "\n",
        "s0 = \"I am so sad :(\"\n",
        "\n",
        "print(tknzr.tokenize(s0))"
      ],
      "execution_count": null,
      "outputs": [
        {
          "output_type": "stream",
          "name": "stdout",
          "text": [
            "['I', 'am', 'so', 'happy', ':)', ';)']\n",
            "['I', 'am', 'so', 'sad', ':(']\n"
          ]
        }
      ]
    },
    {
      "cell_type": "markdown",
      "metadata": {
        "id": "Q2aUurLvKn90"
      },
      "source": [
        "**TreebankWordTokenizer**\n",
        "\n",
        "The Treebank tokenizer uses regular expressions to tokenize text as in Penn Treebank."
      ]
    },
    {
      "cell_type": "code",
      "metadata": {
        "id": "z79eqDUw9po5",
        "colab": {
          "base_uri": "https://localhost:8080/"
        },
        "outputId": "f8596fdd-9b2d-4a09-e050-694951b57901"
      },
      "source": [
        "from nltk.tokenize import TreebankWordTokenizer\n",
        "tknzr = TreebankWordTokenizer()\n",
        "\n",
        "s0 = \"I am so happy :) ;)\" \n",
        "\n",
        "print(tknzr.tokenize(s0))\n",
        "\n",
        "s0 = \"I am so sad :(\"\n",
        "\n",
        "print(tknzr.tokenize(s0))"
      ],
      "execution_count": null,
      "outputs": [
        {
          "output_type": "stream",
          "name": "stdout",
          "text": [
            "['I', 'am', 'so', 'happy', ':', ')', ';', ')']\n",
            "['I', 'am', 'so', 'sad', ':', '(']\n"
          ]
        }
      ]
    },
    {
      "cell_type": "markdown",
      "metadata": {
        "id": "Ko6A3-sP67AA"
      },
      "source": [
        "# Word Cloud\n",
        "*   [Word Cloud](https://amueller.github.io/word_cloud/index.html)\n",
        "*   [Wikipedia Python](https://pypi.org/project/wikipedia/)\n"
      ]
    },
    {
      "cell_type": "code",
      "metadata": {
        "id": "8RL-2Nl6M8bS",
        "colab": {
          "base_uri": "https://localhost:8080/"
        },
        "outputId": "dd4f834b-345a-446a-c06e-f6ed7be41c2f"
      },
      "source": [
        "!pip install wikipedia"
      ],
      "execution_count": null,
      "outputs": [
        {
          "output_type": "stream",
          "name": "stdout",
          "text": [
            "Collecting wikipedia\n",
            "  Downloading wikipedia-1.4.0.tar.gz (27 kB)\n",
            "Requirement already satisfied: beautifulsoup4 in /usr/local/lib/python3.7/dist-packages (from wikipedia) (4.6.3)\n",
            "Requirement already satisfied: requests<3.0.0,>=2.0.0 in /usr/local/lib/python3.7/dist-packages (from wikipedia) (2.23.0)\n",
            "Requirement already satisfied: certifi>=2017.4.17 in /usr/local/lib/python3.7/dist-packages (from requests<3.0.0,>=2.0.0->wikipedia) (2021.10.8)\n",
            "Requirement already satisfied: urllib3!=1.25.0,!=1.25.1,<1.26,>=1.21.1 in /usr/local/lib/python3.7/dist-packages (from requests<3.0.0,>=2.0.0->wikipedia) (1.24.3)\n",
            "Requirement already satisfied: idna<3,>=2.5 in /usr/local/lib/python3.7/dist-packages (from requests<3.0.0,>=2.0.0->wikipedia) (2.10)\n",
            "Requirement already satisfied: chardet<4,>=3.0.2 in /usr/local/lib/python3.7/dist-packages (from requests<3.0.0,>=2.0.0->wikipedia) (3.0.4)\n",
            "Building wheels for collected packages: wikipedia\n",
            "  Building wheel for wikipedia (setup.py) ... \u001b[?25l\u001b[?25hdone\n",
            "  Created wheel for wikipedia: filename=wikipedia-1.4.0-py3-none-any.whl size=11695 sha256=f7690dda6d5c63e6104d64129b6213cb90492157f495b35cfc0f5e41046d178a\n",
            "  Stored in directory: /root/.cache/pip/wheels/15/93/6d/5b2c68b8a64c7a7a04947b4ed6d89fb557dcc6bc27d1d7f3ba\n",
            "Successfully built wikipedia\n",
            "Installing collected packages: wikipedia\n",
            "Successfully installed wikipedia-1.4.0\n"
          ]
        }
      ]
    },
    {
      "cell_type": "code",
      "metadata": {
        "id": "ts5qkwsIgWs8",
        "colab": {
          "base_uri": "https://localhost:8080/",
          "height": 198
        },
        "outputId": "ed5a1c3f-f1e5-40f0-93cf-cae2705616fb"
      },
      "source": [
        "from wordcloud import WordCloud\n",
        "import wikipedia\n",
        "\n",
        "# Getting wikipedia contents of \"COVID-19_pandemic\"\n",
        "text = wikipedia.page(\"COVID-19_pandemic\").content\n",
        "\n",
        "# Generate a word cloud image\n",
        "wordcloud = WordCloud().generate(text)\n",
        "\n",
        "# Display the generated image:\n",
        "# the matplotlib way:\n",
        "import matplotlib.pyplot as plt\n",
        "\n",
        "plt.imshow(wordcloud, interpolation='bilinear')\n",
        "plt.axis(\"off\")\n",
        "plt.show()"
      ],
      "execution_count": null,
      "outputs": [
        {
          "output_type": "display_data",
          "data": {
            "text/plain": [
              "<Figure size 432x288 with 1 Axes>"
            ],
            "image/png": "[encoded data removed]"
          },
          "metadata": {
            "needs_background": "light"
          }
        }
      ]
    },
    {
      "cell_type": "markdown",
      "metadata": {
        "id": "_ynb-BNSMJF3"
      },
      "source": [
        "Try more word cloud examples: [Link](https://amueller.github.io/word_cloud/auto_examples/index.html)"
      ]
    },
    {
      "cell_type": "markdown",
      "metadata": {
        "id": "Bgfxjm27_W58"
      },
      "source": [
        "# Saving and Loading Models"
      ]
    },
    {
      "cell_type": "markdown",
      "metadata": {
        "id": "z8L2SD6URVmz"
      },
      "source": [
        "Training a model takes time. Once it is trained it is useful to save it. Then when you, or someone else, wants to use it you can just reload it.\n",
        "\n",
        "**Saving a Pytorch model**"
      ]
    },
    {
      "cell_type": "code",
      "metadata": {
        "id": "5CIo7H32xssE",
        "colab": {
          "base_uri": "https://localhost:8080/"
        },
        "outputId": "3ac03dde-c220-436b-972f-ae667bc7ad23"
      },
      "source": [
        "# Let's train a model first\n",
        "import torch\n",
        "import torch.nn.functional as F\n",
        "import torch.nn as nn\n",
        "import torch.optim as optim\n",
        "import numpy as np\n",
        "import matplotlib.pyplot as plt\n",
        "\n",
        "class TheModelClass(nn.Module):\n",
        "    def __init__(self):\n",
        "        super(TheModelClass, self).__init__()\n",
        "        self.linear = nn.Linear(1, 1)\n",
        "\n",
        "    def forward(self, input):\n",
        "        output = self.linear(input)\n",
        "        return output\n",
        "\n",
        "no_of_epochs = 500\n",
        "display_interval = 20\n",
        "learning_rate=0.01\n",
        "\n",
        "# training data\n",
        "x_training = np.asarray([[1],[2],[5],[8],[9],[12],[14],[16],[18],[20]])\n",
        "y_training = np.asarray([100,200,501,780,901,1201,1399,1598,1800,2000])\n",
        "\n",
        "x_data_torch = torch.from_numpy(x_training).float()\n",
        "y_data_torch = torch.from_numpy(y_training).float() \n",
        "\n",
        "model = TheModelClass()\n",
        "optimizer = optim.SGD(model.parameters(), lr=learning_rate)\n",
        "\n",
        "for epoch in range(no_of_epochs):\n",
        "\n",
        "    # zero the parameter gradients\n",
        "    optimizer.zero_grad()\n",
        "\n",
        "    # forward + backward + optimize\n",
        "    outputs = model(x_data_torch)\n",
        "    loss = torch.sum(torch.pow(outputs-y_data_torch.view(-1,1),2))/(2*x_training.shape[0])\n",
        "    loss.backward()\n",
        "    optimizer.step()\n",
        "\n",
        "    if epoch%display_interval == display_interval-1:\n",
        "        print('Epoch: %d, loss: %.3f' %(epoch + 1, loss.item() ))"
      ],
      "execution_count": null,
      "outputs": [
        {
          "output_type": "stream",
          "name": "stdout",
          "text": [
            "Epoch: 20, loss: 29.345\n",
            "Epoch: 40, loss: 28.246\n",
            "Epoch: 60, loss: 27.257\n",
            "Epoch: 80, loss: 26.365\n",
            "Epoch: 100, loss: 25.563\n",
            "Epoch: 120, loss: 24.840\n",
            "Epoch: 140, loss: 24.188\n",
            "Epoch: 160, loss: 23.602\n",
            "Epoch: 180, loss: 23.074\n",
            "Epoch: 200, loss: 22.598\n",
            "Epoch: 220, loss: 22.170\n",
            "Epoch: 240, loss: 21.784\n",
            "Epoch: 260, loss: 21.436\n",
            "Epoch: 280, loss: 21.123\n",
            "Epoch: 300, loss: 20.841\n",
            "Epoch: 320, loss: 20.587\n",
            "Epoch: 340, loss: 20.359\n",
            "Epoch: 360, loss: 20.153\n",
            "Epoch: 380, loss: 19.967\n",
            "Epoch: 400, loss: 19.800\n",
            "Epoch: 420, loss: 19.650\n",
            "Epoch: 440, loss: 19.514\n",
            "Epoch: 460, loss: 19.392\n",
            "Epoch: 480, loss: 19.282\n",
            "Epoch: 500, loss: 19.183\n"
          ]
        }
      ]
    },
    {
      "cell_type": "code",
      "metadata": {
        "id": "zxBZETGT3pHZ"
      },
      "source": [
        "# Now we save the trained model to the file named 'filename.pt', you can name it based upon your needs\n",
        "torch.save(model, 'filename.pt')"
      ],
      "execution_count": null,
      "outputs": []
    },
    {
      "cell_type": "markdown",
      "metadata": {
        "id": "ZHlFto63RYdM"
      },
      "source": [
        "**Loading model**"
      ]
    },
    {
      "cell_type": "markdown",
      "source": [
        "**IMPORTANT NOTE**: Before loading the saved PyTorch model by using *torch.load(model_file_name)*, you have to make sure you have already run the code for defining the model class (e.g. the *TheModelClass* in the above section for this sample code). You can try to restart the runtime and then directly load the model to see the error."
      ],
      "metadata": {
        "id": "tfn0hMaA-y7N"
      }
    },
    {
      "cell_type": "code",
      "metadata": {
        "id": "cxoYkzWp51Kr",
        "colab": {
          "base_uri": "https://localhost:8080/"
        },
        "outputId": "9954b42a-631a-4ba8-8ca2-cea1c2a45607"
      },
      "source": [
        "#  Load the saved model from the .pt file\n",
        "the_saved_model = torch.load('filename.pt')\n",
        "the_saved_model.eval()"
      ],
      "execution_count": null,
      "outputs": [
        {
          "output_type": "execute_result",
          "data": {
            "text/plain": [
              "TheModelClass(\n",
              "  (linear): Linear(in_features=1, out_features=1, bias=True)\n",
              ")"
            ]
          },
          "metadata": {},
          "execution_count": 17
        }
      ]
    },
    {
      "cell_type": "code",
      "metadata": {
        "id": "j13TVA787FYG",
        "colab": {
          "base_uri": "https://localhost:8080/"
        },
        "outputId": "9c585e8e-8876-4a7f-eedb-bf0d6aa67569"
      },
      "source": [
        "# Use the loaded model to do prediction\n",
        "prediction = the_saved_model(x_data_torch).detach().numpy()\n",
        "for i in range(len(y_training)):\n",
        "    print('X: %d, Y_true: %d, Y_predict: %.3f'%(x_training[i][0],y_training[i],prediction[i][0]))"
      ],
      "execution_count": null,
      "outputs": [
        {
          "output_type": "stream",
          "name": "stdout",
          "text": [
            "X: 1, Y_true: 100, Y_predict: 99.699\n",
            "X: 2, Y_true: 200, Y_predict: 199.591\n",
            "X: 5, Y_true: 501, Y_predict: 499.270\n",
            "X: 8, Y_true: 780, Y_predict: 798.949\n",
            "X: 9, Y_true: 901, Y_predict: 898.842\n",
            "X: 12, Y_true: 1201, Y_predict: 1198.521\n",
            "X: 14, Y_true: 1399, Y_predict: 1398.307\n",
            "X: 16, Y_true: 1598, Y_predict: 1598.093\n",
            "X: 18, Y_true: 1800, Y_predict: 1797.878\n",
            "X: 20, Y_true: 2000, Y_predict: 1997.664\n"
          ]
        }
      ]
    },
    {
      "cell_type": "markdown",
      "metadata": {
        "id": "t6iDS4iMSj_L"
      },
      "source": [
        "**How to Save (Upload) the model to your Google Drive**\n",
        "\n",
        "As we know, once the session disconnects in Colab, all the files will be lost. Don't worry, we can save our model file to Google Drive so that we can download and and use it across sessions. \n",
        "\n",
        "There are various ways to upload the files on Google Drive.\n",
        "\n",
        "[This tutorial](https://colab.research.google.com/notebooks/io.ipynb#scrollTo=RWSJpsyKqHjH) will guide you how to save the files on your Google Drive.\n",
        "\n",
        "1.   Mounting Google Drive locally\n",
        "2.   Create a new Drive file\n",
        "\n",
        "And we've already experienced multiple times for downloading the files from Google Drive (Refer to the Download Dataset section in this Lab5)."
      ]
    },
    {
      "cell_type": "markdown",
      "metadata": {
        "id": "rxxHsS-lxK7o"
      },
      "source": [
        "# Bi-LSTM with Hidden State Extraction\n",
        "\n",
        "The folllowing image represents a Bi-LSTM for an N to 1 task. In an N to 1 task, it is usually required to extract the last hidden states of the forward LSTM and the backward LSTM and combine (**concat**) them. (Please check the lecture 5 recording, please! We also practised in Lab4 already with Bi-RNN.)\n",
        "\n",
        "Bi-LSTM: Bidirectional LSTM, which means the signal propagates backward as well as forward in time.\n",
        "\n",
        "\n",
        "![1981647844813_.pic_hd.jpg](data:image/jpeg;base64,iVBORw0KGgoAAAANSUhEUgAAAjQAAAIlCAYAAADCAWI9AAAAAXNSR0IArs4c6QAAAARnQU1BAACxjwv8YQUAAAAJcEhZcwAADsMAAA7DAcdvqGQAAGsiSURBVHhe7b0JuFxVne6d9n635fbHZ6fv5bbRVqRthzhBbLwohyEircS2GRQQVOgggRMUmYUECISQEBBIchgEGRImITIjyMGJOYwyiArYfVBEQIYWozjE4er66t21d51du9au2tOqYdXv9zzrOaeqdtWq9dZa+//u/1p77ykGAAAAYMDB0AAAAMDAg6EBAACAgQdDAwAAAAMPhgYAAAAGHgwNAAAADDwYGgAAABh4MDQAAAAw8GBoAAAAYODB0AAAAMDAg6EB8IyJsREzZcqUWBkxYxPhi2UYH+38WVm2AQBwAIYGwDPGR2smZnQ8fBQZnFEz+Uwxgs8ZGTORV0k+FrbnAAC6AYYGwCsmzNjIFDMST5EEWZPyhiZJ0jgBAPQSDA2AV4yb0SlTTNxntGRNAoMTm5JqMiX197dMVU2MmZHocfB/7P21Ehio+DaW79E6HRWvq1bI7ABACTA0AD7RZCqix5PGoj79lP56c9alZjgikyEz0mQ4ZEbi5qRG0zatmaKmz07Ua9seACAPGBoAj6gblljWo8k0WLImTUai/r8tUxJ8bvyNlmms5DYt5qhRt8W8tBgcAIB8YGgAPKLtuhaLCWk2GqL+ODBDjSdbDUjLNFaHbZq2D81LuvECAMgPhgbAGyyZjzg2QxM8l5g6EoHpiJ5vzezIODXXY8n+RFNQTZ8VPu9gkTIADDcYGgBvsJiKOIGRaM3G1I2JzFDMZMRNR2BI4gYkbcooYVJCIzNS27Ypa5Q0OAAAFYChAfCFtGxLjGDqp2ZiotJqSqLXJj+ndXop/jn17WzbRIap9fnW79HpewMAdAJDAwAAAAMPhgYAAAAGHgwNAAAADDwYGgAAABh4MDQAAAAw8GBoACA3a9euDf8DAOgPMDQAkIt169aZGTNmBH8BAPoFDA0A5GLFihXBtWP0FwCgX8DQAEBmlJWZNm1aYGj0lywNAPQLGBoAyEyUnYkKWRoA6BcwNACQiXh2JipkaQCgX8DQAEAmktmZqJClAYB+AEMDAB2xZWeiQpYGAPoBDA0AdOTxxx83CxcubBQZmfhjvQ4A0EswNACQGxkaAIB+gr0SAOQGQwMA/QZ7JQDIDYYGAPoN9koAkBsMDQD0G+yVACA3GBoA6DfYKwFAbjA0ANBvsFcCgNxgaACg32CvBAC5wdAAQL/BXgkAcoOhAYB+g70SAOQGQwMA/QZ7JQDIDYYGAPoN9koAkBsMDQD0G+yVACA3GBoA6DfYKwFAbjA0ANBvsFcCgNxgaACg32CvBAC5wdAAQL/BXgkAclPW0EyMjQSfMTI2ET4TMjFmRqaMmOTTXWV8tPbdevwdACA3GBoAyE1ZQzM+WjMzIzVTMzJmmnxDYCZGzXj40DWBsUp8B9tzAND/YGgAIDflDM2EGRuZYkbHx81oIhPSbTMhYzVltFv2CQBcgqEBACtz5swx73//+61Fhsb2vN7TmUkjkzQUrQZD29aei4otmxJ7bVyPY+9Pvj6mzJAqDqa2wufDMvl8ZLLqdTd/neR0VPvvBwDdA0MDAFZkUF5++eVcRe/pSGAawmmlpimmKHMTPGiYjklDUX89WndTNysxcxF81uT2ydcjczP5ea0ZouAzGqakuT7RZLg6fD8A6C4YGgCw4srQBMaiYRpiWZCm7IjFHDQZiPr7ms1D3KBYXk+uz0k+rhF8t0mH0mxgws+sP+z0/QCg22BoAMCKK0OTOs0UNxihOWhM5YRl0lto20R2JXhPPPPT/HqzkWp9XHumxaTEt2navtP3A4Cug6EBACtuDE1aZmPUjMUNgyV70oTl9cAYpb6/Xm/SSLVmeBKmRJ+jzwy+Y8wgdfp+ANB1MDQAYMWNoYlPC0WEZqNmJhoGI2kgkgSGYvL1wMwoSxK5kZTXJw1MurFqMinh9xhJmKGO3w8Aug6GBgCsODE0KZmNYDonkR2JnpsscQMxaYJURsbGg8eT729+PfUU8djnNk0pNahnbVqf7/T9AKDbYGgAwIqbDI0rbJkfABgmMDQAYKWfDY2yI/HpInt2BQCGCQwNAFjp7wxN85QSZgYAMDQAYKW/DQ0AQDMYGgCwgqEBgEECQwMAVjA0ADBIYGgAwAqGBgAGCQwNAFjplqFpd1dvW8l2R28AGDYwNABgRebBZlraFb0nL3nrKVIHAPgPhgYArGBoAGCQwNAAgBUMDQAMEhgaALCCoQGAQQJDAwBWMDQAMEhgaADACoYGAAYJDA0AWMHQAMAggaEBACsYGgAYJDA0AGAFQwMAgwSGBgCsYGgAYJDA0ACAFQwNAAwSGBoAsFLE0Hz4wx8O3pe1RPdxsn1WWtH2AABJMDQAYCWv0VApYk4wNABQBRgaALCCoQGAQQJDAwBWMDQAMEhgaADACoYGAAYJDA0AWMHQAMAggaEBACsYGgAYJDA0AGAFQwMAgwSGBgCsYGgAYJDA0ACAFQwNAAwSGBoAsIKhAYBBAkMDAFYwNAAwSGBoAMAKhgYABgkMDYBnXHDBBQ2jUKZMnTrVbLXVVrlK3vdo+yLvsX3fsgUABhsMDYBnLFy40EyZMoWSswDAYMMoBqiIucseNv9y6Jqelzduvrc1YFPaF5uW3S7qQwBQDAwNQEUoIAGUgT4EUBwMDUBFEIygLPQhgOJgaAAqgmAEZaEPARQHQwNQEQQjKAt9CKA4GBqAiiAYQVnoQwDFwdAAVATBCMpCHwIoDoYGoCL6PxhNmPHRkclTlUfHw+cHiIkxMxJ8/xEzNhE+5xEYGoDiYGgAKsJFMJoYHzOjI5PXSpkyMmJGx4tF8vHR2OeoDKKhGR8Nv/+oGcBv3xEMDUBxMDQAFVF1MJoYi2VTmkqBYN7IbExpNkQDlvFomLJBNGMZwNAAFAdDA1ARlQajmAFR8K57jQkzXjM5I0WCeVpmY6AyHhNmLMxWjfg431QDQwNQHAwNQEVUGowaRkMZlfA5KzI5o5PmR2VkNJZtmTQBTWV01Iwmn1MZGQvN03j4es3oTIybscbamxEzGnx4aK5a3hdRqze2XmdkdCzYPngcNqiRbYm/t23GKPpOSU061ZXyvqasVfic2lX7rLieMpCTXyWuy+R0YPP3KQ6GBqA4GBqAinCWoakZFPuymRSzEpTIEEwG83gZqRmaeNBulCgyR/WPNAf3eqk9Z6l3MmtirzMqje0apq31u1ozMFazk6Uue2Znckovyk7VPitFz8b7rLpUN12HoQEoDoYGoCKqDkbJRbzNmYL467WAGjmemBGaDN6TAb05kzBpBloyDLEMkTIowcfHn2vU2WoWJr/XpBGbNA/x4B8zZLUvEP/fimV6LGtdje0an91ct4i2mdS5dZvJ71ArLVmp8mBoAIqDoQGoCBfBaCI5ndQIyGnZjFaDMWlyEpmEtOdrtGYvasSCeeNrtNSXYpIsZkS0Lnxufj1OqynJXlejnsiEtLR98rNsJfp8qy4VgqEBKA6GBqAi3AWjWKYgCsCNoJ00Ixajk2ImUp+P1xdzCi2mQCSNQSfjksxqNLavlyZj0oTFqOWpK7FtizlKfI96Gamvx5lsrFWXKsHQABQHQwNQES6D0WRmoG4cUjMFjcA8aXTSzERrxiPCnvmwbp8wCvbvFct+NNVlyYqkGoXW75SrrrjxGm/NTKVp1IxdlyrB0AAUB0MDUBHVBKOJ4Iyd0bHYepmJWJCOAm7MuDSuK9MI2rXSiLiWzEZAm2yDdSrK/jktRiBpqHSGVFRPrUxW1Vz/pDmJ1xnD9p0y1yXam6cmc2SrX1h1qRYMDUBxMDQAFVFNMLIE3kaJB9I22+msqHCr+HbNAT5mKMLSdionZpbin9OStYmbqkaJzgia/P6N9zXqmPyezcYrpMN3miytddVJtjeuUQ3rZ9VLo72271AxGBqA4mBoACqiqmBUv91BlDFQSa7lCFHmpilIa7vmM6HaZhVqAXoyiE9euybL1FKdtKzN5OfWv3f0HcL3Nj6r+Ts16rVM+1i/U42OdcWYNFFJc1dnQnq06Fn7zPD1tO9QJRgagOJgaAAqoh+DUba1IcNAhwxQn4ChASgOhgagIvopGE2uCen/IO6e2HRTnxs7DA1AcTA0ABXRT8FocnolulXB8DI5leVu7UtVYGgAioOhAagIghGUhT4EUBwMDUBFEIygLPQhgOJgaAAqgmAEZaEPARQHQwNQEQQjKAt9CKA4GBqAiiAYQVnoQwDFwdAAVMROR98bBCSKvbx//69bn6dMFvUhACgGhgYAusJOO+1kHn744fARAEC1YGgAwDkyMroWjEwNAIALMDQA4BwZmfqF/qaQpQEAJ2BoAMApUXYmKmRpAMAFGBoAcEo8OxMVsjQAUDUYGgBwRjI7E5WDDz443AIAoBowNADgDFt2RmW99dYzzz33XLgVAEB5MDQA4IQnn3zSvP/972+UqVOnmhkzZjQeX3DBBeGWAADlwdAAQFeQibn11lvDRwAA1YKhAYCugKEBAJdgaACgK2BoAMAlGBoA6AoYGgBwCYYGALoChgYAXIKhAYCugKEBAJdgaACgK2BoAMAlGBqAClh//fXNK17xCoqlvOY1rzHHHnus9TVKvUQaAUBxMDQAFfCqV73KbL311marrbaixIo0+Z//838GF9VT4N5ss82s2w1ziWsEAMXB0ABUwPve9z7zl7/8hWIpIyMj5q/+6q/MK1/5SvPjH//Yus2wl0gjACgOhgagAjbffPPwP0iyxRZbBPdvkqHR7RCglUgjACgOIwigApShATvKPmBo2hNpBADFYQQBVACGJh0MTWcwNADlYQQBVACGJh0MTWcwNADlYQQBVACGJh0MTWcwNADlYQQBVEA/GJr/+q//Mg8++KC58847zX333WeeffbZ4AyaMjz22GPmnHPOMUcddZQ58MADzQEHHGCOPPJIc/bZZ5tHH3003Ko9eQ3N73//+6DeNWvWmHvuuSc4M+pPf/pT+Go5+l0jACgOIwigArIYmj/+8Y/mO9/5jlmxfLlZUAt4i4491qw8/3zzH//xH+EWxVBgPuroY8xnDjzCHDBviTlkwcnmwPknmP0Onm8OOewIMz4+bv7whz+EW2fjxRdfNKeeeqo57rjjzFe/+lUzMTFh1q5dGxT9f8MNNwSvnXzyyeall14K32Unq6H5xS9+YU47bYXZ+7N7mtmHfMzsNe+jZvYRtXLQzmb/Q+aaSy6+OHc7IqTRvKMWmD32O9Tsvv8x5hMHLTa7fW6h+eR+nzefO/jwvtEIAIrDCAKogHaGRhmAG2+80Ryw997mmH33Ndeccoq5a9VKc/t555kLj19k5s3Z2xx56CFB5iAPCpKnnX6m+fwxJ5lrbv2Bufs/fmUefOqP5rvP/Nk89NM/mXsnfm3G7/mxOXrpGWbRkhPN008/Hb6zPQ888IA54YQTggyJgry+/7p168xvf/vboCiD8uc//zl4XhmURYsWBVmUNDoZGn3O7XfcbuYc+Elz/EUHmMseONVc/djp5qsTXzTX/eeZ5qrvn2YuWHOCmX/6qDlk/ucCs5AVabR87Awz+9DF5gtX3m9W3fkzc8n9a82XH3zZXPLAL80Fdz1vxm74vplz5HJz9HFLe64RABSHEQRQAWmGRlMlpy9bZk495BDz0/Fx8/t77ja/uPUW8183f9v8/JabzS9vv838+u67zCNf+YpZeuih5rJLLw3f2Z6f/vSn5oSTlpuzvjxuHvnZXwIjc+8TvzF3/+fLgbG5p/ZXhuY7T/7e/OAFY1bf9IA57oRTzA9/+MPwE+xoiuSkk04yTz31VPD4N7/5jfnVr34VlJdffrlR9PjXv/51ELCfeeYZs3DhQvOzn/0seE+SdoZG77/+hq+aTx++i7n8kRXmhh990Vz5gxXmiu8tN195ZLm5ovbcld8bM1c9epq54YmzzJduXmQOOmZfc//994efkI40WrDkFHPEGdeayx76TWBkVt31gll553O18jOzcs1ztcfPm4vu/XmtrnVmyaV3mMMXntRTjQCgOIwggAqwGRpNMZ20eLG5bvkys65mWv6rZmCe/fpN5mff+HqjRI9/cdut5sWayVl5/PHmwpUrw0+wo3Ugp3/xHHPeFd+umZW/mHtqRuauH64NjMxdKj/8ZfB/8Dj8/wfP/8Vcfcsj5sRTTjc/+clPwk9qRhmGE088MVgT8n//7/9tBOW0Er2ugP2f//mf5phjjrFO27QzNA8+9KDZZ97u5vonvmiu+eHp5ivfXVYzNstrZVn9/+/q/5q50f81k6OMzarbTzCHLzow1RwIaXTK6Webo8/5Ws2s/M5csOYFc/4dzwZG5vw7VJ4158vUBI/rz2s7ZXEWLF3RM40AoDiMIIAMaF1EO5KGRtMNF190kTlvwQLz+3vvNs998xuBebGVZ24aD/4qY/PCt79lzqi95xvf+Eb4Sa189YYbzaJTzw1Myr0TMjO/bJS7QwMTf27N43Wz89iLfzFfvPgGc8HFlwXTIklW1ozUddddFwTc3/3ud01B2Vai16OAvXz58mAtiv6Pk2ZoVM9nD97HXHz3SYFRkWmZLKGRCY2Nyurvnmqu+N6KYNvTrjvaHH/iwvCTWrnmq18zn1lY+0yZmbuerxuYsKy8s25gVsaeO+/2Z4LnLv/e780Rp19tzrngyz3RKAsyVQDQCoYGIAOaLnj/+99vbrrppvCZZpKG5qdPPWU+v88+QeZFJiUyL/HsTFQiU6P/tb2mnxbNmxcEzCRaP7LkC6eZb97/VLBWpmFkwoyMrUSm5oGf/MGsqf1/7NIx88ADzet1FGC1JuTxxx8PMksKwL/85S+tQTpZtJ3eoymYI444ouWMJJuhUX3jN91oPnPcJ8yNT32pblwejrIz9hIZm6seO82sfvhUc9jS0WANSxJpNH/JMnP6TY+bSx/4VczI1DMythKZmkvu+0Xt77PmgAWnBOtk4nRDo3ao3r322isoANAKhgYgAzI0CjgqM2bMMNdee234Sp24oVF2ZlXtSP4rJ50YrJlpZ2aiEm3zwre+aV745jfMJbX3XnnlleEnTnL77XeY404+K1j0e98Tv2lkXzqVyPgoS3P88pXmuuu/Fn5iHZ19dfrpp5sXXnghyAAoACtg24Jzsmg7ZTP0vvnz57dMBdkMjQL6UQvnm9O+dpS5/kdfDLIv0fRSuyIjc8X3V5ira6bmlK/MM8tXLA8+L86tt91h9l84Zi75zlpzwd0vNLIvnUpkfC7/3h/M3OPOMlddd0P4iXW6oZENLSreaaedGv0PQwNgB0MDkIG4oYmKjM3q1auD1+OGRtMRRx50kHn0yiuCBcBR9qVT0XaamtLU063nnWtOPemk8BPr6MyZSy693IytujZYCCyjktXQqGjb79Xi6EVfXWPGzvxScNpxxDXXXGOuuOKKYIGrAm/WQK2ibbX4VWtKtL5E13iJYzM0MgMf2+vD5rofnhEsAJZRsRmYZFGGRn+vfvx0c+ZNx5h5xx/SlMmSRudfvNocumy1ueyhXwdGJauhUdG2lz38G7Nw1TfNSSvO6rpGcZQNVFYw3udUMDQAdjA00Jc8/PDD5tZbb00tCgoyGVUVBY52ZaONNmoJLFHRa+9+97vDb27ML156yeyz885BdiYyKknzYitRFkeG5qHLLjVL5s0LAn+EAuLKCy81F113u3msFmdlUDpNN8WLtlVm52t3TZglJ481nf581VVXBWtDlEGIztqxBWZbibbVlMyKFSvMt7/97aY1IlGwjps+XXNmhz0+aG56+tzGVFLSvNhKY9qpZmjOvWWROeSY/Zqu8SKNvnj+JTVD8i1z+fdr5qZmUDpNN8WLtr3kO780K776iDly8bKuayRk+mSW430sXqZNm9bol7a+nCzKJsbHDoCvYGggN88991zTDjIqtp2pUuVxYxCVqVOnWnfWUdEO3fa+qChtb6uvaLG1J150VGz7nmqfAlBTsK4F2Dk7f8z8/t57Mk03RSXaVqd0P7z6MrP48MODwB+hgLjyosvMJdevMY//3Jg7H/uF1bikFRkand594z0/DgxN/IJ+mt5SBkLBukj2QX8VoHWhuVtuuaWjoXnpFy+Z7T+1bWBosmZnVOIZmnNuOa7F0Oh7nLXyErPowpvNFd//oznvtqetxiWtyNBcfP9aM3bDD8z8mqHptkYR6lO77757U1+LyqxZsxr90taXk0WfEx878bGn/+OvqZ/H3xs3QwD9DoZmyEhmPnR59vgObL/99mvawSkIxXemKvEjxHiJf05UNCUTry8qMkWDhNoS10BGRlpGtBqanc0f77s3c3ZGJZ6heeQrqwNDEw/WygqsuuhSs+rq28yjytAUMDTK0Fx3+2PmxFNPa7rQ27e+9a3gDB4ZqKLTKZpqk07J67ikGRplaL7+zHn5Dc1364ZGGZqDa4bm5z+vubsQaSRDc8x5NwVnLJ13e35Do7U3p179QHD6drc1SqI+Fl8/oyIzXyXJfUIy+ykDpfEdZSmnT58ePNbz0TaR8dHCZYBegaEZQJIZkvgO6OCDD24yGTIf8Z1hMvORPCJTOjz+2VqQCJOGRppJlyTxYL22FvD22WVns+6eu4plaDTldOmXzZL5zVNOWkh75TXXmSVjF5rvPlNfQ5NnyklTVDrV+8xLvmbOv+DiINBG6Lotuljcj370o2AdiupNBuW0omCtrIX+6l5GCtpxbIZGhmD2Z3c3lz14irnqB2P5ppweWWauqRma068/2ixauiD8xDrS6LIrrzWfWXSOufTB+hqaPFNOWkOz+pHfmcNPv9p88byLgvZFdEOjNNTn1Pe0jfpiL1E7ov1DdEAU3++st956jd87vo+54IILgvd0ugQCQFEwNH1A3KBo0Gvwq8Sna7SDiEoyQ6KdSfSepCEZtExIvxIdgaYRD9bRouDvX/6VXIuCI+PzUs3Q3HzuOWbZySeHnziJ7kl0zAkrzAM/+b2570e/NWvCC+p1KjI+Ko8+b8zRS8803/z2zeEnTjI2Nmbuuuuu4PRiZRMUfG3BOVkUoDR9ots7nHbaacHC1zg2Q6NtTjr5RLP0soPN1358duYsjQyNFhHrysEnXPB5c/7554efOIk0+tzRp5iL733JXHD3izWTks3QyPio6No1c45aZm765rfDT5zEtUad0ELhaCF6v6NpM40ZfWftmyLTE2V69L/2cXoNswNVgKFxiLIbGqRxkxKlb7VzjwxKlMJNmhPtCPT+doEU+oN4sNZp27qR4iWLjw8uqpfV0Gg7nbatM51WLVkc3PAwiU4ZPnXsi+bS8XvNoy/8xax5LJuh0XbfffbP5psPPGUWf2FFcNXaJFovovUdOqVYGQgF604BW1kKGTgF+MMOO8wakGyGRsH9oYceMv9+yEfNDTVDE5mVpIFpKt+tnw111eOnmQvvPtEcuGC0cfuBONJoyalnmMWX3FYzJ+syTztpu0sffNmccdMPzbzFy3qi0TARTXVpX4fZgSrA0BQgnlGJzEe08C46O8F2JkI0MFWi01fBD+LBWjz//PPm4L0/bV6sGZQXv/2tjqYmmm5ae9ut5sFLLzXHz5/fchQfcc+995pjlp5m7vvR7+oXy+tw6rbW2tz/xG/NIz8zZsnYSnP9DTc2LUiNo6P/yy67LFiLoiCsYK2AHA/aURBXgFFQF6eccoq5/fbbAzOXxGZohKaHTvjCYvOFyw8zNz75pcCstDM1ej24Bs3jp5tF5x5szv7S2eEntXL3Pfeazy44pWZ8XjQXBxfLa3/qtsyMsjmXPvRr87nFZ5lrr/9aTzSCOmlmJ1rErHVE2p8yJQ5xGEEWosyKpm/iZiU6etCOWY+juWGtYYmMCkcRw0kyWCtoXXXllWbF5z8fnL6trEuaqdHzMjOaanr6phvN8iOPsl4BN0Kffd1XbzCLTjnHPPzTP5mHnv5TMJ0UncYdFT1W+c6T68wPnjdmxflXmwsvXh0E4nZceOGFQbBQQBYKyNH0ShS0oyCt9RQaJzr7J82ApRkaISPwucP3MavuWBJMPel+TZGx0e0P9Dd6rJtWfvWJL5plV803S045LtVwiED/a683n1l4RnAatoqmk2RsoqmlxuNa0Q0qV3/3t+aw5Zea8y68tGcaQXui9TvSMzqBQbrpQFL76WhfzH54OBnKESTDEs3ryulrUEQDIzoCiFbwx80KQBq2YK0MxJdOP918ecli84d77zEv3XpLPRNTMzDP1P5GRua5mqn51R23m//61rfMl4491nwlwxoJBcvLr7zaHLVkzHz7oWfNoy/Ujmqf+VOwrkZ33L7vid+ah576Y3Cn7Xv+81dmyYqV5vwLLmoE4E5ouuvoo482X//614OMpKZLIgOhdumCczrr5/M1w3bzzTenBmrRztCIZ559xhy64LNm2TVHBIblaz8+K7i9weXfq6+X0QLgr/3k7OC5Y8/b3xz/hWMytUMaXXr5VWbfI082Z35jwlz+SO3xA78Krh6sO25fcPfzwRlNmpbS4/2PP9ucdf6FPdUIiqGzq7TOTfts7bt18BllyfWcsmrxsxLBT7wdQXHTEjl5dXCtwNf/cvN6LZoG4nRDKENasFaQW3XOOebY0VHz2FVXmZdrxuVXt99mfn3nHcH/v7zjNvOLW282a1aeb47Z/7Pm+uuuC9/ZGQXPO+640xx02HxzyIKTzUXXrTG3PfJCYGbufPQlc/k3HjTHnHS2+exBNaNwww2NjEFWnn766WABq0z/UUcdFYyXY2uGS0H88MMPD46SNbXWiU6GRuj09MUnLjKf2H8Hs+Dc/cyqO5eYK38wFhias75xjDn4lH83e352Z3PuynODaZ6sRBqNHni4+eTBi81xq2qm8eYnA1Nzzm1PmaWr15i9jx4ze+53qLn2ut5rBNWRzOao/0lj7f/1eyk+kMnxi4EeQVGH1amD0TyrzbRE10LR9gAuaBesNf1xxx13mMMPPNDM33dfs7LWJ68fW2GuXb7MnHHEEebQvfc2x9eCYPLaJFnRVMctt9xqTlh6ktn3MweYPffa1+yz3+fMgmMXmeuvv6HpOi1F0PTLE088Yb73ve+ZRx55JLh6rk67zkoWQyOkkz77i18608w9cI7ZbfbO5pOf3tUcMu9Ac9lXLs1kDNKoa3SbOX7JiWb2vvubXfeYY/ac81kzf8FxwfRdv2gE7lEsUOZdi44VL3RShpYPKI6QxRlsBmYEKeMiYyKDIrOSXCCmzohpgV7RKVgLTTk8+uijwfoLHdWfccYZ5sorrjA//elP264HyYo+I1n6gayGJo6rdiQ/t8rPLgOGpnfoBA1l6pXF0Vqc6IBYsYaYMlj05QhSJ1KaUK45OmtIHUwdjkVf0I/kCdbDRhFDM2xgaPqHKPMfHTzL4CgOKf7ooJpre/UvPR9BcsfqJJoy0g4vcsfKuuh51rbAIECwTgdD0xkMTX+jqSjNAmgZg2YGZHCidTjQP3R9BMndyqgo+6JpIxV1EmVkmL+EQWXzzTcP/4MkW2yxRRCs0SidSCMYDLQEQrMF0UG4zqxSDOMAvLd0ZQQpfSc3K1crdysDI7fLxeXAF9Zff33zgQ98wMycOZMSK9tss435u7/7O/M3f/M3aJRS4hrB4KEpKp0yrikpLTDWQmMdsDM91X2cGRqZGP3A+nFlZDQfKVcLAADgKzpQt01PKSaCWyo1NFqoq7SbppHkVJWSIwsDAADDSjQ9JWOjA3wd6LP2xg2VGBql3GRk5EZ1bj8/FgAAQDM6wFes1NobxUtNTWm6CqqhtKHRIig5Ty2KYlEvAABAZ7S+RlNTOqs3WluqdTdc96Y4pQyNfhBNL+miRAAAAJAfLddQHNUMh86akrnRY663lo8pyq7odMFeFNUNAAAAdWRilKmRqYnMDdNS2aj5iuJJmrKnpZWpGwAAwGc0/aRMjdbcaEGxLkDLtW7SKWVoyoKhAQAA6IwWFOv0bxkbGRytv2FKqhkMDQAAwAChKahoSkpnSnFmcR0MDQAAwAASnSml677pBB1lcIb52m+FDI3c4ezZs5su373bbrvlPuUMQwMAAFAeXTZFF+2Lrgc3jFcmzmVotBjpve99r9l+++0DV3jjjTc2yqpVq8wuu+xiNtlkk8y3OMDQAAAAVEf8iv06k3iYLquS2dAsXbrUbLzxxubmm282L7/8cmp54IEHzGabbRakvjqBoQEAAHCDZk2iM6RkcnxfRJzJ0OjGkvvss4958cUXrSbGVo488kgzd+7c8BPsYGgAAADcolkTTUNpOkqnfvu6zqajodG8nDIuecxMVD74wQ+2XX2NoQEAAOgOMjJaZxNdsC/r8pBBoa2h0QJfrZlZs2aN1bB0KhMTE+atb31rapoLQwMAANBdFJN1B3BNReleUr4Ym7aGRouJ9thjD6tZyVr233//YO7OBoYGAACgNyhpofgsY6MpqUG/wXRbQ6NTsXX2ks2oZC16vz7HBoYGAACgt8SNjaaiBnWNTVtDo1Owi043RUVnPWnayQaGBgAAoD+IjE20eHjQzopqa2he/epXB+tgbEYlT0mrA0MDAADQX8jIyNDI2KQtGelH2hoaZVaUYbGZlKxFhkjGyAaGBgAAoD/R1JPW1ugifYNwv6i2hma77bYz11xzjdWoZC2XXXaZ2XHHHcNPbAZDAwAA0N/oNgq6X5TMje4f1a+0NTRKNeksJZtRyVp0gT1dmM8GhgYAAKD/0foaxXItHO7X2ym0NTRyYloYXHQdjS7Gp9sl6B5QNjA0MKzo9EidTaBrQPhS+uWGeGjrHh81Vuk3nfsRxXPdTkElLbb3iraGRuheELvuuqvVsHQqhx56aHAPqDR6aWjY6ZUD/coh7dT/fStKS/catHWPrxqr9JPO/YwuzKdFw/2Uran9fp1Nha4jo7tr20xLWtEduHWV4XZkqdsV7PTKgX7lkIGy1T/oRYsHew3ausdXjVX6Sed+Rxka3dF71qxZfbG2pvb7dTYVOoVLC4R11eCnn37aamCiomkmZWZkZjqdw56lblew0ysH+pUj0s+XnWc/tQdt3eObxsLHNnUDra2ZP39+kK259tprw2d7Q+33y24qlFrSqdxa6KsMTGRuZGL0+LjjjgvWzLSbZoqTp+6qYadXDvQrB/q5A23d45vGwsc2dRNN18vUaCqqV9R+v3ymQmklrXSeOXNm8OX1ft25U4/l0vIsEspbd5Ww0ysH+pUD/dyBtu7xTWPhY5u6ja5boykoLUlQ5qbb1H6/3pmKXtbNTq8c6FcO9HMH2rrHN42Fj23qBTIyMjQ6C6rbt06o/X4YGh/odnvQrxzo5w60dY9vGgsf29RLNJOjkyy6eaPL2u+HofGBbrcH/cqBfu5AW/f4prHwsU29RutupWe3rldT+/3ymwpdg0Tua6utt24qBx10UK7reBSpuyradt6JMTNSe02vB2V0PHzBxoQZHx1p3n5kxIyOTQSvjY3Enk8rI2O1LUMSdadVPT4abTNixmrbdHswol85UusbQO1Et/VrB9q6p+13QmeIoWvZ6erC8g2uqf1+2U2F5sP2/Pd/N+94x7vM/gceai689KqmMv/o48z7Nt/CfPBDH8p0TnqeuqumY+cdHw1e12BsDJYWxs2otqkNqPFoo3BAjQQDsv76SG3E1F8Ot4+NsmBgJUddVHfjcxLEBm30ercHI/qVo219A6ad6LZ+7UBb93T8TugMMXRjS5ka19NPtd8vm6nQF3rzm99ilp68wjz2xLNty7mrvmxev+GGZtny5eG77WSt2wVZB2RyrMSZGBupbVNz+Ikxo0EWvE8DpzZYGy83DdY62rZl0Knu0dFwMCdeq32ajlpGa0c18brzDsZv3P9C+F8x0M+hfgOmncij369/9ydz0defMi+9/IfwmWpBW3faRnT8Tp7rDPlRpkbaujQ1td+vs6nQHbeVebnjnoetBsZWHn70x+YTe8w2J5xwQvgprWSpO+K7T/wy/K8aOnXetMEWR4NpypTR2nFDRjIMcqG6dVSigZc8+gi+V22QJ+vOOhjXfP/nZo8lD5h/OXRN+Ewxhlm/T5/0oFP9Bk07kUW/KNjudPS9gX7Pv/T78JVqQVt32kZ0+k6+6gzliNbUuDr7qfb7tTcVmjp657s2zmVmoiJTs/nIFuaee+4JP62ZTnWLJ575jTny3EdLB5AknTpvlsFWH7SdB1hEtgEcHkHUNgq2rw2+yX2CUq7aSdS3ib/WqT0KxHOXPRzoGJUyoJ87/QZNO9GuPclgG5VeGBrftFUm5qzrftw1bSM6jRffdIbq0PXqdN88F9R+v/amQot9tT7GZliylK9943bzro03tl5kp13dGpALVz3eNEirpH3nVcevdfiOIy3crlZaU5tJ7IOolWjQtQ5IPQ7qsaRe09pjC8RV6Dks+ikzeNhZ3++ifoOnnbC1J83IRKX7hsYfbSMj869H3N1VbSPSNRb+6AxukNYrVqwIH1VH7fdLNxWa8/q3HXayGpU85ROfmh3c3DKJrW4NxFNWT1gHaZW07bwpHd7KRG0AaaDVtm872LJ+prYLP6d+BBMekQTp1vj/zUc2yfa0C8RR0etFy+vf8n+a6mvCA/0e+8nLQTttukVFwVp9NalNlrLpZls21ddgALUTcf06GZmoHHDaI1Ztypa3vPN9je/ShAfadjIyUXGlbVR8G/+ibUyAStHMj3ROm70pSu33Szc0H//4bubUsbOsJiVPUYZHmZ4k8bqzDFTtJNOKsjm2gZdWNt5UnT2l86Z0+HTqpx7qPalHJRk/MxiE0UbBe3S0UT86iZ6uD9T6UUhENBhf+7oNg/bZ9Kuy/N3r3x3U55t+r3v9G1oygy5Kav8bQO1EpN8Gr35dRyPjuqQG2wHX9n/9/es6GpluFd/Gv8DQdBfdyFK3SajyFgm13y/d0OhGk9fc8E2rSclT7nvocfO3f/u34adOorqjo7luD9TpG6ccxdUIUpWRm89MfdCkvS9tECVppEVFdFQyEhukUT2Jo5loMP6PV73G2t6qS7sdGvp1LmmGZhC1E5F+/+/U7ujXrqQZmkHXdv2/e621vb0ovo1/gaHpPrNmzap06qn2+6Ubmr9/9asLLQa2FVs9r9t4p54dzaUbmrQOr+fbD6j6oLMNyPRB1Mx4Y/63jh4nB3n4XGOA1okGY7cyDOk7tMHWr1sZLruhGUztRKTfG96wkbn69mfNxxfeb213N4rd0Ay+tmqPLhcQnaXYy+Lb+BcYmu6jKwjrJtdZrluXhdrvl25o3vKWtwaLem0GJU/R2U6vfOV64adO8or/5697tvNLNzT1Dt9w+RGB2w8HhlKZlgERHJlYB136IGoiXkeA5btERx2J75ccjDo7LG0tUlRueejFYK1NkfKe96asAfFIv07GUFOkN9z1nFWfTmWLrba26DeY2omkfn/40587ju0y/a9dee/mW3mtrehkbFxpGxXfxr/A0PSGgw8+OChVUPv90g2Nrviri+TZTEqeomkrTV8lided5chDASS5diYqOpvHNvDSysgWtoBSQ4Ot9nzT2NHCtdpz0YAKBl7TkcCEGQ+OLuxzvBPhZ3YakOlHKJPUt2kdkGmDsd0i6zJnQqQOfs/0a2cMK9dvQLUTafq1MzauzsQZFm1F2n7TlbYRqd/JU53BHbrQ3nrrrVfJtWlqv1+6odGZSTpDyWZS8pT9DzwsuPdTElvd7U4zrnKQWjuvBp5Sm7XnbaU+CDT4RuvzsvHXRmoDqXWMNAZ4YzvLQBLRQAuK9SglsU2txMd3p8Eo7caueqJprVLlAdlz/ZLGplL9Blg70Uk/GZtk8K1yPMcZNm1Ft7SNsH6nIdAZ3KDr0lSxlqb2+6UbGjmmd71rY/Ot2+61GpUsRQuCdcsE2xxZu7rvf/wXLWsZqhykvnXerO2Jn01WaUAecNCvHHnaEwXfrhmaAaeftI3wTWPhY5sGBd3UWvqXpfb7pZsKofPEdbVfrYOxGZZOZedddzerVq0KP62ZTnULXQ8kWsuAoUknb3sUmHXUXBT0Q784RdpTRr92oK07bSN801j42KZBQadua3Fw2Wmn2u/X2VQcc+yxZq+9R62GpV3RjSx3/fjHw09pJUvdEVrLoFO8q4KdXjnQrxzo5w60dY9vGgsf2zRIaNpJ16YpQ+33y2Yqjpg3z/zzpu/JdNaTTvX+0HYfNttvv0Pbi+ZkrdsF7PTKgX7lQD93oK17fNNY+NimQULrbE888cTwUTFqv192U6HpJ92Xafbe+wZXEI5fdE9G54yzV5p99/tcsGYmi9PKU3fVsNMrB/qVA/3cgbbu8U1j4WObBgmZGd24sgy13y+fqVDGRauRdVsEnYqt96vomjXb77BD8KWyzoPlrbtK2OmVA/3KgX7uQFv3+Kax8LFN3US3MZB+vSph/b0zFb2sm51eOdCvHOjnDrR1j28aCx/b1E2kXRl0JrSuHFwU1V8rGBof6HZ70K8c6OcOtHWPbxoLH9vUTaRdL1H9tYKh8YFutwf9yoF+7kBb9/imsfCxTd1E2vUS1V8rGBof6HZ70K8c6OcOtHWPbxoLH9vUTaRdL1H9tZL/Szz88MPBKVYzt9qiqRx80IHBFf+y0ksBos6re0jo/0EvuiiR2tOtwag60a84qhP93KDvg7Zu0ffySWOVftR5kJB2eWl4iZkzm4puVpnHSwjVXyvZv4TOXtprz0+ZTd72ZrNg34+bb37p+KZyyqGfNjM3e7fZ7oPbZrodeBEBqmLWrFmRAF6Vbg1G9CsH+rkDbd3jq8YqGJpiSLusyEvMnj07OFP6yCOPNDfeeGNTOemkk8zWW29ttttuu0xeQoS/X7YvcdNNN5m3vumN5rzjDjS//87Vbcv1py8wG73utWbFslPDd9vJI0DVXHDBBQ1H7kvR0VLZCxNlBf3KgX7uQFv3+KixSr/pPEhIvywEXuKtbw1ufv3yyy+3Lddcc415wxveYJYvXx6+O53wN+z8Ja695uog8/LU11daDYyt/PKur5jRj3/ELF2yOPyUVrIKMMgonWa70zjkJ36dAzRtjy4jHmmlo+l2V+yG4uy+++70R8dEfRmN+xv9Rp3QBXeVeZmYmLAaGFt58cUXzT777GOWLl0afoqdcH/X/kso3bPJO6bnMjNRkamZ+d5/Dq4wbCOLAIPOXnvtFbRTf6EcySNCdnDpaE1AXCuZwbI3foNW4jozxt0wffr0hsaM+f5Fv087Ai+xySa5zExUZGpkhNK8hAj7SPsvocW+Wh9jMyxZyiNXnm42eefbrUeIner2gfhcs440OFIuhoJxpGO8sIOzo3UASa303JNPPhluAVWQ1BlTUz2aBoprzJjvT/TbtEOLfbU+xmZYspQHHnggMERpMTTsH+lfYvXq1ebjH36/1ajkKaO7/mswX5akkwA+8L73vS8SOigyOBwp50er4eM6xgs7uFbS1jfoaJf+Vx02jTUNxYFLNciA2zRmzPcf+l3SkJfYZZddrEYlT5kzZ47VS4iwb6R/id133cVcfMIhVpOSpyjDo0xPknZ1+4LtSJn0f34092rTUfcVI+vQSlIrGWntVKA6lEJP6hwVZWOhPFpAatNXBVPTX+g3SWO33XYzq1atspqUPEUZHmV6bIT9Iv1LzHjXO8x9l55qNSl5yvO3XGym/u2rwk+dpF3dvhCK3FIUjDmKy46MS6SbrlGgTAPYiY5qZaa109ffdnPPUAxpGh/TKlpTozOAOGCpBh2N2zTW81lP54XuoN8mDU0VrVmzxmpS8pSnn346yD7bCPtH+peY9vf/u9BiYFux1dOubh+wrfvgSLkYmnKKZ2IUpMvcyMxn1O90ZBuh01D322+/8BFURZQ1lLmWcZw2bRoHKRWjgxdpLBOjPqy/0J/od0rj1a9+daHFwLaSVo+er5X0LzH9zf8ULOq1GZQ8RWc7rffKV4afOkm7un1AAVdtjI6UtcNjeqQa5s+fHxTojI5ktbCSYFstMtnxzJeCrUwOVIf0jTIx6r86Oicz05+0i+e67owW9doMSp6is520L7Oh+msl/Uvoir+6SJ7NpOQpmrbS9FWSdnX7gMxL/EhZRxsE4WqQWZRRhGxoTYemQsAd0lcLgsEdOossbVEo9Ja2XmK77YKL5NlMSp6iaStNX9noaGjUcXSGks2k5CkLRnc3C489NvzUSXw3NEl0RKcsDVSDUv2sDcmGMgc64w7coak+ZRBYP+MOHSAy7dSfdPISOkPJZlLyFN0mIW0xeEdDo4G5yTvfZv7j+rOtRiVL0YLg6W/6R2uacNgMjdCi1njWBoqjjq2sF2RDZlqmGtyhDA0ZBHcw7dS/dPQSm2xifvCDH1iNSpaiBcGaukr77TsaGqEjYF3tV+tgbIalU/n3HT9kLli1Mvy0ZobR0GhnR1q6GjSlR8YrO5ruxAC6hQyCe5h26k+yeAld7VfrYGyGpVPZY4892k6bZzI0YuExR5sDPrWj1bC0K7qR5e67fiz8lFaG0dBEaemqjzB05C2jpJ2pL0XrPjrdQl7TKHlvM29jGPSLDKCLxcHD2v+SSNuqF/+jbTMuTCMalyeTl1i40Oy///5Ww9KuyMDqWjbtyGxoxPwjPm/eO+Mdmc560qneO2y7hdnx3/617c5zGA2N0MDRdVWqRJ8Z/qBelU7Xm6nqlORh0c/VZQOGtf/ZUBasyjs2o20zLqad0Lg8qi8LyhRvttlmmc560qne22+/vdlxxx07HoiFbc5uKpQy0n2ZDvjkDsEVhOMX3ZPRueKUeebwvXY2b33TGzOdvpinbp+Qa9ZamiqRIw9/UK9KpzOZtFOrIuswLPrJzKitVTOs/c+G9pNVBhK0baXqaSc0Lo/qy0rgJTbZJMjW6ArC8Yvuyehcdtll5tBDDw3WzGS9FELY5nymQoFD2QXdFkGnYocfElyzZqftPxIcmWRd5Z+3bp9QR1OasyqiAdnNDuySPO3RtmUXWg+Lfhq/VU+JiGHufzZkaLTTrgK0baXqaSc0Lo/qy0PkJTSVJHOj96vIxCgjk8dLiPD9vTMVvay712guscqrtw7zgNSRWtm7HA+Tfi6uhzTM/c9GlWfgoW0rVRtzNC6P6uslqr9WMDS9QANR88Blp0oihnlAatqprJbDpJ8uSqhgUCXD3P9sVLkAG23t6ICwqrVKaFwe1ddLVH+tYGh6RZULNId9QJbVctj009lhVV6mf9j7nw19RhXXnEJbO1qLWNXFItG4PKqvl6j+KTqyDf7pQVHdw4wCsAJxFQz7gCx72flh00966bTOqhj2/mejqmtOoW06VU07oXF5VF8RdGD1qT1nm5Ett26UnXfdLYiPeTKcqn+4UyQ9Rj+WTB0DspW87Ymu71M0xT9s+kkn3eStqlNfh73/2SjbJyNSv8vEmBmpPa/XgjI6Hr5gY8KMj440bz8yYkbHJoLXxkZiz6eVkbHaliGJutOqHh+NthkxY+E2VfaVqqad6L/lUX150NT3P79nM/Pebf7V7H3UCnPE6Vc1ytzjzjZbbPdR87Z3bpx5cX3Qz8L/oUdo4WDavSnywE6v3A0Y29Y3gBpm0a8raxCGqP/ZUIamaJ+MaPtdxkfr373WuEa7Wxg3o9qmps14tFGozUigbf31kVrj6y+H28cECzRKChjV3ficBDH9469Xpa2oatqp7XcawD5cpcZZUX1ZWXLCUvPmt73LHP2lG8zKO3+WWpZ8+Q7ztk3eYz5/+LzwnekE7Q//hx6hU7er6HTs9Jqn8J545jdByUrH+gZMwyz6tet79z/+C/ON+18IH3WG/mdH6XR9VpLvPvHL8L/OZNE22ew4E2MjtW1qgS7RfOkVvE8aWIJoXA9t26Kf6h4dDX+XxGu1T1PwHq0F92TdVWkbkTbtdNHXnzK//t2fwkft6fidBqwPV6Hx8y/9Ptc+VPVl4egFx5oP7jzbfOnmJ60mxlY+OufzZu99RsNPsBNoFP4PPaSKG1ay05ucwlOqX8H4Xw5dYxauejzToMy6QxsUDbPqp75nuzx6pN8eSx7IZGzof3aiPpmc2pO2h531/UzGpt13SdMtjnSZMmW0Fj4zkuH3EqpbwTnIOiQ2Dr6XArul7qq0jUjLNErjnY6+15x/40/MSy//IXzWTsfv5On4b4f6ZrQP/ekLvwufTUf1dUIHUW/f5D25zExUNt1i27ZxUvVjaPqA4EKFJRcPstOrE6X4o4AclU6DslN9g6ZhVv3S+l5SPxmbq29/1vzhT38Ot2iG/peOLeDGte1kbNp9lyy61fXvrFVEtt8iDKS1jYLt44G69s7R4Peub9P8WrXairRpp7jG/3rE3eas636camw6fadB68NVaBwZmqicsnoiyNqkofraIXP/7k03q+2Lv2U1LJ3K8q9+1/zjP70l9WJ7qh9D0wdEiwfTfqgssNOrE11BNBmQOw3KTvUNmoZZ9Yv6XjKDkKbfxxfebzU29L90bLdCsGmblk1M/y6tUxZ2wu1qpfUIP4ldj1Yi/Vq11eOgHksGQlSpbYRt2smmcWRskvuATt9p0PpwFRonDU1U0vahqq8dOtB8/7/tbjUrWcus3UZT74Oo+jE0fYKOktN+qCz4utN71f96bXAEm7UccuYj5r2fPNvsueQ+62CMSnJQtt8BDJ6GefT7yIFXmt2OuqnpuU+f9KBVt6gkjQ39r7lomkNrOKLyzx8+1Hzhwvsaj22aRiVpbFK1TfnuViZqWkiz2vZtdcv6mdou/Jx6IA8Dc5B1iP/fGuCj9mzw6tc1aZSlSBub3tsffLXZdf6NTc/ZtI2X+D4gvf+KwevDRfvvCZf8R0Nr6WPTTcWW8VJ97dCp2Dp7yWZUsha9X59jQ/VjaPoEZRbK3LDS153e/3jVa6wDqqoSDcq2O7QB1LBb+kXGZuuZM4P66H/VFQVvBdzUvpny3dOpn4ET6Jv2poyfGegZbRS8ZzJTED1d17wejOP0g7bxosA9ssXWwXdi/OcrcWOj+trx9nduXHi6KSo66+mf3vzW8BObCTQP/4c+QIOp6A0r2ekVL1o4+N7Ntwrqs+7QBlDDbuqnI7vN3pei3wBqJ/op6E7f+H3Bd0lqGxyxR0EtM2FmIOV9aXokaWQHRBScR2J6R/VYgno/aasiU/6OGZtbNQ4YwD7cbY1lbP72Ne8Ia7ezwd+/OlgHYzMqeYraZSPQO/wf+oAyN7SLOjA7vexFRiZLhmYQNeyGfjIy0WJW+l/1RdN+Wstk1zbtu+v59trU9bNpm65HM5PTIHX0OPl7hc81tJ6kH7RVibKLmjZN67+C8d++RFN3qq8dyqwow2IzKVmLDJGMkQ3Vj6HpI8rc0M7Xnd5rX7dhEDTzll0PPMc6+FRkZDRHHL9GRfoObTA1zKvfLff/2Lz+bVuZ+x97MXisNSA27VTiRiaC/tdconUI8XLAkqvNxz5zevC/TdeozF32sFnz/Z+H3yRN2/p3bwS7iCDohW3UEb2lbUGAtuqXrkcT8ToCLN8lCr6WHzlqT5E1NNLFprfKhVfdZrbY7lONxzIsNn01/ld/++mmhe12jcVg9uGi/VcGOtJaU542/aKSXIeo+trxgX/5kDnk1EutRiVr+dzSVeZft98h/MRmVD+Gps9QRyxyk0Vfd3qtO5hsnHbx7S0D0GZkItLrG0wNi+inKy3r/kPCdpaTzchE0P86E78rfFJblaSRibB+l2D6ITFlofUbtecibQINmwLihBkPgqx9qmMi/MxO2qYH6knq23RP24j42U661EBcX8Z/Pmz7gHanv6u+duikF52lZDMqWctOex9mjj3WfmV91Y+h6TOK3rCSnV4z8cEYTy2nkVrfgGpYRD8tTI+u5xHXr52RiaD/ZSO6PUekbaSvrsycRst3iS88tZR6e6TjaH16Iv7aSE2T1uY2fqvGdhZNRKRZUFIyDE3b1Eryp3KlrYhf8ycyNO2MTETqdxqi8Z8kvg9oZ2QiVF87ZOjf+vaNC6+j0cX4dLsE3QPKRqBp+D/0CWlXFu0EO71mNBg/fOjNZt8jV7Y1MhHW+gZYw6L6aXstTJd+WYxMBP0vG9EBS2Rksujr6rv0CpftiV9kT2uQOgXhCOt3GsLxH0f7gMgMZtFQ9XXi0ssuM1tt91GrYelUdph9QHAPqDQCHcL/oY/QUUbeG1ay02tGA/DOu1ovaJYG+tWJFqZnMYFx0C8b0QGL1ixlBW3zEU07Zb2Pk0DjVrQ+Jo+Gqi8LH93l42afo8espiWt6A7cujN3O1Q/hqYPKXLDSgakHRmaLLefR7868XUeeUC/7OiAJc9FNNE2H2n3dmoHGpdH9WVBVyfXAuFttt/dnHHTD60GJiqaZlJmRmam05X0VT+Gpk9Ju2lgGgxIO8o4zJ8/P3yUDvpNonUeeRemo192NK7zXEQTbfORdm+ndqBxeVRfHlauWmU2+qe3mB0+fViQgYnMjUyMHu8896hgzUy7aaY4qh9D06foCG6vvfYKH3WGAWlHC8iyfAb6TXLttdcG788D+uVDn5u2uDEJ2ubHdm+ndqBxeVRfXpQR1kHnyJZbm//vVX8bfMYrX7le8HjevPmZx4jQezE0fUqU+s96w0oGZDo6Gu407YR+k2i6SQEhz84E/fKhrGGWzKFA2/zknXZC4/Kovl6i+jE0fYxuWBldF6QTDMh0tGPTDq4d6NdMnoAr0C8fMosyjVlA2/zoAIZpve62R/X1EtWPoelj4tcF6QQDMp3oCsztQL9m8l61Gv3yo7GdZZ0c2hZDn8+0Xvfao/p6ierH0PQ5CipZbljJgGxPp+CBfq3oM7SeJgvol5+s6+TQthjKMGa9/AUal0f19RLVj6HpczQos9ywkgHZnk7BA/1a0ZlOOuMpC+iXH62Ty5IFQ9tiaNqJ61B1rz2qrwg6YNfSigMPOsCMbLV5UPYd3SfYZ2e55EaE6sfQ9DlZU/8MyPZ0ur4K+rUirbJetTqqb7311gv+H/SidnejP+iqwZ1Okdf3QdtiqI4s0076XmhcDtWXB+1Xdv74x8yb3/5GM2u3rc3sw3cyC1d+Nij7LNjF/Nue25i3v/stgcHJ8huqfgzNAKAO2in1r20YkO3R52pdkg29hn6tKDuYJW2vwBzsUDwrrgNClnu3oW1xsk47oXF5VF9WTl12ivnHN73BHPSFPc3ljyxvW2Rw3vBPrzOfP+Kw8N12gjaH/0Mfo5vZsdMrj9KaOnPMBvrZyXrVavXRyET5UmRu815xNi9ZsmBoW5ys005oXB7VmQWZmX/56BZm1ZoTrAYmrXxsnw+Z/Q/4bPgprQTtDv+HPoadXjXomj7SyDbthH7paEF1Wmar2yhAqV1qX57TcvsZre3KcysEF0S6KrvnGzLkea6p5BIdIET7GemdNgU+iKhNnVA/e/f73mW+fP/JVtPSqWzxwfeYq6+5Kvy0ZoL9Xvg/9DlF7k9SNRp8OtoJOk5Y+mVHkRVlYvJe1r9KtMhWuvWLQciCMltZFwe7RIZe68ni/S/L+p5+p8il+qtERl9BX3r6FmRFnrOdXKL1kJHOUclyBuugoPa0Q/3sbe98qznzpgVWs5KlKKvz1ne8yXoV6EDT8H/oc7KmTl0SBeN46fWRZV6UiUmbdnKNtIp0y3LmWr+QJUPoGn0HZQ/ifU9Fv6cPyKj16uAgOa6znqo/KPTDvlPBXBnFuM4qg7b/bIfa0w4dGGnxr82o5CmfOmh7c8S8w8NPnSTQNPwfBgANiCwX4nJBPBjHS6e1Pf1GFJyz3lKiKuJTJSq93sHmJe8doqtGBjDe76KS535n/Uyvsgi2ce2LpnF6Oe2kfU7aGj2ftFZ72rHtB7cxR541ajUpecry6+abf3rzG8NPnSTQNPwfBgDtfHoxAGyp/qgMYopaGZpuHtlLv2SqWcWWNu1XenmUq7R8Wv+Trj6gYNvttiRNtm+axunltJP6r/bbtj7syzowofa043Ub/kOp6aZ4sdUVaBr+DwOAAmPaotZuoPq19kMdR2nqKEgP0noQkeVU2SqxTZWoZL1PV7+gna+CYK9Q/9NvpzEQPzV90NZxpdHtDGxyPVy8+LS2Q/TDtJPQdJ6MjfafkZnsdrbYFWpLO/73329gzrl5kdWg5C22uoK+G/4PA4IGQi8DoYKHBmSEzNUgZRpENO2kAOka7cCCgWYp+i0HiV5lCOMo4Md1U9/rxu/YDbTov9NNVKtG+umARAcnMlSRyen1CQguUBt7bX6la3wMyWj50n/Vb9qx6f95t1lyyUFWg5KnyBTJHCUJ9qvh/zAgKED28owI1T9ogdiGdirdNIY64lXKW2Ywyi4M2nSdjiT1vXt5RKmA0A9nrLhAgU369qJPJA2+L1mvOP1wtpPGvm+LriM6GRot5NWCXptJyVN0MT5dYTgJhmZAUVDs1Q5HOwWVQUdHpdq5dBNlOOJnN+noeJAMjdD6o15mCGWmfQ0IoheXFYiMlO/0etpJY10HMb5MMSXpZGi0v9voTa8vfA2aqOh2CLapbwzNgNJLU+FLQOnmtFNEtxcju0BTPr1cyCgz72tAEOof3c6A9sLc94peTjv1euy4ppOhEStXrTQf/OiWVqOSpexx8I6pt0DA0Awo0TqWXhzdq95BWzOTRrcvVqijQx8WW/aqHTKfPp6BEycy2t00bcnMoc/0ctpJ9fqscxZDIz615yfM6IKPWw1Lu6L1N5tv+d7UuIehGWB6MRfrW2paR0zdWo+kADWIp7jb6MXiVaH+3quLInaTbq/v6vU0Yjfp5bST9tmDdkZoHrIaGu0Dt9hqxMz8yHsznfWkqwPv8O/bBteeaXcwjaEZYEhNV0O3Mk7akfqSbpax7UWGUEfXyib4jsZZNxf+q1/a1iT4Si+mnXw6oEkjq6GJ0Fqxf3j9a82/7blNsND3C1cc1jAxunje51d82nx0zgdr27zGLFu+LHxXOhiaAUYDo9trQHRk7lvKVO3pRgpagbgXWQ1XyEx3ez2QzHQ3r9PSS7o5tet7oE3Si2knZRd9X6eU19AI9TvtG3XW0jve9ba6KakVZWM+sv2Hg5iTdfoVQzPgdHsNiFLTvbyxowu6lYLu9jSCa3qRrZOBH5bA2y2jrbVQvTzzpxf0YtqpW79nLyliaKoEQzPgdHtgqi7friAqupGCVlrfN+2URehW6l71+HyGSBL1lW4sgNYBSrenrvuBbk87qe/6nl3E0EBpZDK6Mf8dzQH7iOsUtLIKPqb1pVm3piA1veXTlF0WujG2e3nWTy9Rm9X2bqB95zBkFzE0UBpNOXXjcvTasfp6hKwjNZdHwzra9lE7rfHo1uJgGadhORMnohtnk/lyXam8uB7zcXpxAkcvwNBAaaJTqV0HFd8WtSZxeTSsQNwN09kLdGXbbgREH6fsOtGNs8m6PfXST3Qru62xPwxn5ykOBaaiRyWoP/wuMMB044wTmRmfj5BdpqClna87NJkZ13cuV0DXzmoY0cJrV4bR52nkLHRr2kmmcdjMeK/A0HhAN04J1BFyN45meoWOUnU07AJdU8RX7WQ2XJ9irGDg+ymvaehAxdXFBNUne3mj217TjWknjYthNeO9AEPjAVFQcZU61ucPw7UqtHN3cSaCtMt6LYVBxPUpqcpudWvxcb8RLSh10X+UcR22hdZJXE87yZD6Ot3cj2BoPEGpU1fpU18XtSZxsQhT2mmn6TMus1tCAcG36x/lwdWtCXyeCs2K62kn/XaulwPAJBgaT3AZVFymvfsJF2ftKBAPg3aaEnJ1nxoZwm5dNbcfcXURQ5+nQrPietpJ2bVh7rvdBkPjEdpBuVhAqHT/sBzJVR2Yh0U7mV4Xp6ZGUy7DjKt1Sq6msgYNV9NOys5269RwqIOh8QhXQcXl0Xe/UfUp1sOiXRR0q763mNY0DcM1PDohY1zlbU6ibCS4m3bSgQzrZ7oLhsYjFFR01FV1UBmmI7mqr+szTNpVHXSFPs/lguNBQRmEKtdiKZOLUazjatpJ+ro65R7sYGg8o+qLOLmeY+5HqrpY3LBp52IBNEFhkiqnRmQUu3ENlkGh6mmn6OCSKb3ugqHxDA3KKs9IGsYjuaoWQQ+jdup7VZ76rmkRgkIdZaqqOn1d/XuYzxxLUvW0k8bAMJwZ2m9gaDykyqMNDfJhS/krgFYx7STtqp6C6XeqXIOk6T8WVU5S5Vl4CrbKqEGdqrOpVZpPyA6GxkMURKu6nsqwpvw17VT2CLZb9znqJ6pMtUu7YTjlPQ9VLDLXbzTMtzxIo8oDwWE6kaKfwNB4SJULW12cuTIIyMyUvUfRsGpX1TouZbiqXA/mA8qAlTV5w3KhzLxUNe0Umfoq9r+QDwyNpyizUvYKldHUyzBSNtMgIzOsp8VWtY5LR7kubkUxyFQxHTosF3vMS1XTTuqz6rvQfTA0nqJ0fdlBpZSp6zsp9zPa6Rc1hcO4IDhOFWs0OMq1U6ZfimG52GMRqph2kr7Dtu6wX8DQeIoCgTIEZa4uOuyndpYxhVWfNTFoKGCWWcfFtEg6ZQ9WdJDC+g47VYxb9Vsyi70BQ+MxOlIoMzh1JDjMp3ZG005F1sEM62LqiLLruJSBGPY7QadRpl+KYV3blYWy005VnSEJxcDQeIwGZ5l1HEq/6jOGGS1wLXKnY+0Uh/2mdGWmRmTGXdxh2hdk9opcEmCY18Vlpcy007BPNfcaDI3n6IaVRdLLOsLg1M76OiJpmAeCRp0i2kVUsQbHZxRwFXjzoqmQYV4Xl4Uy006sT+otGBrPKXqap3aYRYORb+RdizTsi6njKFOVN8sXTalAe6RtXtOnYKugC+mUmXYq8ptAdWBoPKfofDs7vknypvfRbhLpllcLmWlOe+1MkUyC+jJTeZ0psrBXBz0Y8d6CoRkCilzojB3fJNqx5clWDfti6jgy0spw5VkkiSHMRnQrhDyoH5NB6EyRq61rvVhVt/2AYmBohgAF5LynwLKGoRkFjqxTJyymbkaLJPMYPAUFDGE2ZFDyrJHTujjOwOlMEbOoflvm+kBQHgzNkJB3blepU3Z8kyi1n+ViWSwIbkVnfuRZUyRDOOxniGVFWdSsWQGZ7CILiYcVmcU8007ax9JvewuGZkjIk0KV8cmb0fGdrGeVsJjaTtaF1RjCfOS53o+MZZETBIaVPPvMMguJoTowNENCnh0fc8F2smS5WP9hRxmuLAtYNX3CdTzyIb2yTHUow5hncfuwk2faSeOefWbvwdAMEUr7Z1mboICcdxHxMJDlrBLm0e1kDQ4KuFmm9mASjeksU3rDfvXqImSddkLb/gBDM0RkXcugU2bznrI4DGRJK7OYOh31vU47fQJDfpR1Vfa106UZWJuUn6zTTtJf06XQWzA0Q4R2fFnWMjA401FQ0DoZG1FgATvKJHSaTlL/pO/lR0G3XVaVvlmMLJlF1hz2DxiaIUPTSe1S+hrAnAmRTrsjNu3YWBCcjoKqMlxpmQT1PRZWFqPTpRnom8XpNO2kfQLr5voDDM2QoR1bu6ChdH+no+hhpt0Rm06hzXpWxLCiHX/awlT1Pc7CKY7Gddr1j+ibxek07aQp+jzXAgJ3YGiGEB1xpA1ALXpNCzhQJ+2ITTs9rq7cnnbrkNT3WIxenHZnkslI0jeL0e4gJprK01/oPRiaIUQ7trQjYWVnONpoj4Ku7YhNRocFwZ1JM4QsRi+HzGJa4NWC7LS1X9CZtD6r57jvWP+AoRlCoouX2RZfaofY6WyJYSftmj4cqWVDp7XbDDX6lSct8KaNd8hG2rST1iNymYH+AUMzpCigJNP72uF1WtEPdZLz5pzpkB2ZlqRxRr9q0JhOXuBNOrPYuhxp005kFfsLDM2QokGYDCAK0FmuUwOt99DRKclcKTQ7OtqNG2plbdotvIRsyLwo8MYzXRrXLPQvTzL7FWW6ySr2DxiaIUZHbfE1Hwowna6EC3WS005cXTkfyYwMi1arQwcl8SuCM66rITntxBmh/QeGZojR3G/8+gmahuIqrdmJBw6lnll0mQ8Zmkgz/c+C6mpI3gpB4zpucKAYyWknDmL6DwzNEJNMT+uCemnXsYBW4otbST3nR8FAR7zSTfpBNUR6RmuUZBYZ19UQn3bChPcfGJohJ8oyEFTyE82h33///VxduQCRfrfffjunvlaM1nNF2QPGdXVE005R34X+AkMz5ETpaaX+CSr5UYbmgAMOaGRqIB8KvLvuumvT1CeUR1kEZROUmYmvVYJyRNNOys5yEkD/gaEZcpSZ0QD9whe+QFAJURDIuuZA273xjW/MNJeuIBM/S8JXFixYYObNm9dob7si3XSke8wxx1hfj5cddtjB3HjjjWEt0AmN62XLlhF4M3DmmWead77znY3ryrQrr3vd68yb3vQms+OOO1pfj5fddtvNbLvttkxHdwkMjadoACktmgUZmfe85z3BUUcn9Jm+D84NN9zQTJkyxUlZf/31vdZPbdP0m86gU8YvS/nv//2/m0033dT6WrzI+Hzyk58Ma4JO6MymLbfckoWrGZABV5+1mZJkkUH5x3/8R3PQQQdZX48XmR5lyLLui6EcGBpP0Y7sta99rTUwJIvMzCte8Yrgr+31eNGgf/vb3+51UM6bTj733HMz7bCinZzvuGqn+p8yNcPMRRddlDmTsP/++wdm8VOf+pT19XiZPXu2mTlzZljL8KF+pf5VNUxNdRcMjacsWrQoWBsTT9m3K9pR2p5PFu345syZE9biJ652QlHw8B1X7cTQ5MskqLzqVa8yn/jEJ6yvxcuwZxLUrzA0gw+GxlMIysVBu3K4aieGJn/gzWpQhj3wYmj8AEPjKQTl4qBdOVy1E0ND4HUFuvoBhsZTCMrFQbtyuGonhobA6wp09QMMjacQlIuDduVw1U4MDYHXFejqBxgaTyEoFwftyuGqnRgaAq8r0NUPMDSeQlAuDtqVw1U7MTQEXlegqx9gaDyFoFwctCuHq3ZiaAi8rkBXP8DQeApBuThoVw5X7cTQEHhdga5+gKHxFIJycdCuHK7aiaEh8LoCXf0AQ+MpBOXioF05XLUTQ0PgdQW6+gGGxlMIysVBu3K4aieGhsDrCnT1AwyNpxCUi4N25XDVTgwNgdcV6OoHGBpPISgXB+3K4aqdGBoCryvQ1Q8wNJ5CUC4O2pXDVTsxNAReV6CrH2BoPIWgXBy0K4erdmJoCLyuQFc/wNB4CkG5OGhXDlftxNAQeF2Brn6AofEUgnJx0K4crtqJoSHwugJd/QBD4ykE5eKgXTlctRNDQ+B1Bbr6AYbGUwjKxUG7crhqJ4aGwOsKdPUDDI2nEJSLg3blcNVODA2B1xXo6gcYGk8hKBcH7crhqp0YGgKvK9DVDzA0nkJQLg7alcNVOzE0BF5XoKsfYGg8haBcHLQrh6t2YmgIvK5AVz/A0HgKQbk4aFcOV+3E0BB4XYGufoCh8RSCcnHQrhyu2omhIfC6Al39AEPjKQTl4ixdutTMmjUr2MlVWWbPnm3mzp0b1uIn69atM9tuu62ZOXNmo69UVTbaaCMzb968sKbhRP2IwFs9++67r5k6dWqgbZVl+vTpZsMNNzRr164NawKXYGg8BUNTnG222cZMmzbNuoMqUxSQtYPzGQyNWzA0brjooovMjBkzmg5Aqijqrzo4gu6AofEUBc4pU6Y4KRtssEEQuHwFM1gOV+1UIFeQGGYUIGXsIo2rKjvuuGMQ0Ic1k6B+hVEcfDA0nkJQLg7alcNVOzE0xixevNiZodl00029PlBpB4bGDzA0nkJQLg7alcNVOzE0BF5XoKsfYGg8haBcHLQrh6t2YmgIvK5AVz/A0HgKQbk4aFcOV+3E0BB4XYGufoCh8RSCcnHQrhyu2omhIfC6Al39AEPjKQTl4qBdOVy1E0ND4HUFuvoBhsZTCMrFQbtyuGonhobA6wp09QMMjacQlIuDduVw1U4MDYHXFejqBxgaTyEoFwftyuGqnRgaAq8r0NUPMDSeQlAuDtqVw1U7MTQEXlegqx9gaDyFoFwctCuHq3ZiaAi8rkBXP8DQeApBuThoVw5X7cTQEHhdga5+gKHxFIJycdCuHK7aiaEh8LoCXf0AQ+MpBOXioF05XLUTQ0PgdQW6+gGGxlMIysVBu3K4aieGhsDrCnT1AwyNpxCUi4N25XDVTgwNgdcV6OoHGBpPISgXB+3K4aqdGBoCryvQ1Q8wNJ5CUC4O2pXDVTsxNAReV6CrH2BoPIWgXBy0K4erdmJoCLyuQFc/wNB4CkG5OGhXDlftxNAQeF2Brn6AofEUgnJx0K4crtqJoSHwugJd/QBD4ykE5eKgXTlctRNDQ+B1Bbr6AYbGUwjKxUG7crhqJ4aGwOsKdPUDDI2nEJSLg3blcNVODA2B1xXo6gcYGk8hKBcH7crhqp0YGgKvK9DVDzA0nkJQLg7alcNVOzE0BF5XoKsfYGg8haBcnDlz5pgZM2Y02lpVmTlzptluu+3CWvxk3bp1Zvr06WajjTYKAkSVZerUqeaTn/xkWNNwQuB1wy677BL0r2SfK1s0FqZNm2aee+65sCZwCYbGUzA0xfnEJz7hzNBsu+22QdD3GRnC2bNnB8G3yqLf5KKLLgprGU6kgwJl1Qy7oVm9enXQv5J9rmyZN2+e+chHPhLWAq7B0HjKhhtuaKZMmeKkrL/++l4HZcxgOVy1U4FcQWKYkVF0lUn4h3/4B7N27dqwpuFC/Uo6VM2wG8Vug6HxFIJycdCuHK7aqYAz7IaGTIIbpAGGZvDB0HgKQbk4aFcOV+3E0BB4XYGufoCh8RSCcnHQrhyu2omhIfC6Al39AEPjKQTl4qBdOVy1E0ND4HUFuvoBhsZTCMrFQbtyuGonhobA6wp09QMMjacQlIuDduVw1U4MDYHXFejqBxgaTyEoFwftyuGqnRgaAq8r0NUPMDSeQlAuDtqVw1U7MTQEXlegqx9gaDyFoFwctCuHq3ZiaAi8rkBXP8DQeApBuThoVw5X7cTQEHhdga5+gKHxFIJycdCuHK7aiaEh8LoCXf0AQ+MpBOXioF05XLUTQ0PgdQW6+gGGxlMIysVBu3K4aieGhsDrCnT1AwyNpxCUi4N25XDVTgwNgdcV6OoHGBpPISgXB+3K4aqdGBoCryvQ1Q8wNJ5CUC4O2pXDVTsxNAReV6CrH2BoPIWgXBy0K4erdmJoCLyuQFc/wNB4CkG5OGhXDlftxNAQeF2Brn6AofEUgnJx0K4crtqJoSHwugJd/QBD4ykE5eKgXTlctRNDQ+B1Bbr6AYbGUwjKxUG7crhqJ4aGwOsKdPUDDI2nEJSLg3blcNVODA2B1xXo6gcYGk8hKBcH7crhqp0YGgKvK9DVDzA0nkJQLg7alcNVOzE0BF5XoKsfYGg8haBcHLQrh6t2YmgIvK5AVz/A0HgKQbk4aFcOV+3E0BB4XYGufoCh8RSCcnE+9KEPmWnTpgU7uCrLRhttZGbMmGHWrVsX1uQfatv6669vpkyZ4qRsueWWYU3DCYHXDbNmzbL2tyrKX//1X5u1a9eGNYFLMDSesnTp0mCQagdYZZk9e7aZO3duWIufLFq0yJl2c+bMCWvxFzI07lD7MTTVg65+gKHxlG222cZZlmH69OlhLX5CdqscGBp3KENlywJUUf7bf/tv5rnnngtrGi4wNH6AofEUgnJx0K4crtqJoSHwugJd/QBD4ykE5eKgXTlctRNDQ+B1Bbr6AYbGUwjKxUG7crhqJ4aGwOsKdPUDDI2nEJSLg3blcNVODA2B1xXo6gcYGk8hKBcH7crhqp0YGgKvK9DVDzA0nkJQLg7alcNVOzE0BF5XoKsfYGg8haBcHLQrh6t2YmgIvK5AVz/A0HgKQbk4aFcOV+3E0BB4XYGufoCh8RSCcnHQrhyu2omhIfC6Al39AEPjKQTl4qBdOVy1E0ND4HUFuvoBhsZTCMrFQbtyuGonhobA6wp09QMMjacQlIuDduVw1U4MDYHXFejqBxgaTyEoFwftyuGqnRgaAq8r0NUPMDSeQlAuDtqVw1U7MTQEXlegqx9gaDyFoFwctCuHq3ZiaAi8rkBXP8DQeApBuThoVw5X7cTQEHhdga5+gKHxFIJycdCuHK7aiaEh8LoCXf0AQ+MpBOXioF05XLUTQ0PgdQW6+gGGxlMIysVBu3K4aieGhsDrCnT1AwyNpxCUi4N25XDVTgwNgdcV6OoHGBpPISgXB+3K4aqdGBoCryvQ1Q8wNJ5CUC4O2pXDVTsxNAReV6CrH2BoPIWgXBy0K4erdmJoCLyuQFc/wNB4CkG5OGhXDlftxNAQeF2Brn6AofEUgnJx0K4crtqJoSHwugJd/QBD4ykE5eKgXTnmzp1rZs+eHQSJKsuMGTPM6tWrw1qGE+lA4K0e9Sv1r2SfK1vmzZtnPvKRj4S1gGswNJ5CUC7O9OnTzZQpU5yUDTbYwKxbty6syT/Wrl1rNtpoo6Ao8FZZpk6dambNmhXWNJwoSEqLqhl2Q7PLLrsE/SvZ58oW7UumTZtmnnvuubAmcAmGxlPmzJkTHHFEBqSqMnPmTLPddtuFtfgJZrAcrtqpAKGAPsyQSXCDNFD/qpphN4rdBkPjKRia4mBoyuGqnRgaMgmuwND4AYbGUwjKxUG7crhqpwLOsBsaAq8b0NUPMDSeQlAuDtqVw1U7MTQEXlegqx9gaDyFoFwctCuHq3ZiaAi8rkBXP8DQeApBuThoVw5X7cTQEHhdga5+gKHxFIJycdCuHK7aiaEh8LoCXf0AQ+MpBOXioF05XLUTQ0PgdQW6+gGGxlMIysVBu3K4aieGhsDrCnT1AwyNpxCUi4N25XDVTgwNgdcV6OoHGBpPISgXB+3K4aqdGBoCryvQ1Q8wNJ5CUC4O2pXDVTsxNAReV6CrH2BoPIWgXBy0K4erdmJoCLyuQFc/wNB4CkG5OGhXDlftxNAQeF2Brn6AofEUgnJx0K4crtqJoSHwugJd/QBD4ykE5eKgXTlctRNDQ+B1Bbr6AYbGUwjKxUG7crhqJ4aGwOsKdPUDDI2nEJSLg3blcNVODA2B1xXo6gcYGk8hKBcH7crhqp0YGgKvK9DVDzA0nkJQLg7alcNVOzE0BF5XoKsfYGg8haBcHLQrh6t2YmgIvK5AVz/A0HgKQbk4aFcOV+3E0BB4XYGufoCh8RSCcnHQrhyu2omhIfC6Al39AEPjKQTl4qBdOVy1E0ND4HUFuvoBhsZTCMrFQbtyuGonhobA6wp09QMMjacQlIuDduVw1U4MDYHXFejqBxgaTyEoFwftyuGqnRgaAq8r0NUPMDSeQlAuDtqVw1U7MTQEXlcsXrzYbLTRRo2+W1XZcccdzaabbmrWrVsX1gQuwdB4CkG5OBtuuKGZMmWKk7L++ut7v3Nz1UcwNBgaV8ybN8+ZoZkxY4ZZu3ZtWBO4BEPTB0yMjZqRIOCNmLGJ8MkaE+Ph8yNjJvZ0Jrbcckszbdq0YOdXZdGgnz59el8F5ar1G0YzWKWGrtqp/jdIhsbFuF6xYoWzwLvZZpuFtfQvLjQVGEU/wND0Gg3EYGSOm1ENyNHxxvPRUX399XwsWrTIzJo1KxioVZbZs2ebOXPmhLX0AQ70GzpDU7GGrto5UIbGQb8UQ51JcKSpUL/C0Aw+GJo+YnxUg3K0NlzrA7bo4BTDmGWoSr9h1C6iCg1dtXPQMjQRVY5rAm+dKjUV6OoHGJo+YmJspDZIR8zISPkBOoxBuSr9htnQlNVQU5FvetObgiyCAkSVZerUqWaXXXYJaxocqhzXBN46VWoq0NUPMDT9xMRYMA88EqVSSzCUQbki/YbZ0FSh4dy5c4OpSQWJKoumRFavXh3WMkBUOK6lA4G3RoWaCnT1AwxNH6GFbcFccLtBOjFuRmtHJZ3G8TAG5Y76TUyY8dHaUZ22CcpITcfWo7thNjSdNJwYH6v1Px0dp2voqp0KOAo8g0amcR0SZR7Skg4E3jp5NM0CuvoBhqZf0AAdGQ3MinWlfs3IjCkY6/XaQMbQJOikX+2ZsSA9PR6+JnMjLVuDx9Aamo4a1tcudNLQVTsH0tBk0LRBmHXA0HQgj6YZQVc/wND0ATraGAl3YvUjNC12SzA+buoHwvVFcBiaSTLpZ0M7RgxNQDkNm7d11c5BMzT5NJXhrm07LlPT2icjhj3wZtO0nonVgV99Sqqmbfg4zQBhaPwAQ9NLgmCgIzId9YbDLHyuPg5rO7cW54KhaVBIv0mCHaJlBzdUhqaEhvXpp9GW4OuqnQNjaApoqr4YbBtsh6FpIYemulaNNqmP71EzOjpWPxhsoy2Gxg8wND2knq6PDdCA+tRI8HxtILaOPQxNRDH96gRHerWdnU3GYTI0hTSMBxdpmNjAVTsHxdDk1lTBODLWbYKuGNbAW6Sf1t8TG+OBtvYxj6HxAwzNwIGhKUs7MyPQLiusoSmPFvnH9GsYGgXr1j5K4M1K3ezEDVDQV5ly8hoMzcCBoSlDkNpvY2YE2qUzMR4tCA5RdiHRH12100tDE8t2tRYMTWFa+mV9v9mc4ZkEXf0AQzNoBIsG0wdmBEHZgiXlLIOTNIdol0Z01Bs7y0nrFMjQVEcjQxM+TkDgzUhyrMcMTrTGJg66+gGGZlBIOZJLMzYE5ST1I7RWDVuDB9qlU5+ui+k3wqLg6pg8O4e1HuVonV6K1tvUDmAs+0x09QMMjacQlIuDduVw1U7/DU1nCLxuQFc/wNB4CkG5OGhXDlftxNAQeF2Brn6AofEUgnJx0K4crtqJoSHwugJd/QBD4ykE5eKgXTlctRNDQ+B1Bbr6AYbGUwjKxUG7crhqJ4aGwOsKdPUDDI2nEJSLg3blcNVODA2B1xXo6gcYGk8hKBcH7crhqp0YGgKvK9DVDzA0nkJQLg7alcNVOzE0BF5XoKsfYGg8haBcHLQrh6t2YmgIvK5AVz/A0HgKQbk4aFcOV+3E0BB4XYGufoCh8RSCcnHQrhyu2omhIfC6Al39AEPjKQTl4qBdOVy1E0ND4HUFuvoBhsZTCMrFQbtyuGonhobA6wp09QMMjacQlIuzdOlSM2vWrGAnV2WZPXu2mTt3bliLv2Bo3KH2E3irZ9999zVTp04NtK2yTJ8+3Wy44YZm7dq1YU3gEgyNp2BoirPNNtuYadOmWXdQZcpGG20U7OB8B0PjDgyNG2688UbzgQ98INC3yrJ48eLgQAa6A4bGUxQ4p0yZ4qRssMEGZt26dWFN/qGjqSeffDJ8VB36zGE4UsPQuGPevHmBMY40rqrsuOOOZsaMGWQSYKDB0HjKPffcY1avXh0+qo5rr7126IMKtCcKklWDoTFm+fLlwcFK3IxUUXbbbTezxRZbeH2gAv6DoQGASomCZNVgaACgHRgaAKgMHeGvv/761qnKKsqWW24Z1gQA0AyGBgAq5eGHHw5K1Wi6kzUeAJAGhgYAAAAGHgwNAAAADDwYGgAAABh4MDQAAD4wPhosnB4dDx9DDibM2MgUMwXxBhoMDQCAB4yP6kywETM2ET4B2ZkYMyM1MziCeAMNhgZqjJtRnRbL0QkADCNBdgszOOhgaICjEwAYaibGRmqGZrR2aAeDDIYGmHuHwtSnOSZLvA8Fr9WeqAcLvd4cMJrfq9fqmcLGZ4T9Mlmi14P3j4yZpA0f1uCU1CPSPzpgqetHFsKGrS9N9tuoxPuUPatdf09C42Q/TrwHqgNDA0MbADrRMeDWsAeNSMtwoWH4vF8ZsKhtsX4jDRpBoa7VyEitb7XswC3vbez00wJuGEBiQcfeb4d1cWcywMb0T/wmBNQkrbrUx368Lyb7bPg4YYKSxqjlc8iGOwVDAy2DELIG3HZBY7T2d3Lb+o4tGXwHF+uRaJzI4Nn6VaBl63vbGWurfrbPSfls70kGyobBjmtmD8JDT1K7cKy3+L7E8619MtwftP2cxDZQKRiaoaf16GToSQmKLQG3XdBI7Mj8yoKFbWzXZ9KCQmpQTf/MunaWzwr1jz8/tOY82Wet+mf43YaRJu3S+meNhKYtY7rj54TPDaPh7hIYmmEneXQy9KTt0CzBwBo07AbRqwxNhj6TbuDSjlBTno9MozUIJ95jMTjDQlJvu/5p2g83zVqla1TfLmkaEwYm6nxRv02WYTTbXQRDM+xYg/Iwkz3gWoOGNahazNAgk6HPpGZK0sxQO3OYGgTi5tMzjXOS1NuqP2PdSpNWaf2zRstBSXysN5mbGtb9ALgGQzPk2I/khpgcATc9aCRTyp4dGXcMjKERsW1g1TfcPqFbPYAktWymEWSC7zSs/Tipt11/xrqNhFZp479Nvx0ZG2810xianoChGXKsQXmYyRxwcwQN73ZuYdvj/UaGIhEU7O1N6hYGhaaF1TU6mqY6db312wxx8EjqnaI/Y91Cy3iPZ/1Cwm2SY72xrV5rMYq2/YO2b2/QoRwYmqHGHpSHm4wB1xo0LDvDGvWg69mOLDQcjdJiRtq0t+m99e2CYNsQMx4o4sWSXYg+a5j7cFJvq/6hpoz1ZqxahfuAWLHLNtlPra9HRihe0N8pGJphpuXoBAI6Btwa7XaEiZ0WR8buQFsAiMDQAMBAEpgZ1oQAQAiGBgAGDi+n8QCgFBgaAAAAGHgwNAAAADDwYGgAAABg4MHQAAAAwMCDoQEAAICBB0MDAAAAAw+GBgAAAAYeDA0AAAAMPBgaAAAAGHgwNAAAADDwYGgAAABg4MHQAAAAwMCDoQEAAICBB0MDAAAAAw+GBgAAAAYcY/5/l5ERMfVT70MAAAAASUVORK5CYII=)\n",
        "\n",
        "\n"
      ]
    },
    {
      "cell_type": "markdown",
      "metadata": {
        "id": "AglSfOJyMot4"
      },
      "source": [
        "## nn.Embedding\n",
        "In Lab4 Section *Text Classification using Bi-RNN*, we provide the embeddings for each token in each sentence (Check Lab4 Extension). These are constructed by the pre-trained word embedding model. For example, if the sequence length of the corpus is 8 (think about why we want a uniform sequence length for the whole dataset), the embedding for the sentence \"i am crazy in love\" should be:\n",
        "- $[W_{i}, W_{am}, W_{crazy}，W_{in}, W_{love}, W_{[PAD]}, W_{[PAD]}, W_{[PAD]}]$  (if you choose post-padding)\n",
        "\n",
        " or\n",
        "\n",
        "- $[W_{[PAD]}, W_{[PAD]},W_{[PAD]}, W_{i}, W_{am}, W_{crazy}，W_{in}, W_{love}]$ (if you choose pre-padding).\n",
        "\n",
        "Therefore, after getting the embedding of each sentence, you will get a tensor with the shape of (train_size, seq_length, emb_dimension). However, if these three values (train_size, seq_length, emb_dimension) are too large, you might get an Out-Of-Memory(OOM) problem due to limited CPU/GPU.\n",
        "\n",
        "One solution is to use **[nn.Embedding](https://pytorch.org/docs/stable/generated/torch.nn.Embedding.html)** from PyTorch as a lookup table to get the embedding for each token/word during the training process instead of generating them all beforehand.\n",
        "\n",
        "\n"
      ]
    },
    {
      "cell_type": "markdown",
      "source": [
        "### Create the lookup table for the vocabulary using pretrained word embeddings"
      ],
      "metadata": {
        "id": "H4EfqGnXfeqT"
      }
    },
    {
      "cell_type": "markdown",
      "source": [
        "First, we will create a lookup table for our vocabulary, which will be used later to initialize the nn.Embedding (See the follow-up Modeling and Training section).  We will use two pre-trained embeddings and concatenate them in the lookup table so that we can use the concatenated embeddings to represent each word in the sentence. "
      ],
      "metadata": {
        "id": "AQyuAilofoSw"
      }
    },
    {
      "cell_type": "code",
      "metadata": {
        "id": "7yf5iTXwbSbu"
      },
      "source": [
        "# Let's create some toy data for sentiment analysis\n",
        "# We will just use all the data to focus on the training only\n",
        "sentences = [['i','like','that'],\n",
        "             ['i','love','it'],\n",
        "             ['i','hate','that'],\n",
        "             ['i','do','not','like','it']]\n",
        "labels = [\"Positive\",\"Positive\",\"Negative\",\"Negative\"]"
      ],
      "execution_count": null,
      "outputs": []
    },
    {
      "cell_type": "code",
      "metadata": {
        "colab": {
          "base_uri": "https://localhost:8080/"
        },
        "id": "o4BPx7dgP2XO",
        "outputId": "f841f375-5fa3-43f4-e19f-c7a33d06ab90"
      },
      "source": [
        "# Get the vocabulary list from the training data for creating the lookup table later\n",
        "# In practice, we only use the vocabulary from training data\n",
        "word_set = set() \n",
        "for sent in sentences:\n",
        "    for word in sent:\n",
        "        word_set.add(word)\n",
        "\n",
        "# Normally we add the special tokens for representing the padding and unknown words separately\n",
        "# Sometimes we can also use same token to present padding and unknown words if we don't have to differentiate them\n",
        "word_set.add('[PAD]')\n",
        "word_set.add('[UNKNOWN]')\n",
        "\n",
        "word_list = list(word_set) \n",
        "\n",
        "# Although in some python versions, converting a set to list will return a ordered result, \n",
        "# It is still highly recommended that you sort this list to ensure the reproducibility of your code\n",
        "word_list.sort()\n",
        "print(word_list)\n",
        "\n",
        "word_index = {}\n",
        "ind = 0\n",
        "for word in word_list:\n",
        "    word_index[word] = ind\n",
        "    ind += 1\n",
        "print(word_index)"
      ],
      "execution_count": null,
      "outputs": [
        {
          "output_type": "stream",
          "name": "stdout",
          "text": [
            "['[PAD]', '[UNKNOWN]', 'do', 'hate', 'i', 'it', 'like', 'love', 'not', 'that']\n",
            "{'[PAD]': 0, '[UNKNOWN]': 1, 'do': 2, 'hate': 3, 'i': 4, 'it': 5, 'like': 6, 'love': 7, 'not': 8, 'that': 9}\n"
          ]
        }
      ]
    },
    {
      "cell_type": "code",
      "metadata": {
        "id": "d8qy1GsrXRRE",
        "colab": {
          "base_uri": "https://localhost:8080/"
        },
        "outputId": "b8daf832-c52b-41fd-a28d-798a629bd8d6"
      },
      "source": [
        "# Download the first Pre-trained Embedding\n",
        "import gensim.downloader as api\n",
        "word_emb_model = api.load(\"glove-twitter-25\")\n",
        "\n",
        "# Create the Embedding lookup table for the first pre-trained embedding\n",
        "import numpy as np\n",
        "emb_dim = word_emb_model.vector_size\n",
        "\n",
        "emb_table = []\n",
        "for i, word in enumerate(word_list):\n",
        "    if word in word_emb_model:\n",
        "        emb_table.append(word_emb_model[word])\n",
        "    else:\n",
        "        # The pretrained glove twitter does not contain the embeddings for the [PAD] and [UNKNOWN] tokens we defined\n",
        "        # Here, we just use all 0 for both [PAD] and [UNKNOWN] tokens for simplicity\n",
        "        emb_table.append([0]*emb_dim)\n",
        "emb_table = np.array(emb_table)\n",
        "    \n",
        "# print(emb_table)"
      ],
      "execution_count": null,
      "outputs": [
        {
          "output_type": "stream",
          "name": "stdout",
          "text": [
            "[==================================================] 100.0% 104.8/104.8MB downloaded\n"
          ]
        }
      ]
    },
    {
      "cell_type": "code",
      "source": [
        "# Download another pre-trained word embedding\n",
        "word_emb_model2 = api.load(\"glove-twitter-50\")\n",
        "\n",
        "emb_dim = word_emb_model.vector_size+word_emb_model2.vector_size\n",
        "\n",
        "# Add the second pre-trained word embedding to the Embedding lookup table via concatenation\n",
        "emb_table = []\n",
        "for i, word in enumerate(word_list):\n",
        "    if word in word_emb_model:\n",
        "        emb_table.append(np.concatenate((word_emb_model[word],word_emb_model2[word]),0))\n",
        "    else:\n",
        "        emb_table.append([0]*emb_dim)\n",
        "emb_table = np.array(emb_table)\n",
        "# print(emb_table)"
      ],
      "metadata": {
        "id": "ncSZN7PzbPP8",
        "colab": {
          "base_uri": "https://localhost:8080/"
        },
        "outputId": "5764e7ea-de0f-45fa-e6b4-ba011c8ab0a9"
      },
      "execution_count": null,
      "outputs": [
        {
          "output_type": "stream",
          "name": "stdout",
          "text": [
            "[==================================================] 100.0% 199.5/199.5MB downloaded\n"
          ]
        }
      ]
    },
    {
      "cell_type": "markdown",
      "source": [
        "### Input preparation and setup"
      ],
      "metadata": {
        "id": "oFzJ4rkcg29c"
      }
    },
    {
      "cell_type": "code",
      "metadata": {
        "colab": {
          "base_uri": "https://localhost:8080/"
        },
        "id": "PTH00TdBUdcr",
        "outputId": "a08ba483-dc0a-4ca9-ebb2-c74121324cd7"
      },
      "source": [
        "# Convert the sentences to the word index that aligns with the lookup table\n",
        "len_list = [len(s) for s in sentences]\n",
        "seq_length = max(len_list)\n",
        "\n",
        "# Padding and encoding\n",
        "def encode_and_add_padding(sentences, seq_length, word_index):\n",
        "    sent_encoded = []\n",
        "    for sent in sentences:\n",
        "        temp_encoded = [word_index[word] if word in word_index else word_index['[UNKNOWN]'] for word in sent]\n",
        "        if len(temp_encoded) < seq_length:\n",
        "            temp_encoded += [word_index['[PAD]']] * (seq_length - len(temp_encoded))\n",
        "        sent_encoded.append(temp_encoded)\n",
        "    return sent_encoded\n",
        "\n",
        "sent_encoded = encode_and_add_padding(sentences, seq_length, word_index)\n",
        "print(sent_encoded)"
      ],
      "execution_count": null,
      "outputs": [
        {
          "output_type": "stream",
          "name": "stdout",
          "text": [
            "[[4, 6, 9, 0, 0], [4, 7, 5, 0, 0], [4, 3, 9, 0, 0], [4, 2, 8, 6, 5]]\n"
          ]
        }
      ]
    },
    {
      "cell_type": "code",
      "metadata": {
        "colab": {
          "base_uri": "https://localhost:8080/"
        },
        "id": "OVuQAwJrbUSJ",
        "outputId": "0e18f542-b5c1-48ed-b0cc-0a7eb3af22f7"
      },
      "source": [
        "# LabelEncoder can help us encode target labels with a value between 0 and n_classes-1.\n",
        "# Details can be found here: https://scikit-learn.org/stable/modules/generated/sklearn.preprocessing.LabelEncoder.html\n",
        "from sklearn.preprocessing import LabelEncoder\n",
        "\n",
        "lEnc = LabelEncoder()\n",
        "lEnc.fit(labels)\n",
        "label_encoded= lEnc.transform(labels)\n",
        "\n",
        "print(label_encoded)"
      ],
      "execution_count": null,
      "outputs": [
        {
          "output_type": "stream",
          "name": "stdout",
          "text": [
            "[1 1 0 0]\n"
          ]
        }
      ]
    },
    {
      "cell_type": "code",
      "metadata": {
        "id": "FhridrFgxSPD",
        "colab": {
          "base_uri": "https://localhost:8080/"
        },
        "outputId": "2e424a66-c7a8-4ff2-d1cc-fb645e1f9211"
      },
      "source": [
        "# Setup for the modeling and training\n",
        "vocab_size = len(word_list)\n",
        "print(vocab_size)\n",
        "unique_labels = np.unique(labels)\n",
        "n_class = len(unique_labels)\n",
        "n_hidden = 32\n",
        "\n",
        "# Set hyperparameters\n",
        "learning_rate = 0.01\n",
        "total_epoch = 10"
      ],
      "execution_count": null,
      "outputs": [
        {
          "output_type": "stream",
          "name": "stdout",
          "text": [
            "10\n"
          ]
        }
      ]
    },
    {
      "cell_type": "markdown",
      "source": [
        "### Modeling and Training"
      ],
      "metadata": {
        "id": "fv_eFz2Ojl6B"
      }
    },
    {
      "cell_type": "markdown",
      "source": [
        "Now, we can initialize the nn.Embedding using the lookup table we created above."
      ],
      "metadata": {
        "id": "eYLZP5lAjwoh"
      }
    },
    {
      "cell_type": "code",
      "metadata": {
        "id": "ffYFrRaE1Ju5",
        "colab": {
          "base_uri": "https://localhost:8080/"
        },
        "outputId": "0e04e855-ad33-49b3-ebd8-093859ed2958"
      },
      "source": [
        "import torch\n",
        "import torch.nn as nn\n",
        "import torch.nn.functional as F\n",
        "import torch.optim as optim\n",
        "from sklearn.metrics import accuracy_score\n",
        "\n",
        "device = torch.device(\"cuda\" if torch.cuda.is_available() else \"cpu\")\n",
        "\n",
        "# Define the model\n",
        "class Bi_LSTM_Emb(nn.Module):\n",
        "    def __init__(self):\n",
        "        super(Bi_LSTM_Emb, self).__init__()\n",
        "        self.emb = nn.Embedding(vocab_size, emb_dim)\n",
        "        # [IMPORTANT] Initialize the Embedding layer with the lookup table we created \n",
        "        self.emb.weight.data.copy_(torch.from_numpy(emb_table))\n",
        "        # Optional: set requires_grad = False to make this lookup table untrainable\n",
        "        self.emb.weight.requires_grad = False\n",
        "\n",
        "        self.lstm = nn.LSTM(emb_dim, n_hidden, batch_first =True, bidirectional=True)\n",
        "        self.linear = nn.Linear(n_hidden*2, n_class)\n",
        "\n",
        "    def forward(self, x):\n",
        "        # Get the embeded tensor\n",
        "        x = self.emb(x)        \n",
        "        # we will use the returned h_n of shape (num_layers * num_directions, batch, hidden_size): tensor containing the hidden state for t = seq_len.\n",
        "        # details of the outputs from nn.LSTM can be found from: https://pytorch.org/docs/stable/generated/torch.nn.LSTM.html\n",
        "        lstm_out, (h_n, c_n) = self.lstm(x)\n",
        "        # concat the last hidden state from two direction\n",
        "        hidden_out = torch.cat((h_n[0,:,:],h_n[1,:,:]),1)\n",
        "        z = self.linear(hidden_out)\n",
        "        return z\n",
        "\n",
        "# Move the model to GPU\n",
        "model = Bi_LSTM_Emb().to(device)\n",
        "# Loss function and optimizer\n",
        "criterion = nn.CrossEntropyLoss()\n",
        "optimizer = optim.Adam(model.parameters(), lr=learning_rate)\n",
        "\n",
        "# Preparing input\n",
        "input_torch = torch.from_numpy(np.array(sent_encoded)).to(device)\n",
        "targe_torch = torch.from_numpy(np.array(label_encoded)).view(-1).to(device)\n",
        "\n",
        "for epoch in range(total_epoch):  \n",
        "    \n",
        "    # Set the flag to training\n",
        "    model.train()\n",
        "    \n",
        "    # forward + backward + optimize\n",
        "    optimizer.zero_grad()\n",
        "    outputs = model(input_torch) \n",
        "    loss = criterion(outputs, targe_torch)\n",
        "    loss.backward()\n",
        "    optimizer.step()\n",
        "    \n",
        "    predicted = torch.argmax(outputs, -1)\n",
        "    acc= accuracy_score(predicted.cpu().numpy(),targe_torch.cpu().numpy())\n",
        "\n",
        "    print('Epoch: %d, loss: %.5f, train_acc: %.2f' %(epoch + 1, loss.item(), acc))\n",
        "\n",
        "print('Finished Training')\n",
        "\n",
        "\n"
      ],
      "execution_count": null,
      "outputs": [
        {
          "output_type": "stream",
          "name": "stdout",
          "text": [
            "Epoch: 1, loss: 0.74230, train_acc: 0.50\n",
            "Epoch: 2, loss: 0.64616, train_acc: 0.50\n",
            "Epoch: 3, loss: 0.54852, train_acc: 0.75\n",
            "Epoch: 4, loss: 0.47430, train_acc: 0.75\n",
            "Epoch: 5, loss: 0.40185, train_acc: 0.75\n",
            "Epoch: 6, loss: 0.30695, train_acc: 1.00\n",
            "Epoch: 7, loss: 0.24170, train_acc: 1.00\n",
            "Epoch: 8, loss: 0.16088, train_acc: 1.00\n",
            "Epoch: 9, loss: 0.09567, train_acc: 1.00\n",
            "Epoch: 10, loss: 0.05354, train_acc: 1.00\n",
            "Finished Training\n"
          ]
        }
      ]
    },
    {
      "cell_type": "code",
      "metadata": {
        "id": "kal8eNsMezo_"
      },
      "source": [
        "# You can check whether model.emb.weight changed\n",
        "# You can also try to comment self.emb.weight.requires_grad = False and then train the model and check again\n",
        "# print(model.emb.weight)"
      ],
      "execution_count": null,
      "outputs": []
    },
    {
      "cell_type": "markdown",
      "source": [
        "#Build a simple user interface"
      ],
      "metadata": {
        "id": "qiyqXPZ8XZ3y"
      }
    },
    {
      "cell_type": "markdown",
      "source": [
        "When we have a well trained model ready to be used by others, it would be wonderful to have a friendly user interface instead of aking users to enter the input in the code fields. In colab, we can simply build up a user interface via the build-in ***Form Fields*** (Actually, we've already experienced the text fields in Lab1 E1 and different types of fieds in Lab2)"
      ],
      "metadata": {
        "id": "GE9x83zPXh8S"
      }
    },
    {
      "cell_type": "markdown",
      "source": [
        "In this section, we will focus on practising how to build a simple user friendly interface for retrieving the most similar word for the query word from a trained Word2Vec model. Let's just use the Gensim Word2Vec CBOW model from Lab2."
      ],
      "metadata": {
        "id": "oPGqepDKxIe8"
      }
    },
    {
      "cell_type": "markdown",
      "source": [
        "## Train word embeddings via Gensim Word2Vec model"
      ],
      "metadata": {
        "id": "ftOOq56txdue"
      }
    },
    {
      "cell_type": "code",
      "source": [
        "## Download the corpus - TED scripts\n",
        "\n",
        "!pip install -U -q PyDrive\n",
        "from pydrive.auth import GoogleAuth\n",
        "from pydrive.drive import GoogleDrive\n",
        "from google.colab import auth\n",
        "from oauth2client.client import GoogleCredentials\n",
        "# Authenticate and create the PyDrive client.\n",
        "auth.authenticate_user()\n",
        "gauth = GoogleAuth()\n",
        "gauth.credentials = GoogleCredentials.get_application_default()\n",
        "drive = GoogleDrive(gauth)\n",
        "\n",
        "id = '1B47OiEiG2Lo1jUY6hy_zMmHBxfKQuJ8-'\n",
        "downloaded = drive.CreateFile({'id':id}) \n",
        "downloaded.GetContentFile('ted_en-20160408.xml')  "
      ],
      "metadata": {
        "id": "Fb20Ke66xmnG"
      },
      "execution_count": null,
      "outputs": []
    },
    {
      "cell_type": "code",
      "source": [
        "## Process and prepare the data for word2vec model training\n",
        "\n",
        "import re\n",
        "from lxml import etree \n",
        "import nltk\n",
        "nltk.download('punkt')\n",
        "from nltk.tokenize import word_tokenize, sent_tokenize\n",
        "from gensim.models import Word2Vec\n",
        "\n",
        "targetXML=open('ted_en-20160408.xml', 'r')\n",
        "\n",
        "# Getting contents of <content> tag from the xml file\n",
        "target_text = etree.parse(targetXML)\n",
        "parse_text = '\\n'.join(target_text.xpath('//content/text()'))\n",
        "\n",
        "# Removing \"Sound-effect labels\" using regular expression (regex) (i.e. (Audio), (Laughter))\n",
        "content_text = re.sub(r'\\([^)]*\\)', '', parse_text)\n",
        "\n",
        "# Tokenising the sentence to process it by using NLTK library\n",
        "sent_text=sent_tokenize(content_text)\n",
        "\n",
        "# Removing punctuation and changing all characters to lower case\n",
        "normalized_text = []\n",
        "for string in sent_text:\n",
        "     tokens = re.sub(r\"[^a-z0-9]+\", \" \", string.lower())\n",
        "     normalized_text.append(tokens)\n",
        "\n",
        "# Tokenising each sentence to process individual word\n",
        "sentences=[]\n",
        "sentences=[word_tokenize(sentence) for sentence in normalized_text]\n",
        "\n",
        "# Prints only 10 (tokenised) sentences\n",
        "print(sentences[:10])"
      ],
      "metadata": {
        "colab": {
          "base_uri": "https://localhost:8080/"
        },
        "id": "ReWJ2WCZyvC-",
        "outputId": "29610881-9a5a-48cf-be78-03f02d326e63"
      },
      "execution_count": null,
      "outputs": [
        {
          "output_type": "stream",
          "name": "stdout",
          "text": [
            "[nltk_data] Downloading package punkt to /root/nltk_data...\n",
            "[nltk_data]   Unzipping tokenizers/punkt.zip.\n",
            "[['here', 'are', 'two', 'reasons', 'companies', 'fail', 'they', 'only', 'do', 'more', 'of', 'the', 'same', 'or', 'they', 'only', 'do', 'what', 's', 'new'], ['to', 'me', 'the', 'real', 'real', 'solution', 'to', 'quality', 'growth', 'is', 'figuring', 'out', 'the', 'balance', 'between', 'two', 'activities', 'exploration', 'and', 'exploitation'], ['both', 'are', 'necessary', 'but', 'it', 'can', 'be', 'too', 'much', 'of', 'a', 'good', 'thing'], ['consider', 'facit'], ['i', 'm', 'actually', 'old', 'enough', 'to', 'remember', 'them'], ['facit', 'was', 'a', 'fantastic', 'company'], ['they', 'were', 'born', 'deep', 'in', 'the', 'swedish', 'forest', 'and', 'they', 'made', 'the', 'best', 'mechanical', 'calculators', 'in', 'the', 'world'], ['everybody', 'used', 'them'], ['and', 'what', 'did', 'facit', 'do', 'when', 'the', 'electronic', 'calculator', 'came', 'along'], ['they', 'continued', 'doing', 'exactly', 'the', 'same']]\n"
          ]
        }
      ]
    },
    {
      "cell_type": "code",
      "source": [
        "# Train the Word2Vec embedding model - CBOW\n",
        "\n",
        "wv_cbow_model = Word2Vec(sentences=sentences, size=100, window=5, min_count=5, workers=4, sg=0)"
      ],
      "metadata": {
        "id": "t1C6DmiBzOsV"
      },
      "execution_count": null,
      "outputs": []
    },
    {
      "cell_type": "markdown",
      "source": [
        "## Simple user interface for the Gensim Word2Vec model"
      ],
      "metadata": {
        "id": "nr6FuT17sPtQ"
      }
    },
    {
      "cell_type": "code",
      "source": [
        "#@title Semantic Synonym Dictionary\n",
        "#@markdown Please input the word you want to find the synonym for in the following field:\n",
        "\n",
        "#@markdown ---\n",
        "Word = 'lucky'  #@param {type: \"string\"}\n",
        "\n",
        "#@markdown ---\n",
        "\n",
        "# Find the most similar word by using the word2vec gensim CBOW model we jsut trained above\n",
        "try:\n",
        "    similar_words=wv_cbow_model.wv.most_similar(Word)\n",
        "    print(\"The semantic synonym for \"+Word+\" is: \"+similar_words[0][0])\n",
        "except:\n",
        "    print(\"Unfortunately, the word you entered is not in our dictionary. Please try another one and good luck!\")"
      ],
      "metadata": {
        "colab": {
          "base_uri": "https://localhost:8080/"
        },
        "id": "vNK33AeFwDv7",
        "outputId": "8f2f0a13-0e09-4706-87fe-e9d0636dab84"
      },
      "execution_count": null,
      "outputs": [
        {
          "output_type": "stream",
          "name": "stdout",
          "text": [
            "The semantic synonym for lucky is: fortunate\n"
          ]
        }
      ]
    },
    {
      "cell_type": "markdown",
      "metadata": {
        "id": "sr2KEpT8EVnL"
      },
      "source": [
        "# Exercise"
      ]
    },
    {
      "cell_type": "markdown",
      "metadata": {
        "id": "GyJ0EurQEfVe"
      },
      "source": [
        "## E1. Briefly explain the reason/intuition of two facts individually.\n",
        "*   The intuition of using sigmoid in the forget gate of LSTM\n",
        "*   The intuition of using tanh in the RNN\n",
        "\n",
        "\n",
        "Please write down your answer below in your own words with **examples**"
      ]
    },
    {
      "cell_type": "markdown",
      "metadata": {
        "id": "nxvu2s-QEy4c"
      },
      "source": [
        "Your answer:"
      ]
    },
    {
      "cell_type": "markdown",
      "metadata": {
        "id": "z9dPCF1BMNpv"
      },
      "source": [
        "## E2. Preprocessing and Model Saving\n",
        "In this exercise, we will implement a simple sentiment analysis model on a Large Movie Review Dataset named IMDB. As is illustrated in the figure below from the Lecture 5 slides, we normally use the last hidden state from a single-directional RNN/LSTM for final classification over the sequence.\n",
        "\n",
        "You are required to preprocess the train and test data, apply different pre-trained embeddings, save and load your trained model. You need to complete the section we tagged as **'[complete this section][TO DO]'. PLEASE!!! PLEASE!!!! READ THE COMMENT IN EACH CODE BLOCK**\n",
        "\n",
        "**Note**: We will NOT mark your exercise based on the test set performance. We will only check whether the preprocessing part, embedding part and model saving and loading part are correct.\n",
        "\n",
        "![image.png](data:image/png;base64,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)\n",
        "\n",
        "\n",
        "\n"
      ]
    },
    {
      "cell_type": "code",
      "metadata": {
        "id": "jKxN3z5FPRcw"
      },
      "source": [
        "import torch\n",
        "# You can enable GPU here (cuda); or just CPU\n",
        "device = torch.device(\"cuda\" if torch.cuda.is_available() else \"cpu\")"
      ],
      "execution_count": null,
      "outputs": []
    },
    {
      "cell_type": "markdown",
      "metadata": {
        "id": "DC69XgVlLuPi"
      },
      "source": [
        "### Download Dataset"
      ]
    },
    {
      "cell_type": "code",
      "metadata": {
        "id": "zl7OaslvLuPo"
      },
      "source": [
        "# Code to download file into Colaboratory:\n",
        "!pip install -U -q PyDrive\n",
        "from pydrive.auth import GoogleAuth\n",
        "from pydrive.drive import GoogleDrive\n",
        "from google.colab import auth\n",
        "from oauth2client.client import GoogleCredentials\n",
        "# Authenticate and create the PyDrive client.\n",
        "auth.authenticate_user()\n",
        "gauth = GoogleAuth()\n",
        "gauth.credentials = GoogleCredentials.get_application_default()\n",
        "drive = GoogleDrive(gauth)\n",
        "\n",
        "id = '1vF3FqgBC1Y-RPefeVmY8zetdZG1jmHzT'\n",
        "\n",
        "downloaded = drive.CreateFile({'id':id}) \n",
        "downloaded.GetContentFile('imdb.csv')\n",
        "\n",
        "import pandas as pd\n",
        "df = pd.read_csv(\"imdb.csv\")\n",
        "df_pick = df.sample(4000,random_state=24)\n",
        "\n",
        "raw_text = df_pick[\"review\"].tolist()\n",
        "raw_label = df_pick[\"sentiment\"].tolist()\n",
        "\n",
        "from sklearn.model_selection import train_test_split\n",
        "text_train,text_test,label_train,label_test = train_test_split(raw_text,raw_label,test_size=0.25,random_state=42)"
      ],
      "execution_count": null,
      "outputs": []
    },
    {
      "cell_type": "markdown",
      "metadata": {
        "id": "i92SvLGOLuPv"
      },
      "source": [
        "### Preprocessing [Complete this section]"
      ]
    },
    {
      "cell_type": "markdown",
      "metadata": {
        "id": "Xfp_5N2fLuPw"
      },
      "source": [
        "####**Case Folding**"
      ]
    },
    {
      "cell_type": "code",
      "metadata": {
        "id": "l9LggrTtLuPx"
      },
      "source": [
        "text_train = [s.lower() for s in text_train]\n",
        "text_test = [s.lower() for s in text_test]"
      ],
      "execution_count": null,
      "outputs": []
    },
    {
      "cell_type": "markdown",
      "metadata": {
        "id": "hb4GVZYCLuP1"
      },
      "source": [
        "####**Remove punctuations [Please complete this section]**"
      ]
    },
    {
      "cell_type": "code",
      "metadata": {
        "id": "Vl4MgL1XLuP2"
      },
      "source": [
        "import re\n",
        "def remove_punctuation_re(x):\n",
        "    # [TODO] Please complete this function\n",
        "    return x\n",
        "    \n",
        "text_train = [remove_punctuation_re(s) for s in text_train]\n",
        "text_test = [remove_punctuation_re(s) for s in text_test]"
      ],
      "execution_count": null,
      "outputs": []
    },
    {
      "cell_type": "markdown",
      "metadata": {
        "id": "YvIc4FCRLuQC"
      },
      "source": [
        "####**Tokenization [Please complete this section]**"
      ]
    },
    {
      "cell_type": "code",
      "metadata": {
        "id": "V3I1iHIWLuQD"
      },
      "source": [
        "import nltk\n",
        "nltk.download('punkt')\n",
        "\n",
        "from nltk.tokenize import word_tokenize\n",
        "\n",
        "# [TODO] Please complete the following code\n",
        "text_train = \n",
        "text_test = "
      ],
      "execution_count": null,
      "outputs": []
    },
    {
      "cell_type": "markdown",
      "metadata": {
        "id": "ucmu2pWTLuQG"
      },
      "source": [
        "####**Remove stopwords [Please complete this section]**"
      ]
    },
    {
      "cell_type": "code",
      "metadata": {
        "id": "4blOZaW7LuQH"
      },
      "source": [
        "nltk.download('stopwords')\n",
        "from nltk.corpus import stopwords as sw\n",
        "stop_words = sw.words()\n",
        "\n",
        "text_train_ns=[]\n",
        "for tokens in text_train:\n",
        "    filtered_sentence = [w for w in tokens if not w in stop_words]\n",
        "    text_train_ns.append(filtered_sentence)\n",
        "\n",
        "text_test_ns=[]\n",
        "for tokens in text_test:\n",
        "    # [TODO] Please complete this code body "
      ],
      "execution_count": null,
      "outputs": []
    },
    {
      "cell_type": "markdown",
      "metadata": {
        "id": "QqFS0duZLuQM"
      },
      "source": [
        "####**Lemmatisation [Please complete this section]**"
      ]
    },
    {
      "cell_type": "code",
      "metadata": {
        "id": "6BTXGVwjLuQN"
      },
      "source": [
        "nltk.download('wordnet')\n",
        "\n",
        "from nltk.stem import WordNetLemmatizer\n",
        "\n",
        "lemmatizer = WordNetLemmatizer()\n",
        "\n",
        "text_train_le = []\n",
        "for tokens in text_train_ns:\n",
        "    lemma_sentence = [lemmatizer.lemmatize(w) for w in tokens ]\n",
        "    text_train_le.append(lemma_sentence)\n",
        "\n",
        "text_test_le = []\n",
        "for tokens in text_test_ns:\n",
        "    # [TODO] Please complete this code body\n"
      ],
      "execution_count": null,
      "outputs": []
    },
    {
      "cell_type": "markdown",
      "metadata": {
        "id": "MpQvfCJHLuQQ"
      },
      "source": [
        "####**Label Encoding [Please complete this section]**"
      ]
    },
    {
      "cell_type": "code",
      "metadata": {
        "id": "FkcRYxaZLuQQ"
      },
      "source": [
        "import numpy as np\n",
        "\n",
        "from sklearn.preprocessing import LabelEncoder\n",
        "\n",
        "unique_labels = np.unique(label_train)\n",
        "\n",
        "lEnc = LabelEncoder()\n",
        "# [TODO] Please encode the labels (Do NOT add new lines of code in this section)\n",
        "# Hint: Try to understand the difference between fit_transform and transform\n",
        "label_train_encoded = \n",
        "label_test_encoded = \n",
        "\n",
        "n_class = len(unique_labels)\n",
        "print(unique_labels)\n",
        "print(lEnc.transform(unique_labels))"
      ],
      "execution_count": null,
      "outputs": []
    },
    {
      "cell_type": "markdown",
      "metadata": {
        "id": "brgyXIhALuQT"
      },
      "source": [
        "### Embeddings [Complete this section]"
      ]
    },
    {
      "cell_type": "markdown",
      "metadata": {
        "id": "ltZvof0NLuQX"
      },
      "source": [
        "####**Get Word List**"
      ]
    },
    {
      "cell_type": "code",
      "metadata": {
        "id": "O1V_W5PvLuQa"
      },
      "source": [
        "word_set = set() \n",
        "for sent in text_train_le:\n",
        "    for word in sent:\n",
        "        word_set.add(word)\n",
        "word_set.add('[PAD]')\n",
        "word_set.add('[UNKNOWN]')\n",
        "\n",
        "word_list = list(word_set) \n",
        "word_list.sort()\n",
        "print(word_list)\n",
        "\n",
        "word_index = {}\n",
        "ind = 0\n",
        "for word in word_list:\n",
        "    word_index[word] = ind\n",
        "    ind += 1\n",
        "print(word_index)"
      ],
      "execution_count": null,
      "outputs": []
    },
    {
      "cell_type": "markdown",
      "metadata": {
        "id": "rUA2H0-HLuQe"
      },
      "source": [
        "#### **Download Pre-trained Embeddings [Please complete this section]**\n",
        "\n",
        "You can find the details from https://github.com/RaRe-Technologies/gensim-data"
      ]
    },
    {
      "cell_type": "code",
      "metadata": {
        "id": "856alejrLuQe"
      },
      "source": [
        "import gensim.downloader as api\n",
        "# [TODO] Please load the pretrained embedding\n",
        "word_emb_model = api.load(\"xxx\") # NOTE: Download an embedding other than glove-twitter-25"
      ],
      "execution_count": null,
      "outputs": []
    },
    {
      "cell_type": "markdown",
      "metadata": {
        "id": "sCZMaK0zLuQj"
      },
      "source": [
        "#### **Embedding lookup table**"
      ]
    },
    {
      "cell_type": "code",
      "metadata": {
        "id": "bdSLmjkSLuQk"
      },
      "source": [
        "# Get the Embedding lookup table\n",
        "import numpy as np\n",
        "emb_dim = word_emb_model.vector_size\n",
        "\n",
        "emb_table = []\n",
        "for i, word in enumerate(word_list):\n",
        "    if word in word_emb_model:\n",
        "        emb_table.append(word_emb_model[word])\n",
        "    else:\n",
        "        emb_table.append([0]*emb_dim)\n",
        "emb_table = np.array(emb_table)"
      ],
      "execution_count": null,
      "outputs": []
    },
    {
      "cell_type": "markdown",
      "metadata": {
        "id": "GcB7P5DZqo_1"
      },
      "source": [
        "#### **Padding and encoding [Please complete this section]**"
      ]
    },
    {
      "cell_type": "code",
      "metadata": {
        "id": "PwyLQcojqqRv"
      },
      "source": [
        "# The sequence length is pre-defined, you can't change this value for this exercise\n",
        "seq_length = 16\n",
        "\n",
        "# [TODO] Please Complete the function below\n",
        "# Hint: You should pay attention to: (1) if the sentence length > seq_length (2) if the word not in word_index dictionary\n",
        "def encode_and_add_padding(sentences, seq_length, word_index):\n",
        "    sent_encoded = []\n",
        "\n",
        "    return sent_encoded\n",
        "\n",
        "train_pad_encoded = encode_and_add_padding(text_train_le, seq_length, word_index )\n",
        "test_pad_encoded = encode_and_add_padding(text_test_le, seq_length, word_index )"
      ],
      "execution_count": null,
      "outputs": []
    },
    {
      "cell_type": "markdown",
      "metadata": {
        "id": "yJ96KxTcLuQo"
      },
      "source": [
        "### Model [Complete this section]\n"
      ]
    },
    {
      "cell_type": "code",
      "metadata": {
        "id": "jCZG8wAXLuQp"
      },
      "source": [
        "vocab_size = len(word_list)\n",
        "total_epoch = 100\n",
        "learning_rate = 0.01"
      ],
      "execution_count": null,
      "outputs": []
    },
    {
      "cell_type": "code",
      "metadata": {
        "id": "NRrSAS-DLuQs"
      },
      "source": [
        "import torch\n",
        "# You can enable GPU here (cuda); or just CPU\n",
        "device = torch.device(\"cuda\" if torch.cuda.is_available() else \"cpu\")\n",
        "\n",
        "import numpy as np\n",
        "\n",
        "import torch.nn as nn\n",
        "import torch.nn.functional as F\n",
        "import torch.optim as optim\n",
        "from sklearn.metrics import accuracy_score\n",
        "\n",
        "class Model(nn.Module):\n",
        "    def __init__(self):\n",
        "        super(Model, self).__init__()\n",
        "        self.emb = nn.Embedding(vocab_size, emb_dim)\n",
        "        self.emb.weight.data.copy_(torch.from_numpy(emb_table))\n",
        "        self.emb.weight.requires_grad = False\n",
        "        # [TODO] Define a Single Directional LSTM Layer, hidden dimenstion is 50\n",
        "\n",
        "        self.lstm = \n",
        "        # [TODO] Define the Linear Layer\n",
        "        \n",
        "        self.linear = \n",
        "\n",
        "    def forward(self, x):\n",
        "        # [TODO] Define your forward function\n",
        "\n",
        "\n",
        "model = Model().to(device)\n",
        "criterion = nn.CrossEntropyLoss()\n",
        "optimizer = optim.Adam(model.parameters(), lr=learning_rate)\n",
        "\n",
        "input_torch = torch.from_numpy(np.array(train_pad_encoded)).to(device)\n",
        "target_torch = torch.from_numpy(np.array(label_train_encoded)).view(-1).to(device)\n",
        "\n",
        "\n",
        "for epoch in range(total_epoch):  \n",
        "    \n",
        "    model.train()\n",
        "    optimizer.zero_grad()\n",
        "    outputs = model(input_torch) \n",
        "    loss = criterion(outputs, target_torch)\n",
        "    loss.backward()\n",
        "    optimizer.step()\n",
        "    \n",
        "    if epoch%10 == 9:\n",
        "        predicted = torch.argmax(outputs, -1)\n",
        "        acc= accuracy_score(predicted.cpu().numpy(),target_torch.cpu().numpy())\n",
        "\n",
        "        print('Epoch: %d, loss: %.5f, train_acc: %.2f' %(epoch + 1, loss.item(), acc))\n",
        "\n",
        "print('Finished Training')\n"
      ],
      "execution_count": null,
      "outputs": []
    },
    {
      "cell_type": "markdown",
      "metadata": {
        "id": "nWTw2QWfN0Xc"
      },
      "source": [
        "### Save and Load the model [Complete this section]"
      ]
    },
    {
      "cell_type": "markdown",
      "metadata": {
        "id": "abct4WjhO4Bq"
      },
      "source": [
        "**Save the model [Complete this part]**"
      ]
    },
    {
      "cell_type": "code",
      "metadata": {
        "id": "gPRrmNS5ONQB"
      },
      "source": [
        "# [TODO] please save your trained model, which then can be loaded by the follow-up code cell\n",
        "\n"
      ],
      "execution_count": null,
      "outputs": []
    },
    {
      "cell_type": "markdown",
      "metadata": {
        "id": "75fQ4jx5ON-t"
      },
      "source": [
        "**Load the model**"
      ]
    },
    {
      "cell_type": "code",
      "metadata": {
        "id": "F1AUVT1uOQm6"
      },
      "source": [
        "# Load the model you just saved in above code cell\n",
        "model2 = torch.load('lab5.pt')\n",
        "model2.eval()"
      ],
      "execution_count": null,
      "outputs": []
    },
    {
      "cell_type": "markdown",
      "metadata": {
        "id": "nwYMhviBLuQw"
      },
      "source": [
        "### Testing"
      ]
    },
    {
      "cell_type": "code",
      "metadata": {
        "id": "UoueHNI1LuQx"
      },
      "source": [
        "input_torch = torch.from_numpy(np.array(test_pad_encoded)).to(device)\n",
        "\n",
        "outputs = model2(input_torch) \n",
        "predicted = torch.argmax(outputs, -1)\n",
        "\n",
        "from sklearn.metrics import classification_report\n",
        "print(classification_report(label_test_encoded,predicted.cpu().numpy()))"
      ],
      "execution_count": null,
      "outputs": []
    },
    {
      "cell_type": "markdown",
      "source": [
        "Sample output for the above code cell (Only for Format reference). **Note**: Please make sure you have the output saved in your log in your submission file.\n",
        "\n",
        "\n",
        "\n",
        "\n",
        "![lab5.jpg](data:image/jpeg;base64,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)"
      ],
      "metadata": {
        "id": "MRR-qC-qCaOp"
      }
    }
  ]
}