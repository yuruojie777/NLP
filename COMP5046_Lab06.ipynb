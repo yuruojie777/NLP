{
  "nbformat": 4,
  "nbformat_minor": 0,
  "metadata": {
    "colab": {
      "name": "COMP5046_Lab06.ipynb",
      "provenance": [],
      "collapsed_sections": [],
      "include_colab_link": true
    },
    "kernelspec": {
      "name": "python3",
      "display_name": "Python 3"
    },
    "accelerator": "GPU"
  },
  "cells": [
    {
      "cell_type": "markdown",
      "metadata": {
        "id": "view-in-github",
        "colab_type": "text"
      },
      "source": [
        "<a href=\"https://colab.research.google.com/github/yuruojie777/NLP/blob/main/COMP5046_Lab06.ipynb\" target=\"_parent\"><img src=\"https://colab.research.google.com/assets/colab-badge.svg\" alt=\"Open In Colab\"/></a>"
      ]
    },
    {
      "cell_type": "markdown",
      "metadata": {
        "id": "siAIwRRGUtWW"
      },
      "source": [
        "# Lab06"
      ]
    },
    {
      "cell_type": "markdown",
      "metadata": {
        "id": "lHbXdZ0b7_-W"
      },
      "source": [
        "# POS Tagging\n",
        "POS tagging is the process of marking up a word in a corpus to a corresponding part of speech tag, based on its context and definition. This task is not straightforward, as a particular word may have a different part of speech based on the context in which the word is used"
      ]
    },
    {
      "cell_type": "markdown",
      "metadata": {
        "id": "o2Yuq_ck8lzM"
      },
      "source": [
        "## Regular Expression Tagger\n",
        "\n",
        "The regular expression tagger assigns tags to tokens on the basis of matching patterns. For instance, we might guess that any word ending in -ed is the past participle of a verb, and any word ending with 's is a possessive noun. We can express these as a list of regular expressions: \n",
        "\n"
      ]
    },
    {
      "cell_type": "code",
      "metadata": {
        "id": "J_SNkGVsftLK",
        "colab": {
          "base_uri": "https://localhost:8080/"
        },
        "outputId": "a2beaf8b-a2d7-42a7-af0b-d50a207f2e20"
      },
      "source": [
        "import nltk\n",
        "\n",
        "# Downloading required corpus\n",
        "nltk.download('punkt')\n",
        "nltk.download('brown')\n",
        "\n",
        "from nltk import word_tokenize\n",
        "from nltk.corpus import brown\n",
        "\n",
        "brown_tagged_sents = brown.tagged_sents(categories='news')\n",
        "brown_sents = brown.sents(categories='news')"
      ],
      "execution_count": null,
      "outputs": [
        {
          "output_type": "stream",
          "name": "stdout",
          "text": [
            "[nltk_data] Downloading package punkt to /root/nltk_data...\n",
            "[nltk_data]   Unzipping tokenizers/punkt.zip.\n",
            "[nltk_data] Downloading package brown to /root/nltk_data...\n",
            "[nltk_data]   Unzipping corpora/brown.zip.\n"
          ]
        }
      ]
    },
    {
      "cell_type": "code",
      "metadata": {
        "id": "7VMB4D7Vfipk"
      },
      "source": [
        " # Define regular expression patterns\n",
        "patterns = [\n",
        "        (r'.*ing$', 'VBG'),               # gerunds\n",
        "        (r'.*ed$', 'VBD'),                # simple past\n",
        "        (r'.*es$', 'VBZ'),                # 3rd singular present\n",
        "        (r'.*ould$', 'MD'),               # modals\n",
        "        (r'.*\\'s$', 'NN$'),               # possessive nouns\n",
        "        (r'.*s$', 'NNS'),                 # plural nouns\n",
        "        (r'^-?[0-9]+(.[0-9]+)?$', 'CD'),  # cardinal numbers\n",
        "        (r'.*', 'NN')                     # nouns (default)\n",
        "]"
      ],
      "execution_count": null,
      "outputs": []
    },
    {
      "cell_type": "code",
      "metadata": {
        "id": "ejmC2tSLk3dA",
        "colab": {
          "base_uri": "https://localhost:8080/"
        },
        "outputId": "c6df31ad-c1d8-47b0-d9c6-2c3e78a57d67"
      },
      "source": [
        "# Build regular expression tagger using the defined patterns\n",
        "regexp_tagger = nltk.RegexpTagger(patterns)\n",
        "\n",
        "# Print one of the sentences\n",
        "print(brown_sents[3])\n",
        "# Print one of the tagged sentences\n",
        "print(regexp_tagger.tag(brown_sents[3]))"
      ],
      "execution_count": null,
      "outputs": [
        {
          "output_type": "stream",
          "name": "stdout",
          "text": [
            "['``', 'Only', 'a', 'relative', 'handful', 'of', 'such', 'reports', 'was', 'received', \"''\", ',', 'the', 'jury', 'said', ',', '``', 'considering', 'the', 'widespread', 'interest', 'in', 'the', 'election', ',', 'the', 'number', 'of', 'voters', 'and', 'the', 'size', 'of', 'this', 'city', \"''\", '.']\n",
            "[('``', 'NN'), ('Only', 'NN'), ('a', 'NN'), ('relative', 'NN'), ('handful', 'NN'), ('of', 'NN'), ('such', 'NN'), ('reports', 'NNS'), ('was', 'NNS'), ('received', 'VBD'), (\"''\", 'NN'), (',', 'NN'), ('the', 'NN'), ('jury', 'NN'), ('said', 'NN'), (',', 'NN'), ('``', 'NN'), ('considering', 'VBG'), ('the', 'NN'), ('widespread', 'NN'), ('interest', 'NN'), ('in', 'NN'), ('the', 'NN'), ('election', 'NN'), (',', 'NN'), ('the', 'NN'), ('number', 'NN'), ('of', 'NN'), ('voters', 'NNS'), ('and', 'NN'), ('the', 'NN'), ('size', 'NN'), ('of', 'NN'), ('this', 'NNS'), ('city', 'NN'), (\"''\", 'NN'), ('.', 'NN')]\n"
          ]
        }
      ]
    },
    {
      "cell_type": "code",
      "metadata": {
        "id": "V8wT_6a7k63S",
        "colab": {
          "base_uri": "https://localhost:8080/"
        },
        "outputId": "943a97e5-3e7f-4b19-aea0-f956be4a3021"
      },
      "source": [
        "# Evaluate the tagger (Calculate the accuracy/performance)\n",
        "regexp_tagger.evaluate(brown_tagged_sents)"
      ],
      "execution_count": null,
      "outputs": [
        {
          "output_type": "execute_result",
          "data": {
            "text/plain": [
              "0.20326391789486245"
            ]
          },
          "metadata": {},
          "execution_count": 4
        }
      ]
    },
    {
      "cell_type": "code",
      "metadata": {
        "id": "wYPlTCtt8s9L",
        "colab": {
          "base_uri": "https://localhost:8080/"
        },
        "outputId": "15c67ef9-ca29-4f1d-cc86-c5a0d609c126"
      },
      "source": [
        "raw = 'This race is awesome, I want to race too'\n",
        "tokens = word_tokenize(raw)\n",
        "\n",
        "print(regexp_tagger.tag(tokens))"
      ],
      "execution_count": null,
      "outputs": [
        {
          "output_type": "stream",
          "name": "stdout",
          "text": [
            "[('This', 'NNS'), ('race', 'NN'), ('is', 'NNS'), ('awesome', 'NN'), (',', 'NN'), ('I', 'NN'), ('want', 'NN'), ('to', 'NN'), ('race', 'NN'), ('too', 'NN')]\n"
          ]
        }
      ]
    },
    {
      "cell_type": "markdown",
      "metadata": {
        "id": "-GLU4cC8r49g"
      },
      "source": [
        "# Hidden Markov Models \n",
        "\n",
        "A hidden Markov model (HMM) allows us to talk about both observed events (like words that we see in the input) and hidden events (like part-of-speech tags) that we think of as causal factors in our probabilistic model."
      ]
    },
    {
      "cell_type": "code",
      "metadata": {
        "id": "w-Uuv3D5YhhS",
        "colab": {
          "base_uri": "https://localhost:8080/"
        },
        "outputId": "0981fc76-191e-41ca-e957-703f029ca073"
      },
      "source": [
        "# Hidden Markov Models in Python\n",
        "# Katrin Erk, March 2013 updated March 2016\n",
        "#\n",
        "# This HMM addresses the problem of part-of-speech tagging. It estimates\n",
        "# the probability of a tag sequence for a given word sequence as follows:\n",
        "#\n",
        "# Say words = w1....wN\n",
        "# and tags = t1..tN\n",
        "#\n",
        "# then\n",
        "# P(tags | words) is_proportional_to  product P(ti | t{i-1}) P(wi | ti)\n",
        "#\n",
        "# To find the best tag sequence for a given sequence of words,\n",
        "# we want to find the tag sequence that has the maximum P(tags | words)\n",
        "import nltk\n",
        "import sys\n",
        "nltk.download('brown')\n",
        "\n",
        "from nltk.corpus import brown\n",
        "from nltk.corpus import treebank\n"
      ],
      "execution_count": null,
      "outputs": [
        {
          "output_type": "stream",
          "name": "stdout",
          "text": [
            "[nltk_data] Downloading package brown to /root/nltk_data...\n",
            "[nltk_data]   Package brown is already up-to-date!\n"
          ]
        }
      ]
    },
    {
      "cell_type": "code",
      "metadata": {
        "id": "TO_rZxt1wv2z",
        "colab": {
          "base_uri": "https://localhost:8080/"
        },
        "outputId": "09a85239-46aa-4485-dbde-91ec9bc41507"
      },
      "source": [
        "# Estimating P(wi | ti) from corpus data using Maximum Likelihood Estimation (MLE):\n",
        "# P(wi | ti) = count(wi, ti) / count(ti)\n",
        "#\n",
        "# We add an artificial \"start\" tag at the beginning of each sentence, and\n",
        "# We add an artificial \"end\" tag at the end of each sentence.\n",
        "# So we start out with the brown tagged sentences,\n",
        "# add the two artificial tags,\n",
        "# and then make one long list of all the tag/word pairs.\n",
        "\n",
        "brown_tags_words = []\n",
        "brown_tagged_sents = brown.tagged_sents()\n",
        "\n",
        "for sent in brown_tagged_sents:\n",
        "    # sent is a list of word/tag pairs\n",
        "    # add START/START at the beginning\n",
        "    brown_tags_words.append( (\"START\", \"START\") )\n",
        "    # then all the tag/word pairs for the word/tag pairs in the sentence.\n",
        "    # shorten tags to 2 characters each\n",
        "    brown_tags_words.extend([ (tag[:2], word) for (word, tag) in sent ])\n",
        "    # then END/END\n",
        "    brown_tags_words.append( (\"END\", \"END\") )\n",
        "\n",
        "# conditional frequency distribution\n",
        "cfd_tagwords = nltk.ConditionalFreqDist(brown_tags_words)\n",
        "# conditional probability distribution\n",
        "cpd_tagwords = nltk.ConditionalProbDist(cfd_tagwords, nltk.MLEProbDist)\n",
        "\n",
        "print(\"The probability of an adjective (JJ) being 'new' is\", cpd_tagwords[\"JJ\"].prob(\"new\"))\n",
        "print(\"The probability of a verb (VB) being 'duck' is\", cpd_tagwords[\"VB\"].prob(\"duck\"))\n",
        "\n",
        "# Estimating P(ti | t{i-1}) from corpus data using Maximum Likelihood Estimation (MLE):\n",
        "# P(ti | t{i-1}) = count(t{i-1}, ti) / count(t{i-1})\n",
        "brown_tags = [tag for (tag, word) in brown_tags_words ]\n",
        "\n",
        "# make conditional frequency distribution:\n",
        "# count(t{i-1} ti)\n",
        "cfd_tags= nltk.ConditionalFreqDist(nltk.bigrams(brown_tags))\n",
        "# make conditional probability distribution, using\n",
        "# maximum likelihood estimate:\n",
        "# P(ti | t{i-1})\n",
        "cpd_tags = nltk.ConditionalProbDist(cfd_tags, nltk.MLEProbDist)\n",
        "\n",
        "print(\"If we have just seen 'DT', the probability of 'NN' is\", cpd_tags[\"DT\"].prob(\"NN\"))\n",
        "print( \"If we have just seen 'VB', the probability of 'JJ' is\", cpd_tags[\"VB\"].prob(\"DT\"))\n",
        "print( \"If we have just seen 'VB', the probability of 'NN' is\", cpd_tags[\"VB\"].prob(\"NN\"))\n"
      ],
      "execution_count": null,
      "outputs": [
        {
          "output_type": "stream",
          "name": "stdout",
          "text": [
            "The probability of an adjective (JJ) being 'new' is 0.01472344917632025\n",
            "The probability of a verb (VB) being 'duck' is 6.042713350943527e-05\n",
            "If we have just seen 'DT', the probability of 'NN' is 0.5057722522030194\n",
            "If we have just seen 'VB', the probability of 'JJ' is 0.016885067592065053\n",
            "If we have just seen 'VB', the probability of 'NN' is 0.10970977711020183\n"
          ]
        }
      ]
    },
    {
      "cell_type": "markdown",
      "metadata": {
        "id": "V35OhECloeUl"
      },
      "source": [
        "## Viterbi Algorithm"
      ]
    },
    {
      "cell_type": "code",
      "metadata": {
        "id": "jaetc1FSsgLW",
        "colab": {
          "base_uri": "https://localhost:8080/"
        },
        "outputId": "931140f4-bf4d-4613-d69e-8b5b712b226c"
      },
      "source": [
        "#####\n",
        "# Viterbi:\n",
        "# If we have a word sequence, what is the best tag sequence?\n",
        "#\n",
        "# The method above lets us determine the probability for a single tag sequence.\n",
        "# But in order to find the best tag sequence, we need the probability\n",
        "# for _all_ tag sequence.\n",
        "# What Viterbi gives us is just a good way of computing all those many probabilities\n",
        "# as fast as possible.\n",
        "\n",
        "# what is the list of all tags?\n",
        "distinct_tags = set(brown_tags)\n",
        "\n",
        "sentence = [\"This\", \"race\", \"is\", \"awesome\", \",\", \"I\", \"want\", \"to\", \"race\", \"too\" ]\n",
        "#sentence = [\"I\", \"saw\", \"her\", \"duck\" ]\n",
        "sentlen = len(sentence)\n",
        "\n",
        "# viterbi:\n",
        "# for each step i in 1 .. sentlen,\n",
        "# store a dictionary\n",
        "# that maps each tag X\n",
        "# to the probability of the best tag sequence of length i that ends in X\n",
        "viterbi = [ ]\n",
        "\n",
        "# backpointer:\n",
        "# for each step i in 1..sentlen,\n",
        "# store a dictionary\n",
        "# that maps each tag X\n",
        "# to the previous tag in the best tag sequence of length i that ends in X\n",
        "backpointer = [ ]\n",
        "\n",
        "first_viterbi = { }\n",
        "first_backpointer = { }\n",
        "for tag in distinct_tags:\n",
        "    # don't record anything for the START tag\n",
        "    if tag == \"START\": continue\n",
        "    first_viterbi[ tag ] = cpd_tags[\"START\"].prob(tag) * cpd_tagwords[tag].prob( sentence[0] )\n",
        "    first_backpointer[ tag ] = \"START\"\n",
        "\n",
        "print(first_viterbi)\n",
        "print(first_backpointer)\n",
        "    \n",
        "viterbi.append(first_viterbi)\n",
        "backpointer.append(first_backpointer)\n",
        "\n",
        "currbest = max(first_viterbi.keys(), key = lambda tag: first_viterbi[ tag ])\n",
        "print( \"Word\", \"'\" + sentence[0] + \"'\", \"current best two-tag sequence:\", first_backpointer[ currbest], currbest)\n",
        "# print( \"Word\", \"'\" + sentence[0] + \"'\", \"current best tag:\", currbest)\n",
        "\n",
        "for wordindex in range(1, len(sentence)):\n",
        "    this_viterbi = { }\n",
        "    this_backpointer = { }\n",
        "    prev_viterbi = viterbi[-1]\n",
        "    \n",
        "    for tag in distinct_tags:\n",
        "        # don't record anything for the START tag\n",
        "        if tag == \"START\": continue\n",
        "\n",
        "        # if this tag is X and the current word is w, then \n",
        "        # find the previous tag Y such that\n",
        "        # the best tag sequence that ends in X\n",
        "        # actually ends in Y X\n",
        "        # that is, the Y that maximizes\n",
        "        # prev_viterbi[ Y ] * P(X | Y) * P( w | X)\n",
        "        # The following command has the same notation\n",
        "        # that you saw in the sorted() command.\n",
        "        best_previous = max(prev_viterbi.keys(),\n",
        "                            key = lambda prevtag: \\\n",
        "            prev_viterbi[ prevtag ] * cpd_tags[prevtag].prob(tag) * cpd_tagwords[tag].prob(sentence[wordindex]))\n",
        "\n",
        "        # Instead, we can also use the following longer code:\n",
        "        # best_previous = None\n",
        "        # best_prob = 0.0\n",
        "        # for prevtag in distinct_tags:\n",
        "        #    prob = prev_viterbi[ prevtag ] * cpd_tags[prevtag].prob(tag) * cpd_tagwords[tag].prob(sentence[wordindex])\n",
        "        #    if prob > best_prob:\n",
        "        #        best_previous= prevtag\n",
        "        #        best_prob = prob\n",
        "        #\n",
        "        this_viterbi[ tag ] = prev_viterbi[ best_previous] * \\\n",
        "            cpd_tags[ best_previous ].prob(tag) * cpd_tagwords[ tag].prob(sentence[wordindex])\n",
        "        this_backpointer[ tag ] = best_previous\n",
        "\n",
        "    currbest = max(this_viterbi.keys(), key = lambda tag: this_viterbi[ tag ])\n",
        "    print( \"Word\", \"'\" + sentence[ wordindex] + \"'\", \"current best two-tag sequence:\", this_backpointer[ currbest], currbest)\n",
        "    # print( \"Word\", \"'\" + sentence[ wordindex] + \"'\", \"current best tag:\", currbest)\n",
        "\n",
        "\n",
        "    # done with all tags in this iteration\n",
        "    # so store the current viterbi step\n",
        "    viterbi.append(this_viterbi)\n",
        "    backpointer.append(this_backpointer)\n",
        "\n",
        "\n",
        "# done with all words in the sentence.\n",
        "# now find the probability of each tag\n",
        "# to have \"END\" as the next tag,\n",
        "# and use that to find the overall best sequence\n",
        "prev_viterbi = viterbi[-1]\n",
        "best_previous = max(prev_viterbi.keys(),\n",
        "                    key = lambda prevtag: prev_viterbi[ prevtag ] * cpd_tags[prevtag].prob(\"END\"))\n",
        "\n",
        "prob_tagsequence = prev_viterbi[ best_previous ] * cpd_tags[ best_previous].prob(\"END\")\n",
        "\n",
        "# best tagsequence: we store this in reverse for now, will invert later\n",
        "best_tagsequence = [ \"END\", best_previous ]\n",
        "# invert the list of backpointers\n",
        "backpointer.reverse()\n",
        "\n",
        "# go backwards through the list of backpointers\n",
        "# (or in this case forward, because we have inverter the backpointer list)\n",
        "# in each case:\n",
        "# the following best tag is the one listed under\n",
        "# the backpointer for the current best tag\n",
        "current_best_tag = best_previous\n",
        "for bp in backpointer:\n",
        "    best_tagsequence.append(bp[current_best_tag])\n",
        "    current_best_tag = bp[current_best_tag]\n",
        "\n",
        "best_tagsequence.reverse()\n",
        "print( \"The sentence was:\", end = \" \")\n",
        "for w in sentence: print( w, end = \" \")\n",
        "print(\"\\n\")\n",
        "print( \"The best tag sequence is:\", end = \" \")\n",
        "for t in best_tagsequence: print(t, end = \" \")\n",
        "print(\"\\n\")\n",
        "print( \"The probability of the best tag sequence is:\", prob_tagsequence)\n",
        "\n"
      ],
      "execution_count": null,
      "outputs": [
        {
          "output_type": "stream",
          "name": "stdout",
          "text": [
            "{'AT': 0.0, 'HV': 0.0, 'WR': 0.0, 'END': 0.0, 'JJ': 0.0, ')-': 0.0, 'WD': 0.0, 'MD': 0.0, 'WQ': 0.0, '.-': 0.0, 'VB': 0.0, 'EX': 0.0, '*-': 0.0, 'UH': 0.0, 'IN': 0.0, \"''\": 0.0, ',-': 0.0, 'AP': 0.0, 'NN': 0.0, 'CS': 0.0, 'RP': 0.0, 'WP': 0.0, 'AB': 0.0, '(-': 0.0, 'DO': 0.0, 'NR': 0.0, 'QL': 0.0, '``': 0.0, 'CD': 0.0, 'RN': 0.0, 'PN': 0.0, 'DT': 0.0033218181276236437, 'FW': 0.0, '*': 0.0, '--': 0.0, '(': 0.0, ':-': 0.0, 'CC': 0.0, 'PP': 0.0, \"'\": 0.0, ':': 0.0, 'NP': 0.0, 'RB': 0.0, 'BE': 0.0, 'TO': 0.0, '.': 0.0, 'NI': 0.0, ')': 0.0, 'OD': 0.0, ',': 0.0}\n",
            "{'AT': 'START', 'HV': 'START', 'WR': 'START', 'END': 'START', 'JJ': 'START', ')-': 'START', 'WD': 'START', 'MD': 'START', 'WQ': 'START', '.-': 'START', 'VB': 'START', 'EX': 'START', '*-': 'START', 'UH': 'START', 'IN': 'START', \"''\": 'START', ',-': 'START', 'AP': 'START', 'NN': 'START', 'CS': 'START', 'RP': 'START', 'WP': 'START', 'AB': 'START', '(-': 'START', 'DO': 'START', 'NR': 'START', 'QL': 'START', '``': 'START', 'CD': 'START', 'RN': 'START', 'PN': 'START', 'DT': 'START', 'FW': 'START', '*': 'START', '--': 'START', '(': 'START', ':-': 'START', 'CC': 'START', 'PP': 'START', \"'\": 'START', ':': 'START', 'NP': 'START', 'RB': 'START', 'BE': 'START', 'TO': 'START', '.': 'START', 'NI': 'START', ')': 'START', 'OD': 'START', ',': 'START'}\n",
            "Word 'This' current best two-tag sequence: START DT\n",
            "Word 'race' current best two-tag sequence: DT NN\n",
            "Word 'is' current best two-tag sequence: NN BE\n",
            "Word 'awesome' current best two-tag sequence: BE JJ\n",
            "Word ',' current best two-tag sequence: JJ ,\n",
            "Word 'I' current best two-tag sequence: , PP\n",
            "Word 'want' current best two-tag sequence: PP VB\n",
            "Word 'to' current best two-tag sequence: VB TO\n",
            "Word 'race' current best two-tag sequence: IN NN\n",
            "Word 'too' current best two-tag sequence: VB QL\n",
            "The sentence was: This race is awesome , I want to race too \n",
            "\n",
            "The best tag sequence is: START DT NN BE JJ , PP VB TO VB RB END \n",
            "\n",
            "The probability of the best tag sequence is: 3.9954320581626204e-33\n"
          ]
        }
      ]
    },
    {
      "cell_type": "markdown",
      "metadata": {
        "id": "gLtm3qKYsDVZ"
      },
      "source": [
        "The code is implemented by [Katrin Erk](http://www.katrinerk.com/courses/python-worksheets/hidden-markov-models-for-pos-tagging-in-python)"
      ]
    },
    {
      "cell_type": "markdown",
      "metadata": {
        "id": "3cY7cOjnUvMc"
      },
      "source": [
        "##  Train HMM Tagger with NLTK HMM Trainer"
      ]
    },
    {
      "cell_type": "code",
      "metadata": {
        "id": "S8akyRu6qvcr",
        "colab": {
          "base_uri": "https://localhost:8080/"
        },
        "outputId": "ceff7857-2683-4a3d-dbcb-353c69c65269"
      },
      "source": [
        "# Pretagged training data\n",
        "brown_tagged_sents = brown.tagged_sents()\n",
        "\n",
        "print(brown_tagged_sents)"
      ],
      "execution_count": null,
      "outputs": [
        {
          "output_type": "stream",
          "name": "stdout",
          "text": [
            "[[('The', 'AT'), ('Fulton', 'NP-TL'), ('County', 'NN-TL'), ('Grand', 'JJ-TL'), ('Jury', 'NN-TL'), ('said', 'VBD'), ('Friday', 'NR'), ('an', 'AT'), ('investigation', 'NN'), ('of', 'IN'), (\"Atlanta's\", 'NP$'), ('recent', 'JJ'), ('primary', 'NN'), ('election', 'NN'), ('produced', 'VBD'), ('``', '``'), ('no', 'AT'), ('evidence', 'NN'), (\"''\", \"''\"), ('that', 'CS'), ('any', 'DTI'), ('irregularities', 'NNS'), ('took', 'VBD'), ('place', 'NN'), ('.', '.')], [('The', 'AT'), ('jury', 'NN'), ('further', 'RBR'), ('said', 'VBD'), ('in', 'IN'), ('term-end', 'NN'), ('presentments', 'NNS'), ('that', 'CS'), ('the', 'AT'), ('City', 'NN-TL'), ('Executive', 'JJ-TL'), ('Committee', 'NN-TL'), (',', ','), ('which', 'WDT'), ('had', 'HVD'), ('over-all', 'JJ'), ('charge', 'NN'), ('of', 'IN'), ('the', 'AT'), ('election', 'NN'), (',', ','), ('``', '``'), ('deserves', 'VBZ'), ('the', 'AT'), ('praise', 'NN'), ('and', 'CC'), ('thanks', 'NNS'), ('of', 'IN'), ('the', 'AT'), ('City', 'NN-TL'), ('of', 'IN-TL'), ('Atlanta', 'NP-TL'), (\"''\", \"''\"), ('for', 'IN'), ('the', 'AT'), ('manner', 'NN'), ('in', 'IN'), ('which', 'WDT'), ('the', 'AT'), ('election', 'NN'), ('was', 'BEDZ'), ('conducted', 'VBN'), ('.', '.')], ...]\n"
          ]
        }
      ]
    },
    {
      "cell_type": "code",
      "metadata": {
        "id": "ftW_G61yqv_T",
        "colab": {
          "base_uri": "https://localhost:8080/"
        },
        "outputId": "0cd47a08-4498-4813-8c98-0971e5f0714e"
      },
      "source": [
        "# Import HMM module\n",
        "from nltk.tag import hmm\n",
        "\n",
        "# Setup a trainer with default(None) values\n",
        "# And train with the data\n",
        "trainer = hmm.HiddenMarkovModelTrainer()\n",
        "trained_tagger = trainer.train_supervised(brown_tagged_sents)\n",
        "\n",
        "print (trained_tagger)\n",
        "# Prints the basic data about the tagger\n",
        "\n",
        "tokens = word_tokenize(\"This race is awesome, I want to race too\")\n",
        "print(trained_tagger.tag(tokens))\n",
        "\n"
      ],
      "execution_count": null,
      "outputs": [
        {
          "output_type": "stream",
          "name": "stdout",
          "text": [
            "<HiddenMarkovModelTagger 472 states and 56057 output symbols>\n",
            "[('This', 'DT'), ('race', 'NN'), ('is', 'BEZ'), ('awesome', 'JJ'), (',', ','), ('I', 'PPSS'), ('want', 'VB'), ('to', 'TO'), ('race', 'VB'), ('too', 'QL')]\n"
          ]
        }
      ]
    },
    {
      "cell_type": "markdown",
      "metadata": {
        "id": "dxHS0Ji2p5X3"
      },
      "source": [
        "# Bi-LSTM based POS Tagger (Pytorch)\n",
        "\n",
        "In this example, we would try to train a PoS tagger using Bi-LSTM. \n",
        "\n",
        "![alt text](https://usydnlpgroup.files.wordpress.com/2020/03/bi-lstm_nton-e1586049916759.png)"
      ]
    },
    {
      "cell_type": "code",
      "metadata": {
        "id": "e1QJ5eXVztTO"
      },
      "source": [
        "import torch\n",
        "device = torch.device(\"cuda\" if torch.cuda.is_available() else \"cpu\")"
      ],
      "execution_count": null,
      "outputs": []
    },
    {
      "cell_type": "markdown",
      "metadata": {
        "id": "sSHk_WHa_bfV"
      },
      "source": [
        "## Training data"
      ]
    },
    {
      "cell_type": "code",
      "metadata": {
        "id": "kYLogDRZH1cd",
        "colab": {
          "base_uri": "https://localhost:8080/"
        },
        "outputId": "d3cfbc00-c745-4dec-f708-8675a7e07aec"
      },
      "source": [
        "import nltk\n",
        "nltk.download('punkt')\n",
        "from nltk import word_tokenize\n",
        "\n",
        "nltk.download('treebank')\n",
        "from nltk.corpus import treebank\n",
        "\n",
        "import numpy as np\n",
        "from sklearn.model_selection import train_test_split\n",
        " "
      ],
      "execution_count": null,
      "outputs": [
        {
          "output_type": "stream",
          "name": "stdout",
          "text": [
            "[nltk_data] Downloading package punkt to /root/nltk_data...\n",
            "[nltk_data]   Package punkt is already up-to-date!\n",
            "[nltk_data] Downloading package treebank to /root/nltk_data...\n",
            "[nltk_data]   Unzipping corpora/treebank.zip.\n"
          ]
        }
      ]
    },
    {
      "cell_type": "code",
      "metadata": {
        "id": "-m4-XQjo6Qu5",
        "colab": {
          "base_uri": "https://localhost:8080/"
        },
        "outputId": "f4df1ca9-c672-4212-bf4c-ae8a1a3aa4d8"
      },
      "source": [
        "# Retrieve tagged sentences from treebank corpus\n",
        "tagged_sentences = nltk.corpus.treebank.tagged_sents()\n",
        " \n",
        "print(tagged_sentences[0])\n",
        "print(\"Tagged sentences: \", len(tagged_sentences))\n",
        "print(\"Tagged words:\", len(nltk.corpus.treebank.tagged_words()))\n",
        "#tagged_words(): list of (str,str) tuple"
      ],
      "execution_count": null,
      "outputs": [
        {
          "output_type": "stream",
          "name": "stdout",
          "text": [
            "[('Pierre', 'NNP'), ('Vinken', 'NNP'), (',', ','), ('61', 'CD'), ('years', 'NNS'), ('old', 'JJ'), (',', ','), ('will', 'MD'), ('join', 'VB'), ('the', 'DT'), ('board', 'NN'), ('as', 'IN'), ('a', 'DT'), ('nonexecutive', 'JJ'), ('director', 'NN'), ('Nov.', 'NNP'), ('29', 'CD'), ('.', '.')]\n",
            "Tagged sentences:  3914\n",
            "Tagged words: 100676\n"
          ]
        }
      ]
    },
    {
      "cell_type": "code",
      "metadata": {
        "id": "vnE3URn56Qux",
        "colab": {
          "base_uri": "https://localhost:8080/"
        },
        "outputId": "7cd827ea-80d2-4490-8d3d-d73900edfb1b"
      },
      "source": [
        "sentences, sentence_tags =[], [] \n",
        "for tagged_sentence in tagged_sentences:\n",
        "    #The zip() function returns a zip object, which is an iterator of tuples where the first item in each passed iterator is paired together, \n",
        "    #and then the second item in each passed iterator are paired together etc.\n",
        "    sentence, tags = zip(*tagged_sentence)\n",
        "    sentences.append(np.array(sentence))\n",
        "    sentence_tags.append(np.array(tags))\n",
        " \n",
        "print(sentences[5])\n",
        "print(sentence_tags[5])"
      ],
      "execution_count": null,
      "outputs": [
        {
          "output_type": "stream",
          "name": "stdout",
          "text": [
            "['Lorillard' 'Inc.' ',' 'the' 'unit' 'of' 'New' 'York-based' 'Loews'\n",
            " 'Corp.' 'that' '*T*-2' 'makes' 'Kent' 'cigarettes' ',' 'stopped' 'using'\n",
            " 'crocidolite' 'in' 'its' 'Micronite' 'cigarette' 'filters' 'in' '1956'\n",
            " '.']\n",
            "['NNP' 'NNP' ',' 'DT' 'NN' 'IN' 'JJ' 'JJ' 'NNP' 'NNP' 'WDT' '-NONE-' 'VBZ'\n",
            " 'NNP' 'NNS' ',' 'VBD' 'VBG' 'NN' 'IN' 'PRP$' 'NN' 'NN' 'NNS' 'IN' 'CD'\n",
            " '.']\n"
          ]
        }
      ]
    },
    {
      "cell_type": "code",
      "metadata": {
        "id": "tn34twJZ6Qut"
      },
      "source": [
        "(train_sentences, \n",
        " test_sentences, \n",
        " train_tags, \n",
        " test_tags) = train_test_split(sentences, sentence_tags, test_size=0.2, random_state = 42)"
      ],
      "execution_count": null,
      "outputs": []
    },
    {
      "cell_type": "markdown",
      "metadata": {
        "id": "xKCc8BbR_l87"
      },
      "source": [
        "### Making vocabs with special tokens\n",
        "\n",
        "*PAD: Padding*\n",
        "\n",
        "*OOV: Out Of Vocabulary*"
      ]
    },
    {
      "cell_type": "code",
      "metadata": {
        "id": "CY1FlDIo6Quo"
      },
      "source": [
        "words, tags = set([]), set([])\n",
        " \n",
        "for s in train_sentences:\n",
        "    for w in s:\n",
        "        words.add(w.lower())\n",
        "\n",
        "for ts in train_tags:\n",
        "    for t in ts:\n",
        "        tags.add(t)\n",
        "\n",
        "word2index = {w: i + 2 for i, w in enumerate(list(words))}\n",
        "word2index['-PAD-'] = 0  # The special value used for padding\n",
        "word2index['-OOV-'] = 1  # The special value used for OOVs\n",
        " \n",
        "tag2index = {t: i + 2 for i, t in enumerate(list(tags))}\n",
        "tag2index['-PAD-'] = 0  # The special value used to tag padding\n",
        "tag2index['-OOV-'] = 1  # The special value used to tag OOVs"
      ],
      "execution_count": null,
      "outputs": []
    },
    {
      "cell_type": "code",
      "metadata": {
        "id": "gj_T_YTL6Qug"
      },
      "source": [
        "def encode_sentences(sentences):\n",
        "    res = []\n",
        "    for sent in sentences:\n",
        "        temp = [word2index[word.lower()] if word.lower() in word2index else word2index['-OOV-'] for word in sent]\n",
        "        res.append(temp)\n",
        "    return res\n",
        "\n",
        "train_sentences_encoded = encode_sentences(train_sentences)\n",
        "test_sentences_encoded = encode_sentences(test_sentences)\n",
        "\n",
        "\n",
        "train_tags_y, test_tags_y = [], []\n",
        "\n",
        "def tag_to_index(tags_list):\n",
        "    res = []\n",
        "    for tags in tags_list:\n",
        "        temp = [tag2index[tag] if tag in tag2index else tag2index['-OOV-'] for tag in tags]\n",
        "        res.append(temp)\n",
        "    return res\n",
        "\n",
        "train_tags_y = tag_to_index(train_tags)\n",
        "test_tags_y = tag_to_index(test_tags)"
      ],
      "execution_count": null,
      "outputs": []
    },
    {
      "cell_type": "markdown",
      "metadata": {
        "id": "4eb-SNMWFdxG"
      },
      "source": [
        "### Padding"
      ]
    },
    {
      "cell_type": "code",
      "metadata": {
        "id": "Q9US1y_a6QuT",
        "colab": {
          "base_uri": "https://localhost:8080/"
        },
        "outputId": "3c514121-b632-4b29-bd19-9ff6d9ee6132"
      },
      "source": [
        "# Pad to max_length\n",
        "max_length = len(max(train_sentences_encoded, key=len))\n",
        "print(max_length) "
      ],
      "execution_count": null,
      "outputs": [
        {
          "output_type": "stream",
          "name": "stdout",
          "text": [
            "271\n"
          ]
        }
      ]
    },
    {
      "cell_type": "code",
      "metadata": {
        "id": "8d5WoxwabuYC"
      },
      "source": [
        "def pad_sequence(seq_list, max_length, index_dict):\n",
        "    res = []\n",
        "    for seq in seq_list:\n",
        "        temp = seq[:]\n",
        "        if len(seq)>max_length:\n",
        "            res.append(temp[:max_length])\n",
        "        else:\n",
        "            temp += [index_dict['-PAD-']] * (max_length - len(seq))\n",
        "            res.append(temp)\n",
        "    return np.array(res)\n",
        "\n",
        "train_sentences_encoded_pad = pad_sequence(train_sentences_encoded, max_length, word2index)\n",
        "test_sentences_encoded_pad = pad_sequence(test_sentences_encoded, max_length, word2index)\n",
        "train_tags_y_pad = pad_sequence(train_tags_y, max_length, tag2index)\n",
        "test_tags_y_pad = pad_sequence(test_tags_y, max_length, tag2index)"
      ],
      "execution_count": null,
      "outputs": []
    },
    {
      "cell_type": "markdown",
      "metadata": {
        "id": "ZJE3qT2Vi0hL"
      },
      "source": [
        "### Build Dataset and Dataloader for training data"
      ]
    },
    {
      "cell_type": "code",
      "metadata": {
        "id": "iLmjfFnVi3vp"
      },
      "source": [
        "from torch.utils.data import TensorDataset\n",
        "#More detailed info about the TensorDataset, https://pytorch.org/docs/1.1.0/_modules/torch/utils/data/dataset.html#TensorDataset\n",
        "train_data = TensorDataset(torch.from_numpy(train_sentences_encoded_pad), torch.from_numpy(train_tags_y_pad))\n",
        "\n",
        "from torch.utils.data import DataLoader\n",
        "#More detailed info about the dataLoader, https://pytorch.org/docs/1.1.0/_modules/torch/utils/data/dataloader.html\n",
        "batch_size = 128\n",
        "train_loader = DataLoader(dataset=train_data, batch_size=batch_size, shuffle=True) \n",
        "# shuffle (bool, optional) – set to True to have the data reshuffled at every epoch (default: False)."
      ],
      "execution_count": null,
      "outputs": []
    },
    {
      "cell_type": "markdown",
      "metadata": {
        "id": "BjTDYN3sFtet"
      },
      "source": [
        "## Model"
      ]
    },
    {
      "cell_type": "code",
      "metadata": {
        "id": "4U7kYumQjagT"
      },
      "source": [
        "import torch.nn as nn\n",
        "\n",
        "class LSTMTagger(nn.Module):\n",
        "    def __init__(self, embedding_dim, hidden_dim, vocab_size, tagset_size):\n",
        "        super(LSTMTagger, self).__init__()\n",
        "        self.word_embeddings = nn.Embedding(vocab_size, embedding_dim)\n",
        "        self.lstm = nn.LSTM(embedding_dim, hidden_dim, batch_first=True, bidirectional=True)  \n",
        "        self.hidden2tag = nn.Linear(hidden_dim * 2, tagset_size)\n",
        "\n",
        "    def forward(self, sentence):\n",
        "        embeds = self.word_embeddings(sentence)\n",
        "        lstm_out, _ = self.lstm(embeds)\n",
        "        tag_space = self.hidden2tag(lstm_out)    \n",
        "        return tag_space\n",
        "\n",
        "EMBEDDING_DIM = 128\n",
        "HIDDEN_DIM = 256\n",
        "\n",
        "model = LSTMTagger(EMBEDDING_DIM, HIDDEN_DIM, len(word2index), len(tag2index)).to(device)\n",
        "loss_function = nn.CrossEntropyLoss()\n",
        "optimizer = torch.optim.Adam(model.parameters(), lr=0.001)"
      ],
      "execution_count": null,
      "outputs": []
    },
    {
      "cell_type": "code",
      "metadata": {
        "colab": {
          "base_uri": "https://localhost:8080/"
        },
        "id": "3d29F38by01H",
        "outputId": "6757ecde-1cc7-4c89-d409-83ecb3054e4a"
      },
      "source": [
        "from sklearn.metrics import accuracy_score\n",
        "\n",
        "number_epochs = 20\n",
        "\n",
        "for epoch in range(number_epochs):  \n",
        "    loss_now = 0.0\n",
        "    correct = 0\n",
        "\n",
        "    for sentence,targets in train_loader:\n",
        "        sentence = sentence.to(device)\n",
        "        targets = targets.to(device)\n",
        "\n",
        "        temp_batch_size = sentence.shape[0]\n",
        "\n",
        "        model.train()\n",
        "        optimizer.zero_grad()               \n",
        "        tag_space = model(sentence)\n",
        "        loss = loss_function(tag_space.view(-1, tag_space.shape[-1]), targets.view(-1))\n",
        "        loss.backward()\n",
        "        optimizer.step()\n",
        "\n",
        "        loss_now += loss.item() * temp_batch_size\n",
        "        predicted = torch.argmax(tag_space, -1)\n",
        "        # Note: The training accuracy here is calculated with \"PAD\", which will result in a relative higher accuracy.\n",
        "        correct += accuracy_score(predicted.view(-1).cpu().numpy(),targets.view(-1).cpu().numpy())*temp_batch_size\n",
        "\n",
        "    print('Epoch: %d, training loss: %.4f, training accuracy: %.2f%%'%(epoch+1,loss_now/len(train_data),100*correct/len(train_data)))"
      ],
      "execution_count": null,
      "outputs": [
        {
          "output_type": "stream",
          "name": "stdout",
          "text": [
            "Epoch: 1, training loss: 0.7345, training accuracy: 87.40%\n",
            "Epoch: 2, training loss: 0.2961, training accuracy: 93.11%\n",
            "Epoch: 3, training loss: 0.2344, training accuracy: 94.24%\n",
            "Epoch: 4, training loss: 0.1961, training accuracy: 94.81%\n",
            "Epoch: 5, training loss: 0.1661, training accuracy: 95.56%\n",
            "Epoch: 6, training loss: 0.1397, training accuracy: 96.33%\n",
            "Epoch: 7, training loss: 0.1179, training accuracy: 96.86%\n",
            "Epoch: 8, training loss: 0.1005, training accuracy: 97.29%\n",
            "Epoch: 9, training loss: 0.0865, training accuracy: 97.65%\n",
            "Epoch: 10, training loss: 0.0752, training accuracy: 97.95%\n",
            "Epoch: 11, training loss: 0.0657, training accuracy: 98.22%\n",
            "Epoch: 12, training loss: 0.0579, training accuracy: 98.43%\n",
            "Epoch: 13, training loss: 0.0510, training accuracy: 98.63%\n",
            "Epoch: 14, training loss: 0.0452, training accuracy: 98.79%\n",
            "Epoch: 15, training loss: 0.0402, training accuracy: 98.93%\n",
            "Epoch: 16, training loss: 0.0358, training accuracy: 99.07%\n",
            "Epoch: 17, training loss: 0.0319, training accuracy: 99.18%\n",
            "Epoch: 18, training loss: 0.0285, training accuracy: 99.27%\n",
            "Epoch: 19, training loss: 0.0256, training accuracy: 99.36%\n",
            "Epoch: 20, training loss: 0.0230, training accuracy: 99.43%\n"
          ]
        }
      ]
    },
    {
      "cell_type": "markdown",
      "metadata": {
        "id": "7w8nzr_Kq_oA"
      },
      "source": [
        "## Test with the test set"
      ]
    },
    {
      "cell_type": "code",
      "metadata": {
        "id": "qw0HMLN7ou6A",
        "colab": {
          "base_uri": "https://localhost:8080/"
        },
        "outputId": "db0c45a3-8bbe-4bc5-d596-165f5c1cc7d4"
      },
      "source": [
        "model.eval()\n",
        "sentence = torch.from_numpy(test_sentences_encoded_pad).to(device)\n",
        "tag_space = model(sentence)\n",
        "predicted = torch.argmax(tag_space, -1)\n",
        "predicted = predicted.cpu().numpy()\n",
        "\n",
        "# cut off the PAD part\n",
        "test_len_list = [len(s) for s in test_sentences_encoded]\n",
        "actual_predicted_list= []\n",
        "for i in range(predicted.shape[0]):\n",
        "    actual_predicted_list+=list(predicted[i])[:test_len_list[i]]\n",
        "\n",
        "# get actual tag list\n",
        "actual_tags = sum(test_tags_y, [])\n",
        "\n",
        "print('Test Accuracy: %.2f%%'%(accuracy_score(actual_predicted_list,actual_tags)*100))"
      ],
      "execution_count": null,
      "outputs": [
        {
          "output_type": "stream",
          "name": "stdout",
          "text": [
            "Test Accuracy: 88.30%\n"
          ]
        }
      ]
    },
    {
      "cell_type": "markdown",
      "source": [
        "# Extension: Saving Data"
      ],
      "metadata": {
        "id": "WJsaPoN3ER_Q"
      }
    },
    {
      "cell_type": "markdown",
      "source": [
        "Sample code for saving data to files, which might be helpful for your assignment: https://colab.research.google.com/drive/1rPnGzFLy3wVgDyyNB4lcBPSigvgMHqa8?usp=sharing "
      ],
      "metadata": {
        "id": "GPJaQaAZEd5C"
      }
    }
  ]
}