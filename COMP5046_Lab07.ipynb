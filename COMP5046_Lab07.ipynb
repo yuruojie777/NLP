{
  "nbformat": 4,
  "nbformat_minor": 0,
  "metadata": {
    "colab": {
      "name": "COMP5046_Lab07.ipynb",
      "provenance": [],
      "collapsed_sections": [],
      "toc_visible": true,
      "include_colab_link": true
    },
    "kernelspec": {
      "name": "python3",
      "display_name": "Python 3"
    }
  },
  "cells": [
    {
      "cell_type": "markdown",
      "metadata": {
        "id": "view-in-github",
        "colab_type": "text"
      },
      "source": [
        "<a href=\"https://colab.research.google.com/github/yuruojie777/NLP/blob/main/COMP5046_Lab07.ipynb\" target=\"_parent\"><img src=\"https://colab.research.google.com/assets/colab-badge.svg\" alt=\"Open In Colab\"/></a>"
      ]
    },
    {
      "cell_type": "markdown",
      "metadata": {
        "id": "rFBFgEEkIaQ-"
      },
      "source": [
        "# Lab 07 Dependency parsing\n"
      ]
    },
    {
      "cell_type": "markdown",
      "metadata": {
        "id": "bJkHSIOyIpUh"
      },
      "source": [
        "## Dependency Parsing Exercise\n",
        "\n",
        "Let's parse the following sentence! (Use your skill that you learned in the lecture)\n",
        "\n",
        "*  I prefer the morning flight through Denver\n",
        "\n",
        "\n",
        "Do this parsing exercise and ***check with the answer (at the end of this Lab07 material)***\n"
      ]
    },
    {
      "cell_type": "markdown",
      "metadata": {
        "id": "Nlu9so31PX7a"
      },
      "source": [
        "**Dependency parsing process:** (Need more detailed parsing steps? Please watch the Lecture 7 recording!)\n",
        "\n"
      ]
    },
    {
      "cell_type": "markdown",
      "metadata": {
        "id": "dK4z5pWkQEMe"
      },
      "source": [
        "## Off-the-Shelf Tool (Spacy Parser)\n",
        "Now let's use [spaCy](https://spacy.io/) to automatically parse sentences.\n",
        "The spaCy parser was developed based on a neural network based parser.\n",
        "\n",
        "Parse the sentence ***'The woman showed a wellshaped smile in the dark.'***\n"
      ]
    },
    {
      "cell_type": "code",
      "metadata": {
        "id": "LBrzHpnzIBrl",
        "colab": {
          "base_uri": "https://localhost:8080/"
        },
        "outputId": "35100a2d-3f1a-4fe4-d337-2f2c4910ab39"
      },
      "source": [
        "import spacy\n",
        "#PrettyTable is a Python library for generating attractive ASCII tables.\n",
        "from prettytable import PrettyTable\n",
        "\n",
        "#load the spacy api with the pre-trained statistical models for English. English multi-task CNN trained on the OntoNotes corpus\n",
        "nlp = spacy.load(\"en_core_web_sm\")\n",
        "\n",
        "#define the sentence\n",
        "sentence = \"The woman showed a wellshaped smile in the dark.\"\n",
        "parse = nlp(sentence)\n",
        "\n",
        "x = PrettyTable()\n",
        "#define column names\n",
        "x.field_names = [\"TokenID\", \"Token\", \"HeadID\", \"Dependency\"]\n",
        "\n",
        "#spaCy does not provide the fake ROOT token so add a row for the fake Root\n",
        "x.add_row([0,\"ROOT\",0,\"-\"])\n",
        "\n",
        "#parsing recursively\n",
        "for token in parse:\n",
        "  if token.dep_==\"ROOT\":\n",
        "    x.add_row([token.i+1,token.text,\"0\",token.dep_])\n",
        "  else:  \n",
        "    x.add_row([token.i+1,token.text,token.head.i+1,token.dep_])\n",
        "    \n",
        "print(\"Parsing Result with Spacy API\")\n",
        "#printing the table\n",
        "print(x)"
      ],
      "execution_count": 6,
      "outputs": [
        {
          "output_type": "stream",
          "name": "stdout",
          "text": [
            "Parsing Result with Spacy API\n",
            "+---------+------------+--------+------------+\n",
            "| TokenID |   Token    | HeadID | Dependency |\n",
            "+---------+------------+--------+------------+\n",
            "|    0    |    ROOT    |   0    |     -      |\n",
            "|    1    |    The     |   2    |    det     |\n",
            "|    2    |   woman    |   3    |   nsubj    |\n",
            "|    3    |   showed   |   0    |    ROOT    |\n",
            "|    4    |     a      |   6    |    det     |\n",
            "|    5    | wellshaped |   6    |    amod    |\n",
            "|    6    |   smile    |   3    |    dobj    |\n",
            "|    7    |     in     |   3    |    prep    |\n",
            "|    8    |    the     |   9    |    det     |\n",
            "|    9    |    dark    |   7    |    pobj    |\n",
            "|    10   |     .      |   3    |   punct    |\n",
            "+---------+------------+--------+------------+\n"
          ]
        }
      ]
    },
    {
      "cell_type": "markdown",
      "metadata": {
        "id": "IPFBPiKNlvs1"
      },
      "source": [
        "## Parsing Visualisation\n",
        "Spacy provides its built-in visualisation suite, [displaCy](https://spacy.io/api/top-level#displacy)"
      ]
    },
    {
      "cell_type": "code",
      "metadata": {
        "id": "597ayAB7ydNw",
        "colab": {
          "base_uri": "https://localhost:8080/",
          "height": 338
        },
        "outputId": "b13f43da-3684-46b3-c946-bb12e1c59c15"
      },
      "source": [
        "#spaCy comes with a built-in visualisation suite\n",
        "from spacy import displacy\n",
        "\n",
        "doc = nlp(sentence)\n",
        "displacy.render(doc, style='dep', jupyter=True, options={'distance':90})\n"
      ],
      "execution_count": 7,
      "outputs": [
        {
          "output_type": "display_data",
          "data": {
            "text/plain": [
              "<IPython.core.display.HTML object>"
            ],
            "text/html": [
              "<span class=\"tex2jax_ignore\"><svg xmlns=\"http://www.w3.org/2000/svg\" xmlns:xlink=\"http://www.w3.org/1999/xlink\" xml:lang=\"en\" id=\"fc0e68a562ab42b698da1c8e14aa3c0e-0\" class=\"displacy\" width=\"860\" height=\"317.0\" direction=\"ltr\" style=\"max-width: none; height: 317.0px; color: #000000; background: #ffffff; font-family: Arial; direction: ltr\">\n",
              "<text class=\"displacy-token\" fill=\"currentColor\" text-anchor=\"middle\" y=\"227.0\">\n",
              "    <tspan class=\"displacy-word\" fill=\"currentColor\" x=\"50\">The</tspan>\n",
              "    <tspan class=\"displacy-tag\" dy=\"2em\" fill=\"currentColor\" x=\"50\">DET</tspan>\n",
              "</text>\n",
              "\n",
              "<text class=\"displacy-token\" fill=\"currentColor\" text-anchor=\"middle\" y=\"227.0\">\n",
              "    <tspan class=\"displacy-word\" fill=\"currentColor\" x=\"140\">woman</tspan>\n",
              "    <tspan class=\"displacy-tag\" dy=\"2em\" fill=\"currentColor\" x=\"140\">NOUN</tspan>\n",
              "</text>\n",
              "\n",
              "<text class=\"displacy-token\" fill=\"currentColor\" text-anchor=\"middle\" y=\"227.0\">\n",
              "    <tspan class=\"displacy-word\" fill=\"currentColor\" x=\"230\">showed</tspan>\n",
              "    <tspan class=\"displacy-tag\" dy=\"2em\" fill=\"currentColor\" x=\"230\">VERB</tspan>\n",
              "</text>\n",
              "\n",
              "<text class=\"displacy-token\" fill=\"currentColor\" text-anchor=\"middle\" y=\"227.0\">\n",
              "    <tspan class=\"displacy-word\" fill=\"currentColor\" x=\"320\">a</tspan>\n",
              "    <tspan class=\"displacy-tag\" dy=\"2em\" fill=\"currentColor\" x=\"320\">DET</tspan>\n",
              "</text>\n",
              "\n",
              "<text class=\"displacy-token\" fill=\"currentColor\" text-anchor=\"middle\" y=\"227.0\">\n",
              "    <tspan class=\"displacy-word\" fill=\"currentColor\" x=\"410\">wellshaped</tspan>\n",
              "    <tspan class=\"displacy-tag\" dy=\"2em\" fill=\"currentColor\" x=\"410\">VERB</tspan>\n",
              "</text>\n",
              "\n",
              "<text class=\"displacy-token\" fill=\"currentColor\" text-anchor=\"middle\" y=\"227.0\">\n",
              "    <tspan class=\"displacy-word\" fill=\"currentColor\" x=\"500\">smile</tspan>\n",
              "    <tspan class=\"displacy-tag\" dy=\"2em\" fill=\"currentColor\" x=\"500\">NOUN</tspan>\n",
              "</text>\n",
              "\n",
              "<text class=\"displacy-token\" fill=\"currentColor\" text-anchor=\"middle\" y=\"227.0\">\n",
              "    <tspan class=\"displacy-word\" fill=\"currentColor\" x=\"590\">in</tspan>\n",
              "    <tspan class=\"displacy-tag\" dy=\"2em\" fill=\"currentColor\" x=\"590\">ADP</tspan>\n",
              "</text>\n",
              "\n",
              "<text class=\"displacy-token\" fill=\"currentColor\" text-anchor=\"middle\" y=\"227.0\">\n",
              "    <tspan class=\"displacy-word\" fill=\"currentColor\" x=\"680\">the</tspan>\n",
              "    <tspan class=\"displacy-tag\" dy=\"2em\" fill=\"currentColor\" x=\"680\">DET</tspan>\n",
              "</text>\n",
              "\n",
              "<text class=\"displacy-token\" fill=\"currentColor\" text-anchor=\"middle\" y=\"227.0\">\n",
              "    <tspan class=\"displacy-word\" fill=\"currentColor\" x=\"770\">dark.</tspan>\n",
              "    <tspan class=\"displacy-tag\" dy=\"2em\" fill=\"currentColor\" x=\"770\">NOUN</tspan>\n",
              "</text>\n",
              "\n",
              "<g class=\"displacy-arrow\">\n",
              "    <path class=\"displacy-arc\" id=\"arrow-fc0e68a562ab42b698da1c8e14aa3c0e-0-0\" stroke-width=\"2px\" d=\"M70,182.0 C70,137.0 125.0,137.0 125.0,182.0\" fill=\"none\" stroke=\"currentColor\"/>\n",
              "    <text dy=\"1.25em\" style=\"font-size: 0.8em; letter-spacing: 1px\">\n",
              "        <textPath xlink:href=\"#arrow-fc0e68a562ab42b698da1c8e14aa3c0e-0-0\" class=\"displacy-label\" startOffset=\"50%\" side=\"left\" fill=\"currentColor\" text-anchor=\"middle\">det</textPath>\n",
              "    </text>\n",
              "    <path class=\"displacy-arrowhead\" d=\"M70,184.0 L62,172.0 78,172.0\" fill=\"currentColor\"/>\n",
              "</g>\n",
              "\n",
              "<g class=\"displacy-arrow\">\n",
              "    <path class=\"displacy-arc\" id=\"arrow-fc0e68a562ab42b698da1c8e14aa3c0e-0-1\" stroke-width=\"2px\" d=\"M160,182.0 C160,137.0 215.0,137.0 215.0,182.0\" fill=\"none\" stroke=\"currentColor\"/>\n",
              "    <text dy=\"1.25em\" style=\"font-size: 0.8em; letter-spacing: 1px\">\n",
              "        <textPath xlink:href=\"#arrow-fc0e68a562ab42b698da1c8e14aa3c0e-0-1\" class=\"displacy-label\" startOffset=\"50%\" side=\"left\" fill=\"currentColor\" text-anchor=\"middle\">nsubj</textPath>\n",
              "    </text>\n",
              "    <path class=\"displacy-arrowhead\" d=\"M160,184.0 L152,172.0 168,172.0\" fill=\"currentColor\"/>\n",
              "</g>\n",
              "\n",
              "<g class=\"displacy-arrow\">\n",
              "    <path class=\"displacy-arc\" id=\"arrow-fc0e68a562ab42b698da1c8e14aa3c0e-0-2\" stroke-width=\"2px\" d=\"M340,182.0 C340,92.0 490.0,92.0 490.0,182.0\" fill=\"none\" stroke=\"currentColor\"/>\n",
              "    <text dy=\"1.25em\" style=\"font-size: 0.8em; letter-spacing: 1px\">\n",
              "        <textPath xlink:href=\"#arrow-fc0e68a562ab42b698da1c8e14aa3c0e-0-2\" class=\"displacy-label\" startOffset=\"50%\" side=\"left\" fill=\"currentColor\" text-anchor=\"middle\">det</textPath>\n",
              "    </text>\n",
              "    <path class=\"displacy-arrowhead\" d=\"M340,184.0 L332,172.0 348,172.0\" fill=\"currentColor\"/>\n",
              "</g>\n",
              "\n",
              "<g class=\"displacy-arrow\">\n",
              "    <path class=\"displacy-arc\" id=\"arrow-fc0e68a562ab42b698da1c8e14aa3c0e-0-3\" stroke-width=\"2px\" d=\"M430,182.0 C430,137.0 485.0,137.0 485.0,182.0\" fill=\"none\" stroke=\"currentColor\"/>\n",
              "    <text dy=\"1.25em\" style=\"font-size: 0.8em; letter-spacing: 1px\">\n",
              "        <textPath xlink:href=\"#arrow-fc0e68a562ab42b698da1c8e14aa3c0e-0-3\" class=\"displacy-label\" startOffset=\"50%\" side=\"left\" fill=\"currentColor\" text-anchor=\"middle\">amod</textPath>\n",
              "    </text>\n",
              "    <path class=\"displacy-arrowhead\" d=\"M430,184.0 L422,172.0 438,172.0\" fill=\"currentColor\"/>\n",
              "</g>\n",
              "\n",
              "<g class=\"displacy-arrow\">\n",
              "    <path class=\"displacy-arc\" id=\"arrow-fc0e68a562ab42b698da1c8e14aa3c0e-0-4\" stroke-width=\"2px\" d=\"M250,182.0 C250,47.0 495.0,47.0 495.0,182.0\" fill=\"none\" stroke=\"currentColor\"/>\n",
              "    <text dy=\"1.25em\" style=\"font-size: 0.8em; letter-spacing: 1px\">\n",
              "        <textPath xlink:href=\"#arrow-fc0e68a562ab42b698da1c8e14aa3c0e-0-4\" class=\"displacy-label\" startOffset=\"50%\" side=\"left\" fill=\"currentColor\" text-anchor=\"middle\">dobj</textPath>\n",
              "    </text>\n",
              "    <path class=\"displacy-arrowhead\" d=\"M495.0,184.0 L503.0,172.0 487.0,172.0\" fill=\"currentColor\"/>\n",
              "</g>\n",
              "\n",
              "<g class=\"displacy-arrow\">\n",
              "    <path class=\"displacy-arc\" id=\"arrow-fc0e68a562ab42b698da1c8e14aa3c0e-0-5\" stroke-width=\"2px\" d=\"M250,182.0 C250,2.0 590.0,2.0 590.0,182.0\" fill=\"none\" stroke=\"currentColor\"/>\n",
              "    <text dy=\"1.25em\" style=\"font-size: 0.8em; letter-spacing: 1px\">\n",
              "        <textPath xlink:href=\"#arrow-fc0e68a562ab42b698da1c8e14aa3c0e-0-5\" class=\"displacy-label\" startOffset=\"50%\" side=\"left\" fill=\"currentColor\" text-anchor=\"middle\">prep</textPath>\n",
              "    </text>\n",
              "    <path class=\"displacy-arrowhead\" d=\"M590.0,184.0 L598.0,172.0 582.0,172.0\" fill=\"currentColor\"/>\n",
              "</g>\n",
              "\n",
              "<g class=\"displacy-arrow\">\n",
              "    <path class=\"displacy-arc\" id=\"arrow-fc0e68a562ab42b698da1c8e14aa3c0e-0-6\" stroke-width=\"2px\" d=\"M700,182.0 C700,137.0 755.0,137.0 755.0,182.0\" fill=\"none\" stroke=\"currentColor\"/>\n",
              "    <text dy=\"1.25em\" style=\"font-size: 0.8em; letter-spacing: 1px\">\n",
              "        <textPath xlink:href=\"#arrow-fc0e68a562ab42b698da1c8e14aa3c0e-0-6\" class=\"displacy-label\" startOffset=\"50%\" side=\"left\" fill=\"currentColor\" text-anchor=\"middle\">det</textPath>\n",
              "    </text>\n",
              "    <path class=\"displacy-arrowhead\" d=\"M700,184.0 L692,172.0 708,172.0\" fill=\"currentColor\"/>\n",
              "</g>\n",
              "\n",
              "<g class=\"displacy-arrow\">\n",
              "    <path class=\"displacy-arc\" id=\"arrow-fc0e68a562ab42b698da1c8e14aa3c0e-0-7\" stroke-width=\"2px\" d=\"M610,182.0 C610,92.0 760.0,92.0 760.0,182.0\" fill=\"none\" stroke=\"currentColor\"/>\n",
              "    <text dy=\"1.25em\" style=\"font-size: 0.8em; letter-spacing: 1px\">\n",
              "        <textPath xlink:href=\"#arrow-fc0e68a562ab42b698da1c8e14aa3c0e-0-7\" class=\"displacy-label\" startOffset=\"50%\" side=\"left\" fill=\"currentColor\" text-anchor=\"middle\">pobj</textPath>\n",
              "    </text>\n",
              "    <path class=\"displacy-arrowhead\" d=\"M760.0,184.0 L768.0,172.0 752.0,172.0\" fill=\"currentColor\"/>\n",
              "</g>\n",
              "</svg></span>"
            ]
          },
          "metadata": {}
        }
      ]
    },
    {
      "cell_type": "markdown",
      "metadata": {
        "id": "3107D_pcZ4Ma"
      },
      "source": [
        "Unfortunately, the parsing result is ***NOT*** perfect. \n",
        "The result shows that *the head of the token '**dark**' is 'in' rather than 'showed'*.\n",
        "\n",
        "\n",
        "### How can we evaluate the parsing result?\n",
        "\n",
        "[Universal Dependencies](http://universaldependencies.org/) is such a grammatical annotation effort. Basiclly, a bunch of linguists sit there to manually label 'which head is this token modifying' or 'which syntactic role is this token playing with respect to which predicate'. We call their annotations ground truth, and evaluate outputs from different systems against this ground truth. The higher accuracy the system achieves, the better this system is."
      ]
    },
    {
      "cell_type": "markdown",
      "metadata": {
        "id": "DjhCdUbrdmc_"
      },
      "source": [
        "## Parsing Evaluation (with Universal Dependencies)\n",
        "\n",
        "The following code shows the function for evaluating the performance of spaCy parser with Universal Dependencies.\n",
        "\n",
        "\n",
        "*   [CoNLL-U formatted by Universal Dependencies](http://universaldependencies.org/format.html)\n",
        "\n"
      ]
    },
    {
      "cell_type": "code",
      "metadata": {
        "id": "DQGM_iDDeE-w",
        "colab": {
          "base_uri": "https://localhost:8080/"
        },
        "outputId": "7f3acba8-6196-49a0-8acc-77bb3c8e347b"
      },
      "source": [
        "#CoNLL-U Parser parses a CoNLL-U formatted string into a nested python dictionary. \n",
        "!pip install conllu"
      ],
      "execution_count": 8,
      "outputs": [
        {
          "output_type": "stream",
          "name": "stdout",
          "text": [
            "Requirement already satisfied: conllu in /usr/local/lib/python3.7/dist-packages (4.4.1)\n"
          ]
        }
      ]
    },
    {
      "cell_type": "markdown",
      "metadata": {
        "id": "T3l8nZ--E9tV"
      },
      "source": [
        "Let's make a function for evaluation of the parsing result"
      ]
    },
    {
      "cell_type": "code",
      "metadata": {
        "id": "DytKlRoEbWzA"
      },
      "source": [
        "import numpy as np\n",
        "import conllu as conllu\n",
        "from conllu import parse\n",
        "\n",
        "#text: the text that you would like to parse\n",
        "#gold: the gold-standard annotation for the text\n",
        "def evaluate_sentence_parsing(text, gold):\n",
        "  #parse the text with spaCy API\n",
        "  parse = nlp(text)\n",
        "  #setup the table for the parsing result table\n",
        "  x = PrettyTable()\n",
        "  x.field_names = [\"TokenID\", \"Token\", \"HeadID\", \"Dependency\"]\n",
        "  x.add_row([0,\"root\",0,\"-\"])\n",
        "\n",
        "  for token in parse:\n",
        "    if token.dep_==\"ROOT\":\n",
        "      x.add_row([token.i+1,token.text,\"0\",\"root\"])\n",
        "      token.dep_=\"root\"\n",
        "    else:  \n",
        "      x.add_row([token.i+1,token.text,token.head.i+1,token.dep_])\n",
        " \n",
        "  #printing the parsing result\n",
        "  print(\"Parsing Result with Spacy API\")\n",
        "  print(x)\n",
        "  \n",
        "  #setup the table for the parsing result table\n",
        "  y = PrettyTable()\n",
        "  y.field_names = [\"TokenID\", \"Token\", \"HeadID\", \"Dependency\"]\n",
        "  y.add_row([0,\"root\",0,\"-\"])\n",
        "\n",
        "  #parse the gold-standard with conll-u parser \n",
        "  sentences = conllu.parse(gold)\n",
        "  sentence = sentences[0]\n",
        "\n",
        "  for token in sentence:\n",
        "    if token['deprel']==\"root\":\n",
        "      y.add_row([token['id'],token['form'],\"0\",token['deprel']])\n",
        "    else:  \n",
        "      y.add_row([token['id'],token['form'],token['head'],token['deprel']])\n",
        "  print(\"Gold-Standard Annotation\")\n",
        "  print(y)\n",
        "\n",
        "  #summarise the list of predicted head\n",
        "  pred_head = [t.head.i+1 if i != t.head.i else 0 for i, t in enumerate(parse)]\n",
        "  #summarise the list of gold head\n",
        "  gold_head = [token['head'] for i, token in enumerate(sentence)]\n",
        "  \n",
        "  #summarise the list of predicted dependency relations\n",
        "  pred_dep = [t.dep_ for i, t in enumerate(parse)]\n",
        "  #summarise the list of gold dependency relations\n",
        "  gold_dep = [token['deprel'] for i, token in enumerate(sentence)] \n",
        "  \n",
        "  print(\"\\n\\nParsing Result vs Gold - Head\")\n",
        "  print(pred_head)\n",
        "  print(gold_head)\n",
        "\n",
        "  print(\"\\n\\nParsing Result vs Gold - Dependency\")\n",
        "  print(pred_dep)\n",
        "  print(gold_dep)\n",
        "  \n",
        "  #performance evaluation - Unlabeled Attachment Score (UAS)\n",
        "  #Unlabeled Attachment Score (UAS): the percent of words that have the correct heads\n",
        "  uas_accuracy = np.sum([1 if g == p else 0 for g, p in zip(gold_head, pred_head)]) / len(gold_head)\n",
        "  \n",
        "  \n",
        "  print(\"\\n\\nUnlabeled Attachment Score (UAS)\")\n",
        "  return uas_accuracy  "
      ],
      "execution_count": 9,
      "outputs": []
    },
    {
      "cell_type": "markdown",
      "metadata": {
        "id": "QwN4Xe8Am38s"
      },
      "source": [
        "With the above function, let's try to test and evaluate it.\n",
        "There are two evaluation metrics:\n",
        "1. **Unlabeled Attachment Score (UAS)**: the percent of words that have the correct heads\n",
        "2. **Labeled Attachment Score (LAS)**: the percent of words that have the correct heads and labels \n",
        "\n"
      ]
    },
    {
      "cell_type": "code",
      "metadata": {
        "id": "-P2UHiq5c1W7",
        "colab": {
          "base_uri": "https://localhost:8080/"
        },
        "outputId": "b860b605-d25e-4cfa-edad-c0cd2668398d"
      },
      "source": [
        "#testing sentence\n",
        "text = \"The woman showed a wellshaped smile in the dark.\"\n",
        "\n",
        "#gold-standard of the sentence\n",
        "gold = \"\"\"\n",
        "# text = The woman showed a wellshaped smile in the dark.\n",
        "1\tThe\tthe\tDET\tDEF\tDefinite=Def|PronType=Art\t2\tdet\t_\t_\n",
        "2\twoman\twoman\tNOUN\tSG-NOM\tNumber=Sing\t3\tnsubj\t_\t_\n",
        "3\tshowed\tshow\tVERB\tPAST\tMood=Ind|Tense=Past|VerbForm=Fin  0\troot\t_\t_\n",
        "4\ta\ta\tDET\tIND-SG\tDefinite=Ind|PronType=Art\t6\tdet\t_\t_\n",
        "5\twellshaped\twellshaped\tADJ\tPOS\tDegree=Pos\t6\tamod\t_\t_\n",
        "6\tsmile\tsmile\tNOUN\tSG-NOM\tCase=Nom\t3\tobj\t_\t_\n",
        "7\tin\tin\tADP\t_\t_\t9\tprep _ _\n",
        "8\tthe\tthe\tDET\tDEF\tDefinite=Def|PronType=Art\t9\tdet\t_\t_\n",
        "9\tdark\tdark\tADJ\tPOS\tDegree=Pos\t3\tobl\t_\tSpaceAfter=No\n",
        "10\t.\t.\tPUNCT\tPeriod\t_\t3\tpunct\t_\t_\n",
        "\n",
        "\n",
        "\"\"\"\n",
        "\n",
        "print(evaluate_sentence_parsing(text, gold))"
      ],
      "execution_count": 29,
      "outputs": [
        {
          "output_type": "stream",
          "name": "stdout",
          "text": [
            "Parsing Result with Spacy API\n",
            "+---------+------------+--------+------------+\n",
            "| TokenID |   Token    | HeadID | Dependency |\n",
            "+---------+------------+--------+------------+\n",
            "|    0    |    root    |   0    |     -      |\n",
            "|    1    |    The     |   2    |    det     |\n",
            "|    2    |   woman    |   3    |   nsubj    |\n",
            "|    3    |   showed   |   0    |    root    |\n",
            "|    4    |     a      |   6    |    det     |\n",
            "|    5    | wellshaped |   6    |    amod    |\n",
            "|    6    |   smile    |   3    |    dobj    |\n",
            "|    7    |     in     |   3    |    prep    |\n",
            "|    8    |    the     |   9    |    det     |\n",
            "|    9    |    dark    |   7    |    pobj    |\n",
            "|    10   |     .      |   3    |   punct    |\n",
            "+---------+------------+--------+------------+\n",
            "Gold-Standard Annotation\n",
            "+---------+------------+--------+------------+\n",
            "| TokenID |   Token    | HeadID | Dependency |\n",
            "+---------+------------+--------+------------+\n",
            "|    0    |    root    |   0    |     -      |\n",
            "|    1    |    The     |   2    |    det     |\n",
            "|    2    |   woman    |   3    |   nsubj    |\n",
            "|    3    |   showed   |   0    |    root    |\n",
            "|    4    |     a      |   6    |    det     |\n",
            "|    5    | wellshaped |   6    |    amod    |\n",
            "|    6    |   smile    |   3    |    obj     |\n",
            "|    7    |     in     |   9    |  prep _ _  |\n",
            "|    8    |    the     |   9    |    det     |\n",
            "|    9    |    dark    |   3    |    obl     |\n",
            "|    10   |     .      |   3    |   punct    |\n",
            "+---------+------------+--------+------------+\n",
            "\n",
            "\n",
            "Parsing Result vs Gold - Head\n",
            "[2, 3, 0, 6, 6, 3, 3, 9, 7, 3]\n",
            "[2, 3, 0, 6, 6, 3, 9, 9, 3, 3]\n",
            "\n",
            "\n",
            "Parsing Result vs Gold - Dependency\n",
            "['det', 'nsubj', 'root', 'det', 'amod', 'dobj', 'prep', 'det', 'pobj', 'punct']\n",
            "['det', 'nsubj', 'root', 'det', 'amod', 'obj', 'prep _ _', 'det', 'obl', 'punct']\n",
            "\n",
            "\n",
            "Unlabeled Attachment Score (UAS)\n",
            "0.8\n"
          ]
        }
      ]
    },
    {
      "cell_type": "markdown",
      "metadata": {
        "id": "f80L6uFlnH5p"
      },
      "source": [
        "###Summary\n",
        "The result shows that the UAS is 0.8. \n",
        "\n",
        "It means that there are 2 incorrectly predicted heads out of 10. \n",
        "1.   The gold head of token 'in' is 'dark', whereas the prediction is 'smile'\n",
        "2.   The gold head of token 'dark' is 'showed', whereas the prediction is 'in'.\n",
        "\n",
        "**UAS** is the percent of words that have the correct heads\n",
        "\n",
        "**LAS** is the percent of words that have the correct heads and labels.\n",
        "\n",
        "\n",
        "---\n",
        "\n"
      ]
    },
    {
      "cell_type": "markdown",
      "metadata": {
        "id": "vtPBUrBjeSPt"
      },
      "source": [
        "## Transition-based Dependency Parser\n",
        "\n",
        "The Transition-based Dependency Parser is a simple form of a greedy discriminative dependency parser. It builds only one tree, in one left-to-right sweep over the input\n",
        "\n",
        "\n",
        "The transition-based model consists of:\n",
        "*   a ***buffer***, for storing unprocessed text. At the very beginning, it stores the input tokens\n",
        "*   a ***stack***, for storing elements being processed. By default, it always has the ROOT token.\n",
        "*   a list of ***dependency relations***, you can also consider this as the parsing results. Tt is usually a list of tuples, each of which is a token and its head.\n",
        "\n",
        "The ***arc-standard*** algorithm has three actions which can be applied to change the states of buffer, stack and dependency relation list:\n",
        "\n",
        "*   **LEFTARC**: assert a head-dependent relation between the word at the top of the stack and the word directly beneath it; remove the lower word from the stack.\n",
        "*   **RIGHTARC**: assert a head-dependent relation between the second word on the stack and the word at the top; remove the word at the top of the stack; \n",
        "*   **SHIFT**: remove the word from the front of the input buffer and push it onto the stack. \n",
        "\n",
        "####Lecture 7 - slide 52\n",
        "![alt text](https://drive.google.com/uc?export=view&id=1S09VzsLhwwBJadtUmOyrb5_gYRQMsBWs)\n",
        "\n"
      ]
    },
    {
      "cell_type": "code",
      "metadata": {
        "id": "i-n50-MeehIn"
      },
      "source": [
        "class Parse(object):\n",
        "    def __init__(self, sentence):\n",
        "        self.sentence = sentence\n",
        "        self.stack = [\"<ROOT>\"]\n",
        "        self.buffer = sentence.split()\n",
        "        self.relations = []\n",
        "\n",
        "   #transition setup\n",
        "    def parse_step(self, action):\n",
        "        assert action in [\"SHIFT\", \"LEFTARC\", \"RIGHTARC\"]\n",
        "        if action == \"SHIFT\":\n",
        "            assert len(self.buffer) > 0\n",
        "            token = self.buffer.pop(0)\n",
        "            self.stack.append(token)\n",
        "        else:\n",
        "            assert len(self.stack) >= 2\n",
        "            if action == \"LEFTARC\":\n",
        "                relation = (self.stack[-1], self.stack[-2])\n",
        "                self.relations.append(relation)\n",
        "                self.stack.pop(-2)\n",
        "            else:\n",
        "                relation = (self.stack[-2], self.stack[-1])\n",
        "                self.relations.append(relation)\n",
        "                self.stack.pop(-1)\n",
        "\n",
        "    def parse(self, actions):\n",
        "        print(\"Let's start:\")\n",
        "        output_parse_state(self)\n",
        "        print(\"*\" * 50)\n",
        "        for action in actions:\n",
        "            self.parse_step(action)\n",
        "            print(\"after action:\", action)\n",
        "            output_parse_state(self)\n",
        "            print(\"*\" * 50)\n",
        "\n",
        "\n",
        "def output_parse_state(parse):\n",
        "    print(\"Stack:\", \" \".join(parse.stack))\n",
        "    print(\"Buffer:\", \" \".join(parse.buffer))\n",
        "    print(\"Relations:\")\n",
        "    for relation in parse.relations:\n",
        "        print(\"  %s -> %s\" % (relation[0], relation[1]))"
      ],
      "execution_count": null,
      "outputs": []
    },
    {
      "cell_type": "code",
      "metadata": {
        "id": "FmYtwXzReh49",
        "colab": {
          "base_uri": "https://localhost:8080/"
        },
        "outputId": "ed5c033c-9985-43ce-b1a9-2715b567bc5a"
      },
      "source": [
        "sentence = \"Book me the morning flight\"\n",
        "\n",
        "actions = [\"SHIFT\", \"SHIFT\", \"RIGHTARC\", \"SHIFT\", \"SHIFT\", \"SHIFT\", \"LEFTARC\", \n",
        "           \"LEFTARC\", \"RIGHTARC\", \"RIGHTARC\"]\n",
        "           \n",
        "parse_obj = Parse(sentence)\n",
        "parse_obj.parse(actions)"
      ],
      "execution_count": null,
      "outputs": [
        {
          "output_type": "stream",
          "name": "stdout",
          "text": [
            "Let's start:\n",
            "Stack: <ROOT>\n",
            "Buffer: Book me the morning flight\n",
            "Relations:\n",
            "**************************************************\n",
            "after action: SHIFT\n",
            "Stack: <ROOT> Book\n",
            "Buffer: me the morning flight\n",
            "Relations:\n",
            "**************************************************\n",
            "after action: SHIFT\n",
            "Stack: <ROOT> Book me\n",
            "Buffer: the morning flight\n",
            "Relations:\n",
            "**************************************************\n",
            "after action: RIGHTARC\n",
            "Stack: <ROOT> Book\n",
            "Buffer: the morning flight\n",
            "Relations:\n",
            "  Book -> me\n",
            "**************************************************\n",
            "after action: SHIFT\n",
            "Stack: <ROOT> Book the\n",
            "Buffer: morning flight\n",
            "Relations:\n",
            "  Book -> me\n",
            "**************************************************\n",
            "after action: SHIFT\n",
            "Stack: <ROOT> Book the morning\n",
            "Buffer: flight\n",
            "Relations:\n",
            "  Book -> me\n",
            "**************************************************\n",
            "after action: SHIFT\n",
            "Stack: <ROOT> Book the morning flight\n",
            "Buffer: \n",
            "Relations:\n",
            "  Book -> me\n",
            "**************************************************\n",
            "after action: LEFTARC\n",
            "Stack: <ROOT> Book the flight\n",
            "Buffer: \n",
            "Relations:\n",
            "  Book -> me\n",
            "  flight -> morning\n",
            "**************************************************\n",
            "after action: LEFTARC\n",
            "Stack: <ROOT> Book flight\n",
            "Buffer: \n",
            "Relations:\n",
            "  Book -> me\n",
            "  flight -> morning\n",
            "  flight -> the\n",
            "**************************************************\n",
            "after action: RIGHTARC\n",
            "Stack: <ROOT> Book\n",
            "Buffer: \n",
            "Relations:\n",
            "  Book -> me\n",
            "  flight -> morning\n",
            "  flight -> the\n",
            "  Book -> flight\n",
            "**************************************************\n",
            "after action: RIGHTARC\n",
            "Stack: <ROOT>\n",
            "Buffer: \n",
            "Relations:\n",
            "  Book -> me\n",
            "  flight -> morning\n",
            "  flight -> the\n",
            "  Book -> flight\n",
            "  <ROOT> -> Book\n",
            "**************************************************\n"
          ]
        }
      ]
    },
    {
      "cell_type": "markdown",
      "metadata": {
        "id": "9hrQQZd9Odl9"
      },
      "source": [
        "###Discussion\n",
        "Where does this list of actions come from? It looks magic, but how can I know what actions to apply? A classifier is trained to predict what the next action is given the current state.\n",
        "This machine learning classifier takes the state of buffer, stack, previous list of relations as input, and predict what the next action is. \n",
        "\n",
        "For more details, please read ***Lecture 7 from slide 69***"
      ]
    },
    {
      "cell_type": "markdown",
      "metadata": {
        "id": "VjU4dfyNgfAU"
      },
      "source": [
        "# Exercise"
      ]
    },
    {
      "cell_type": "markdown",
      "metadata": {
        "id": "PV9OwwRVggJS"
      },
      "source": [
        "## E1. Multiple Choice Questions\n",
        "***Please check the following Ed Q Link.*** We have two MCQ Questions (0.5 marks for each Q). If you answer only one question correctly, you will receive 0.5 out of 1.\n",
        "\n",
        "E1 (Ed Q Link): https://edstem.org/au/courses/7951/lessons/21122/slides/149971"
      ]
    },
    {
      "cell_type": "markdown",
      "source": [
        "\n",
        "\n",
        "---\n",
        "\n"
      ],
      "metadata": {
        "id": "KXJtfcPzTJDY"
      }
    },
    {
      "cell_type": "markdown",
      "metadata": {
        "id": "SA5A4eBdcMPJ"
      },
      "source": [
        "##E2. Spacy Parser Practice\n",
        "Evaluate the spaCy model using Universal Dependencies annotations (You should provide the parsing performance with a metric: **UAS** - We introduced in Lecture 7, please refer to page 73-75)\n",
        "\n",
        "You are going to write a function which uses the index of a sentence as input and return the **UAS** of the output from using the spaCy model, you should also **visualise the parsing graph** from the spaCy model.\n",
        "\n",
        "\n",
        "\n"
      ]
    },
    {
      "cell_type": "code",
      "metadata": {
        "id": "ncurRJe1lzrl",
        "colab": {
          "base_uri": "https://localhost:8080/"
        },
        "outputId": "dac8cc92-191b-4dfb-f070-5769fb466954"
      },
      "source": [
        "# Code to download file into Colaboratory:\n",
        "!pip install -U -q PyDrive\n",
        "from pydrive.auth import GoogleAuth\n",
        "from pydrive.drive import GoogleDrive\n",
        "from google.colab import auth\n",
        "from oauth2client.client import GoogleCredentials\n",
        "\n",
        "# Authenticate and create the PyDrive client.\n",
        "auth.authenticate_user()\n",
        "gauth = GoogleAuth()\n",
        "gauth.credentials = GoogleCredentials.get_application_default()\n",
        "drive = GoogleDrive(gauth)\n",
        "\n",
        "id = '1vktZbQ_yjvUqTyf0qBhkRsyvDnK0ueMe'\n",
        "downloaded = drive.CreateFile({'id':id}) \n",
        "downloaded.GetContentFile('en_lines-ud-test.conllu')  \n",
        "\n",
        "!pip install conllu\n",
        "from io import open\n",
        "from conllu import parse_incr\n",
        "import spacy\n",
        "import numpy as np\n",
        "from spacy import displacy\n",
        "\n",
        "nlp = spacy.load(\"en_core_web_sm\")\n",
        "data_file = open(\"en_lines-ud-test.conllu\", \"r\", encoding=\"utf-8\")\n",
        "\n",
        "sent_list = []\n",
        "gold_head_list = []\n",
        "gold_label_list = []\n",
        "n = 0\n",
        " \n",
        "for tokenlist in parse_incr(data_file):\n",
        "    n += 1\n",
        "    if n > 20:\n",
        "        break\n",
        "\n",
        "    sent = tokenlist.metadata['text']\n",
        "    gold_head = [token['head'] for i, token in enumerate(tokenlist)]    \n",
        "    gold_label = [token['deprel'] for i, token in enumerate(tokenlist)]\n",
        "    sent_list.append(sent)\n",
        "    gold_head_list.append(gold_head)\n",
        "    gold_label_list.append(gold_label)\n",
        "\n",
        "print(sent_list[1])\n",
        "print(gold_head_list[1])\n",
        "print(gold_label_list[1])"
      ],
      "execution_count": 1,
      "outputs": [
        {
          "output_type": "stream",
          "name": "stdout",
          "text": [
            "Collecting conllu\n",
            "  Downloading conllu-4.4.1-py2.py3-none-any.whl (15 kB)\n",
            "Installing collected packages: conllu\n",
            "Successfully installed conllu-4.4.1\n",
            "This type of drop area is not displayed for single charts.\n",
            "[2, 8, 5, 5, 2, 8, 8, 0, 11, 11, 8, 8]\n",
            "['det', 'nsubj:pass', 'case', 'compound', 'nmod', 'aux:pass', 'advmod', 'root', 'case', 'amod', 'obl', 'punct']\n"
          ]
        }
      ]
    },
    {
      "cell_type": "markdown",
      "source": [
        "**Note:** Please DO NOT change the code outside of the parse_UAS function"
      ],
      "metadata": {
        "id": "VQ7ke2JaqlX5"
      }
    },
    {
      "cell_type": "code",
      "metadata": {
        "id": "Gq0GKBzKrbn6",
        "outputId": "2fd7206d-b01d-4bb8-cf9a-81e987b43e85",
        "colab": {
          "base_uri": "https://localhost:8080/",
          "height": 662
        }
      },
      "source": [
        "gold = \"\"\"\n",
        "# text = This type of drop area is not displayed for single charts.\n",
        "1  This  this  DET\t DEF  _  2  det  _  _ \n",
        "2  type type\tNOUN _ _ 8 nsubj:pass _ _ \n",
        "3  of of\tADP _ _ 2 prep _ _  \n",
        "4  drop drop\tNOUN _ _ 5 compound _ _ \n",
        "5  area area\tNOUN _ _ 3 nmod _ _ \n",
        "6  is is\tAUX _ _ 8 aux:pass _ _                 \n",
        "7  not not\tPART _ _ 8 advmod _ _  \n",
        "8  displayed display VERB PAST\tMood=Ind|Tense=Past|VerbForm=Fin 0 root _ _               \n",
        "9  for for ADP _ _ 8 case _ _  \n",
        "10  single single ADJ _ _ 11 amod _ _  \n",
        "11  charts chart NOUN _ _ 9 obl _ _  \n",
        "12  . . PUNCT Period _ 8 punct _\t_ \n",
        "\n",
        "\n",
        "\"\"\"\n",
        "\n",
        "def parse_UAS(index_sent):\n",
        "    sent = sent_list[index_sent]\n",
        "    gold_head = gold_head_list[index_sent]\n",
        "    #parse the text with spaCy API\n",
        "    parse = nlp(text)\n",
        "    #setup the table for the parsing result table\n",
        "    x = PrettyTable()\n",
        "    x.field_names = [\"TokenID\", \"Token\", \"HeadID\", \"Dependency\"]\n",
        "    x.add_row([0,\"root\",0,\"-\"])\n",
        "\n",
        "    for token in parse:\n",
        "      if token.dep_==\"ROOT\":\n",
        "        x.add_row([token.i+1,token.text,\"0\",\"root\"])\n",
        "        token.dep_=\"root\"\n",
        "      else:  \n",
        "        x.add_row([token.i+1,token.text,token.head.i+1,token.dep_])\n",
        "  \n",
        "    #printing the parsing result\n",
        "    print(\"Parsing Result with Spacy API\")\n",
        "    print(x)\n",
        "    \n",
        "    #setup the table for the parsing result table\n",
        "    y = PrettyTable()\n",
        "    y.field_names = [\"TokenID\", \"Token\", \"HeadID\", \"Dependency\"]\n",
        "    y.add_row([0,\"root\",0,\"-\"])\n",
        "\n",
        "    #parse the gold-standard with conll-u parser \n",
        "    sentences = conllu.parse(gold)\n",
        "    sentence = sentences[0]\n",
        "\n",
        "    for token in sentence:\n",
        "      if token['deprel']==\"root\":\n",
        "        y.add_row([token['id'],token['form'],\"0\",token['deprel']])\n",
        "      else:  \n",
        "        y.add_row([token['id'],token['form'],token['head'],token['deprel']])\n",
        "    print(\"Gold-Standard Annotation\")\n",
        "    print(y)\n",
        "\n",
        "    #summarise the list of predicted head\n",
        "    pred_head = [t.head.i+1 if i != t.head.i else 0 for i, t in enumerate(parse)]\n",
        "    #summarise the list of gold head\n",
        "    gold_head = [token['head'] for i, token in enumerate(sentence)]\n",
        "    \n",
        "    #summarise the list of predicted dependency relations\n",
        "    pred_dep = [t.dep_ for i, t in enumerate(parse)]\n",
        "    #summarise the list of gold dependency relations\n",
        "    gold_dep = [token['deprel'] for i, token in enumerate(sentence)] \n",
        "    \n",
        "    print(\"\\n\\nParsing Result vs Gold - Head\")\n",
        "    print(pred_head)\n",
        "    print(gold_head)\n",
        "\n",
        "    print(\"\\n\\nParsing Result vs Gold - Dependency\")\n",
        "    print(pred_dep)\n",
        "    print(gold_dep)\n",
        "    \n",
        "    #performance evaluation - Unlabeled Attachment Score (UAS)\n",
        "    #Unlabeled Attachment Score (UAS): the percent of words that have the correct heads\n",
        "    uas_accuracy = np.sum([1 if g == p else 0 for g, p in zip(gold_head, pred_head)]) / len(gold_head)\n",
        "    \n",
        "    \n",
        "    print(\"\\n\\nUnlabeled Attachment Score (UAS)\") \n",
        "\n",
        "    # Please complete this part\n",
        "    return sentences, uas_accuracy\n",
        "\n",
        "\n",
        "parsed, UAS = parse_UAS(1)\n",
        "print(\"UAS: {0:.4f}\".format(UAS))\n",
        "displacy.render(parsed, style='dep', jupyter=True, options={'distance':90})"
      ],
      "execution_count": 46,
      "outputs": [
        {
          "output_type": "stream",
          "name": "stdout",
          "text": [
            "Parsing Result with Spacy API\n",
            "+---------+------------+--------+------------+\n",
            "| TokenID |   Token    | HeadID | Dependency |\n",
            "+---------+------------+--------+------------+\n",
            "|    0    |    root    |   0    |     -      |\n",
            "|    1    |    The     |   2    |    det     |\n",
            "|    2    |   woman    |   3    |   nsubj    |\n",
            "|    3    |   showed   |   0    |    root    |\n",
            "|    4    |     a      |   6    |    det     |\n",
            "|    5    | wellshaped |   6    |    amod    |\n",
            "|    6    |   smile    |   3    |    dobj    |\n",
            "|    7    |     in     |   3    |    prep    |\n",
            "|    8    |    the     |   9    |    det     |\n",
            "|    9    |    dark    |   7    |    pobj    |\n",
            "|    10   |     .      |   3    |   punct    |\n",
            "+---------+------------+--------+------------+\n"
          ]
        },
        {
          "output_type": "error",
          "ename": "KeyError",
          "evalue": "ignored",
          "traceback": [
            "\u001b[0;31m---------------------------------------------------------------------------\u001b[0m",
            "\u001b[0;31mKeyError\u001b[0m                                  Traceback (most recent call last)",
            "\u001b[0;32m<ipython-input-46-242407ebcb31>\u001b[0m in \u001b[0;36m<module>\u001b[0;34m()\u001b[0m\n\u001b[1;32m     84\u001b[0m \u001b[0;34m\u001b[0m\u001b[0m\n\u001b[1;32m     85\u001b[0m \u001b[0;34m\u001b[0m\u001b[0m\n\u001b[0;32m---> 86\u001b[0;31m \u001b[0mparsed\u001b[0m\u001b[0;34m,\u001b[0m \u001b[0mUAS\u001b[0m \u001b[0;34m=\u001b[0m \u001b[0mparse_UAS\u001b[0m\u001b[0;34m(\u001b[0m\u001b[0;36m1\u001b[0m\u001b[0;34m)\u001b[0m\u001b[0;34m\u001b[0m\u001b[0;34m\u001b[0m\u001b[0m\n\u001b[0m\u001b[1;32m     87\u001b[0m \u001b[0mprint\u001b[0m\u001b[0;34m(\u001b[0m\u001b[0;34m\"UAS: {0:.4f}\"\u001b[0m\u001b[0;34m.\u001b[0m\u001b[0mformat\u001b[0m\u001b[0;34m(\u001b[0m\u001b[0mUAS\u001b[0m\u001b[0;34m)\u001b[0m\u001b[0;34m)\u001b[0m\u001b[0;34m\u001b[0m\u001b[0;34m\u001b[0m\u001b[0m\n\u001b[1;32m     88\u001b[0m \u001b[0mdisplacy\u001b[0m\u001b[0;34m.\u001b[0m\u001b[0mrender\u001b[0m\u001b[0;34m(\u001b[0m\u001b[0mparsed\u001b[0m\u001b[0;34m,\u001b[0m \u001b[0mstyle\u001b[0m\u001b[0;34m=\u001b[0m\u001b[0;34m'dep'\u001b[0m\u001b[0;34m,\u001b[0m \u001b[0mjupyter\u001b[0m\u001b[0;34m=\u001b[0m\u001b[0;32mTrue\u001b[0m\u001b[0;34m,\u001b[0m \u001b[0moptions\u001b[0m\u001b[0;34m=\u001b[0m\u001b[0;34m{\u001b[0m\u001b[0;34m'distance'\u001b[0m\u001b[0;34m:\u001b[0m\u001b[0;36m90\u001b[0m\u001b[0;34m}\u001b[0m\u001b[0;34m)\u001b[0m\u001b[0;34m\u001b[0m\u001b[0;34m\u001b[0m\u001b[0m\n",
            "\u001b[0;32m<ipython-input-46-242407ebcb31>\u001b[0m in \u001b[0;36mparse_UAS\u001b[0;34m(index_sent)\u001b[0m\n\u001b[1;32m     48\u001b[0m \u001b[0;34m\u001b[0m\u001b[0m\n\u001b[1;32m     49\u001b[0m     \u001b[0;32mfor\u001b[0m \u001b[0mtoken\u001b[0m \u001b[0;32min\u001b[0m \u001b[0msentence\u001b[0m\u001b[0;34m:\u001b[0m\u001b[0;34m\u001b[0m\u001b[0;34m\u001b[0m\u001b[0m\n\u001b[0;32m---> 50\u001b[0;31m       \u001b[0;32mif\u001b[0m \u001b[0mtoken\u001b[0m\u001b[0;34m[\u001b[0m\u001b[0;34m'deprel'\u001b[0m\u001b[0;34m]\u001b[0m\u001b[0;34m==\u001b[0m\u001b[0;34m\"root\"\u001b[0m\u001b[0;34m:\u001b[0m\u001b[0;34m\u001b[0m\u001b[0;34m\u001b[0m\u001b[0m\n\u001b[0m\u001b[1;32m     51\u001b[0m         \u001b[0my\u001b[0m\u001b[0;34m.\u001b[0m\u001b[0madd_row\u001b[0m\u001b[0;34m(\u001b[0m\u001b[0;34m[\u001b[0m\u001b[0mtoken\u001b[0m\u001b[0;34m[\u001b[0m\u001b[0;34m'id'\u001b[0m\u001b[0;34m]\u001b[0m\u001b[0;34m,\u001b[0m\u001b[0mtoken\u001b[0m\u001b[0;34m[\u001b[0m\u001b[0;34m'form'\u001b[0m\u001b[0;34m]\u001b[0m\u001b[0;34m,\u001b[0m\u001b[0;34m\"0\"\u001b[0m\u001b[0;34m,\u001b[0m\u001b[0mtoken\u001b[0m\u001b[0;34m[\u001b[0m\u001b[0;34m'deprel'\u001b[0m\u001b[0;34m]\u001b[0m\u001b[0;34m]\u001b[0m\u001b[0;34m)\u001b[0m\u001b[0;34m\u001b[0m\u001b[0;34m\u001b[0m\u001b[0m\n\u001b[1;32m     52\u001b[0m       \u001b[0;32melse\u001b[0m\u001b[0;34m:\u001b[0m\u001b[0;34m\u001b[0m\u001b[0;34m\u001b[0m\u001b[0m\n",
            "\u001b[0;32m/usr/local/lib/python3.7/dist-packages/conllu/models.py\u001b[0m in \u001b[0;36m__missing__\u001b[0;34m(self, key)\u001b[0m\n\u001b[1;32m     34\u001b[0m             \u001b[0;32mreturn\u001b[0m \u001b[0mself\u001b[0m\u001b[0;34m.\u001b[0m\u001b[0mget\u001b[0m\u001b[0;34m(\u001b[0m\u001b[0mself\u001b[0m\u001b[0;34m.\u001b[0m\u001b[0mMAPPING\u001b[0m\u001b[0;34m[\u001b[0m\u001b[0mkey\u001b[0m\u001b[0;34m]\u001b[0m\u001b[0;34m)\u001b[0m\u001b[0;34m\u001b[0m\u001b[0;34m\u001b[0m\u001b[0m\n\u001b[1;32m     35\u001b[0m \u001b[0;34m\u001b[0m\u001b[0m\n\u001b[0;32m---> 36\u001b[0;31m         \u001b[0;32mraise\u001b[0m \u001b[0mKeyError\u001b[0m\u001b[0;34m(\u001b[0m\u001b[0;34m\"'\"\u001b[0m \u001b[0;34m+\u001b[0m \u001b[0mkey\u001b[0m \u001b[0;34m+\u001b[0m \u001b[0;34m\"'\"\u001b[0m\u001b[0;34m)\u001b[0m\u001b[0;34m\u001b[0m\u001b[0;34m\u001b[0m\u001b[0m\n\u001b[0m\u001b[1;32m     37\u001b[0m \u001b[0;34m\u001b[0m\u001b[0m\n\u001b[1;32m     38\u001b[0m     \u001b[0;32mdef\u001b[0m \u001b[0m__str__\u001b[0m\u001b[0;34m(\u001b[0m\u001b[0mself\u001b[0m\u001b[0;34m)\u001b[0m \u001b[0;34m->\u001b[0m \u001b[0mstr\u001b[0m\u001b[0;34m:\u001b[0m\u001b[0;34m\u001b[0m\u001b[0;34m\u001b[0m\u001b[0m\n",
            "\u001b[0;31mKeyError\u001b[0m: \"'deprel'\""
          ]
        }
      ]
    },
    {
      "cell_type": "markdown",
      "metadata": {
        "id": "Be1NpXZArQIc"
      },
      "source": [
        "E2 Sample output (Only for format reference)\n",
        "![image.png](data:image/png;base64,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)"
      ]
    },
    {
      "cell_type": "markdown",
      "metadata": {
        "id": "fAkHrLEWRdj8"
      },
      "source": [
        "# Dependency Parsing Answer\n",
        "\n",
        "![alt text](https://www.researchgate.net/publication/334216098/figure/fig4/AS:776769690951681@1562207734172/A-sentence-in-dependency-format-Source-19-p-245.jpg)"
      ]
    }
  ]
}